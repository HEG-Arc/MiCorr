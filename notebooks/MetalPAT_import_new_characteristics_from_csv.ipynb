{
 "cells": [
  {
   "cell_type": "markdown",
   "metadata": {},
   "source": [
    "# import new/updated characteristics from google sheet file exported as csv\n"
   ]
  },
  {
   "cell_type": "code",
   "execution_count": 1,
   "metadata": {},
   "outputs": [
    {
     "data": {
      "text/html": [
       "<style>.container {width:90% !important;}</style>"
      ],
      "text/plain": [
       "<IPython.core.display.HTML object>"
      ]
     },
     "metadata": {},
     "output_type": "display_data"
    }
   ],
   "source": [
    "from IPython.core.display import display, HTML\n",
    "display(HTML(\"<style>.container {width:90% !important;}</style>\"))"
   ]
  },
  {
   "cell_type": "code",
   "execution_count": null,
   "metadata": {},
   "outputs": [],
   "source": []
  },
  {
   "cell_type": "code",
   "execution_count": 5,
   "metadata": {},
   "outputs": [
    {
     "name": "stdout",
     "output_type": "stream",
     "text": [
      "['Characteristic', 'Sub-characteristic', 'Observation mode', 'Values', 'Sub-values', 'Image', 'Variables', 'uid', 'Definition from observation under binocular', 'Definition from observation on cross-section', 'Notice for modification of the current MiCorr interface', 'Comments', 'CP Binocular', 'CP CS ', 'CM Binocular', 'CM CS ', 'D Binocular', 'D CS', 'M Binocular', 'M CS', 'NMM Binocular', 'NMM CS', 'POM Binocular', 'POM CS', 'S Binocular', 'S CS', 'SV Binocular', 'SV CS']\n"
     ]
    }
   ],
   "source": [
    "import csv\n",
    "csv_file_path='./20200608 SEARCH-by strat. representation-Bin. obs_v1 - MiCorr.csv'\n",
    "with open(csv_file_path,\"r\") as f:\n",
    "    reader =csv.DictReader(f)\n",
    "    print(reader.fieldnames)\n",
    "\n",
    "def to_uid(name):\n",
    "    camel_case_name=''.join(name.title().split(' '))\n",
    "\n",
    "    return camel_case_name[0].lower() + camel_case_name[1:]\n"
   ]
  },
  {
   "cell_type": "code",
   "execution_count": 7,
   "metadata": {
    "collapsed": true
   },
   "outputs": [
    {
     "ename": "KeyError",
     "evalue": "'Observation observation'",
     "output_type": "error",
     "traceback": [
      "\u001B[0;31m---------------------------------------------------------------------------\u001B[0m",
      "\u001B[0;31mKeyError\u001B[0m                                  Traceback (most recent call last)",
      "\u001B[0;32m<ipython-input-7-0aacaddc64c3>\u001B[0m in \u001B[0;36m<module>\u001B[0;34m\u001B[0m\n\u001B[1;32m     13\u001B[0m         \u001B[0;32mif\u001B[0m \u001B[0;34m'Microstructure'\u001B[0m \u001B[0;32mnot\u001B[0m \u001B[0;32min\u001B[0m \u001B[0mr\u001B[0m\u001B[0;34m[\u001B[0m\u001B[0;34m'Characteristic'\u001B[0m\u001B[0;34m]\u001B[0m\u001B[0;34m:\u001B[0m\u001B[0;34m\u001B[0m\u001B[0;34m\u001B[0m\u001B[0m\n\u001B[1;32m     14\u001B[0m             \u001B[0;32mcontinue\u001B[0m\u001B[0;34m\u001B[0m\u001B[0;34m\u001B[0m\u001B[0m\n\u001B[0;32m---> 15\u001B[0;31m         \u001B[0mobservation\u001B[0m \u001B[0;34m=\u001B[0m \u001B[0mr\u001B[0m\u001B[0;34m[\u001B[0m\u001B[0;34m'Observation observation'\u001B[0m\u001B[0;34m]\u001B[0m\u001B[0;34m\u001B[0m\u001B[0;34m\u001B[0m\u001B[0m\n\u001B[0m\u001B[1;32m     16\u001B[0m         \u001B[0;32mif\u001B[0m \u001B[0mr\u001B[0m\u001B[0;34m[\u001B[0m\u001B[0;34m'Values'\u001B[0m\u001B[0;34m]\u001B[0m \u001B[0;34m!=\u001B[0m \u001B[0;34m''\u001B[0m\u001B[0;34m:\u001B[0m\u001B[0;34m\u001B[0m\u001B[0;34m\u001B[0m\u001B[0m\n\u001B[1;32m     17\u001B[0m             \u001B[0mprint\u001B[0m\u001B[0;34m(\u001B[0m\u001B[0;34m'\\nNew familly:\\n'\u001B[0m\u001B[0;34m)\u001B[0m\u001B[0;34m\u001B[0m\u001B[0;34m\u001B[0m\u001B[0m\n",
      "\u001B[0;31mKeyError\u001B[0m: 'Observation observation'"
     ]
    }
   ],
   "source": [
    "\n",
    "\n",
    "with open(csv_file_path,\"r\") as f:\n",
    "    reader =csv.DictReader(f)\n",
    "    current_value=''\n",
    "    characteristic_order = 1\n",
    "    family_order = 1\n",
    "\n",
    "    description_field_in = {'Binocular':'Definition from observation under binocular',\n",
    "                           'Cross-section': 'Definition from observation on cross-section'}\n",
    "    for r in reader:\n",
    "        if 'Microstructure' not in r['Characteristic']:\n",
    "            continue\n",
    "        observation = r['Observation observation']\n",
    "        if r['Values'] != '':\n",
    "            print('\\nNew familly:\\n')\n",
    "            current_value = r['Values']\n",
    "            current_value_uid = to_uid(current_value)+'Family'\n",
    "            cql_family_update_row=f\"\"\"{{fg:'fgMicrostructure', order:{family_order}, observation:'{observation}',uid:'{current_value_uid}', name:{current_value}, visible: false, variable: false, description:'{r[description_field_in[observation]]}'}},\"\"\"\n",
    "            print(cql_family_update_row)\n",
    "            family_order+=1\n",
    "            characteristic_order = 1\n",
    "\n",
    "        # print(observation, r['Characteristic'], current_value,'None' if r['Sub-values'] == '' else r['Sub-values'])\n",
    "        current_subvalue = r['Sub-values']\n",
    "        if observation=='Binocular' and current_value!='' and current_subvalue!='':\n",
    "            if characteristic_order==1:\n",
    "                print(f'// {current_value_uid} Sub-Characteristics:')\n",
    "            current_subvalue_uid = to_uid(current_value + ' `' +current_subvalue)+'Characteristic'\n",
    "            cql_update_row = f\"\"\"{{family_uid:\"{current_value_uid}\", uid:\"{current_subvalue_uid}\", name:\"{current_subvalue_uid}\", order:{characteristic_order},\n",
    "\"\"\" # description:\"{r[description_field_in[observation]]}\", image_url:\"\"}},\n",
    "            print(cql_update_row)\n",
    "            characteristic_order+=1\n",
    "\n",
    "\n"
   ]
  },
  {
   "cell_type": "markdown",
   "metadata": {
    "pycharm": {
     "name": "#%% md\n"
    }
   },
   "source": [
    "# import image urls from html export\n"
   ]
  },
  {
   "cell_type": "code",
   "execution_count": 4,
   "metadata": {
    "pycharm": {
     "name": "#%%\n"
    }
   },
   "outputs": [],
   "source": [
    "from bs4 import BeautifulSoup\n",
    "f=open('20200608 SEARCH-by strat. representation-Bin. obs_v1/MiCorr.html')\n",
    "content=f.read()\n",
    "soup=BeautifulSoup(content,'html.parser')\n",
    "imgs=soup.find_all('img')\n",
    "name_img_url={}\n",
    "for im in imgs:\n",
    "    parent_td=im.parent.parent if im.parent.parent.name=='td' else None\n",
    "    if parent_td:\n",
    "        name_img_url[parent_td.previous_sibling.previous_sibling.text]=im['src']"
   ]
  },
  {
   "cell_type": "code",
   "execution_count": 5,
   "metadata": {
    "pycharm": {
     "name": "#%%\n"
    }
   },
   "outputs": [
    {
     "name": "stdout",
     "output_type": "stream",
     "text": [
      "{'Dishing': 'https://lh5.googleusercontent.com/OjbxPEa4xZc_YncCe7RM3SzrhZN0k5mjfkRVknk9Vk3UqBtLdU0E4sSzgTyols1Rt_-y7JmnxubX6JshjLA4JQQVKV6RXWWI2vNIhs4hWceDfrC9sjeqlQ0O72R7PqZO3RtZ5jhmTw=w126-h123', 'Flaking': 'https://lh3.googleusercontent.com/vr9yZY_oEuhR5nhmuahX4rWQQtOvVlRg-PAeE2IaCbYgqXvDnm1x1EEvuFRrhmLxNcTPRSR__g1SlUalVG-bWsQs9TUSTuH1AL5NObldMoxAdt0T6JQXZ051cMybyLy9hGnNCR2HjA=w126-h112', 'Wedges': 'https://lh3.googleusercontent.com/jsgPu7PBzPb1le0GSLN-B47anat1-zwLQbUcnO7Nxc1a8Ynfw0Yb3ibM0vxKd6Jf8UePE_H4JXbASZ_cn4m-UhT71lbcbJlWOE4RQSccpXiOBBp--Y2LC1pxvWbmG1DZC12yO5Io-A=w126-h137', 'Surface crazing': 'https://lh5.googleusercontent.com/s0Itc5SPXPvI5RgR39MOZi0I6PUNeNI7BDUWV6GSEnnBmbNXtRxAXwLzm578PhGUM9iNX07JdztbLfm43kM29DKRb9SpiCdFbGGAzm4ynOK7RP6pIFfYmXtOS1uG8wJptef3FV0Fvg=w126-h128', 'Star-shaped cracking': 'https://lh4.googleusercontent.com/0y0Sww61R3c5CkqHoT1JADz3VYUEw2EWGTndn3WfKb--XNC4LZhLHXeneeyf3-e0h7IdAhK7M-b_hIZ7cPp5Y3aJpA9o8pfXB-hy_bTYSJwUZNQnKyllGXyVmWKpqQL7EUcEh8Ok3w=w126-h110', 'Dendritic': 'https://lh6.googleusercontent.com/FyP0N-Th3gRuKFukmtMQPekDzkTkk4rqsVoqWgZLep7-kvuIVy0tXhyBwC9BHm1TlRKAZdSNhPCAFfyNE-DmsKJbKz7YSqrn0SwjfX0WZbPeS_gJhDmiIizLf6osIuEfGqBLvBUXgA=w126-h119', 'Drusy aggregate': 'https://lh3.googleusercontent.com/i904_m1OrYim9EZyNZiQ4PDGfeoV8NleF91S1_pBrvGLqI_pKfiNdinc-htQa15MAXxgG5NXIoB4h7jIzUfXvEVvD9X-lUZgM45paGcCPi83H81NhUvog3mOwzGVKDJeOXuG1hdiQw=w126-h107', 'Géode': 'https://lh6.googleusercontent.com/wmlMDLY_Q1Q4pggxDLKvQ4MuGrToL5YALEBs5jKLQVRfhG7lbEbhlDglSBYpDSjNV0eigOj_eO_68YVX70Nag3qLHBcT-ThfO0wdCW8c5Qj-P8rKyj2COndVtCd84xnuf6lSGiqIiA=w126-h137', 'Lamellar': 'https://lh3.googleusercontent.com/V6WXsI2qcUrYqUQ9rxv5TzoB2mLdN0OREnWXUbk3iMEu3pelwL7EOSDVt16NQIo9w4SN3qvKey-LyZ5B_jMYls0kvkPRZffbhbjxiaOdnFoA2qizxmmB5CwY7AbiHpVGc0ryHr_-bw=w126-h134', 'Foliated': 'https://lh4.googleusercontent.com/aL1ihcSMWB5xH-xPdEoF-aQA64jBRspxWCPZhqY4mUTI6iyfP-bhm4KhjK6T7QallyIGxQLFOfJGu-RnBSZUdDZbBydugpVCKGKCp4jQS2hTou_CmJ99Nktw7yn2_BIdSsU05N8Liw=w126-h128', 'Fibrous': 'https://lh3.googleusercontent.com/bboWl7IRuuQd9FL5Q_u6YQTgqyCRZcd-__v2uvLY9D7WU07k-yEtQFkTVZCn6oSpBiFFJMGYRn9BN57Dn7WS_nypdrmiSYd5zxRLl5d5qQRXt2pKAVCDoCMSdj96nIL0L5g0YB8Eow=w126-h107', 'Stellated': 'https://lh4.googleusercontent.com/E-vNQvqQtMZwnLMRPfytsxQaM0qt6jAzzpp5PJo4ccMmYmIU_Fw5_52P3l43gSvMqKy2rZkfaKNMODHNwWImoue6fwQN7jmHfXPXug2JpYJMzMbBWjtgZ03ovyZINwsaVNEeSgroWg=w126-h132', 'Concentric': 'https://lh4.googleusercontent.com/nEwdFT7hC2c4Ll1oI8aZ8vVbtw-lbcWjXT9Bdsl2gqM4XUyjXbTFujOhgi4VSd6b29oJqWAxyePZHKoN_aL-35Z_VsvyQpbSP79H-QILK4MnlLLPm20j_Mv8LM3jp99S6Uz51IWzAg=w126-h108', 'Banded': 'https://lh3.googleusercontent.com/Mxzty5aqKR5wWrNkfIYwaN74V_OlwuFXWYTpzzH1ghTSieP-aho0cV22cMk-FfGDDAV1Fy5k0-yM9Rv7zc_0A5x82SSSoWXEFJx_cmIyccUzw3IXNYagbvFilAhvj1rbNqbVO-u51w=w126-h106', 'Botryoidal': 'https://lh3.googleusercontent.com/xA43KIvNJkH5niUyikcCfh7XI9EtNP4xwHW5v1i3MHcHC0rGSC5QwYIcNgv7CHSz9MJWVfSrrsHAdNsW8PnlxdstdyE5GeBLN66Q3SIPrnlbNb0SRQRj5dUrrnfQBF6_8hGDnSkpEg=w126-h109', 'Reniform': 'https://lh3.googleusercontent.com/nXvRKJdJ_KFA13aUzttXcttqcFB98NKFwM49w3i1OiLlkhZhCgGWSX8V6Cfbtj7jfoETl08rNYJyf8DirEYW9b0b0zRk23BkEZCX299aID-2CLGEvdVj5MCcxRHuEwVsHwSdYoT5CQ=w126-h130', 'Stalactiform': 'https://lh5.googleusercontent.com/0wQ8ygBXwk8tUE-KVIFq2DGP0UfG5yOHUrUtQz7yWuDMyPnEYPb2dL7nnm70a2CJiuueVvtVKV51JGBUA_4QJwUmh5lThz2nQkLEY2euTEooVhIoGIehb28XEL-_RDqMGzW1b2A-Iw=w126-h134', 'Globular': 'https://lh5.googleusercontent.com/4S9204hhpo2khAjRGdiCBG_I52NO7iLkzeKsjqlqqs8uorDNK4q71FM2P1tSHrjnPzljtlmdAFkRuX3iAlfbSwyD2zypA-MzVZI-BEI_OF11LqfSx7gFC90gJgniq9oN1O9Q-IjKgw=w126-h146', 'Granular': 'https://lh6.googleusercontent.com/31wLwVd4-ECmxuvm3qrC-AqwQLJqmdCGiehASXQNO1-xZYEpCIvL1JqUJjPKw6kTNFw69pQsYdqTcUM94cfgPIu5lxqkIPQjwzmKhwdboualf0-wuDHs3j4nV1mB6zWNpq_kfbgeJQ=w126-h128', 'Massive': 'https://lh5.googleusercontent.com/Ua5DBHBX58l5mjzcS7uS05nhRFzG2tsmBYKIYHq_8bbsXia4OYkfDd5ih-dVu13uFv3pGcsVUVLobx0xYS4yNZ71qyw8T2klwYIGr3fhgeAxbOdSG0PPLVL1QpYmEjAx_sxvD3g_ZA=w126-h131', 'Powderish': 'https://lh4.googleusercontent.com/leMfZHd9RwkJswH-TUHtnK4zmkv14hcl3nNfCtDiuvz7h18DTLCw2fDfEFUciHMAh0vkWqdaQ3g4En7Ypnw3D5sHkfQSA_NktpQ7a5oNtzWkS_OZiUBG7Mvl3Dim9XfyCWOGaz2LVA=w126-h113'}\n"
     ]
    }
   ],
   "source": [
    "print(name_img_url)\n",
    "\n"
   ]
  },
  {
   "cell_type": "code",
   "execution_count": null,
   "metadata": {
    "pycharm": {
     "name": "#%%\n"
    }
   },
   "outputs": [],
   "source": [
    "## Microstructure Binocular special case\n",
    "# we treat all values and sub-values as characteristics (with optgroup + property for Cristalline microstructure)\n",
    "# and optgroup - (closure of previous group) for isolated aggregate\n",
    "\n",
    "def new_characteristic(family_uid, uid, name, order, description=None, image_url=None, optgroup=None):\n",
    "    cql_update_row = f\"\"\"{{family_uid:\"{family_uid}\", uid:\"{uid}\", name:\"{name}\", order:{order}\"\"\"\n",
    "    arg_list=[cql_update_row]\n",
    "\n",
    "    if image_url is None:\n",
    "        # search characteristic name in name to image_url map\n",
    "        image_url = name_img_url.get(name)\n",
    "    if description:\n",
    "        arg_list.append(f'description=\"{description}\"')\n",
    "    if image_url:\n",
    "        arg_list.append(f'image_url=\"{image_url}\"')\n",
    "    if optgroup:\n",
    "        arg_list.append(f'optgroup=\"{optgroup}\"')\n",
    "\n",
    "    return ', '.join(arg_list) + '},'\n",
    "\n",
    "def new_family(fg_uid, uid, name, order, observation, description='',visible=False, variable=False):\n",
    "    return f\"\"\"{{fg:'{fg_uid}', order:{order}, observation:{observation}, uid:'{uid}', name:{name}, visible: {visible}, variable: {variable}, description:'{description}}},\"\"\"\n",
    "\n",
    "\n",
    "with open(csv_file_path,\"r\") as f:\n",
    "    reader =csv.DictReader(f)\n",
    "    current_value=''\n",
    "    characteristic_order = 1\n",
    "    family_order = 1\n",
    "    sub_value_order = 1\n",
    "    optgroup_level = 0\n",
    "    description_field_in = {'Binocular':'Definition from observation under binocular',\n",
    "                           'Cross-section': 'Definition from observation on cross-section'}\n",
    "\n",
    "    for r in reader:\n",
    "        if 'Microstructure' not in r['Characteristic']:\n",
    "            continue\n",
    "        observation = r['Observation mode']\n",
    "        if observation != 'Binocular':\n",
    "            continue\n",
    "\n",
    "        if r['Values'] == '' and r['Sub-values'] == '':\n",
    "            family_uid='microstructureFamily'\n",
    "            cql_family_update_row=new_family(fg_uid='fgMicrostructure', uid=family_uid, name='Microstructure',\n",
    "                                     order=family_order,observation='binocular', description=r[description_field_in[observation]])\n",
    "            print(cql_family_update_row)\n",
    "            print(f'\\n// {family_uid} characteristics:')\n",
    "            family_order+=1\n",
    "\n",
    "        if r['Values'] != '':\n",
    "            # print('\\nNew characteristic:\\n')\n",
    "            current_value = r['Values']\n",
    "            current_value_uid = to_uid(r['Characteristic'] + ' ' +current_value)+'Characteristic'\n",
    "            # trick to detect end of optgroup in our particular case (1 optgroup only yet)\n",
    "            if optgroup_level:\n",
    "                optgroup=None\n",
    "                optgroup_level-=1\n",
    "\n",
    "            print(new_characteristic(family_uid=family_uid, uid=current_value_uid,\n",
    "                                     name=current_value,order=characteristic_order,\n",
    "                                     description=r[description_field_in[observation]],optgroup=optgroup))\n",
    "            # family_order+=1\n",
    "            # characteristic_order = 1\n",
    "            characteristic_order += 1\n",
    "\n",
    "        # print(observation, r['Characteristic'], current_value,'None' if r['Sub-values'] == '' else r['Sub-values'])\n",
    "        current_subvalue = r['Sub-values']\n",
    "        if observation=='Binocular' and current_value!='' and current_subvalue!='':\n",
    "            if sub_value_order==1:\n",
    "                optgroup_level+=1\n",
    "                optgroup=current_value\n",
    "                print(f'// {current_value_uid} optgroup options:')\n",
    "            current_subvalue_uid = to_uid(current_value + ' ' +current_subvalue)+'Characteristic'\n",
    "            print(new_characteristic(family_uid=family_uid, uid=current_subvalue_uid,name=current_subvalue,\n",
    "                                     order=characteristic_order))\n",
    "            sub_value_order+=1\n",
    "            characteristic_order+=1"
   ]
  },
  {
   "cell_type": "code",
   "execution_count": 9,
   "metadata": {},
   "outputs": [
    {
     "name": "stdout",
     "output_type": "stream",
     "text": [
      "{fg:'fgMicrostructure', order:1, observation:binocular, uid:'microstructureFamily', name:'Microstructure', visible: False, variable: False, description:'Assessed on the observed area. The blank option corresponds to a stratum which microstructure is not known.},\n",
      "\n",
      "// microstructureFamily characteristics:\n",
      "{family_uid:\"microstructureFamily\", uid:\"microstructureBlankCharacteristic\", name:\"Blank\", order:1},\n",
      "{family_uid:\"microstructureFamily\", uid:\"microstructureAlternativeBandsCharacteristic\", name:\"Alternative bands\", order:2, description:\"Occurrence of several alternately repeating layers of corrosion products of different composition.\"},\n",
      "{family_uid:\"microstructureFamily\", uid:\"microstructureCristallineMicrostructureCharacteristic\", name:\"Cristalline microstructure\", order:3, description:\"Presence of a crystalline aggregates. The blank option corresponds to a stratum which cristalline microstructure is not known.\"},\n",
      "// microstructureCristallineMicrostructureCharacteristic optgroup options:\n",
      "{family_uid:\"microstructureFamily\", uid:\"cristallineMicrostructureBlankCharacteristic\", name:\"Blank\", order:4, optgroup:\"Cristalline microstructure\"},\n",
      "{family_uid:\"microstructureFamily\", uid:\"cristallineMicrostructureDendriticCharacteristic\", name:\"Dendritic\", order:5, description:\"Formed from crystals of protrusions, assembled\n",
      "dendrite (in the shape of a fern, of trees).\", image_url:\"https://lh6.googleusercontent.com/FyP0N-Th3gRuKFukmtMQPekDzkTkk4rqsVoqWgZLep7-kvuIVy0tXhyBwC9BHm1TlRKAZdSNhPCAFfyNE-DmsKJbKz7YSqrn0SwjfX0WZbPeS_gJhDmiIizLf6osIuEfGqBLvBUXgA=w126-h119\", optgroup:\"Cristalline microstructure\"},\n",
      "{family_uid:\"microstructureFamily\", uid:\"cristallineMicrostructureDrusyAggregateCharacteristic\", name:\"Drusy aggregate\", order:6, description:\"Aggregate formed of protruding crystals lining a surface.\", image_url:\"https://lh3.googleusercontent.com/i904_m1OrYim9EZyNZiQ4PDGfeoV8NleF91S1_pBrvGLqI_pKfiNdinc-htQa15MAXxgG5NXIoB4h7jIzUfXvEVvD9X-lUZgM45paGcCPi83H81NhUvog3mOwzGVKDJeOXuG1hdiQw=w126-h107\", optgroup:\"Cristalline microstructure\"},\n",
      "{family_uid:\"microstructureFamily\", uid:\"cristallineMicrostructureGéodeCharacteristic\", name:\"Géode\", order:7, description:\"Aggregate formed of protruding crystals lining a cavity.\", image_url:\"https://lh6.googleusercontent.com/wmlMDLY_Q1Q4pggxDLKvQ4MuGrToL5YALEBs5jKLQVRfhG7lbEbhlDglSBYpDSjNV0eigOj_eO_68YVX70Nag3qLHBcT-ThfO0wdCW8c5Qj-P8rKyj2COndVtCd84xnuf6lSGiqIiA=w126-h137\", optgroup:\"Cristalline microstructure\"},\n",
      "{family_uid:\"microstructureFamily\", uid:\"cristallineMicrostructureLamellarCharacteristic\", name:\"Lamellar\", order:8, description:\"Formed from tabular plate-like embedded crystals superimposed and adhering to each other.\", image_url:\"https://lh3.googleusercontent.com/V6WXsI2qcUrYqUQ9rxv5TzoB2mLdN0OREnWXUbk3iMEu3pelwL7EOSDVt16NQIo9w4SN3qvKey-LyZ5B_jMYls0kvkPRZffbhbjxiaOdnFoA2qizxmmB5CwY7AbiHpVGc0ryHr_-bw=w126-h134\", optgroup:\"Cristalline microstructure\"},\n",
      "{family_uid:\"microstructureFamily\", uid:\"cristallineMicrostructureFoliatedCharacteristic\", name:\"Foliated\", order:9, description:\"Formed from tabular enclosed crystals in the form of easily separable platelets or superimposed laminae.\", image_url:\"https://lh4.googleusercontent.com/aL1ihcSMWB5xH-xPdEoF-aQA64jBRspxWCPZhqY4mUTI6iyfP-bhm4KhjK6T7QallyIGxQLFOfJGu-RnBSZUdDZbBydugpVCKGKCp4jQS2hTou_CmJ99Nktw7yn2_BIdSsU05N8Liw=w126-h128\", optgroup:\"Cristalline microstructure\"},\n",
      "{family_uid:\"microstructureFamily\", uid:\"cristallineMicrostructureFibrousCharacteristic\", name:\"Fibrous\", order:10, description:\"Formed of elongated, capillary, parallel included crystals. They can be curved.\", image_url:\"https://lh3.googleusercontent.com/bboWl7IRuuQd9FL5Q_u6YQTgqyCRZcd-__v2uvLY9D7WU07k-yEtQFkTVZCn6oSpBiFFJMGYRn9BN57Dn7WS_nypdrmiSYd5zxRLl5d5qQRXt2pKAVCDoCMSdj96nIL0L5g0YB8Eow=w126-h107\", optgroup:\"Cristalline microstructure\"},\n",
      "{family_uid:\"microstructureFamily\", uid:\"cristallineMicrostructureStellatedCharacteristic\", name:\"Stellated\", order:11, description:\"Formed from acicular elongated embedded crystals or radiant capillaries.\", image_url:\"https://lh4.googleusercontent.com/E-vNQvqQtMZwnLMRPfytsxQaM0qt6jAzzpp5PJo4ccMmYmIU_Fw5_52P3l43gSvMqKy2rZkfaKNMODHNwWImoue6fwQN7jmHfXPXug2JpYJMzMbBWjtgZ03ovyZINwsaVNEeSgroWg=w126-h132\", optgroup:\"Cristalline microstructure\"},\n",
      "{family_uid:\"microstructureFamily\", uid:\"cristallineMicrostructureConcentricCharacteristic\", name:\"Concentric\", order:12, description:\"Formed of more or less spherical layers superimposed one on top of the other around a centre.\", image_url:\"https://lh4.googleusercontent.com/nEwdFT7hC2c4Ll1oI8aZ8vVbtw-lbcWjXT9Bdsl2gqM4XUyjXbTFujOhgi4VSd6b29oJqWAxyePZHKoN_aL-35Z_VsvyQpbSP79H-QILK4MnlLLPm20j_Mv8LM3jp99S6Uz51IWzAg=w126-h108\", optgroup:\"Cristalline microstructure\"},\n",
      "{family_uid:\"microstructureFamily\", uid:\"cristallineMicrostructureBandedCharacteristic\", name:\"Banded\", order:13, description:\"Formed from layers superimposed on each other.\", image_url:\"https://lh3.googleusercontent.com/Mxzty5aqKR5wWrNkfIYwaN74V_OlwuFXWYTpzzH1ghTSieP-aho0cV22cMk-FfGDDAV1Fy5k0-yM9Rv7zc_0A5x82SSSoWXEFJx_cmIyccUzw3IXNYagbvFilAhvj1rbNqbVO-u51w=w126-h106\", optgroup:\"Cristalline microstructure\"},\n",
      "{family_uid:\"microstructureFamily\", uid:\"cristallineMicrostructureBotryoidalCharacteristic\", name:\"Botryoidal\", order:14, description:\"Spherical in shape forming groups of crystals in the manner of a bunch of grapes.\", image_url:\"https://lh3.googleusercontent.com/xA43KIvNJkH5niUyikcCfh7XI9EtNP4xwHW5v1i3MHcHC0rGSC5QwYIcNgv7CHSz9MJWVfSrrsHAdNsW8PnlxdstdyE5GeBLN66Q3SIPrnlbNb0SRQRj5dUrrnfQBF6_8hGDnSkpEg=w126-h109\", optgroup:\"Cristalline microstructure\"},\n",
      "{family_uid:\"microstructureFamily\", uid:\"cristallineMicrostructureReniformCharacteristic\", name:\"Reniform\", order:15, description:\"With a surface that has nipples like a kidney.\", image_url:\"https://lh3.googleusercontent.com/nXvRKJdJ_KFA13aUzttXcttqcFB98NKFwM49w3i1OiLlkhZhCgGWSX8V6Cfbtj7jfoETl08rNYJyf8DirEYW9b0b0zRk23BkEZCX299aID-2CLGEvdVj5MCcxRHuEwVsHwSdYoT5CQ=w126-h130\", optgroup:\"Cristalline microstructure\"},\n",
      "{family_uid:\"microstructureFamily\", uid:\"cristallineMicrostructureStalactiformCharacteristic\", name:\"Stalactiform\", order:16, description:\"In the form of stalactite or stalagmite.\", image_url:\"https://lh5.googleusercontent.com/0wQ8ygBXwk8tUE-KVIFq2DGP0UfG5yOHUrUtQz7yWuDMyPnEYPb2dL7nnm70a2CJiuueVvtVKV51JGBUA_4QJwUmh5lThz2nQkLEY2euTEooVhIoGIehb28XEL-_RDqMGzW1b2A-Iw=w126-h134\", optgroup:\"Cristalline microstructure\"},\n",
      "{family_uid:\"microstructureFamily\", uid:\"cristallineMicrostructureGlobularCharacteristic\", name:\"Globular\", order:17, description:\"Spherical or hemispherical shape. When the crystals globules are superimposed, the aggregate becomes reniform or botryoidal.\", image_url:\"https://lh5.googleusercontent.com/4S9204hhpo2khAjRGdiCBG_I52NO7iLkzeKsjqlqqs8uorDNK4q71FM2P1tSHrjnPzljtlmdAFkRuX3iAlfbSwyD2zypA-MzVZI-BEI_OF11LqfSx7gFC90gJgniq9oN1O9Q-IjKgw=w126-h146\", optgroup:\"Cristalline microstructure\"},\n",
      "{family_uid:\"microstructureFamily\", uid:\"cristallineMicrostructureGranularCharacteristic\", name:\"Granular\", order:18, description:\"Compact material having facets of crystals included on the surface.\", image_url:\"https://lh6.googleusercontent.com/31wLwVd4-ECmxuvm3qrC-AqwQLJqmdCGiehASXQNO1-xZYEpCIvL1JqUJjPKw6kTNFw69pQsYdqTcUM94cfgPIu5lxqkIPQjwzmKhwdboualf0-wuDHs3j4nV1mB6zWNpq_kfbgeJQ=w126-h128\", optgroup:\"Cristalline microstructure\"},\n",
      "{family_uid:\"microstructureFamily\", uid:\"cristallineMicrostructureMassiveCharacteristic\", name:\"Massive\", order:19, description:\"Compact material without visible crystalline organization.\", image_url:\"https://lh5.googleusercontent.com/Ua5DBHBX58l5mjzcS7uS05nhRFzG2tsmBYKIYHq_8bbsXia4OYkfDd5ih-dVu13uFv3pGcsVUVLobx0xYS4yNZ71qyw8T2klwYIGr3fhgeAxbOdSG0PPLVL1QpYmEjAx_sxvD3g_ZA=w126-h131\", optgroup:\"Cristalline microstructure\"},\n",
      "{family_uid:\"microstructureFamily\", uid:\"cristallineMicrostructurePowderishCharacteristic\", name:\"Powderish\", order:20, description:\"Powder-like material of low to very low cohesion.\", image_url:\"https://lh4.googleusercontent.com/leMfZHd9RwkJswH-TUHtnK4zmkv14hcl3nNfCtDiuvz7h18DTLCw2fDfEFUciHMAh0vkWqdaQ3g4En7Ypnw3D5sHkfQSA_NktpQ7a5oNtzWkS_OZiUBG7Mvl3Dim9XfyCWOGaz2LVA=w126-h113\", optgroup:\"Cristalline microstructure\"},\n",
      "{family_uid:\"microstructureFamily\", uid:\"microstructureIsolatedAggregateMicrostructureCharacteristic\", name:\"Isolated aggregate microstructure\", order:21, description:\"Stratum containing one or more aggregate(s) having a minority volume over the area observed.\"},\n",
      "{family_uid:\"microstructureFamily\", uid:\"microstructureScatteredAggregateMicrostructureCharacteristic\", name:\"Scattered aggregate microstructure\", order:22, description:\"Stratum containing numerous aggregates separated from each other and distributed over the observed area.\"},\n",
      "{family_uid:\"microstructureFamily\", uid:\"microstructureDendritesCharacteristic\", name:\"Dendrites\", order:23, description:\"Stratum containing crystals in the form of trees with branches.\"},\n",
      "{family_uid:\"microstructureFamily\", uid:\"microstructureEquiaxeGrainsCharacteristic\", name:\"Equiaxe grains\", order:24, description:\"Stratum consisting of equiaxed grains.\"},\n",
      "{family_uid:\"microstructureFamily\", uid:\"microstructurePseudomorphOfDendriticMicrostructureCharacteristic\", name:\"Pseudomorph of dendritic microstructure\", order:25, description:\"Microstructure formed by selective replacement of dendritic and interdendritic zones. Form revealed by the presence of zones in a corrosion layer stratum corresponding to the dendritic microstructure of the original metal.\"},\n",
      "{family_uid:\"microstructureFamily\", uid:\"microstructurePseudomorphOfGrainMicrostructureCharacteristic\", name:\"Pseudomorph of grain microstructure\", order:26, description:\"Microstructure formed by selective replacement of grains and grain boundaries. Form revealed by the presence of zones in a corrosion layer stratum corresponding to the grain microstructure of the original metal.\"},\n",
      "{family_uid:\"microstructureFamily\", uid:\"microstructureHexagonalMicrostructureCharacteristic\", name:\"Hexagonal microstructure\", order:27, description:\"Hexagonal network distribution of a stratum\"},\n",
      "{family_uid:\"microstructureFamily\", uid:\"microstructureLenticularCharacteristic\", name:\"Lenticular\", order:28, description:\"Stratum with lens-like microstructure.\"},\n",
      "{family_uid:\"microstructureFamily\", uid:\"microstructureStructuralVoidCharacteristic\", name:\"Structural void\", order:29, description:\"Microstructure consisting of material in the gaseous state.\"},\n",
      "{family_uid:\"microstructureFamily\", uid:\"microstructurePebblesCharacteristic\", name:\"Pebbles\", order:30, description:\"20 to 75 mm.\"},\n",
      "{family_uid:\"microstructureFamily\", uid:\"microstructureGravelCharacteristic\", name:\"Gravel\", order:31, description:\"2 to 20 mm.\"},\n",
      "{family_uid:\"microstructureFamily\", uid:\"microstructureCoarseSandsCharacteristic\", name:\"Coarse sands\", order:32, description:\"0,4 to 2 mm. Crumbling.\"},\n",
      "{family_uid:\"microstructureFamily\", uid:\"microstructureFineSandsCharacteristic\", name:\"Fine sands\", order:33, description:\"0,08 to 0,4 mm. Easily malleable. No plasticity. Soft touch, Dusty in dry state.\"},\n",
      "{family_uid:\"microstructureFamily\", uid:\"microstructureLimonsCharacteristic\", name:\"Limons\", order:34, description:\"0,01 to 0,08 mm. Easily malleable. No plasticity\n",
      "Soft touch, Dusty in dry state\"},\n",
      "{family_uid:\"microstructureFamily\", uid:\"microstructureClayCharacteristic\", name:\"Clay\", order:35, description:\"< 0,01 mm. Plasticity. High kneading resistance. Sticky when wet. Very hard when dry.\"},\n"
     ]
    }
   ],
   "source": [
    "## Microstructure Binocular special case\n",
    "# we treat all values and sub-values as characteristics (with optgroup + property for Cristalline microstructure)\n",
    "# and optgroup - (closure of previous group) for isolated aggregate\n",
    "\n",
    "def new_characteristic(family_uid, uid, name, order, description=None, image_url=None, optgroup=None):\n",
    "    cql_update_row = f\"\"\"{{family_uid:\"{family_uid}\", uid:\"{uid}\", name:\"{name}\", order:{order}\"\"\"\n",
    "    arg_list=[cql_update_row]\n",
    "\n",
    "    if image_url is None:\n",
    "        # search characteristic name in name to image_url map\n",
    "        image_url = name_img_url.get(name)\n",
    "    if description:\n",
    "        arg_list.append(f'description:\"{description}\"')\n",
    "    if image_url:\n",
    "        arg_list.append(f'image_url:\"{image_url}\"')\n",
    "    if optgroup:\n",
    "        arg_list.append(f'optgroup:\"{optgroup}\"')\n",
    "\n",
    "    return ', '.join(arg_list) + '},'\n",
    "\n",
    "def new_family(fg_uid, uid, name, order, observation, description='',visible=False, variable=False):\n",
    "    return f\"\"\"{{fg:'{fg_uid}', order:{order}, observation:{observation}, uid:'{uid}', name:'{name}', visible: {visible}, variable: {variable}, description:'{description}}},\"\"\"\n",
    "\n",
    "\n",
    "with open(csv_file_path,\"r\") as f:\n",
    "    reader =csv.DictReader(f)\n",
    "    current_value=''\n",
    "    characteristic_order = 1\n",
    "    family_order = 1\n",
    "    sub_value_order = 1\n",
    "    optgroup = None\n",
    "    optgroup_level = 0\n",
    "    description_field_in = {'Binocular':'Definition from observation under binocular',\n",
    "                           'Cross-section': 'Definition from observation on cross-section'}\n",
    "\n",
    "    for r in reader:\n",
    "        if 'Microstructure' not in r['Characteristic']:\n",
    "            continue\n",
    "        observation = r['Observation mode']\n",
    "        if observation != 'Binocular':\n",
    "            continue\n",
    "\n",
    "        if r['Values'] == '' and r['Sub-values'] == '':\n",
    "            family_uid='microstructureFamily'\n",
    "            cql_family_update_row=new_family(fg_uid='fgMicrostructure', uid=family_uid, name='Microstructure',\n",
    "                                     order=family_order,observation='binocular', description=r[description_field_in[observation]])\n",
    "            print(cql_family_update_row)\n",
    "            print(f'\\n// {family_uid} characteristics:')\n",
    "            family_order+=1\n",
    "\n",
    "        if r['Values'] != '':\n",
    "            # print('\\nNew characteristic:\\n')\n",
    "            current_value = r['Values']\n",
    "            current_value_uid = to_uid(r['Characteristic'] + ' ' +current_value)+'Characteristic'\n",
    "            # trick to detect end of optgroup in our particular case (1 optgroup only yet)\n",
    "\n",
    "            if optgroup_level:\n",
    "                optgroup= None\n",
    "                optgroup_level-=1\n",
    "\n",
    "            print(new_characteristic(family_uid=family_uid, uid=current_value_uid,\n",
    "                                     name=current_value,order=characteristic_order,\n",
    "                                     description=r[description_field_in[observation]],optgroup=optgroup))\n",
    "            # family_order+=1\n",
    "            # characteristic_order = 1\n",
    "            characteristic_order += 1\n",
    "\n",
    "        # print(observation, r['Characteristic'], current_value,'None' if r['Sub-values'] == '' else r['Sub-values'])\n",
    "        current_subvalue = r['Sub-values']\n",
    "        if observation=='Binocular' and current_value!='' and current_subvalue!='':\n",
    "            if sub_value_order==1:\n",
    "                optgroup = current_value\n",
    "                optgroup_level+=1\n",
    "                print(f'// {current_value_uid} optgroup options:')\n",
    "            current_subvalue_uid = to_uid(current_value + ' ' +current_subvalue)+'Characteristic'\n",
    "            print(new_characteristic(family_uid=family_uid, uid=current_subvalue_uid,\n",
    "                                     name=current_subvalue, order=characteristic_order,\n",
    "                                     description=r[description_field_in[observation]], optgroup=optgroup))\n",
    "            sub_value_order+=1\n",
    "            characteristic_order+=1"
   ]
  }
 ],
 "metadata": {
  "kernelspec": {
   "display_name": "Django Shell-Plus",
   "language": "python",
   "name": "django_extensions"
  },
  "language_info": {
   "codemirror_mode": {
    "name": "ipython",
    "version": 3
   },
   "file_extension": ".py",
   "mimetype": "text/x-python",
   "name": "python",
   "nbconvert_exporter": "python",
   "pygments_lexer": "ipython3",
   "version": "3.7.6"
  }
 },
 "nbformat": 4,
 "nbformat_minor": 4
}