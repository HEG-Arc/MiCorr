{
 "cells": [
  {
   "cell_type": "markdown",
   "metadata": {},
   "source": [
    "# import new/updated characteristics from google sheet file exported as csv\n"
   ]
  },
  {
   "cell_type": "code",
   "execution_count": 1,
   "metadata": {
    "pycharm": {
     "name": "#%%\n"
    }
   },
   "outputs": [
    {
     "data": {
      "text/html": [
       "<style>.container {width:90% !important;}</style>"
      ],
      "text/plain": [
       "<IPython.core.display.HTML object>"
      ]
     },
     "metadata": {},
     "output_type": "display_data"
    }
   ],
   "source": [
    "from IPython.core.display import display, HTML\n",
    "import csv\n",
    "display(HTML(\"<style>.container {width:90% !important;}</style>\"))\n"
   ]
  },
  {
   "cell_type": "markdown",
   "metadata": {
    "pycharm": {
     "name": "#%% md\n"
    }
   },
   "source": [
    "# import image urls from html export\n"
   ]
  },
  {
   "cell_type": "code",
   "execution_count": 2,
   "metadata": {},
   "outputs": [],
   "source": [
    "name_img_url = {}"
   ]
  },
  {
   "cell_type": "code",
   "execution_count": 3,
   "metadata": {
    "pycharm": {
     "name": "#%%\n"
    }
   },
   "outputs": [],
   "source": [
    "from bs4 import BeautifulSoup\n",
    "f=open('20200608 SEARCH-by strat. representation-Bin. obs_v1/MiCorr.html')\n",
    "content=f.read()\n",
    "soup=BeautifulSoup(content,'html.parser')\n",
    "imgs=soup.find_all('img')\n",
    "name_img_url={}\n",
    "for im in imgs:\n",
    "    parent_td=im.parent.parent if im.parent.parent.name=='td' else None\n",
    "    if parent_td:\n",
    "        name_img_url[parent_td.previous_sibling.previous_sibling.text]=im['src']"
   ]
  },
  {
   "cell_type": "code",
   "execution_count": 4,
   "metadata": {
    "pycharm": {
     "name": "#%%\n"
    }
   },
   "outputs": [],
   "source": [
    "\n",
    "def new_characteristic(family_uid, uid, name, order, description=None, image_url=None, optgroup=None, natures=[],new_uid=None):\n",
    "    cql_update_row = f\"\"\"{{family_uid:'{family_uid}', uid:'{uid}', name:'{name}', order:{order}, natures:{natures}\"\"\"\n",
    "    arg_list=[cql_update_row]\n",
    "\n",
    "    if image_url is None:\n",
    "        # search characteristic name in name to image_url map\n",
    "        image_url = name_img_url.get(name)\n",
    "    if description:\n",
    "        arg_list.append(f\"description:'{description}'\")\n",
    "    if image_url:\n",
    "        arg_list.append(f\"image_url:'{image_url}'\")\n",
    "    if optgroup:\n",
    "        arg_list.append(f\"optgroup:'{optgroup}'\")\n",
    "    if new_uid is not None:\n",
    "        arg_list.append(f\"new_uid:'{new_uid}'\")\n",
    "    return ', '.join(arg_list) + '},'\n",
    "\n",
    "\n",
    "def find_old_uid(name, uid, name2uids):\n",
    "    nbrof_uid = len(name2uids[name])\n",
    "    if nbrof_uid==1: # unique uid for name\n",
    "        return name2uids[name][0]\n",
    "    elif nbrof_uid==2: # 2 old_uids for name, 1 for Binocular 1 for CS check in which case is uid to select the right one\n",
    "        return  [old_uid for old_uid in name2uids[name] if ('CS' in uid and 'CS' in old_uid) or ('CS' not in uid and 'CS' not in old_uid)][0]\n",
    "    else:\n",
    "        # 0 or more than 2 ? return the list for manual selection in output file\n",
    "        return name2uids[name]\n",
    "\n",
    "def get_uid(name, uid, name2uids):\n",
    "    # if an old manual uid exists then use it and save the new one\n",
    "    lower_name = name.lower()\n",
    "    if lower_name in name2uids:\n",
    "        new_uid = uid\n",
    "        uid = find_old_uid(lower_name, uid, name2uids)\n",
    "    else:\n",
    "        new_uid = None\n",
    "    return uid, new_uid\n",
    "\n",
    "def new_family(fg_uid, uid, name, order, observation, description='',visible=False, variable=False, unit=None, fieldset=None,natures=[], list_elem_family=None, upto=None,new_uid=None):\n",
    "    # adapt csv column value to cql format\n",
    "    observation=observation.lower()\n",
    "    if observation=='cross-section':\n",
    "        observation='cross_section'\n",
    "    cql_update_row = f\"\"\"{{fg:'{fg_uid}', order:{order}, observation:{observation}, uid:'{uid}', name:'{name}', visible: {visible}, variable: {variable}, description:'{description}', natures:{natures}\"\"\"\n",
    "    arg_list=[cql_update_row]\n",
    "    if unit:\n",
    "        arg_list.append(f\"unit:'{unit}'\")\n",
    "    if fieldset:\n",
    "        arg_list.append(f\"fieldset:'{fieldset}'\")\n",
    "    if list_elem_family:\n",
    "        arg_list.append(f\"list_elem_family:'{list_elem_family}'\")\n",
    "    if upto is not None:\n",
    "        arg_list.append(f\"upto:{upto}\")\n",
    "    if new_uid is not None:\n",
    "        arg_list.append(f\"new_uid:'{new_uid}'\")\n",
    "    return ', '.join(arg_list) + '},'\n",
    "\n",
    "def new_subcharacteristic(parent_uid, uid, name, order, variable=False, description=None, natures=[], unit=None, image_url=None, optgroup=None, list_elem_family=None, upto=None):\n",
    "    cql_update_row = f\"\"\"{{parent_uid:'{parent_uid}', uid:'{uid}', name:'{name}', variable:{variable}, order:{order}, natures:{natures}\"\"\"\n",
    "    arg_list=[cql_update_row]\n",
    "    if unit:\n",
    "        arg_list.append(f\"unit:'{unit}'\")\n",
    "    if image_url is None:\n",
    "        # search characteristic name in name to image_url map\n",
    "        image_url = name_img_url.get(name)\n",
    "    if description:\n",
    "        arg_list.append(f\"description:'{description}'\")\n",
    "    if image_url:\n",
    "        arg_list.append(f\"image_url:'{image_url}'\")\n",
    "    if optgroup:\n",
    "        arg_list.append(f\"optgroup:'{optgroup}'\")\n",
    "    if list_elem_family:\n",
    "        arg_list.append(f\"list_elem_family:'{list_elem_family}'\")\n",
    "    if upto is not None:\n",
    "        arg_list.append(f\"upto:{upto}\")\n",
    "    # lower_name = name.lower()\n",
    "    # if lower_name in cname2uids:\n",
    "    #    arg_list.append(f\"old_uid:{find_old_uid(lower_name, uid, cname2uids)}\")\n",
    "    return ', '.join(arg_list) + '},'\n"
   ]
  },
  {
   "cell_type": "code",
   "execution_count": 5,
   "metadata": {
    "pycharm": {
     "name": "#%%\n"
    },
    "scrolled": true
   },
   "outputs": [
    {
     "name": "stdout",
     "output_type": "stream",
     "text": [
      "['\\ufefff.uid', 'f.name', 'c.uid', 'c.name', 'c.order']\n",
      "error with Family: profile = ['interfaceProfileFamily', 'interfaceProfileCSFamily']\n",
      "error with Family: adherence = ['interfaceAdherenceFamily', 'interfaceAdherenceCSFamily']\n",
      "error with Family: transition = ['interfaceTransitionFamily', 'interfaceTransitionCSFamily']\n",
      "error with Characteristic: straight = ['straightCharacteristic', 'interfaceStraightCSCharacteristic']\n",
      "error with Characteristic: sharp = ['sharpCharacteristic', 'interfaceSharpCSCharacteristic']\n",
      "error with Characteristic: wavy = ['wavyCharacteristic', 'interfaceWavyCSCharacteristic']\n",
      "error with Characteristic: adherent = ['adherentCharacteristic', 'interfaceAdherentCSCharacteristic']\n",
      "error with Characteristic: diffuse = ['diffuseCharacteristic', 'interfaceDiffuseCSCharacteristic']\n",
      "error with Characteristic: bumpy = ['bumpyCharacteristic', 'interfaceBumpyCSCharacteristic']\n",
      "error with Characteristic: irregular = ['irregularCharacteristic', 'interfaceIrregularCSCharacteristic']\n",
      "error with Characteristic: non adherent = ['nonAdherentCharacteristic', 'interfaceNonAdherentCSCharacteristic']\n",
      "error with Characteristic: gradual = ['gradualCharacteristic', 'interfaceGradualCSCharacteristic']\n",
      "error with Characteristic: null = ['null', 'null', 'null', 'null']\n",
      "defaultdict(<class 'list'>,\n",
      "            {'adherence': ['interfaceAdherenceFamily',\n",
      "                           'interfaceAdherenceCSFamily'],\n",
      "             'profile': ['interfaceProfileFamily', 'interfaceProfileCSFamily'],\n",
      "             'ra': ['interfaceRaCSVarFamily'],\n",
      "             'rc': ['interfaceRcCSVarFamily'],\n",
      "             'roughness': ['interfaceRoughnessFamily'],\n",
      "             'rp': ['interfaceRpCSVarFamily'],\n",
      "             'rt': ['interfaceRtCSVarFamily'],\n",
      "             'transition': ['interfaceTransitionFamily',\n",
      "                            'interfaceTransitionCSFamily']})\n",
      "defaultdict(<class 'list'>,\n",
      "            {'adherent': ['adherentCharacteristic',\n",
      "                          'interfaceAdherentCSCharacteristic'],\n",
      "             'bumpy': ['bumpyCharacteristic', 'interfaceBumpyCSCharacteristic'],\n",
      "             'diffuse': ['diffuseCharacteristic',\n",
      "                         'interfaceDiffuseCSCharacteristic'],\n",
      "             'gradual': ['gradualCharacteristic',\n",
      "                         'interfaceGradualCSCharacteristic'],\n",
      "             'inseparable': ['inseparableCharacteristic'],\n",
      "             'irregular': ['irregularCharacteristic',\n",
      "                           'interfaceIrregularCSCharacteristic'],\n",
      "             'loosely': ['looselyCharacteristic'],\n",
      "             'non adherent': ['nonAdherentCharacteristic',\n",
      "                              'interfaceNonAdherentCSCharacteristic'],\n",
      "             'null': ['null', 'null', 'null', 'null'],\n",
      "             'rough': ['roughCharacteristic'],\n",
      "             'semi gradual inferior': ['semiGradualInferiorCharacteristic'],\n",
      "             'semi gradual superior': ['semiGradualSuperiorCharacteristic'],\n",
      "             'semi-gradual inferior': ['interfaceSemi-GradualInferiorCSCharacteristic'],\n",
      "             'semi-gradual superior': ['interfaceSemi-GradualSuperiorCSCharacteristic'],\n",
      "             'sharp': ['sharpCharacteristic', 'interfaceSharpCSCharacteristic'],\n",
      "             'slightly rough': ['slightlyRoughCharacteristic'],\n",
      "             'smooth': ['smoothCharacteristic'],\n",
      "             'straight': ['straightCharacteristic',\n",
      "                          'interfaceStraightCSCharacteristic'],\n",
      "             'uneven': ['unevenCharacteristic'],\n",
      "             'wavy': ['wavyCharacteristic', 'interfaceWavyCSCharacteristic']})\n"
     ]
    }
   ],
   "source": [
    "# retrieved old uids or new ones manually generated in 08.2020\n",
    "# using below cypher query and neo4j browser csv export\n",
    "#\n",
    "# MATCH (fg:FamilyGroup {uid:'fgMorphology'})-[:SHOWS]->(f:Family)\n",
    "# OPTIONAL MATCH (f)<-[:BELONGS_TO]-(c:Characteristic)\n",
    "# RETURN f.uid,f.name,c.uid,c.name,c.order ORDER by c.order  ASC\n",
    "# => ./data/fgMorphology_before_new_uids_20210202.csv\n",
    "\n",
    "from collections import defaultdict\n",
    "from pprint import pprint\n",
    "\n",
    "old_uids_csv='./data/fgInterface_before_new_uids_20210204.csv'\n",
    "cname2uids = defaultdict(list)\n",
    "fname2uids = defaultdict(list)\n",
    "with open(old_uids_csv, 'r') as f:\n",
    "    reader = csv.DictReader(f)\n",
    "    print(reader.fieldnames)\n",
    "    for r in reader:\n",
    "        fname=r['f.name'].lower()\n",
    "        cname=r['c.name'].lower()\n",
    "        if r['\\ufefff.uid'] not in fname2uids[fname]:\n",
    "            fname2uids[fname].append(r['\\ufefff.uid'])\n",
    "        cname2uids[cname].append(r['c.uid'])\n",
    "\n",
    "for name in fname2uids:\n",
    "    if len(fname2uids[name])>1:\n",
    "        print(f'error with Family: {name} = {fname2uids[name]}')\n",
    "\n",
    "for name in cname2uids:\n",
    "    if len(cname2uids[name])>1 :\n",
    "        print(f'error with Characteristic: {name} = {cname2uids[name]}')\n",
    "\n",
    "pprint(fname2uids)\n",
    "pprint(cname2uids)\n"
   ]
  },
  {
   "cell_type": "markdown",
   "metadata": {},
   "source": [
    "## Main import_family_group"
   ]
  },
  {
   "cell_type": "code",
   "execution_count": 6,
   "metadata": {
    "pycharm": {
     "name": "#%%\n"
    }
   },
   "outputs": [
    {
     "name": "stdout",
     "output_type": "stream",
     "text": [
      "['', '', '', '', '', '', '', '', '', '', '', '', '', '', '', '', \"On se laisse 1 année pour apprécier l'intérêt de cette strate\", '', '', '', '', '', \"confusing Anthropic ? Appréciation au bout d'une année\", '', \"Not relevant: appréciation au bout d'une année\", '', 'or \"external medium\" more neutral', '', '']\n"
     ]
    }
   ],
   "source": [
    "\n",
    "FAMILY = 1\n",
    "CHARACTERISTIC = 2\n",
    "SUBCHARACTERISTIC = 4\n",
    "DEBUG = 8\n",
    "NATURES_L = ['CP','CM', 'D','M','NMM','POM','S','SV']\n",
    "NATURES = {'CP':'cp','CM':'cm', 'D':'deposit','M':'metal','NMM':'nmm','POM':'pom','S':'soil','SV':'sv'}\n",
    "\n",
    "NATURE_HEADER_SUFFIX = {'Binocular':' Binocular', 'Cross-section':' CS'}\n",
    "\n",
    "csv_file_path='./data/Copy20210102 of 20200608 SEARCH-by strat. representation-Bin. obs_v1 - MiCorr.csv'\n",
    "# csv_file_path='./20200608 SEARCH-by strat. representation-Bin. obs_v1 - MiCorr.csv'\n",
    "\n",
    "\n",
    "with open(csv_file_path,\"r\") as f:\n",
    "    reader =csv.DictReader(f)\n",
    "    print(reader.fieldnames)\n",
    "\n",
    "def suffix(observation, end):\n",
    "    return ('CS' if observation=='Cross-section' else '') + end\n",
    "\n",
    "def upto_list_elem(r):\n",
    "        # element / compound list\n",
    "    if r['Variables'] =='list':\n",
    "        list_elem_family = r['unit']\n",
    "        upto=0\n",
    "    elif  r['Variables'] =='formula':\n",
    "        list_elem_family = r['unit']\n",
    "        upto=1\n",
    "    else:\n",
    "        list_elem_family = None\n",
    "        upto = None\n",
    "    return upto, list_elem_family\n",
    "\n",
    "def cleanup_uid(string_id):\n",
    "    # import re\n",
    "    # re.sub(r'\\((.*)\\)',r'\\1',string_id)\n",
    "    return string_id.replace('(S)','s').replace('/','').replace('_',' ').replace('-',' ').replace('(','').replace(')','')\n",
    "\n",
    "def to_uid(name):\n",
    "    camel_case_name=''.join(name.title().split(' '))\n",
    "    return camel_case_name[0].lower() + camel_case_name[1:]\n",
    "\n",
    "def build_uid(*args):\n",
    "    str_arg = ' '.join(map(cleanup_uid, args))\n",
    "    return to_uid(str_arg)\n",
    "\n",
    "def import_family_group(family_group, filter_observation=None, fieldsets=[], optgroups=[], filter_print=FAMILY|CHARACTERISTIC|SUBCHARACTERISTIC, shared_sub_characteristics=False):\n",
    "    family_uids=[]\n",
    "    characteristic_uids=[]\n",
    "    with open(csv_file_path,\"r\") as f:\n",
    "        reader =csv.DictReader(f)\n",
    "        current_value=''\n",
    "        characteristic_order = 1\n",
    "        family_order = 1\n",
    "        sub_value_order = 1\n",
    "        optgroup = None\n",
    "        optgroup_level = 0\n",
    "        description_field_in = {'Binocular':'Definition from observation under binocular',\n",
    "                               'Cross-section': 'Definition from observation on cross-section'}\n",
    "        fieldset = None # group Values below under fieldset\n",
    "\n",
    "        for r in reader:\n",
    "            if family_group not in r['Characteristic']:\n",
    "                continue\n",
    "            observation = r['Observation mode']\n",
    "            if (filter_observation and observation != filter_observation) or observation not in ['Binocular','Cross-section'] :\n",
    "                # print(f'skip observation=[{observation}]\\n')\n",
    "                continue\n",
    "            # strata Nature filtering\n",
    "            r_natures = [NATURES[N] for N in NATURES if r[N+NATURE_HEADER_SUFFIX[observation]]]\n",
    "            if filter_print & DEBUG:\n",
    "                print(f'\\n{r}\\n')\n",
    "            # print(f'family_group={r[\"Characteristic\"]}')\n",
    "            # print(f'observation={observation}')\n",
    "            if r['Values'] == '' and r['Sub-values'] == '' and r['Sub-characteristic']!='':\n",
    "                family_name=r['Sub-characteristic'].strip()\n",
    "                if '\\n' in family_name:\n",
    "                    # encode sub fieldset using code compatible '_' instead of '\\n' that is used in source csv\n",
    "                    family_name=family_name.replace('\\n', '_')\n",
    "\n",
    "\n",
    "                code_compatible_family_name = cleanup_uid(family_name)\n",
    "\n",
    "                if family_name != r['Characteristic']:\n",
    "                    family_uid=build_uid(r['Characteristic'], code_compatible_family_name) + suffix(observation, 'Family')\n",
    "                else:\n",
    "                    family_uid=build_uid(r['Characteristic']) + suffix(observation, 'Family')\n",
    "                if family_name in fieldsets:\n",
    "                    fieldset = family_name\n",
    "                    code_compatible_fieldset = cleanup_uid(fieldset)\n",
    "                    print(f'// new fieldset={fieldset}')\n",
    "                else:\n",
    "                    fieldset = None\n",
    "                    code_compatible_fieldset = None\n",
    "                if True: # r['Variables']:\n",
    "\n",
    "                    # check if element / compound list\n",
    "                    upto, list_elem_family = upto_list_elem(r)\n",
    "\n",
    "\n",
    "                    family_uid, new_uid = get_uid(family_name, family_uid, fname2uids)\n",
    "\n",
    "                    cql_family_update_row=new_family(fg_uid='fg'+family_group, uid=family_uid, name=family_name,\n",
    "                                         order=family_order,observation=observation, description=r[description_field_in[observation]],\n",
    "                                                    natures=r_natures, list_elem_family=list_elem_family,upto=upto,new_uid=new_uid)\n",
    "                    family_uids.append(family_uid)\n",
    "\n",
    "                    if filter_print & FAMILY:\n",
    "                        print(f'// new family_name={family_name} uid: {family_uid}')\n",
    "                        print(cql_family_update_row)\n",
    "                ## print(f'\\n// {family_uid} characteristics:')\n",
    "                sub_value_order=1\n",
    "                family_order+=1\n",
    "            elif r['Values'] == '' and r['Sub-values'] != '':\n",
    "                # Sub-Characteristic or characteristic under optgroup\n",
    "                current_subvalue = r['Sub-values'].strip()\n",
    "\n",
    "                if current_value!='' and current_value in optgroups:\n",
    "                    if sub_value_order==1:\n",
    "                        optgroup_level+=1\n",
    "                        optgroup=current_value\n",
    "                        print(f'// {current_value_uid} optgroup options:')\n",
    "                    # current_subvalue_uid = to_uid(current_value + ' ' +current_subvalue)+'Characteristic'\n",
    "                    current_subvalue_uid = build_uid(current_value, current_subvalue, 'Characteristic')\n",
    "                    current_subvalue_uid, new_uid = get_uid(current_subvalue, current_subvalue_uid, cname2uids)\n",
    "\n",
    "                    current_value_uid = build_uid(r['Characteristic'], code_compatible_family_name, current_value) + suffix(observation, 'Characteristic')\n",
    "                        # to_uid(' '.join([r['Characteristic'], code_compatible_family_name, current_value])) + suffix(observation, 'Characteristic')\n",
    "                    if filter_print & CHARACTERISTIC:\n",
    "                        print(new_characteristic(family_uid=family_uid, uid=current_subvalue_uid,name=current_subvalue,\n",
    "                                             optgroup=optgroup, order=characteristic_order,natures=r_natures, new_uid=new_uid))\n",
    "                    sub_value_order+=1\n",
    "                    characteristic_order+=1\n",
    "                    continue\n",
    "\n",
    "                if not shared_sub_characteristics:\n",
    "                    # current_subvalue_uid = to_uid(' '.join([r['Characteristic'], code_compatible_family_name, current_value, current_subvalue])) + suffix(observation, 'Characteristic')\n",
    "                    current_subvalue_uid = build_uid(r['Characteristic'], code_compatible_family_name, current_value, current_subvalue) + suffix(observation, 'Characteristic')\n",
    "                else:\n",
    "                    #current_subvalue_uid = to_uid(current_subvalue) + suffix(observation, 'Characteristic')\n",
    "                    current_subvalue_uid = build_uid(current_subvalue) + suffix(observation, 'Characteristic')\n",
    "\n",
    "                characteristic_uids.append(current_subvalue_uid)\n",
    "                upto, list_elem_family = upto_list_elem(r)\n",
    "                if not list_elem_family:\n",
    "                    variable=r['Variables']!=''\n",
    "                    unit=r['unit']\n",
    "                else:\n",
    "                    variable,unit=False,None\n",
    "                cql_subcharacteristic_update_row=new_subcharacteristic(parent_uid=current_value_uid, uid=current_subvalue_uid,\n",
    "                                                                       name=current_subvalue, order=sub_value_order,natures=r_natures,\n",
    "                                                                      variable=variable, unit=unit,\n",
    "                                                                      list_elem_family=list_elem_family,upto=upto)\n",
    "\n",
    "                if filter_print & SUBCHARACTERISTIC:\n",
    "                    # print(f'\\n// {current_subvalue} sub-characteristic:')\n",
    "                    print(cql_subcharacteristic_update_row)\n",
    "                sub_value_order+=1\n",
    "\n",
    "            if r['Values'] != '':\n",
    "                current_value = r['Values'].strip()\n",
    "                sub_value_order=1\n",
    "                if r['Variables'] !='':\n",
    "                    #print(f'\\nNew {current_value} variable Family:\\n')\n",
    "                    upto, list_elem_family = upto_list_elem(r)\n",
    "                    if not list_elem_family:\n",
    "                        variable=r['Variables']!=''\n",
    "                        unit=r['unit']\n",
    "                    else:\n",
    "                        variable,unit=False,None\n",
    "                    # current_value_uid = to_uid(' '.join([r['Characteristic'], (code_compatible_fieldset if fieldset else ''), current_value])) + suffix(observation, 'VarFamily' if variable else 'Family')\n",
    "                    # current_value_uid = cleanup_uid(current_value_uid)\n",
    "                    current_value_uid = build_uid(r['Characteristic'], (code_compatible_fieldset if fieldset else ''), current_value) + suffix(observation, 'VarFamily' if variable else 'Family')\n",
    "                    current_value_uid, new_uid = get_uid(current_value, current_value_uid, fname2uids)\n",
    "                    family_uids.append(current_value_uid)\n",
    "\n",
    "                    cql_family_update_row=new_family(fg_uid='fg'+family_group, uid=current_value_uid, name=current_value,\n",
    "                                order=family_order,observation=observation.lower(), description=r[description_field_in[observation]],\n",
    "                                variable=variable, unit=unit, fieldset=fieldset, natures=r_natures,list_elem_family=list_elem_family,upto=upto,new_uid=new_uid)\n",
    "\n",
    "                    if filter_print & FAMILY:\n",
    "                        print(cql_family_update_row)\n",
    "                    family_order+=1\n",
    "                else:\n",
    "                    # print(f'\\nNew {current_value} characteristic:\\n')\n",
    "                    # current_value_uid = to_uid(' '.join([r['Characteristic'], code_compatible_family_name, current_value])) + suffix(observation, 'Characteristic')\n",
    "                    current_value_uid = build_uid(r['Characteristic'], code_compatible_family_name, current_value) + suffix(observation, 'Characteristic')\n",
    "                    current_value_uid, new_uid = get_uid(current_value, current_value_uid, cname2uids)\n",
    "\n",
    "                    characteristic_uids.append(current_value_uid)\n",
    "\n",
    "                    # trick to detect end of optgroup in our particular case (1 optgroup only yet)\n",
    "                    if optgroup_level:\n",
    "                        optgroup= None\n",
    "                        optgroup_level-=1\n",
    "\n",
    "                    cql_characteristic_update_row = new_characteristic(family_uid=family_uid, uid=current_value_uid,\n",
    "                                         name=current_value,order=characteristic_order,\n",
    "                                         description=r[description_field_in[observation]],optgroup=optgroup,natures=r_natures,new_uid=new_uid)\n",
    "                    if filter_print & CHARACTERISTIC:\n",
    "                        print(cql_characteristic_update_row)\n",
    "\n",
    "                    # family_order+=1\n",
    "                    # characteristic_order = 1\n",
    "                    characteristic_order += 1\n",
    "    if filter_print & DEBUG:\n",
    "        print(f'family_uids={family_uids}\\n len={len(family_uids)}\\n set len={len(set(family_uids))}')\n",
    "        for x in set(family_uids):\n",
    "            family_uids.remove(x)\n",
    "        print(f'duplicated items in family_uids={family_uids}')\n",
    "        print(f'characteristic_uids={characteristic_uids}\\n len={len(characteristic_uids)}\\n set len={len(set(characteristic_uids))}')\n",
    "        for x in set(characteristic_uids):\n",
    "            characteristic_uids.remove(x)\n",
    "        print(f'duplicated items in characteristic_uids={characteristic_uids}')\n",
    "\n",
    "\n"
   ]
  },
  {
   "cell_type": "markdown",
   "metadata": {},
   "source": [
    "## Morphology"
   ]
  },
  {
   "cell_type": "code",
   "execution_count": null,
   "metadata": {
    "scrolled": false
   },
   "outputs": [],
   "source": [
    "\n",
    "print('\\n //FAMILY \\n')\n",
    "import_family_group('Morphology', filter_observation=None, fieldsets=['Thickness','Width'],optgroups=['Geometrical shape'], filter_print=FAMILY, shared_sub_characteristics=False)\n",
    "print('\\n //CHARACTERISTIC \\n')\n",
    "import_family_group('Morphology', filter_observation=None, fieldsets=['Thickness','Width'],optgroups=['Geometrical shape'], filter_print=CHARACTERISTIC, shared_sub_characteristics=False)\n",
    "#import_family_group('Texture', filter_observation='Cross-section', fieldsets=['Roughness'], filter_print=FAMILY, shared_sub_characteristics=False) #FAMILY|CHARACTERISTI\n",
    "#import_family_group('Interface', filter_observation='Cross-section', fieldsets=['Roughness'], filter_print=FAMILY, shared_sub_characteristics=False) #FAMILY|CHARACTERISTI\n"
   ]
  },
  {
   "cell_type": "code",
   "execution_count": 9,
   "metadata": {
    "scrolled": false
   },
   "outputs": [
    {
     "name": "stdout",
     "output_type": "stream",
     "text": [
      "\n",
      " //FAMILY \n",
      "\n",
      "// new family_name=Profile uid: interfaceProfileFamily\n",
      "{fg:'fgInterface', order:1, observation:binocular, uid:'interfaceProfileFamily', name:'Profile', visible: False, variable: False, description:'Assessed on the observed area. The blank option corresponds to a stratum which upper interface profile is not known.', natures:['cp', 'deposit', 'metal', 'nmm', 'pom', 'soil', 'sv'], new_uid:'interfaceProfileFamily'},\n",
      "// new family_name=Transition uid: interfaceTransitionFamily\n",
      "{fg:'fgInterface', order:2, observation:binocular, uid:'interfaceTransitionFamily', name:'Transition', visible: False, variable: False, description:'Assessed on the observed area. The blank option corresponds to a stratum which transition with upper stratum is not known.', natures:['cp', 'deposit', 'metal', 'nmm', 'pom', 'soil'], new_uid:'interfaceTransitionFamily'},\n",
      "// new family_name=Roughness uid: interfaceRoughnessFamily\n",
      "{fg:'fgInterface', order:3, observation:binocular, uid:'interfaceRoughnessFamily', name:'Roughness', visible: False, variable: False, description:'Assessed on the observed area. The blank option corresponds to a stratum which upper interface roughness is not known.', natures:['cp', 'deposit', 'metal', 'nmm', 'pom', 'soil'], new_uid:'interfaceRoughnessFamily'},\n",
      "// new family_name=Adherence uid: interfaceAdherenceFamily\n",
      "{fg:'fgInterface', order:4, observation:binocular, uid:'interfaceAdherenceFamily', name:'Adherence', visible: False, variable: False, description:'Assessed on the observed area. The blank option corresponds to a stratum which adherence with upper stratum is not known.', natures:['cp', 'deposit', 'metal', 'nmm', 'pom', 'soil'], new_uid:'interfaceAdherenceFamily'},\n",
      "// new family_name=Profile uid: interfaceProfileCSFamily\n",
      "{fg:'fgInterface', order:1, observation:cross_section, uid:'interfaceProfileCSFamily', name:'Profile', visible: False, variable: False, description:'Determined on the observed area.', natures:['cp', 'deposit', 'metal', 'nmm', 'pom', 'soil', 'sv'], new_uid:'interfaceProfileCSFamily'},\n",
      "// new family_name=Transition uid: interfaceTransitionCSFamily\n",
      "{fg:'fgInterface', order:2, observation:cross_section, uid:'interfaceTransitionCSFamily', name:'Transition', visible: False, variable: False, description:'Determined on the observed area.', natures:['cp', 'deposit', 'metal', 'nmm', 'pom', 'soil'], new_uid:'interfaceTransitionCSFamily'},\n",
      "// new fieldset=Roughness\n",
      "// new family_name=Roughness uid: interfaceRoughnessFamily\n",
      "{fg:'fgInterface', order:3, observation:cross_section, uid:'interfaceRoughnessFamily', name:'Roughness', visible: False, variable: False, description:'Determined on the observed area.', natures:['cp', 'deposit', 'metal', 'nmm', 'pom', 'soil'], new_uid:'interfaceRoughnessCSFamily'},\n",
      "{fg:'fgInterface', order:4, observation:cross_section, uid:'interfaceRpCSVarFamily', name:'Rp', visible: False, variable: True, description:'Maximum height of peak on the observed area. (measurment according to norme ISO 4288:1996)', natures:['cp', 'deposit', 'metal', 'nmm', 'pom', 'soil'], unit:'µm', fieldset:'Roughness', new_uid:'interfaceRoughnessRpCSVarFamily'},\n",
      "{fg:'fgInterface', order:5, observation:cross_section, uid:'interfaceRcCSVarFamily', name:'Rc', visible: False, variable: True, description:'Average height of the elements on the observed area. (measurment according to norme ISO 4288:1996)', natures:['cp', 'deposit', 'metal', 'nmm', 'pom', 'soil'], unit:'µm', fieldset:'Roughness', new_uid:'interfaceRoughnessRcCSVarFamily'},\n",
      "{fg:'fgInterface', order:6, observation:cross_section, uid:'interfaceRtCSVarFamily', name:'Rt', visible: False, variable: True, description:'Total roughness corresponding to the sum of Rp and Rc. (measurment according to norme ISO 4288:1996)\n",
      "', natures:['cp', 'deposit', 'metal', 'nmm', 'pom', 'soil'], unit:'µm', fieldset:'Roughness', new_uid:'interfaceRoughnessRtCSVarFamily'},\n",
      "{fg:'fgInterface', order:7, observation:cross_section, uid:'interfaceRaCSVarFamily', name:'Ra', visible: False, variable: True, description:'Standard deviation or arithmetic mean of the distances between successive peaks and troughs. (measurment according to norme ISO 4288:1996)', natures:['cp', 'deposit', 'metal', 'nmm', 'pom', 'soil'], unit:'µm', fieldset:'Roughness', new_uid:'interfaceRoughnessRaCSVarFamily'},\n",
      "// new family_name=Adherence uid: interfaceAdherenceCSFamily\n",
      "{fg:'fgInterface', order:8, observation:cross_section, uid:'interfaceAdherenceCSFamily', name:'Adherence', visible: False, variable: False, description:'Determined on the observed area.', natures:['cp', 'deposit', 'metal', 'nmm', 'pom', 'soil'], new_uid:'interfaceAdherenceCSFamily'},\n",
      "\n",
      " //CHARACTERISTICS\n",
      "\n",
      "{family_uid:'interfaceProfileFamily', uid:'interfaceProfileBlankCharacteristic', name:'Blank', order:1, natures:['cp', 'deposit', 'metal', 'nmm', 'pom', 'soil', 'sv']},\n",
      "{family_uid:'interfaceProfileFamily', uid:'straightCharacteristic', name:'Straight', order:2, natures:['cp', 'deposit', 'metal', 'nmm', 'pom', 'soil', 'sv'], description:'No waves along the observed length.', new_uid:'interfaceProfileStraightCharacteristic'},\n",
      "{family_uid:'interfaceProfileFamily', uid:'wavyCharacteristic', name:'Wavy', order:3, natures:['cp', 'deposit', 'metal', 'nmm', 'pom', 'soil', 'sv'], description:'Shows variations or undulations with a low height to length ratio. Angles are greater than 90°.', new_uid:'interfaceProfileWavyCharacteristic'},\n",
      "{family_uid:'interfaceProfileFamily', uid:'bumpyCharacteristic', name:'Bumpy', order:4, natures:['cp', 'deposit', 'metal', 'nmm', 'pom', 'soil', 'sv'], description:'Presents variations that are close in height and length. Angles can be equal to or less than 90°.', new_uid:'interfaceProfileBumpyCharacteristic'},\n",
      "{family_uid:'interfaceProfileFamily', uid:'irregularCharacteristic', name:'Irregular', order:5, natures:['cp', 'deposit', 'metal', 'nmm', 'pom', 'soil', 'sv'], description:'Presents variations whose height and length are unrelated. Angles may be variable.', new_uid:'interfaceProfileIrregularCharacteristic'},\n",
      "{family_uid:'interfaceTransitionFamily', uid:'interfaceTransitionBlankCharacteristic', name:'Blank', order:6, natures:['cp', 'deposit', 'metal', 'nmm', 'pom', 'soil']},\n",
      "{family_uid:'interfaceTransitionFamily', uid:'sharpCharacteristic', name:'Sharp', order:7, natures:['cp', 'deposit', 'metal', 'nmm', 'pom', 'soil'], description:'Very sharp transition between strata.', new_uid:'interfaceTransitionSharpCharacteristic'},\n",
      "{family_uid:'interfaceTransitionFamily', uid:'diffuseCharacteristic', name:'Diffuse', order:8, natures:['cp', 'deposit', 'metal', 'nmm', 'pom', 'soil'], description:'   ', new_uid:'interfaceTransitionDiffuseCharacteristic'},\n",
      "{family_uid:'interfaceTransitionFamily', uid:'gradualCharacteristic', name:'Gradual', order:9, natures:['cp', 'deposit', 'metal', 'nmm', 'pom', 'soil'], description:'Marked transition between two interpenetrating strata.', new_uid:'interfaceTransitionGradualCharacteristic'},\n",
      "{family_uid:'interfaceRoughnessFamily', uid:'interfaceRoughnessBlankCharacteristic', name:'Blank', order:10, natures:['cp', 'deposit', 'metal', 'nmm', 'pom', 'soil']},\n",
      "{family_uid:'interfaceRoughnessFamily', uid:'smoothCharacteristic', name:'Smooth', order:11, natures:['cp', 'deposit', 'metal', 'nmm', 'pom', 'soil'], description:'Asperities not detectable by tactile evaluation. Roughness lower than that of n°0 (or n°1000) abrasive papers.', new_uid:'interfaceRoughnessSmoothCharacteristic'},\n",
      "{family_uid:'interfaceRoughnessFamily', uid:'slightlyRoughCharacteristic', name:'Slightly rough', order:12, natures:['cp', 'deposit', 'metal', 'nmm', 'pom', 'soil'], description:'Low asperities detectable by tactile evaluation but not or hardly detectable by visual evaluation. Roughness between the roughness of abrasive papers n°0 (or n°1000) and n°100.', new_uid:'interfaceRoughnessSlightlyRoughCharacteristic'},\n",
      "{family_uid:'interfaceRoughnessFamily', uid:'roughCharacteristic', name:'Rough', order:13, natures:['cp', 'deposit', 'metal', 'nmm', 'pom', 'soil'], description:'High asperities detectable by tactile and visual evaluation. Roughness superior to that of n°100 abrasive papers.', new_uid:'interfaceRoughnessRoughCharacteristic'},\n",
      "{family_uid:'interfaceRoughnessFamily', uid:'unevenCharacteristic', name:'Uneven', order:14, natures:['cp', 'deposit', 'metal', 'nmm', 'pom', 'soil'], description:'Visible asperities too big for tactile evaluation.', new_uid:'interfaceRoughnessUnevenCharacteristic'},\n",
      "{family_uid:'interfaceAdherenceFamily', uid:'interfaceAdherenceBlankCharacteristic', name:'Blank', order:15, natures:['cp', 'deposit', 'metal', 'nmm', 'pom', 'soil']},\n",
      "{family_uid:'interfaceAdherenceFamily', uid:'inseparableCharacteristic', name:'Inseparable', order:16, natures:['cp', 'deposit', 'metal', 'nmm', 'pom', 'soil'], description:'The strata cannot be separated with a thin blade (scalpel).', new_uid:'interfaceAdherenceInseparableCharacteristic'},\n",
      "{family_uid:'interfaceAdherenceFamily', uid:'adherentCharacteristic', name:'Adherent', order:17, natures:['cp', 'deposit', 'metal', 'nmm', 'pom', 'soil'], description:'It is difficult to separate the strata with a thin blade (scalpel).', new_uid:'interfaceAdherenceAdherentCharacteristic'},\n",
      "{family_uid:'interfaceAdherenceFamily', uid:'looselyCharacteristic', name:'Loosely', order:18, natures:['cp', 'deposit', 'metal', 'nmm', 'pom', 'soil'], description:'The strata can be easily separated using a thin blade (scalpel).', new_uid:'interfaceAdherenceLooselyCharacteristic'},\n",
      "{family_uid:'interfaceAdherenceFamily', uid:'nonAdherentCharacteristic', name:'Non adherent', order:19, natures:['cp', 'deposit', 'metal', 'nmm', 'pom', 'soil'], description:'The strata separate without any particular intervention.', new_uid:'interfaceAdherenceNonAdherentCharacteristic'},\n",
      "{family_uid:'interfaceProfileCSFamily', uid:'interfaceProfileBlankCSCharacteristic', name:'Blank', order:1, natures:['cp', 'deposit', 'metal', 'nmm', 'pom', 'soil', 'sv']},\n",
      "{family_uid:'interfaceProfileCSFamily', uid:'interfaceStraightCSCharacteristic', name:'Straight', order:2, natures:['cp', 'deposit', 'metal', 'nmm', 'pom', 'soil', 'sv'], description:'No waves along the observed length.', new_uid:'interfaceProfileStraightCSCharacteristic'},\n",
      "{family_uid:'interfaceProfileCSFamily', uid:'interfaceWavyCSCharacteristic', name:'Wavy', order:3, natures:['cp', 'deposit', 'metal', 'nmm', 'pom', 'soil', 'sv'], description:'Shows variations or undulations with a low height to length ratio. Angles are greater than 90°.', new_uid:'interfaceProfileWavyCSCharacteristic'},\n",
      "{family_uid:'interfaceProfileCSFamily', uid:'interfaceBumpyCSCharacteristic', name:'Bumpy', order:4, natures:['cp', 'deposit', 'metal', 'nmm', 'pom', 'soil', 'sv'], description:'Presents variations that are close in height and length. Angles can be equal to or less than 90°.', new_uid:'interfaceProfileBumpyCSCharacteristic'},\n",
      "{family_uid:'interfaceProfileCSFamily', uid:'interfaceIrregularCSCharacteristic', name:'Irregular', order:5, natures:['cp', 'deposit', 'metal', 'nmm', 'pom', 'soil', 'sv'], description:'Presents variations whose height and length are unrelated. Angles may be variable.', new_uid:'interfaceProfileIrregularCSCharacteristic'},\n",
      "{family_uid:'interfaceTransitionCSFamily', uid:'interfaceTransitionBlankCSCharacteristic', name:'Blank', order:6, natures:['cp', 'deposit', 'metal', 'nmm', 'pom', 'soil']},\n",
      "{family_uid:'interfaceTransitionCSFamily', uid:'interfaceSharpCSCharacteristic', name:'Sharp', order:7, natures:['cp', 'deposit', 'metal', 'nmm', 'pom', 'soil'], description:'Very sharp transition between strata.', new_uid:'interfaceTransitionSharpCSCharacteristic'},\n",
      "{family_uid:'interfaceTransitionCSFamily', uid:'interfaceDiffuseCSCharacteristic', name:'Diffuse', order:8, natures:['cp', 'deposit', 'metal', 'nmm', 'pom', 'soil'], description:'Weak noticeable transition between strata. A large diffuse transition zone may require identification as an additional stratum.', new_uid:'interfaceTransitionDiffuseCSCharacteristic'},\n",
      "{family_uid:'interfaceTransitionCSFamily', uid:'interfaceSemi-GradualSuperiorCSCharacteristic', name:'semi-gradual superior', order:9, natures:['cp', 'deposit', 'metal', 'nmm', 'pom', 'soil'], description:'Marked transition between two strata where the upper stratum has penetration into the lower stratum.', new_uid:'interfaceTransitionSemiGradualSuperiorCSCharacteristic'},\n",
      "{family_uid:'interfaceTransitionCSFamily', uid:'interfaceSemi-GradualInferiorCSCharacteristic', name:'semi-gradual inferior', order:10, natures:['cp', 'deposit', 'metal', 'nmm', 'pom', 'soil'], description:'Marked transition between two strata where the lower stratum has penetration into the upper stratum.', new_uid:'interfaceTransitionSemiGradualInferiorCSCharacteristic'},\n",
      "{family_uid:'interfaceTransitionCSFamily', uid:'interfaceGradualCSCharacteristic', name:'Gradual', order:11, natures:['cp', 'deposit', 'metal', 'nmm', 'pom', 'soil'], description:'Marked transition between two interpenetrating strata.', new_uid:'interfaceTransitionGradualCSCharacteristic'},\n",
      "// new fieldset=Roughness\n",
      "{family_uid:'interfaceAdherenceCSFamily', uid:'interfaceAdherenceBlankCSCharacteristic', name:'Blank', order:12, natures:['cp', 'deposit', 'metal', 'nmm', 'pom', 'soil']},\n",
      "{family_uid:'interfaceAdherenceCSFamily', uid:'interfaceAdherentCSCharacteristic', name:'Adherent', order:13, natures:['cp', 'deposit', 'metal', 'nmm', 'pom', 'soil'], description:'It is difficult to separate the strata with a thin blade (scalpel).', new_uid:'interfaceAdherenceAdherentCSCharacteristic'},\n",
      "{family_uid:'interfaceAdherenceCSFamily', uid:'interfaceNonAdherentCSCharacteristic', name:'Non adherent', order:14, natures:['cp', 'deposit', 'metal', 'nmm', 'pom', 'soil'], description:'The strata separate without any particular intervention.', new_uid:'interfaceAdherenceNonAdherentCSCharacteristic'},\n"
     ]
    }
   ],
   "source": [
    "print('\\n //FAMILY \\n')\n",
    "import_family_group('Interface', filter_observation='Binocular', fieldsets=[], filter_print=FAMILY, shared_sub_characteristics=False)\n",
    "import_family_group('Interface', filter_observation='Cross-section', fieldsets=['Roughness'], filter_print=FAMILY, shared_sub_characteristics=False)\n",
    "print('\\n //CHARACTERISTICS\\n')\n",
    "import_family_group('Interface', filter_observation='Binocular', fieldsets=[], filter_print=CHARACTERISTIC, shared_sub_characteristics=False)\n",
    "import_family_group('Interface', filter_observation='Cross-section', fieldsets=['Roughness'], filter_print=CHARACTERISTIC, shared_sub_characteristics=False)\n",
    "\n"
   ]
  },
  {
   "cell_type": "code",
   "execution_count": null,
   "metadata": {
    "pycharm": {
     "name": "#%%\n"
    }
   },
   "outputs": [],
   "source": [
    "## Interface cross-section special case"
   ]
  },
  {
   "cell_type": "code",
   "execution_count": null,
   "metadata": {
    "collapsed": true,
    "pycharm": {
     "name": "#%%\n"
    }
   },
   "outputs": [],
   "source": [
    "# we treat Roughness as a fieldset (as it includes multiple families instead of characteristics)\n",
    "# to do add group/fieldset column to spreadsheet\n",
    "\n",
    "import_family_group('Interface', filter_observation='Cross-section', fieldsets=['Roughness'], filter_print=CHARACTERISTIC) #FAMILY|CHARACTERISTIC"
   ]
  },
  {
   "cell_type": "code",
   "execution_count": null,
   "metadata": {
    "collapsed": true
   },
   "outputs": [],
   "source": [
    "print('\\n //FAMILY \\n')\n",
    "import_family_group('Microstructure', filter_observation='Binocular', fieldsets=[], filter_print=FAMILY, shared_sub_characteristics=True) #FAMILY|CHARACTERISTI\n",
    "print('\\n //CHARACTERISTICS \\n')\n",
    "import_family_group('Microstructure', filter_observation='Binocular', fieldsets=[], filter_print=CHARACTERISTIC, shared_sub_characteristics=True) #FAMILY|CHARACTERISTI\n",
    "print('\\n //SUBCHARACTERISTICS \\n')\n",
    "import_family_group('Microstructure', filter_observation='Binocular', fieldsets=[], filter_print=SUBCHARACTERISTIC, shared_sub_characteristics=True) #FAMILY|CHARACTERISTI\n",
    "3'"
   ]
  },
  {
   "cell_type": "code",
   "execution_count": null,
   "metadata": {
    "collapsed": true
   },
   "outputs": [],
   "source": [
    "# fixes SUBCHARACTERISTIC uid with shared_sub_characteristics = False like first generated characteristics\n",
    "# in\n",
    "print('\\n //SUBCHARACTERISTICS \\n')\n",
    "import_family_group('Microstructure', filter_observation='Binocular', fieldsets=[], filter_print=SUBCHARACTERISTIC, shared_sub_characteristics=False) #FAMILY|CHARACTERISTI\n"
   ]
  },
  {
   "cell_type": "code",
   "execution_count": null,
   "metadata": {
    "collapsed": true,
    "pycharm": {
     "name": "#%%\n"
    }
   },
   "outputs": [],
   "source": [
    "import_family_group('Microstructure', filter_observation='Cross-section', fieldsets=[], filter_print=FAMILY|CHARACTERISTIC, shared_sub_characteristics=True) #FAMILY|CHARACTERISTI\n",
    "\n"
   ]
  },
  {
   "cell_type": "code",
   "execution_count": null,
   "metadata": {
    "collapsed": true
   },
   "outputs": [],
   "source": [
    "print('\\n //FAMILY \\n')\n",
    "import_family_group('Microstructure', filter_observation='Cross-section', fieldsets=[], filter_print=FAMILY, shared_sub_characteristics=True) #FAMILY|CHARACTERISTI\n",
    "print('\\n //CHARACTERISTICS \\n')\n",
    "import_family_group('Microstructure', filter_observation='Cross-section', fieldsets=[], filter_print=CHARACTERISTIC, shared_sub_characteristics=True) #FAMILY|CHARACTERISTI\n",
    "print('\\n //SUBCHARACTERISTICS \\n')\n",
    "import_family_group('Microstructure', filter_observation='Cross-section', fieldsets=[], filter_print=SUBCHARACTERISTIC, shared_sub_characteristics=True) #FAMILY|CHARACTERISTI\n"
   ]
  },
  {
   "cell_type": "markdown",
   "metadata": {
    "pycharm": {
     "name": "#%% md\n"
    }
   },
   "source": [
    "## Interface cross-section special case"
   ]
  },
  {
   "cell_type": "code",
   "execution_count": null,
   "metadata": {
    "collapsed": true,
    "pycharm": {
     "name": "#%%\n"
    }
   },
   "outputs": [],
   "source": [
    "# we treat Roughness as a fieldset (as it includes multiple families instead of characteristics)\n",
    "# to do add group/fieldset column to spreadsheet\n",
    "\n",
    "import_family_group('Interface', filter_observation='Cross-section', fieldsets=['Roughness'], filter_print=CHARACTERISTIC) #FAMILY|CHARACTERISTIC"
   ]
  },
  {
   "cell_type": "markdown",
   "metadata": {
    "pycharm": {
     "name": "#%% md\n"
    }
   },
   "source": [
    "# we treat Roughness as a fieldset (as it includes multiple families instead of characteristics)\n",
    "# to do add group/fieldset column to spreadsheet\n",
    "\n",
    "import_family_group('Interface', filter_observation='Cross-section', fieldsets=['Roughness'], filter_print=CHARACTERISTIC) #FAMILY|CHARACTERISTIC"
   ]
  },
  {
   "cell_type": "code",
   "execution_count": null,
   "metadata": {
    "pycharm": {
     "name": "#%%\n"
    }
   },
   "outputs": [],
   "source": [
    "# we treat Roughness as a fieldset (as it includes multiple families instead of characteristics)\n",
    "# to do add group/fieldset column to spreadsheet\n",
    "\n",
    "import_family_group('Interface', filter_observation='Cross-section', fieldsets=['Roughness'], filter_print=CHARACTERISTIC) #FAMILY|CHARACTERISTIC"
   ]
  },
  {
   "cell_type": "code",
   "execution_count": null,
   "metadata": {
    "pycharm": {
     "name": "#%%\n"
    }
   },
   "outputs": [],
   "source": [
    "# we treat Roughness as a fieldset (as it includes multiple families instead of characteristics)\n",
    "# to do add group/fieldset column to spreadsheet\n",
    "\n",
    "import_family_group('Microstructure', filter_observation='Cross-section', fieldsets=[], filter_print=CHARACTERISTIC) #FAMILY|CHARACTERISTIC"
   ]
  },
  {
   "cell_type": "markdown",
   "metadata": {},
   "source": [
    "# Composition\n"
   ]
  },
  {
   "cell_type": "code",
   "execution_count": null,
   "metadata": {
    "collapsed": true
   },
   "outputs": [],
   "source": [
    "print('\\n //FAMILY \\n')\n",
    "import_family_group('Composition',filter_observation='Binocular', fieldsets=['Second band / aggregate'], filter_print=FAMILY|DEBUG)\n",
    "print('\\n //CHARACTERISTIC \\n')\n",
    "import_family_group('Composition',filter_observation='Binocular', fieldsets=['Second band / aggregate'], filter_print=CHARACTERISTIC|DEBUG)\n",
    "print('\\n //SUBCHARACTERISTIC \\n')\n",
    "import_family_group('Composition',filter_observation='Binocular', fieldsets=['Second band / aggregate'], filter_print=SUBCHARACTERISTIC|DEBUG)\n",
    "\n"
   ]
  },
  {
   "cell_type": "code",
   "execution_count": null,
   "metadata": {
    "scrolled": true
   },
   "outputs": [],
   "source": [
    "print('\\n //FAMILY \\n')\n",
    "import_family_group('Composition',filter_observation='Binocular', fieldsets=[ 'Compounds', 'Second band / aggregate'], filter_print=FAMILY)\n"
   ]
  },
  {
   "cell_type": "code",
   "execution_count": null,
   "metadata": {
    "collapsed": true
   },
   "outputs": [],
   "source": [
    "\n",
    "print('\\n //CHARACTERISTIC \\n')\n",
    "import_family_group('Composition',filter_observation='Cross-section', fieldsets=[ 'Main element(s)', 'Secondary element(s)','Compounds', 'Additional element(s)', 'Second band / aggregate'], filter_print=CHARACTERISTIC)\n",
    "# print('\\n //SUBCHARACTERISTIC \\n')\n",
    "# import_family_group('Composition',filter_observation='Cross-section', fieldsets=[ 'Main element(s)', 'Secondary element(s)','Compounds', 'Additional element(s)', 'Second band / aggregate'], filter_print=SUBCHARACTERISTIC)\n"
   ]
  },
  {
   "cell_type": "code",
   "execution_count": null,
   "metadata": {
    "collapsed": true
   },
   "outputs": [],
   "source": [
    "print('\\n //FAMILY \\n')\n",
    "import_family_group('Composition',filter_observation='Cross-section', fieldsets=[ 'Main element(s)', 'Secondary element(s)','Compounds', 'Additional element(s)', 'Second band / aggregate','Second band / aggregate_Compounds','Second band / aggregate_main element(s)',\n",
    "                                                                                 'Second band / aggregate_secondary element(s)','Second band / aggregate_Additional element(s)'], filter_print=FAMILY)\n"
   ]
  },
  {
   "cell_type": "markdown",
   "metadata": {},
   "source": [
    "## initial code (before common import_family_group )"
   ]
  },
  {
   "cell_type": "markdown",
   "metadata": {
    "pycharm": {
     "name": "#%%\n"
    }
   },
   "source": [
    "## Microstructure Binocular special case"
   ]
  },
  {
   "cell_type": "code",
   "execution_count": null,
   "metadata": {},
   "outputs": [],
   "source": [
    "\n",
    "# we treat all values and sub-values as characteristics (with optgroup + property for Cristalline microstructure)\n",
    "# and optgroup - (closure of previous group) for isolated aggregate\n",
    "\n",
    "\n",
    "with open(csv_file_path,\"r\") as f:\n",
    "    reader =csv.DictReader(f)\n",
    "    current_value=''\n",
    "    characteristic_order = 1\n",
    "    family_order = 1\n",
    "    sub_value_order = 1\n",
    "    optgroup_level = 0\n",
    "    description_field_in = {'Binocular':'Definition from observation under binocular',\n",
    "                           'Cross-section': 'Definition from observation on cross-section'}\n",
    "\n",
    "    for r in reader:\n",
    "        if 'Microstructure' not in r['Characteristic']:\n",
    "            continue\n",
    "        observation = r['Observation mode']\n",
    "        if observation != 'Binocular':\n",
    "            continue\n",
    "\n",
    "        if r['Values'] == '' and r['Sub-values'] == '':\n",
    "            family_uid='microstructureFamily'\n",
    "            cql_family_update_row=new_family(fg_uid='fgMicrostructure', uid=family_uid, name='Microstructure',\n",
    "                                     order=family_order,observation='binocular', description=r[description_field_in[observation]])\n",
    "            print(cql_family_update_row)\n",
    "            print(f'\\n// {family_uid} characteristics:')\n",
    "            family_order+=1\n",
    "\n",
    "        if r['Values'] != '':\n",
    "            # print('\\nNew characteristic:\\n')\n",
    "            current_value = r['Values']\n",
    "            current_value_uid = to_uid(r['Characteristic'] + ' ' +current_value)+'Characteristic'\n",
    "            # trick to detect end of optgroup in our particular case (1 optgroup only yet)\n",
    "            if optgroup_level:\n",
    "                optgroup=None\n",
    "                optgroup_level-=1\n",
    "\n",
    "            # print(new_characteristic(family_uid=family_uid, uid=current_value_uid,\n",
    "            #                         name=current_value,order=characteristic_order,\n",
    "            #                         description=r[description_field_in[observation]],optgroup=optgroup))\n",
    "            # family_order+=1\n",
    "            # characteristic_order = 1\n",
    "            characteristic_order += 1\n",
    "\n",
    "        # print(observation, r['Characteristic'], current_value,'None' if r['Sub-values'] == '' else r['Sub-values'])\n",
    "        current_subvalue = r['Sub-values']\n",
    "        if current_value!='' and current_subvalue!='':\n",
    "            if sub_value_order==1:\n",
    "                optgroup_level+=1\n",
    "                optgroup=current_value\n",
    "                print(f'// {current_value_uid} optgroup options:')\n",
    "            current_subvalue_uid = to_uid(current_value + ' ' +current_subvalue)+'Characteristic'\n",
    "            if observation=='Binocular':\n",
    "                print(new_characteristic(family_uid=family_uid, uid=current_subvalue_uid,name=current_subvalue,\n",
    "                                     order=characteristic_order))\n",
    "            else:\n",
    "                print(new_characteristic(family_uid=family_uid, uid=current_subvalue_uid,name=current_subvalue,\n",
    "                                     order=characteristic_order))\n",
    "\n",
    "            sub_value_order+=1\n",
    "            characteristic_order+=1"
   ]
  }
 ],
 "metadata": {
  "kernelspec": {
   "display_name": "Django Shell-Plus",
   "language": "python",
   "name": "django_extensions"
  },
  "language_info": {
   "codemirror_mode": {
    "name": "ipython",
    "version": 3
   },
   "file_extension": ".py",
   "mimetype": "text/x-python",
   "name": "python",
   "nbconvert_exporter": "python",
   "pygments_lexer": "ipython3",
   "version": "3.7.9"
  }
 },
 "nbformat": 4,
 "nbformat_minor": 4
}