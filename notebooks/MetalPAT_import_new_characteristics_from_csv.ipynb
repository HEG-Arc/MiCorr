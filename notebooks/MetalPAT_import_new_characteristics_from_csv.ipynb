{
 "cells": [
  {
   "cell_type": "markdown",
   "metadata": {},
   "source": [
    "# import new/updated characteristics from google sheet file exported as csv\n"
   ]
  },
  {
   "cell_type": "code",
   "execution_count": 7,
   "metadata": {},
   "outputs": [
    {
     "data": {
      "text/html": [
       "<style>.container {width:90% !important;}</style>"
      ],
      "text/plain": [
       "<IPython.core.display.HTML object>"
      ]
     },
     "metadata": {},
     "output_type": "display_data"
    }
   ],
   "source": [
    "from IPython.core.display import display, HTML\n",
    "display(HTML(\"<style>.container {width:90% !important;}</style>\"))"
   ]
  },
  {
   "cell_type": "code",
   "execution_count": 97,
   "metadata": {},
   "outputs": [
    {
     "name": "stdout",
     "output_type": "stream",
     "text": [
      "['Characteristic', 'Sub-characteristic', 'Observation mode', 'Values', 'Sub-values', 'Image', 'Variables', 'unit', 'uid', 'Definition from observation under binocular', 'Definition from observation on cross-section', 'Notice for modification of the current MiCorr interface', 'Comments', 'CP Binocular', 'CP CS', 'CM Binocular', 'CM CS', 'D Binocular', 'D CS', 'M Binocular', 'M CS', 'NMM Binocular', 'NMM CS', 'POM Binocular', 'POM CS', 'S Binocular', 'S CS', 'SV Binocular', 'SV CS']\n"
     ]
    }
   ],
   "source": [
    "import csv\n",
    "csv_file_path='./20200608 SEARCH-by strat. representation-Bin. obs_v1 - MiCorr.csv'\n",
    "with open(csv_file_path,\"r\") as f:\n",
    "    reader =csv.DictReader(f)\n",
    "    print(reader.fieldnames)\n",
    "\n",
    "def to_uid(name):\n",
    "    camel_case_name=''.join(name.title().split(' '))\n",
    "\n",
    "    return camel_case_name[0].lower() + camel_case_name[1:]\n"
   ]
  },
  {
   "cell_type": "markdown",
   "metadata": {
    "pycharm": {
     "name": "#%% md\n"
    }
   },
   "source": [
    "# import image urls from html export\n"
   ]
  },
  {
   "cell_type": "code",
   "execution_count": 45,
   "metadata": {},
   "outputs": [],
   "source": [
    "name_img_url = {}"
   ]
  },
  {
   "cell_type": "code",
   "execution_count": null,
   "metadata": {
    "pycharm": {
     "name": "#%%\n"
    }
   },
   "outputs": [],
   "source": [
    "from bs4 import BeautifulSoup\n",
    "f=open('20200608 SEARCH-by strat. representation-Bin. obs_v1/MiCorr.html')\n",
    "content=f.read()\n",
    "soup=BeautifulSoup(content,'html.parser')\n",
    "imgs=soup.find_all('img')\n",
    "name_img_url={}\n",
    "for im in imgs:\n",
    "    parent_td=im.parent.parent if im.parent.parent.name=='td' else None\n",
    "    if parent_td:\n",
    "        name_img_url[parent_td.previous_sibling.previous_sibling.text]=im['src']"
   ]
  },
  {
   "cell_type": "code",
   "execution_count": 90,
   "metadata": {},
   "outputs": [],
   "source": [
    "\n",
    "def new_characteristic(family_uid, uid, name, order, description=None, image_url=None, optgroup=None):\n",
    "    cql_update_row = f\"\"\"{{family_uid:'{family_uid}', uid:'{uid}', name:'{name}', order:{order}\"\"\"\n",
    "    arg_list=[cql_update_row]\n",
    "\n",
    "    if image_url is None:\n",
    "        # search characteristic name in name to image_url map\n",
    "        image_url = name_img_url.get(name)\n",
    "    if description:\n",
    "        arg_list.append(f\"description:'{description}'\")\n",
    "    if image_url:\n",
    "        arg_list.append(f\"image_url:'{image_url}'\")\n",
    "    if optgroup:\n",
    "        arg_list.append(f\"optgroup:'{optgroup}'\")\n",
    "\n",
    "    return ', '.join(arg_list) + '},'\n",
    "\n",
    "def new_family(fg_uid, uid, name, order, observation, description='',visible=False, variable=False, unit=None, fieldset=None):\n",
    "    # adapt csv column value to cql format\n",
    "    observation=observation.lower()\n",
    "    if observation=='cross-section':\n",
    "        observation='cross_section'\n",
    "    cql_update_row = f\"\"\"{{fg:'{fg_uid}', order:{order}, observation:{observation}, uid:'{uid}', name:'{name}', visible: {visible}, variable: {variable}, description:'{description}'\"\"\"\n",
    "    arg_list=[cql_update_row]\n",
    "    if unit:\n",
    "        arg_list.append(f\"unit:'{unit}'\")\n",
    "    if fieldset:\n",
    "        arg_list.append(f\"fieldset:'{fieldset}'\")\n",
    "    return ', '.join(arg_list) + '},'\n"
   ]
  },
  {
   "cell_type": "markdown",
   "metadata": {},
   "source": [
    "## Microstructure Binocular special case"
   ]
  },
  {
   "cell_type": "code",
   "execution_count": null,
   "metadata": {
    "pycharm": {
     "name": "#%%\n"
    }
   },
   "outputs": [],
   "source": [
    "\n",
    "# we treat all values and sub-values as characteristics (with optgroup + property for Cristalline microstructure)\n",
    "# and optgroup - (closure of previous group) for isolated aggregate\n",
    "\n",
    "\n",
    "with open(csv_file_path,\"r\") as f:\n",
    "    reader =csv.DictReader(f)\n",
    "    current_value=''\n",
    "    characteristic_order = 1\n",
    "    family_order = 1\n",
    "    sub_value_order = 1\n",
    "    optgroup_level = 0\n",
    "    description_field_in = {'Binocular':'Definition from observation under binocular',\n",
    "                           'Cross-section': 'Definition from observation on cross-section'}\n",
    "\n",
    "    for r in reader:\n",
    "        if 'Microstructure' not in r['Characteristic']:\n",
    "            continue\n",
    "        observation = r['Observation mode']\n",
    "        if observation != 'Binocular':\n",
    "            continue\n",
    "\n",
    "        if r['Values'] == '' and r['Sub-values'] == '':\n",
    "            family_uid='microstructureFamily'\n",
    "            cql_family_update_row=new_family(fg_uid='fgMicrostructure', uid=family_uid, name='Microstructure',\n",
    "                                     order=family_order,observation='binocular', description=r[description_field_in[observation]])\n",
    "            print(cql_family_update_row)\n",
    "            print(f'\\n// {family_uid} characteristics:')\n",
    "            family_order+=1\n",
    "\n",
    "        if r['Values'] != '':\n",
    "            # print('\\nNew characteristic:\\n')\n",
    "            current_value = r['Values']\n",
    "            current_value_uid = to_uid(r['Characteristic'] + ' ' +current_value)+'Characteristic'\n",
    "            # trick to detect end of optgroup in our particular case (1 optgroup only yet)\n",
    "            if optgroup_level:\n",
    "                optgroup=None\n",
    "                optgroup_level-=1\n",
    "\n",
    "            # print(new_characteristic(family_uid=family_uid, uid=current_value_uid,\n",
    "            #                         name=current_value,order=characteristic_order,\n",
    "            #                         description=r[description_field_in[observation]],optgroup=optgroup))\n",
    "            # family_order+=1\n",
    "            # characteristic_order = 1\n",
    "            characteristic_order += 1\n",
    "\n",
    "        # print(observation, r['Characteristic'], current_value,'None' if r['Sub-values'] == '' else r['Sub-values'])\n",
    "        current_subvalue = r['Sub-values']\n",
    "        if observation=='Binocular' and current_value!='' and current_subvalue!='':\n",
    "            if sub_value_order==1:\n",
    "                optgroup_level+=1\n",
    "                optgroup=current_value\n",
    "                print(f'// {current_value_uid} optgroup options:')\n",
    "            current_subvalue_uid = to_uid(current_value + ' ' +current_subvalue)+'Characteristic'\n",
    "            print(new_characteristic(family_uid=family_uid, uid=current_subvalue_uid,name=current_subvalue,\n",
    "                                     order=characteristic_order))\n",
    "            sub_value_order+=1\n",
    "            characteristic_order+=1"
   ]
  },
  {
   "cell_type": "code",
   "execution_count": 92,
   "metadata": {
    "pycharm": {
     "name": "#%%\n"
    }
   },
   "outputs": [],
   "source": [
    "\n",
    "FAMILY = 1\n",
    "CHARACTERISTIC = 2\n",
    "\n",
    "def import_family_group(family_group, filter_observation=None, fieldsets=[], filter_print=FAMILY|CHARACTERISTIC):\n",
    "    with open(csv_file_path,\"r\") as f:\n",
    "        reader =csv.DictReader(f)\n",
    "        current_value=''\n",
    "        characteristic_order = 1\n",
    "        family_order = 1\n",
    "        sub_value_order = 1\n",
    "        optgroup = None\n",
    "        optgroup_level = 0\n",
    "        description_field_in = {'Binocular':'Definition from observation under binocular',\n",
    "                               'Cross-section': 'Definition from observation on cross-section'}\n",
    "        fieldset = None # group Values below under fieldset\n",
    "\n",
    "        for r in reader:\n",
    "            if family_group not in r['Characteristic']:\n",
    "                continue\n",
    "            observation = r['Observation mode']\n",
    "            if observation != filter_observation:\n",
    "                continue\n",
    "            # print(f'family_group={r[\"Characteristic\"]}')\n",
    "            # print(f'observation={observation}')\n",
    "            if r['Values'] == '' and r['Sub-values'] == '' and r['Sub-characteristic']!='':\n",
    "                family_name=r['Sub-characteristic']\n",
    "                if family_name in fieldsets:\n",
    "                    fieldset = family_name\n",
    "                    print(f'// new fieldset={fieldset}')\n",
    "                else:\n",
    "                    print(f'// new family_name={family_name}')\n",
    "                    fieldset = None\n",
    "                    family_uid=to_uid(r['Characteristic'] + ' ' +family_name)+'CSFamily'\n",
    "                    cql_family_update_row=new_family(fg_uid='fg'+family_group, uid=family_uid, name=family_name,\n",
    "                                         order=family_order,observation=observation, description=r[description_field_in[observation]])\n",
    "                    if filter_print & FAMILY:\n",
    "                        print(cql_family_update_row)\n",
    "                    ## print(f'\\n// {family_uid} characteristics:')\n",
    "                family_order+=1\n",
    "            if r['Values'] != '':\n",
    "                current_value = r['Values']\n",
    "                if r['Variables'] !='':\n",
    "                    #print(f'\\nNew {current_value} variable Family:\\n')\n",
    "                    current_value_uid = to_uid(r['Characteristic'] + ' ' +current_value)+'CSVarFamily'\n",
    "                    cql_family_update_row=new_family(fg_uid='fg'+family_group, uid=current_value_uid, name=current_value,\n",
    "                        order=family_order,observation=observation.lower(),\n",
    "                        description=r[description_field_in[observation]], variable=True, unit=r['unit'], fieldset=fieldset)\n",
    "                    if filter_print & FAMILY:\n",
    "                        print(cql_family_update_row)\n",
    "                    family_order+=1\n",
    "                else:\n",
    "                    # print(f'\\nNew {current_value} characteristic:\\n')\n",
    "                    current_value_uid = to_uid(r['Characteristic'] + ' ' +current_value)+'CSCharacteristic'\n",
    "                \n",
    "                    # trick to detect end of optgroup in our particular case (1 optgroup only yet)\n",
    "                    if optgroup_level:\n",
    "                        optgroup= None\n",
    "                        optgroup_level-=1\n",
    "\n",
    "                    cql_characteristic_update_row = new_characteristic(family_uid=family_uid, uid=current_value_uid,\n",
    "                                         name=current_value,order=characteristic_order,\n",
    "                                         description=r[description_field_in[observation]],optgroup=optgroup)\n",
    "                    if filter_print & CHARACTERISITIC:\n",
    "                        print(cql_characteristic_update_row)\n",
    "                    \n",
    "                    # family_order+=1\n",
    "                    # characteristic_order = 1\n",
    "                    characteristic_order += 1\n",
    "\n",
    "            "
   ]
  },
  {
   "cell_type": "markdown",
   "metadata": {},
   "source": [
    "## Interface cross-section special case"
   ]
  },
  {
   "cell_type": "code",
   "execution_count": 96,
   "metadata": {},
   "outputs": [
    {
     "name": "stdout",
     "output_type": "stream",
     "text": [
      "// new family_name=Profile\n",
      "{family_uid:'interfaceProfileCSFamily', uid:'interfaceBlankCSCharacteristic', name:'Blank', order:1},\n",
      "{family_uid:'interfaceProfileCSFamily', uid:'interfaceStraightCSCharacteristic', name:'Straight', order:2, description:'No waves along the observed length.'},\n",
      "{family_uid:'interfaceProfileCSFamily', uid:'interfaceWavyCSCharacteristic', name:'Wavy', order:3, description:'Shows variations or undulations with a low height to length ratio. Angles are greater than 90°.'},\n",
      "{family_uid:'interfaceProfileCSFamily', uid:'interfaceBumpyCSCharacteristic', name:'Bumpy', order:4, description:'Presents variations that are close in height and length. Angles can be equal to or less than 90°.'},\n",
      "{family_uid:'interfaceProfileCSFamily', uid:'interfaceIrregularCSCharacteristic', name:'Irregular', order:5, description:'Presents variations whose height and length are unrelated. Angles may be variable.'},\n",
      "// new family_name=Transition\n",
      "{family_uid:'interfaceTransitionCSFamily', uid:'interfaceSharpCSCharacteristic', name:'Sharp', order:6, description:'Very sharp transition between strata.'},\n",
      "{family_uid:'interfaceTransitionCSFamily', uid:'interfaceDiffuseCSCharacteristic', name:'Diffuse', order:7, description:'Weak noticeable transition between strata. A large diffuse transition zone may require identification as an additional stratum.'},\n",
      "{family_uid:'interfaceTransitionCSFamily', uid:'interfaceSemi-GradualSuperiorCSCharacteristic', name:'semi-gradual superior', order:8, description:'Marked transition between two strata where the upper stratum has penetration into the lower stratum.'},\n",
      "{family_uid:'interfaceTransitionCSFamily', uid:'interfaceSemi-GradualInferiorCSCharacteristic', name:'semi-gradual inferior', order:9, description:'Marked transition between two strata where the lower stratum has penetration into the upper stratum.'},\n",
      "{family_uid:'interfaceTransitionCSFamily', uid:'interfaceGradualCSCharacteristic', name:'Gradual', order:10, description:'Marked transition between two interpenetrating strata.'},\n",
      "// new fieldset=Roughness\n",
      "// new family_name=Adherence\n",
      "{family_uid:'interfaceAdherenceCSFamily', uid:'interfaceBlankCSCharacteristic', name:'Blank', order:11},\n",
      "{family_uid:'interfaceAdherenceCSFamily', uid:'interfaceAdherentCSCharacteristic', name:'Adherent', order:12, description:'It is difficult to separate the strata with a thin blade (scalpel).'},\n",
      "{family_uid:'interfaceAdherenceCSFamily', uid:'interfaceNonAdherentCSCharacteristic', name:'Non adherent', order:13, description:'The strata separate without any particular intervention.'},\n"
     ]
    }
   ],
   "source": [
    "# we treat Roughness as a fieldset (as it includes multiple families instead of characteristics)\n",
    "# to do add group/fieldset column to spreadsheet\n",
    "\n",
    "import_family_group('Interface', filter_observation='Cross-section', fieldsets=['Roughness'], filter_print=CHARACTERISTIC) #FAMILY|CHARACTERISTIC"
   ]
  }
 ],
 "metadata": {
  "kernelspec": {
   "display_name": "Django Shell-Plus",
   "language": "python",
   "name": "django_extensions"
  },
  "language_info": {
   "codemirror_mode": {
    "name": "ipython",
    "version": 3
   },
   "file_extension": ".py",
   "mimetype": "text/x-python",
   "name": "python",
   "nbconvert_exporter": "python",
   "pygments_lexer": "ipython3",
   "version": "3.7.7"
  }
 },
 "nbformat": 4,
 "nbformat_minor": 4
}
