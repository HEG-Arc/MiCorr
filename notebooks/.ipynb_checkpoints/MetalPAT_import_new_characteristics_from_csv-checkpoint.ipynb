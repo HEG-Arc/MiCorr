{
 "cells": [
  {
   "cell_type": "markdown",
   "metadata": {},
   "source": [
    "# import new/updated characteristics from google sheet file exported as csv\n"
   ]
  },
  {
   "cell_type": "code",
   "execution_count": 27,
   "metadata": {
    "pycharm": {
     "name": "#%%\n"
    }
   },
   "outputs": [
    {
     "data": {
      "text/html": [
       "<style>.container {width:90% !important;}</style>"
      ],
      "text/plain": [
       "<IPython.core.display.HTML object>"
      ]
     },
     "metadata": {},
     "output_type": "display_data"
    }
   ],
   "source": [
    "from IPython.core.display import display, HTML\n",
    "display(HTML(\"<style>.container {width:90% !important;}</style>\"))"
   ]
  },
  {
   "cell_type": "markdown",
   "metadata": {
    "pycharm": {
     "name": "#%% md\n"
    }
   },
   "source": [
    "# import image urls from html export\n"
   ]
  },
  {
   "cell_type": "code",
   "execution_count": 11,
   "metadata": {},
   "outputs": [],
   "source": [
    "name_img_url = {}"
   ]
  },
  {
   "cell_type": "code",
   "execution_count": 12,
   "metadata": {
    "pycharm": {
     "name": "#%%\n"
    }
   },
   "outputs": [],
   "source": [
    "from bs4 import BeautifulSoup\n",
    "f=open('20200608 SEARCH-by strat. representation-Bin. obs_v1/MiCorr.html')\n",
    "content=f.read()\n",
    "soup=BeautifulSoup(content,'html.parser')\n",
    "imgs=soup.find_all('img')\n",
    "name_img_url={}\n",
    "for im in imgs:\n",
    "    parent_td=im.parent.parent if im.parent.parent.name=='td' else None\n",
    "    if parent_td:\n",
    "        name_img_url[parent_td.previous_sibling.previous_sibling.text]=im['src']"
   ]
  },
  {
   "cell_type": "code",
   "execution_count": 254,
   "metadata": {
    "pycharm": {
     "name": "#%%\n"
    }
   },
   "outputs": [],
   "source": [
    "\n",
    "def new_characteristic(family_uid, uid, name, order, description=None, image_url=None, optgroup=None, natures=[]):\n",
    "    cql_update_row = f\"\"\"{{family_uid:'{family_uid}', uid:'{uid}', name:'{name}', order:{order}, natures:{natures}\"\"\"\n",
    "    arg_list=[cql_update_row]\n",
    "\n",
    "    if image_url is None:\n",
    "        # search characteristic name in name to image_url map\n",
    "        image_url = name_img_url.get(name)\n",
    "    if description:\n",
    "        arg_list.append(f\"description:'{description}'\")\n",
    "    if image_url:\n",
    "        arg_list.append(f\"image_url:'{image_url}'\")\n",
    "    if optgroup:\n",
    "        arg_list.append(f\"optgroup:'{optgroup}'\")\n",
    "\n",
    "    return ', '.join(arg_list) + '},'\n",
    "\n",
    "def new_family(fg_uid, uid, name, order, observation, description='',visible=False, variable=False, unit=None, fieldset=None,natures=[], list_elem_family=None, upto=None):\n",
    "    # adapt csv column value to cql format\n",
    "    observation=observation.lower()\n",
    "    if observation=='cross-section':\n",
    "        observation='cross_section'\n",
    "    cql_update_row = f\"\"\"{{fg:'{fg_uid}', order:{order}, observation:{observation}, uid:'{uid}', name:'{name}', visible: {visible}, variable: {variable}, description:'{description}', natures:{natures}\"\"\"\n",
    "    arg_list=[cql_update_row]\n",
    "    if unit:\n",
    "        arg_list.append(f\"unit:'{unit}'\")\n",
    "    if fieldset:\n",
    "        arg_list.append(f\"fieldset:'{fieldset}'\")\n",
    "    if list_elem_family:\n",
    "        arg_list.append(f\"list_elem_family:'{list_elem_family}'\")\n",
    "    if upto is not None:\n",
    "        arg_list.append(f\"upto:{upto}\")\n",
    "    return ', '.join(arg_list) + '},'\n",
    "\n",
    "def new_subcharacteristic(parent_uid, uid, name, order, variable=False, description=None, natures=[], unit=None, image_url=None, optgroup=None, list_elem_family=None, upto=None):\n",
    "    cql_update_row = f\"\"\"{{parent_uid:'{parent_uid}', uid:'{uid}', name:'{name}', variable:{variable}, order:{order}, natures:{natures}\"\"\"\n",
    "    arg_list=[cql_update_row]\n",
    "    if unit:\n",
    "        arg_list.append(f\"unit:'{unit}'\")\n",
    "    if image_url is None:\n",
    "        # search characteristic name in name to image_url map\n",
    "        image_url = name_img_url.get(name)\n",
    "    if description:\n",
    "        arg_list.append(f\"description:'{description}'\")\n",
    "    if image_url:\n",
    "        arg_list.append(f\"image_url:'{image_url}'\")\n",
    "    if optgroup:\n",
    "        arg_list.append(f\"optgroup:'{optgroup}'\")\n",
    "    if list_elem_family:\n",
    "        arg_list.append(f\"list_elem_family:'{list_elem_family}'\")\n",
    "    if upto is not None:\n",
    "        arg_list.append(f\"upto:{upto}\")\n",
    "\n",
    "    return ', '.join(arg_list) + '},'\n"
   ]
  },
  {
   "cell_type": "code",
   "execution_count": 14,
   "metadata": {},
   "outputs": [
    {
     "name": "stdout",
     "output_type": "stream",
     "text": [
      "{parent_uid:'x', uid:'y', name:'z', variable:False, order:1, natures:[]},\n"
     ]
    }
   ],
   "source": [
    "print(new_subcharacteristic('x','y','z',1))"
   ]
  },
  {
   "cell_type": "markdown",
   "metadata": {
    "pycharm": {
     "name": "#%% md\n"
    }
   },
   "source": [
    "## Microstructure Binocular special case"
   ]
  },
  {
   "cell_type": "code",
   "execution_count": 49,
   "metadata": {
    "pycharm": {
     "name": "#%%\n"
    }
   },
   "outputs": [
    {
     "name": "stdout",
     "output_type": "stream",
     "text": [
      "{fg:'fgMicrostructure', order:1, observation:binocular, uid:'microstructureFamily', name:'Microstructure', visible: False, variable: False, description:'Assessed on the observed area. The blank option corresponds to a stratum which microstructure is not known.'},\n",
      "\n",
      "// microstructureFamily characteristics:\n",
      "// microstructureCristallineMicrostructureCharacteristic optgroup options:\n",
      "{family_uid:'microstructureFamily', uid:'cristallineMicrostructureBlankCharacteristic', name:'Blank', order:4},\n",
      "{family_uid:'microstructureFamily', uid:'cristallineMicrostructureDendriticCharacteristic', name:'Dendritic', order:5, image_url:'https://lh6.googleusercontent.com/FyP0N-Th3gRuKFukmtMQPekDzkTkk4rqsVoqWgZLep7-kvuIVy0tXhyBwC9BHm1TlRKAZdSNhPCAFfyNE-DmsKJbKz7YSqrn0SwjfX0WZbPeS_gJhDmiIizLf6osIuEfGqBLvBUXgA=w126-h119'},\n",
      "{family_uid:'microstructureFamily', uid:'cristallineMicrostructureDrusyAggregateCharacteristic', name:'Drusy aggregate', order:6, image_url:'https://lh3.googleusercontent.com/i904_m1OrYim9EZyNZiQ4PDGfeoV8NleF91S1_pBrvGLqI_pKfiNdinc-htQa15MAXxgG5NXIoB4h7jIzUfXvEVvD9X-lUZgM45paGcCPi83H81NhUvog3mOwzGVKDJeOXuG1hdiQw=w126-h107'},\n",
      "{family_uid:'microstructureFamily', uid:'cristallineMicrostructureGéodeCharacteristic', name:'Géode', order:7, image_url:'https://lh6.googleusercontent.com/wmlMDLY_Q1Q4pggxDLKvQ4MuGrToL5YALEBs5jKLQVRfhG7lbEbhlDglSBYpDSjNV0eigOj_eO_68YVX70Nag3qLHBcT-ThfO0wdCW8c5Qj-P8rKyj2COndVtCd84xnuf6lSGiqIiA=w126-h137'},\n",
      "{family_uid:'microstructureFamily', uid:'cristallineMicrostructureLamellarCharacteristic', name:'Lamellar', order:8, image_url:'https://lh3.googleusercontent.com/V6WXsI2qcUrYqUQ9rxv5TzoB2mLdN0OREnWXUbk3iMEu3pelwL7EOSDVt16NQIo9w4SN3qvKey-LyZ5B_jMYls0kvkPRZffbhbjxiaOdnFoA2qizxmmB5CwY7AbiHpVGc0ryHr_-bw=w126-h134'},\n",
      "{family_uid:'microstructureFamily', uid:'cristallineMicrostructureFoliatedCharacteristic', name:'Foliated', order:9, image_url:'https://lh4.googleusercontent.com/aL1ihcSMWB5xH-xPdEoF-aQA64jBRspxWCPZhqY4mUTI6iyfP-bhm4KhjK6T7QallyIGxQLFOfJGu-RnBSZUdDZbBydugpVCKGKCp4jQS2hTou_CmJ99Nktw7yn2_BIdSsU05N8Liw=w126-h128'},\n",
      "{family_uid:'microstructureFamily', uid:'cristallineMicrostructureFibrousCharacteristic', name:'Fibrous', order:10, image_url:'https://lh3.googleusercontent.com/bboWl7IRuuQd9FL5Q_u6YQTgqyCRZcd-__v2uvLY9D7WU07k-yEtQFkTVZCn6oSpBiFFJMGYRn9BN57Dn7WS_nypdrmiSYd5zxRLl5d5qQRXt2pKAVCDoCMSdj96nIL0L5g0YB8Eow=w126-h107'},\n",
      "{family_uid:'microstructureFamily', uid:'cristallineMicrostructureStellatedCharacteristic', name:'Stellated', order:11, image_url:'https://lh4.googleusercontent.com/E-vNQvqQtMZwnLMRPfytsxQaM0qt6jAzzpp5PJo4ccMmYmIU_Fw5_52P3l43gSvMqKy2rZkfaKNMODHNwWImoue6fwQN7jmHfXPXug2JpYJMzMbBWjtgZ03ovyZINwsaVNEeSgroWg=w126-h132'},\n",
      "{family_uid:'microstructureFamily', uid:'cristallineMicrostructureConcentricCharacteristic', name:'Concentric', order:12, image_url:'https://lh4.googleusercontent.com/nEwdFT7hC2c4Ll1oI8aZ8vVbtw-lbcWjXT9Bdsl2gqM4XUyjXbTFujOhgi4VSd6b29oJqWAxyePZHKoN_aL-35Z_VsvyQpbSP79H-QILK4MnlLLPm20j_Mv8LM3jp99S6Uz51IWzAg=w126-h108'},\n",
      "{family_uid:'microstructureFamily', uid:'cristallineMicrostructureBandedCharacteristic', name:'Banded', order:13, image_url:'https://lh3.googleusercontent.com/Mxzty5aqKR5wWrNkfIYwaN74V_OlwuFXWYTpzzH1ghTSieP-aho0cV22cMk-FfGDDAV1Fy5k0-yM9Rv7zc_0A5x82SSSoWXEFJx_cmIyccUzw3IXNYagbvFilAhvj1rbNqbVO-u51w=w126-h106'},\n",
      "{family_uid:'microstructureFamily', uid:'cristallineMicrostructureBotryoidalCharacteristic', name:'Botryoidal', order:14, image_url:'https://lh3.googleusercontent.com/xA43KIvNJkH5niUyikcCfh7XI9EtNP4xwHW5v1i3MHcHC0rGSC5QwYIcNgv7CHSz9MJWVfSrrsHAdNsW8PnlxdstdyE5GeBLN66Q3SIPrnlbNb0SRQRj5dUrrnfQBF6_8hGDnSkpEg=w126-h109'},\n",
      "{family_uid:'microstructureFamily', uid:'cristallineMicrostructureReniformCharacteristic', name:'Reniform', order:15, image_url:'https://lh3.googleusercontent.com/nXvRKJdJ_KFA13aUzttXcttqcFB98NKFwM49w3i1OiLlkhZhCgGWSX8V6Cfbtj7jfoETl08rNYJyf8DirEYW9b0b0zRk23BkEZCX299aID-2CLGEvdVj5MCcxRHuEwVsHwSdYoT5CQ=w126-h130'},\n",
      "{family_uid:'microstructureFamily', uid:'cristallineMicrostructureStalactiformCharacteristic', name:'Stalactiform', order:16, image_url:'https://lh5.googleusercontent.com/0wQ8ygBXwk8tUE-KVIFq2DGP0UfG5yOHUrUtQz7yWuDMyPnEYPb2dL7nnm70a2CJiuueVvtVKV51JGBUA_4QJwUmh5lThz2nQkLEY2euTEooVhIoGIehb28XEL-_RDqMGzW1b2A-Iw=w126-h134'},\n",
      "{family_uid:'microstructureFamily', uid:'cristallineMicrostructureGlobularCharacteristic', name:'Globular', order:17, image_url:'https://lh5.googleusercontent.com/4S9204hhpo2khAjRGdiCBG_I52NO7iLkzeKsjqlqqs8uorDNK4q71FM2P1tSHrjnPzljtlmdAFkRuX3iAlfbSwyD2zypA-MzVZI-BEI_OF11LqfSx7gFC90gJgniq9oN1O9Q-IjKgw=w126-h146'},\n",
      "{family_uid:'microstructureFamily', uid:'cristallineMicrostructureGranularCharacteristic', name:'Granular', order:18, image_url:'https://lh6.googleusercontent.com/31wLwVd4-ECmxuvm3qrC-AqwQLJqmdCGiehASXQNO1-xZYEpCIvL1JqUJjPKw6kTNFw69pQsYdqTcUM94cfgPIu5lxqkIPQjwzmKhwdboualf0-wuDHs3j4nV1mB6zWNpq_kfbgeJQ=w126-h128'},\n",
      "{family_uid:'microstructureFamily', uid:'cristallineMicrostructureMassiveCharacteristic', name:'Massive', order:19, image_url:'https://lh5.googleusercontent.com/Ua5DBHBX58l5mjzcS7uS05nhRFzG2tsmBYKIYHq_8bbsXia4OYkfDd5ih-dVu13uFv3pGcsVUVLobx0xYS4yNZ71qyw8T2klwYIGr3fhgeAxbOdSG0PPLVL1QpYmEjAx_sxvD3g_ZA=w126-h131'},\n",
      "{family_uid:'microstructureFamily', uid:'cristallineMicrostructurePowderishCharacteristic', name:'Powderish', order:20, image_url:'https://lh4.googleusercontent.com/leMfZHd9RwkJswH-TUHtnK4zmkv14hcl3nNfCtDiuvz7h18DTLCw2fDfEFUciHMAh0vkWqdaQ3g4En7Ypnw3D5sHkfQSA_NktpQ7a5oNtzWkS_OZiUBG7Mvl3Dim9XfyCWOGaz2LVA=w126-h113'},\n"
     ]
    }
   ],
   "source": [
    "\n",
    "# we treat all values and sub-values as characteristics (with optgroup + property for Cristalline microstructure)\n",
    "# and optgroup - (closure of previous group) for isolated aggregate\n",
    "\n",
    "\n",
    "with open(csv_file_path,\"r\") as f:\n",
    "    reader =csv.DictReader(f)\n",
    "    current_value=''\n",
    "    characteristic_order = 1\n",
    "    family_order = 1\n",
    "    sub_value_order = 1\n",
    "    optgroup_level = 0\n",
    "    description_field_in = {'Binocular':'Definition from observation under binocular',\n",
    "                           'Cross-section': 'Definition from observation on cross-section'}\n",
    "\n",
    "    for r in reader:\n",
    "        if 'Microstructure' not in r['Characteristic']:\n",
    "            continue\n",
    "        observation = r['Observation mode']\n",
    "        if observation != 'Binocular':\n",
    "            continue\n",
    "\n",
    "        if r['Values'] == '' and r['Sub-values'] == '':\n",
    "            family_uid='microstructureFamily'\n",
    "            cql_family_update_row=new_family(fg_uid='fgMicrostructure', uid=family_uid, name='Microstructure',\n",
    "                                     order=family_order,observation='binocular', description=r[description_field_in[observation]])\n",
    "            print(cql_family_update_row)\n",
    "            print(f'\\n// {family_uid} characteristics:')\n",
    "            family_order+=1\n",
    "\n",
    "        if r['Values'] != '':\n",
    "            # print('\\nNew characteristic:\\n')\n",
    "            current_value = r['Values']\n",
    "            current_value_uid = to_uid(r['Characteristic'] + ' ' +current_value)+'Characteristic'\n",
    "            # trick to detect end of optgroup in our particular case (1 optgroup only yet)\n",
    "            if optgroup_level:\n",
    "                optgroup=None\n",
    "                optgroup_level-=1\n",
    "\n",
    "            # print(new_characteristic(family_uid=family_uid, uid=current_value_uid,\n",
    "            #                         name=current_value,order=characteristic_order,\n",
    "            #                         description=r[description_field_in[observation]],optgroup=optgroup))\n",
    "            # family_order+=1\n",
    "            # characteristic_order = 1\n",
    "            characteristic_order += 1\n",
    "\n",
    "        # print(observation, r['Characteristic'], current_value,'None' if r['Sub-values'] == '' else r['Sub-values'])\n",
    "        current_subvalue = r['Sub-values']\n",
    "        if current_value!='' and current_subvalue!='':\n",
    "            if sub_value_order==1:\n",
    "                optgroup_level+=1\n",
    "                optgroup=current_value\n",
    "                print(f'// {current_value_uid} optgroup options:')\n",
    "            current_subvalue_uid = to_uid(current_value + ' ' +current_subvalue)+'Characteristic'\n",
    "            if observation=='Binocular':\n",
    "                print(new_characteristic(family_uid=family_uid, uid=current_subvalue_uid,name=current_subvalue,\n",
    "                                     order=characteristic_order))\n",
    "            else:\n",
    "                print(new_characteristic(family_uid=family_uid, uid=current_subvalue_uid,name=current_subvalue,\n",
    "                                     order=characteristic_order))\n",
    "\n",
    "            sub_value_order+=1\n",
    "            characteristic_order+=1"
   ]
  },
  {
   "cell_type": "code",
   "execution_count": 267,
   "metadata": {
    "pycharm": {
     "name": "#%%\n"
    }
   },
   "outputs": [],
   "source": [
    "\n",
    "FAMILY = 1\n",
    "CHARACTERISTIC = 2\n",
    "SUBCHARACTERISTIC = 4\n",
    "DEBUG = 8\n",
    "NATURES_L = ['CP','CM', 'D','M','NMM','POM','S','SV']\n",
    "NATURES = {'CP':'cp','CM':'cm', 'D':'deposit','M':'metal','NMM':'nmm','POM':'pom','S':'soil','SV':'sv'}\n",
    "\n",
    "NATURE_HEADER_SUFFIX = {'Binocular':' Binocular', 'Cross-section':' CS'}\n",
    "\n",
    "family_uids=[]\n",
    "characteristic_uids=[]\n",
    "\n",
    "def suffix(observation, end):\n",
    "    return ('CS' if observation=='Cross-section' else '') + end\n",
    "\n",
    "def upto_list_elem(r):\n",
    "        # element / compound list\n",
    "    if r['Variables'] =='list':\n",
    "        list_elem_family = r['unit']\n",
    "        upto=0\n",
    "    elif  r['Variables'] =='formula':\n",
    "        list_elem_family = r['unit']\n",
    "        upto=1                        \n",
    "    else:                      \n",
    "        list_elem_family = None\n",
    "        upto = None\n",
    "    return upto, list_elem_family\n",
    "\n",
    "def import_family_group(family_group, filter_observation=None, fieldsets=[], filter_print=FAMILY|CHARACTERISTIC|SUBCHARACTERISTIC, shared_sub_characteristics=False):\n",
    "    with open(csv_file_path,\"r\") as f:\n",
    "        reader =csv.DictReader(f)\n",
    "        current_value=''\n",
    "        characteristic_order = 1\n",
    "        family_order = 1\n",
    "        sub_value_order = 1\n",
    "        optgroup = None\n",
    "        optgroup_level = 0\n",
    "        description_field_in = {'Binocular':'Definition from observation under binocular',\n",
    "                               'Cross-section': 'Definition from observation on cross-section'}\n",
    "        fieldset = None # group Values below under fieldset\n",
    "\n",
    "        for r in reader:\n",
    "            if family_group not in r['Characteristic']:\n",
    "                continue\n",
    "            observation = r['Observation mode']\n",
    "            if observation != filter_observation:\n",
    "                continue\n",
    "            # strata Nature filtering\n",
    "            r_natures = [NATURES[N] for N in NATURES if r[N+NATURE_HEADER_SUFFIX[observation]]]\n",
    "            if filter_print & DEBUG:\n",
    "                print(f'\\n{r}\\n')\n",
    "            # print(f'family_group={r[\"Characteristic\"]}')\n",
    "            # print(f'observation={observation}')\n",
    "            if r['Values'] == '' and r['Sub-values'] == '' and r['Sub-characteristic']!='':\n",
    "                family_name=r['Sub-characteristic']\n",
    "                if '\\n' in family_name:\n",
    "                    # encode sub fieldset using code compatible '_' instead of '\\n' that is used in source csv\n",
    "                    family_name=family_name.replace('\\n', '_')\n",
    "\n",
    "\n",
    "                code_compatible_family_name = family_name.replace('(S)','s').replace('/ ','').replace('(s)','s').replace('_',' ')\n",
    "\n",
    "                if family_name != r['Characteristic']: \n",
    "                    family_uid=to_uid(r['Characteristic'] + ' ' +code_compatible_family_name)+ suffix(observation, 'Family')\n",
    "                else:\n",
    "                    family_uid=to_uid(r['Characteristic'])+ suffix(observation, 'Family')\n",
    "                if family_name in fieldsets:\n",
    "                    fieldset = family_name\n",
    "                    code_compatible_fieldset = fieldset.replace('(S)','s').replace('/ ','').replace('(s)','s').replace('_', ' ')\n",
    "                    print(f'// new fieldset={fieldset}')\n",
    "                else:\n",
    "                    fieldset = None\n",
    "                    code_compatible_fieldset = None\n",
    "                if r['Variables']:\n",
    "                    \n",
    "                    # check if element / compound list\n",
    "                    upto, list_elem_family = upto_list_elem(r)\n",
    "                    \n",
    "                    cql_family_update_row=new_family(fg_uid='fg'+family_group, uid=family_uid, name=family_name,\n",
    "                                         order=family_order,observation=observation, description=r[description_field_in[observation]],\n",
    "                                                    natures=r_natures, list_elem_family=list_elem_family,upto=upto)\n",
    "                    family_uids.append(family_uid)\n",
    "                    \n",
    "                    if filter_print & FAMILY:\n",
    "                        print(f'// new family_name={family_name} uid: {family_uid}')\n",
    "                        print(cql_family_update_row)\n",
    "                    ## print(f'\\n// {family_uid} characteristics:')\n",
    "                sub_value_order=1\n",
    "                family_order+=1\n",
    "            elif r['Values'] == '' and r['Sub-values'] != '':\n",
    "                current_subvalue = r['Sub-values']\n",
    "                if not shared_sub_characteristics:\n",
    "                    current_subvalue_uid = to_uid(' '.join([r['Characteristic'], code_compatible_family_name, current_value, current_subvalue])) + suffix(observation, 'Characteristic')\n",
    "                else:\n",
    "                    current_subvalue_uid = to_uid(current_subvalue) + suffix(observation, 'Characteristic')                \n",
    "                characteristic_uids.append(current_subvalue_uid)\n",
    "                upto, list_elem_family = upto_list_elem(r)\n",
    "                if not list_elem_family:\n",
    "                    variable=r['Variables']!=''\n",
    "                    unit=r['unit']\n",
    "                else:\n",
    "                    variable,unit=False,None\n",
    "                cql_subcharacteristic_update_row=new_subcharacteristic(parent_uid=current_value_uid, uid=current_subvalue_uid,\n",
    "                                                                       name=current_subvalue, order=sub_value_order,natures=r_natures,\n",
    "                                                                      variable=variable, unit=unit,\n",
    "                                                                      list_elem_family=list_elem_family,upto=upto)\n",
    "                \n",
    "                if filter_print & SUBCHARACTERISTIC:\n",
    "                    # print(f'\\n// {current_subvalue} sub-characteristic:')\n",
    "                    print(cql_subcharacteristic_update_row)\n",
    "                sub_value_order+=1\n",
    "\n",
    "            if r['Values'] != '':\n",
    "                current_value = r['Values']\n",
    "                sub_value_order=1\n",
    "                if r['Variables'] !='':\n",
    "                    #print(f'\\nNew {current_value} variable Family:\\n')\n",
    "                    upto, list_elem_family = upto_list_elem(r)\n",
    "                    if not list_elem_family:\n",
    "                        variable=r['Variables']!=''\n",
    "                        unit=r['unit']\n",
    "                    else:\n",
    "                        variable,unit=False,None\n",
    "                    current_value_uid = to_uid(' '.join([r['Characteristic'], (code_compatible_fieldset if fieldset else ''), current_value])) + suffix(observation, 'VarFamily' if variable else 'Family')                    \n",
    "                    current_value_uid = current_value_uid.replace('(S)','s').replace('/ ','').replace('(s)','s')\n",
    "                    family_uids.append(current_value_uid)\n",
    "                    \n",
    "                    cql_family_update_row=new_family(fg_uid='fg'+family_group, uid=current_value_uid, name=current_value,\n",
    "                                order=family_order,observation=observation.lower(), description=r[description_field_in[observation]],\n",
    "                                variable=variable, unit=unit, fieldset=fieldset, natures=r_natures,list_elem_family=list_elem_family,upto=upto)\n",
    "                                                    \n",
    "                    if filter_print & FAMILY:\n",
    "                        print(cql_family_update_row)\n",
    "                    family_order+=1\n",
    "                else:\n",
    "                    # print(f'\\nNew {current_value} characteristic:\\n')\n",
    "                    current_value_uid = to_uid(' '.join([r['Characteristic'], code_compatible_family_name, current_value])) + suffix(observation, 'Characteristic')\n",
    "\n",
    "                    characteristic_uids.append(current_value_uid)\n",
    "                    \n",
    "                    # trick to detect end of optgroup in our particular case (1 optgroup only yet)\n",
    "                    if optgroup_level:\n",
    "                        optgroup= None\n",
    "                        optgroup_level-=1\n",
    "\n",
    "                    cql_characteristic_update_row = new_characteristic(family_uid=family_uid, uid=current_value_uid,\n",
    "                                         name=current_value,order=characteristic_order,\n",
    "                                         description=r[description_field_in[observation]],optgroup=optgroup,natures=r_natures)\n",
    "                    if filter_print & CHARACTERISTIC:\n",
    "                        print(cql_characteristic_update_row)\n",
    "\n",
    "                    # family_order+=1\n",
    "                    # characteristic_order = 1\n",
    "                    characteristic_order += 1\n",
    "    if filter_print & DEBUG:\n",
    "        print(f'family_uids={family_uids}\\n len={len(family_uids)}\\n set len={len(set(family_uids))}')\n",
    "        for x in set(family_uids):\n",
    "            family_uids.remove(x)\n",
    "        print(f'duplicated items in family_uids={family_uids}')\n",
    "        print(f'characteristic_uids={characteristic_uids}\\n len={len(characteristic_uids)}\\n set len={len(set(characteristic_uids))}')\n",
    "        for x in set(characteristic_uids):\n",
    "            characteristic_uids.remove(x)\n",
    "        print(f'duplicated items in characteristic_uids={characteristic_uids}')\n",
    "    \n",
    "\n"
   ]
  },
  {
   "cell_type": "code",
   "execution_count": 261,
   "metadata": {},
   "outputs": [
    {
     "data": {
      "text/plain": [
       "'Second band / aggregate\\nCompounds'"
      ]
     },
     "execution_count": 261,
     "metadata": {},
     "output_type": "execute_result"
    }
   ],
   "source": [
    "fs='''Second band / aggregate\n",
    "Compounds'''\n",
    "fs"
   ]
  },
  {
   "cell_type": "code",
   "execution_count": 73,
   "metadata": {
    "pycharm": {
     "name": "#%%\n"
    }
   },
   "outputs": [],
   "source": [
    "## Interface cross-section special case"
   ]
  },
  {
   "cell_type": "code",
   "execution_count": 42,
   "metadata": {
    "collapsed": true,
    "pycharm": {
     "name": "#%%\n"
    }
   },
   "outputs": [
    {
     "name": "stdout",
     "output_type": "stream",
     "text": [
      "{family_uid:'interfaceProfileCSFamily', uid:'interfaceBlankCSCharacteristic', name:'Blank', order:1, natures:['cp', 'deposit', 'metal', 'nmm', 'pom', 'soil', 'sv']},\n",
      "{family_uid:'interfaceProfileCSFamily', uid:'interfaceStraightCSCharacteristic', name:'Straight', order:2, natures:['cp', 'deposit', 'metal', 'nmm', 'pom', 'soil', 'sv'], description:'No waves along the observed length.'},\n",
      "{family_uid:'interfaceProfileCSFamily', uid:'interfaceWavyCSCharacteristic', name:'Wavy', order:3, natures:['cp', 'deposit', 'metal', 'nmm', 'pom', 'soil', 'sv'], description:'Shows variations or undulations with a low height to length ratio. Angles are greater than 90°.'},\n",
      "{family_uid:'interfaceProfileCSFamily', uid:'interfaceBumpyCSCharacteristic', name:'Bumpy', order:4, natures:['cp', 'deposit', 'metal', 'nmm', 'pom', 'soil', 'sv'], description:'Presents variations that are close in height and length. Angles can be equal to or less than 90°.'},\n",
      "{family_uid:'interfaceProfileCSFamily', uid:'interfaceIrregularCSCharacteristic', name:'Irregular', order:5, natures:['cp', 'deposit', 'metal', 'nmm', 'pom', 'soil', 'sv'], description:'Presents variations whose height and length are unrelated. Angles may be variable.'},\n",
      "{family_uid:'interfaceTransitionCSFamily', uid:'interfaceSharpCSCharacteristic', name:'Sharp', order:6, natures:['cp', 'deposit', 'metal', 'nmm', 'pom', 'soil'], description:'Very sharp transition between strata.'},\n",
      "{family_uid:'interfaceTransitionCSFamily', uid:'interfaceDiffuseCSCharacteristic', name:'Diffuse', order:7, natures:['cp', 'deposit', 'metal', 'nmm', 'pom', 'soil'], description:'Weak noticeable transition between strata. A large diffuse transition zone may require identification as an additional stratum.'},\n",
      "{family_uid:'interfaceTransitionCSFamily', uid:'interfaceSemi-GradualSuperiorCSCharacteristic', name:'semi-gradual superior', order:8, natures:['cp', 'deposit', 'metal', 'nmm', 'pom', 'soil'], description:'Marked transition between two strata where the upper stratum has penetration into the lower stratum.'},\n",
      "{family_uid:'interfaceTransitionCSFamily', uid:'interfaceSemi-GradualInferiorCSCharacteristic', name:'semi-gradual inferior', order:9, natures:['cp', 'deposit', 'metal', 'nmm', 'pom', 'soil'], description:'Marked transition between two strata where the lower stratum has penetration into the upper stratum.'},\n",
      "{family_uid:'interfaceTransitionCSFamily', uid:'interfaceGradualCSCharacteristic', name:'Gradual', order:10, natures:['cp', 'deposit', 'metal', 'nmm', 'pom', 'soil'], description:'Marked transition between two interpenetrating strata.'},\n",
      "// new fieldset=Roughness\n",
      "{family_uid:'interfaceAdherenceCSFamily', uid:'interfaceBlankCSCharacteristic', name:'Blank', order:11, natures:['cp', 'deposit', 'metal', 'nmm', 'pom', 'soil']},\n",
      "{family_uid:'interfaceAdherenceCSFamily', uid:'interfaceAdherentCSCharacteristic', name:'Adherent', order:12, natures:['cp', 'deposit', 'metal', 'nmm', 'pom', 'soil'], description:'It is difficult to separate the strata with a thin blade (scalpel).'},\n",
      "{family_uid:'interfaceAdherenceCSFamily', uid:'interfaceNonAdherentCSCharacteristic', name:'Non adherent', order:13, natures:['cp', 'deposit', 'metal', 'nmm', 'pom', 'soil'], description:'The strata separate without any particular intervention.'},\n"
     ]
    }
   ],
   "source": [
    "# we treat Roughness as a fieldset (as it includes multiple families instead of characteristics)\n",
    "# to do add group/fieldset column to spreadsheet\n",
    "\n",
    "import_family_group('Interface', filter_observation='Cross-section', fieldsets=['Roughness'], filter_print=CHARACTERISTIC) #FAMILY|CHARACTERISTIC"
   ]
  },
  {
   "cell_type": "code",
   "execution_count": 24,
   "metadata": {
    "collapsed": true
   },
   "outputs": [
    {
     "name": "stdout",
     "output_type": "stream",
     "text": [
      "\n",
      " //FAMILY \n",
      "\n",
      "// new family_name=Microstructure\n",
      "{fg:'fgMicrostructure', order:1, observation:binocular, uid:'microstructureFamily', name:'Microstructure', visible: False, variable: False, description:'Assessed on the observed area. The blank option corresponds to a stratum which microstructure is not known., natures:['cp', 'cm', 'deposit', 'metal', 'nmm', 'pom', 'soil']'},\n",
      "\n",
      " //CHARACTERISTICS \n",
      "\n",
      "{family_uid:'microstructureFamily', uid:'microstructureBlankCharacteristic', name:'Blank', order:1, natures:['cp']},\n",
      "{family_uid:'microstructureFamily', uid:'microstructureAlternativeBandsCharacteristic', name:'Alternative bands', order:2, natures:['cp'], description:'Occurrence of several alternately repeating layers of corrosion products of different composition.'},\n",
      "{family_uid:'microstructureFamily', uid:'microstructureCristallineMicrostructureCharacteristic', name:'Cristalline microstructure', order:3, natures:['cp', 'deposit'], description:'Presence of a crystalline aggregates. The blank option corresponds to a stratum which cristalline microstructure is not known.'},\n",
      "{family_uid:'microstructureFamily', uid:'microstructureIsolatedAggregateMicrostructureCharacteristic', name:'Isolated aggregate microstructure', order:4, natures:['cp', 'cm', 'deposit', 'metal', 'nmm', 'pom', 'soil'], description:'Stratum containing one or more aggregate(s) having a minority volume over the area observed.'},\n",
      "{family_uid:'microstructureFamily', uid:'microstructureScatteredAggregateMicrostructureCharacteristic', name:'Scattered aggregate microstructure', order:5, natures:['cp', 'cm', 'deposit', 'metal', 'nmm', 'pom', 'soil'], description:'Stratum containing numerous aggregates separated from each other and distributed over the observed area.'},\n",
      "{family_uid:'microstructureFamily', uid:'microstructureDendritesCharacteristic', name:'Dendrites', order:6, natures:['metal'], description:'Stratum containing crystals in the form of trees with branches.'},\n",
      "{family_uid:'microstructureFamily', uid:'microstructureEquiaxeGrainsCharacteristic', name:'Equiaxe grains', order:7, natures:['metal'], description:'Stratum consisting of equiaxed grains.'},\n",
      "{family_uid:'microstructureFamily', uid:'microstructurePseudomorphOfDendriticMicrostructureCharacteristic', name:'Pseudomorph of dendritic microstructure', order:8, natures:['cp'], description:'Microstructure formed by selective replacement of dendritic and interdendritic zones. Form revealed by the presence of zones in a corrosion layer stratum corresponding to the dendritic microstructure of the original metal.'},\n",
      "{family_uid:'microstructureFamily', uid:'microstructurePseudomorphOfGrainMicrostructureCharacteristic', name:'Pseudomorph of grain microstructure', order:9, natures:['cp'], description:'Microstructure formed by selective replacement of grains and grain boundaries. Form revealed by the presence of zones in a corrosion layer stratum corresponding to the grain microstructure of the original metal.'},\n",
      "{family_uid:'microstructureFamily', uid:'microstructureHexagonalMicrostructureCharacteristic', name:'Hexagonal microstructure', order:10, natures:[], description:'Hexagonal network distribution of a stratum'},\n",
      "{family_uid:'microstructureFamily', uid:'microstructureLenticularCharacteristic', name:'Lenticular', order:11, natures:[], description:'Stratum with lens-like microstructure.'},\n",
      "{family_uid:'microstructureFamily', uid:'microstructureStructuralVoidCharacteristic', name:'Structural void', order:12, natures:[], description:'Microstructure consisting of material in the gaseous state.'},\n",
      "{family_uid:'microstructureFamily', uid:'microstructurePebblesCharacteristic', name:'Pebbles', order:13, natures:['soil'], description:'20 to 75 mm.'},\n",
      "{family_uid:'microstructureFamily', uid:'microstructureGravelCharacteristic', name:'Gravel', order:14, natures:['soil'], description:'2 to 20 mm.'},\n",
      "{family_uid:'microstructureFamily', uid:'microstructureCoarseSandsCharacteristic', name:'Coarse sands', order:15, natures:['soil'], description:'0,4 to 2 mm. Crumbling.'},\n",
      "{family_uid:'microstructureFamily', uid:'microstructureFineSandsCharacteristic', name:'Fine sands', order:16, natures:['soil'], description:'0,08 to 0,4 mm. Easily malleable. No plasticity. Soft touch, Dusty in dry state.'},\n",
      "{family_uid:'microstructureFamily', uid:'microstructureLimonsCharacteristic', name:'Limons', order:17, natures:['soil'], description:'0,01 to 0,08 mm. Easily malleable. No plasticity\n",
      "Soft touch, Dusty in dry state'},\n",
      "{family_uid:'microstructureFamily', uid:'microstructureClayCharacteristic', name:'Clay', order:18, natures:['soil'], description:'< 0,01 mm. Plasticity. High kneading resistance. Sticky when wet. Very hard when dry.'},\n",
      "\n",
      " //SUBCHARACTERISTICS \n",
      "\n",
      "{parent_uid:'microstructureCristallineMicrostructureCharacteristic', uid:'blankCharacteristic', name:'Blank', variable:False, order:1, natures:[]},\n",
      "{parent_uid:'microstructureCristallineMicrostructureCharacteristic', uid:'dendriticCharacteristic', name:'Dendritic', variable:False, order:2, natures:['cp', 'deposit'], image_url:'https://lh6.googleusercontent.com/FyP0N-Th3gRuKFukmtMQPekDzkTkk4rqsVoqWgZLep7-kvuIVy0tXhyBwC9BHm1TlRKAZdSNhPCAFfyNE-DmsKJbKz7YSqrn0SwjfX0WZbPeS_gJhDmiIizLf6osIuEfGqBLvBUXgA=w126-h119'},\n",
      "{parent_uid:'microstructureCristallineMicrostructureCharacteristic', uid:'drusyAggregateCharacteristic', name:'Drusy aggregate', variable:False, order:3, natures:['cp', 'deposit'], image_url:'https://lh3.googleusercontent.com/i904_m1OrYim9EZyNZiQ4PDGfeoV8NleF91S1_pBrvGLqI_pKfiNdinc-htQa15MAXxgG5NXIoB4h7jIzUfXvEVvD9X-lUZgM45paGcCPi83H81NhUvog3mOwzGVKDJeOXuG1hdiQw=w126-h107'},\n",
      "{parent_uid:'microstructureCristallineMicrostructureCharacteristic', uid:'géodeCharacteristic', name:'Géode', variable:False, order:4, natures:['cp', 'deposit'], image_url:'https://lh6.googleusercontent.com/wmlMDLY_Q1Q4pggxDLKvQ4MuGrToL5YALEBs5jKLQVRfhG7lbEbhlDglSBYpDSjNV0eigOj_eO_68YVX70Nag3qLHBcT-ThfO0wdCW8c5Qj-P8rKyj2COndVtCd84xnuf6lSGiqIiA=w126-h137'},\n",
      "{parent_uid:'microstructureCristallineMicrostructureCharacteristic', uid:'lamellarCharacteristic', name:'Lamellar', variable:False, order:5, natures:['cp', 'deposit'], image_url:'https://lh3.googleusercontent.com/V6WXsI2qcUrYqUQ9rxv5TzoB2mLdN0OREnWXUbk3iMEu3pelwL7EOSDVt16NQIo9w4SN3qvKey-LyZ5B_jMYls0kvkPRZffbhbjxiaOdnFoA2qizxmmB5CwY7AbiHpVGc0ryHr_-bw=w126-h134'},\n",
      "{parent_uid:'microstructureCristallineMicrostructureCharacteristic', uid:'foliatedCharacteristic', name:'Foliated', variable:False, order:6, natures:['cp', 'deposit'], image_url:'https://lh4.googleusercontent.com/aL1ihcSMWB5xH-xPdEoF-aQA64jBRspxWCPZhqY4mUTI6iyfP-bhm4KhjK6T7QallyIGxQLFOfJGu-RnBSZUdDZbBydugpVCKGKCp4jQS2hTou_CmJ99Nktw7yn2_BIdSsU05N8Liw=w126-h128'},\n",
      "{parent_uid:'microstructureCristallineMicrostructureCharacteristic', uid:'fibrousCharacteristic', name:'Fibrous', variable:False, order:7, natures:['cp', 'deposit'], image_url:'https://lh3.googleusercontent.com/bboWl7IRuuQd9FL5Q_u6YQTgqyCRZcd-__v2uvLY9D7WU07k-yEtQFkTVZCn6oSpBiFFJMGYRn9BN57Dn7WS_nypdrmiSYd5zxRLl5d5qQRXt2pKAVCDoCMSdj96nIL0L5g0YB8Eow=w126-h107'},\n",
      "{parent_uid:'microstructureCristallineMicrostructureCharacteristic', uid:'stellatedCharacteristic', name:'Stellated', variable:False, order:8, natures:['cp', 'deposit'], image_url:'https://lh4.googleusercontent.com/E-vNQvqQtMZwnLMRPfytsxQaM0qt6jAzzpp5PJo4ccMmYmIU_Fw5_52P3l43gSvMqKy2rZkfaKNMODHNwWImoue6fwQN7jmHfXPXug2JpYJMzMbBWjtgZ03ovyZINwsaVNEeSgroWg=w126-h132'},\n",
      "{parent_uid:'microstructureCristallineMicrostructureCharacteristic', uid:'concentricCharacteristic', name:'Concentric', variable:False, order:9, natures:['cp', 'deposit'], image_url:'https://lh4.googleusercontent.com/nEwdFT7hC2c4Ll1oI8aZ8vVbtw-lbcWjXT9Bdsl2gqM4XUyjXbTFujOhgi4VSd6b29oJqWAxyePZHKoN_aL-35Z_VsvyQpbSP79H-QILK4MnlLLPm20j_Mv8LM3jp99S6Uz51IWzAg=w126-h108'},\n",
      "{parent_uid:'microstructureCristallineMicrostructureCharacteristic', uid:'bandedCharacteristic', name:'Banded', variable:False, order:10, natures:['cp', 'deposit'], image_url:'https://lh3.googleusercontent.com/Mxzty5aqKR5wWrNkfIYwaN74V_OlwuFXWYTpzzH1ghTSieP-aho0cV22cMk-FfGDDAV1Fy5k0-yM9Rv7zc_0A5x82SSSoWXEFJx_cmIyccUzw3IXNYagbvFilAhvj1rbNqbVO-u51w=w126-h106'},\n",
      "{parent_uid:'microstructureCristallineMicrostructureCharacteristic', uid:'botryoidalCharacteristic', name:'Botryoidal', variable:False, order:11, natures:['cp', 'deposit'], image_url:'https://lh3.googleusercontent.com/xA43KIvNJkH5niUyikcCfh7XI9EtNP4xwHW5v1i3MHcHC0rGSC5QwYIcNgv7CHSz9MJWVfSrrsHAdNsW8PnlxdstdyE5GeBLN66Q3SIPrnlbNb0SRQRj5dUrrnfQBF6_8hGDnSkpEg=w126-h109'},\n",
      "{parent_uid:'microstructureCristallineMicrostructureCharacteristic', uid:'reniformCharacteristic', name:'Reniform', variable:False, order:12, natures:['cp', 'deposit'], image_url:'https://lh3.googleusercontent.com/nXvRKJdJ_KFA13aUzttXcttqcFB98NKFwM49w3i1OiLlkhZhCgGWSX8V6Cfbtj7jfoETl08rNYJyf8DirEYW9b0b0zRk23BkEZCX299aID-2CLGEvdVj5MCcxRHuEwVsHwSdYoT5CQ=w126-h130'},\n",
      "{parent_uid:'microstructureCristallineMicrostructureCharacteristic', uid:'stalactiformCharacteristic', name:'Stalactiform', variable:False, order:13, natures:['cp', 'deposit'], image_url:'https://lh5.googleusercontent.com/0wQ8ygBXwk8tUE-KVIFq2DGP0UfG5yOHUrUtQz7yWuDMyPnEYPb2dL7nnm70a2CJiuueVvtVKV51JGBUA_4QJwUmh5lThz2nQkLEY2euTEooVhIoGIehb28XEL-_RDqMGzW1b2A-Iw=w126-h134'},\n",
      "{parent_uid:'microstructureCristallineMicrostructureCharacteristic', uid:'globularCharacteristic', name:'Globular', variable:False, order:14, natures:['cp', 'deposit'], image_url:'https://lh5.googleusercontent.com/4S9204hhpo2khAjRGdiCBG_I52NO7iLkzeKsjqlqqs8uorDNK4q71FM2P1tSHrjnPzljtlmdAFkRuX3iAlfbSwyD2zypA-MzVZI-BEI_OF11LqfSx7gFC90gJgniq9oN1O9Q-IjKgw=w126-h146'},\n",
      "{parent_uid:'microstructureCristallineMicrostructureCharacteristic', uid:'granularCharacteristic', name:'Granular', variable:False, order:15, natures:['cp', 'deposit'], image_url:'https://lh6.googleusercontent.com/31wLwVd4-ECmxuvm3qrC-AqwQLJqmdCGiehASXQNO1-xZYEpCIvL1JqUJjPKw6kTNFw69pQsYdqTcUM94cfgPIu5lxqkIPQjwzmKhwdboualf0-wuDHs3j4nV1mB6zWNpq_kfbgeJQ=w126-h128'},\n",
      "{parent_uid:'microstructureCristallineMicrostructureCharacteristic', uid:'massiveCharacteristic', name:'Massive', variable:False, order:16, natures:['cp', 'deposit'], image_url:'https://lh5.googleusercontent.com/Ua5DBHBX58l5mjzcS7uS05nhRFzG2tsmBYKIYHq_8bbsXia4OYkfDd5ih-dVu13uFv3pGcsVUVLobx0xYS4yNZ71qyw8T2klwYIGr3fhgeAxbOdSG0PPLVL1QpYmEjAx_sxvD3g_ZA=w126-h131'},\n",
      "{parent_uid:'microstructureCristallineMicrostructureCharacteristic', uid:'powderishCharacteristic', name:'Powderish', variable:False, order:17, natures:['cp', 'deposit', 'metal'], image_url:'https://lh4.googleusercontent.com/leMfZHd9RwkJswH-TUHtnK4zmkv14hcl3nNfCtDiuvz7h18DTLCw2fDfEFUciHMAh0vkWqdaQ3g4En7Ypnw3D5sHkfQSA_NktpQ7a5oNtzWkS_OZiUBG7Mvl3Dim9XfyCWOGaz2LVA=w126-h113'},\n"
     ]
    }
   ],
   "source": [
    "print('\\n //FAMILY \\n')\n",
    "import_family_group('Microstructure', filter_observation='Binocular', fieldsets=[], filter_print=FAMILY, shared_sub_characteristics=True) #FAMILY|CHARACTERISTI\n",
    "print('\\n //CHARACTERISTICS \\n')\n",
    "import_family_group('Microstructure', filter_observation='Binocular', fieldsets=[], filter_print=CHARACTERISTIC, shared_sub_characteristics=True) #FAMILY|CHARACTERISTI\n",
    "print('\\n //SUBCHARACTERISTICS \\n')\n",
    "import_family_group('Microstructure', filter_observation='Binocular', fieldsets=[], filter_print=SUBCHARACTERISTIC, shared_sub_characteristics=True) #FAMILY|CHARACTERISTI\n",
    "3'"
   ]
  },
  {
   "cell_type": "code",
   "execution_count": 16,
   "metadata": {
    "collapsed": true
   },
   "outputs": [
    {
     "name": "stdout",
     "output_type": "stream",
     "text": [
      "\n",
      " //SUBCHARACTERISTICS \n",
      "\n",
      "{parent_uid:'microstructureCristallineMicrostructureCharacteristic', uid:'cristallineMicrostructureBlankCharacteristic', name:'Blank', variable:False, order:1, natures:[]},\n",
      "{parent_uid:'microstructureCristallineMicrostructureCharacteristic', uid:'cristallineMicrostructureDendriticCharacteristic', name:'Dendritic', variable:False, order:2, natures:['cp', 'deposit'], image_url:'https://lh6.googleusercontent.com/FyP0N-Th3gRuKFukmtMQPekDzkTkk4rqsVoqWgZLep7-kvuIVy0tXhyBwC9BHm1TlRKAZdSNhPCAFfyNE-DmsKJbKz7YSqrn0SwjfX0WZbPeS_gJhDmiIizLf6osIuEfGqBLvBUXgA=w126-h119'},\n",
      "{parent_uid:'microstructureCristallineMicrostructureCharacteristic', uid:'cristallineMicrostructureDrusyAggregateCharacteristic', name:'Drusy aggregate', variable:False, order:3, natures:['cp', 'deposit'], image_url:'https://lh3.googleusercontent.com/i904_m1OrYim9EZyNZiQ4PDGfeoV8NleF91S1_pBrvGLqI_pKfiNdinc-htQa15MAXxgG5NXIoB4h7jIzUfXvEVvD9X-lUZgM45paGcCPi83H81NhUvog3mOwzGVKDJeOXuG1hdiQw=w126-h107'},\n",
      "{parent_uid:'microstructureCristallineMicrostructureCharacteristic', uid:'cristallineMicrostructureGéodeCharacteristic', name:'Géode', variable:False, order:4, natures:['cp', 'deposit'], image_url:'https://lh6.googleusercontent.com/wmlMDLY_Q1Q4pggxDLKvQ4MuGrToL5YALEBs5jKLQVRfhG7lbEbhlDglSBYpDSjNV0eigOj_eO_68YVX70Nag3qLHBcT-ThfO0wdCW8c5Qj-P8rKyj2COndVtCd84xnuf6lSGiqIiA=w126-h137'},\n",
      "{parent_uid:'microstructureCristallineMicrostructureCharacteristic', uid:'cristallineMicrostructureLamellarCharacteristic', name:'Lamellar', variable:False, order:5, natures:['cp', 'deposit'], image_url:'https://lh3.googleusercontent.com/V6WXsI2qcUrYqUQ9rxv5TzoB2mLdN0OREnWXUbk3iMEu3pelwL7EOSDVt16NQIo9w4SN3qvKey-LyZ5B_jMYls0kvkPRZffbhbjxiaOdnFoA2qizxmmB5CwY7AbiHpVGc0ryHr_-bw=w126-h134'},\n",
      "{parent_uid:'microstructureCristallineMicrostructureCharacteristic', uid:'cristallineMicrostructureFoliatedCharacteristic', name:'Foliated', variable:False, order:6, natures:['cp', 'deposit'], image_url:'https://lh4.googleusercontent.com/aL1ihcSMWB5xH-xPdEoF-aQA64jBRspxWCPZhqY4mUTI6iyfP-bhm4KhjK6T7QallyIGxQLFOfJGu-RnBSZUdDZbBydugpVCKGKCp4jQS2hTou_CmJ99Nktw7yn2_BIdSsU05N8Liw=w126-h128'},\n",
      "{parent_uid:'microstructureCristallineMicrostructureCharacteristic', uid:'cristallineMicrostructureFibrousCharacteristic', name:'Fibrous', variable:False, order:7, natures:['cp', 'deposit'], image_url:'https://lh3.googleusercontent.com/bboWl7IRuuQd9FL5Q_u6YQTgqyCRZcd-__v2uvLY9D7WU07k-yEtQFkTVZCn6oSpBiFFJMGYRn9BN57Dn7WS_nypdrmiSYd5zxRLl5d5qQRXt2pKAVCDoCMSdj96nIL0L5g0YB8Eow=w126-h107'},\n",
      "{parent_uid:'microstructureCristallineMicrostructureCharacteristic', uid:'cristallineMicrostructureStellatedCharacteristic', name:'Stellated', variable:False, order:8, natures:['cp', 'deposit'], image_url:'https://lh4.googleusercontent.com/E-vNQvqQtMZwnLMRPfytsxQaM0qt6jAzzpp5PJo4ccMmYmIU_Fw5_52P3l43gSvMqKy2rZkfaKNMODHNwWImoue6fwQN7jmHfXPXug2JpYJMzMbBWjtgZ03ovyZINwsaVNEeSgroWg=w126-h132'},\n",
      "{parent_uid:'microstructureCristallineMicrostructureCharacteristic', uid:'cristallineMicrostructureConcentricCharacteristic', name:'Concentric', variable:False, order:9, natures:['cp', 'deposit'], image_url:'https://lh4.googleusercontent.com/nEwdFT7hC2c4Ll1oI8aZ8vVbtw-lbcWjXT9Bdsl2gqM4XUyjXbTFujOhgi4VSd6b29oJqWAxyePZHKoN_aL-35Z_VsvyQpbSP79H-QILK4MnlLLPm20j_Mv8LM3jp99S6Uz51IWzAg=w126-h108'},\n",
      "{parent_uid:'microstructureCristallineMicrostructureCharacteristic', uid:'cristallineMicrostructureBandedCharacteristic', name:'Banded', variable:False, order:10, natures:['cp', 'deposit'], image_url:'https://lh3.googleusercontent.com/Mxzty5aqKR5wWrNkfIYwaN74V_OlwuFXWYTpzzH1ghTSieP-aho0cV22cMk-FfGDDAV1Fy5k0-yM9Rv7zc_0A5x82SSSoWXEFJx_cmIyccUzw3IXNYagbvFilAhvj1rbNqbVO-u51w=w126-h106'},\n",
      "{parent_uid:'microstructureCristallineMicrostructureCharacteristic', uid:'cristallineMicrostructureBotryoidalCharacteristic', name:'Botryoidal', variable:False, order:11, natures:['cp', 'deposit'], image_url:'https://lh3.googleusercontent.com/xA43KIvNJkH5niUyikcCfh7XI9EtNP4xwHW5v1i3MHcHC0rGSC5QwYIcNgv7CHSz9MJWVfSrrsHAdNsW8PnlxdstdyE5GeBLN66Q3SIPrnlbNb0SRQRj5dUrrnfQBF6_8hGDnSkpEg=w126-h109'},\n",
      "{parent_uid:'microstructureCristallineMicrostructureCharacteristic', uid:'cristallineMicrostructureReniformCharacteristic', name:'Reniform', variable:False, order:12, natures:['cp', 'deposit'], image_url:'https://lh3.googleusercontent.com/nXvRKJdJ_KFA13aUzttXcttqcFB98NKFwM49w3i1OiLlkhZhCgGWSX8V6Cfbtj7jfoETl08rNYJyf8DirEYW9b0b0zRk23BkEZCX299aID-2CLGEvdVj5MCcxRHuEwVsHwSdYoT5CQ=w126-h130'},\n",
      "{parent_uid:'microstructureCristallineMicrostructureCharacteristic', uid:'cristallineMicrostructureStalactiformCharacteristic', name:'Stalactiform', variable:False, order:13, natures:['cp', 'deposit'], image_url:'https://lh5.googleusercontent.com/0wQ8ygBXwk8tUE-KVIFq2DGP0UfG5yOHUrUtQz7yWuDMyPnEYPb2dL7nnm70a2CJiuueVvtVKV51JGBUA_4QJwUmh5lThz2nQkLEY2euTEooVhIoGIehb28XEL-_RDqMGzW1b2A-Iw=w126-h134'},\n",
      "{parent_uid:'microstructureCristallineMicrostructureCharacteristic', uid:'cristallineMicrostructureGlobularCharacteristic', name:'Globular', variable:False, order:14, natures:['cp', 'deposit'], image_url:'https://lh5.googleusercontent.com/4S9204hhpo2khAjRGdiCBG_I52NO7iLkzeKsjqlqqs8uorDNK4q71FM2P1tSHrjnPzljtlmdAFkRuX3iAlfbSwyD2zypA-MzVZI-BEI_OF11LqfSx7gFC90gJgniq9oN1O9Q-IjKgw=w126-h146'},\n",
      "{parent_uid:'microstructureCristallineMicrostructureCharacteristic', uid:'cristallineMicrostructureGranularCharacteristic', name:'Granular', variable:False, order:15, natures:['cp', 'deposit'], image_url:'https://lh6.googleusercontent.com/31wLwVd4-ECmxuvm3qrC-AqwQLJqmdCGiehASXQNO1-xZYEpCIvL1JqUJjPKw6kTNFw69pQsYdqTcUM94cfgPIu5lxqkIPQjwzmKhwdboualf0-wuDHs3j4nV1mB6zWNpq_kfbgeJQ=w126-h128'},\n",
      "{parent_uid:'microstructureCristallineMicrostructureCharacteristic', uid:'cristallineMicrostructureMassiveCharacteristic', name:'Massive', variable:False, order:16, natures:['cp', 'deposit'], image_url:'https://lh5.googleusercontent.com/Ua5DBHBX58l5mjzcS7uS05nhRFzG2tsmBYKIYHq_8bbsXia4OYkfDd5ih-dVu13uFv3pGcsVUVLobx0xYS4yNZ71qyw8T2klwYIGr3fhgeAxbOdSG0PPLVL1QpYmEjAx_sxvD3g_ZA=w126-h131'},\n",
      "{parent_uid:'microstructureCristallineMicrostructureCharacteristic', uid:'cristallineMicrostructurePowderishCharacteristic', name:'Powderish', variable:False, order:17, natures:['cp', 'deposit', 'metal'], image_url:'https://lh4.googleusercontent.com/leMfZHd9RwkJswH-TUHtnK4zmkv14hcl3nNfCtDiuvz7h18DTLCw2fDfEFUciHMAh0vkWqdaQ3g4En7Ypnw3D5sHkfQSA_NktpQ7a5oNtzWkS_OZiUBG7Mvl3Dim9XfyCWOGaz2LVA=w126-h113'},\n"
     ]
    }
   ],
   "source": [
    "# fixes SUBCHARACTERISTIC uid with shared_sub_characteristics = False like first generated characteristics\n",
    "# in \n",
    "print('\\n //SUBCHARACTERISTICS \\n')\n",
    "import_family_group('Microstructure', filter_observation='Binocular', fieldsets=[], filter_print=SUBCHARACTERISTIC, shared_sub_characteristics=False) #FAMILY|CHARACTERISTI\n"
   ]
  },
  {
   "cell_type": "code",
   "execution_count": 44,
   "metadata": {
    "collapsed": true,
    "pycharm": {
     "name": "#%%\n"
    }
   },
   "outputs": [
    {
     "name": "stdout",
     "output_type": "stream",
     "text": [
      "// new family_name=Microstructure\n",
      "{fg:'fgMicrostructure', order:1, observation:cross_section, uid:'microstructureMicrostructureCS', name:'Microstructure', visible: False, variable: False, description:'Assessed on the observed area. The blank option corresponds to a stratum which microstructure is not known., natures:['M']'},\n",
      "{family_uid:'microstructureMicrostructureCS', uid:'microstructureBlankCS', name:'Blank', order:1, natures:['M']},\n",
      "{family_uid:'microstructureMicrostructureCS', uid:'microstructureDeformedDendritesCS', name:'Deformed dendrites', order:2, natures:['M'], description:'Stratum containing crystals in the form of deformed trees with branches.'},\n",
      "{family_uid:'microstructureMicrostructureCS', uid:'microstructureDendritesCS', name:'Dendrites', order:3, natures:['M'], description:'Stratum containing crystals in the form of trees with branches.'},\n",
      "{family_uid:'microstructureMicrostructureCS', uid:'microstructureElongatedGrainsCS', name:'Elongated grains', order:4, natures:['M'], description:'Stratum consisting of grains elongated in one or several direction(s).'},\n",
      "{family_uid:'microstructureMicrostructureCS', uid:'microstructureEquiaxeGrainsCS', name:'Equiaxe grains', order:5, natures:['M'], description:'Stratum consisting of equiaxed grains.'},\n",
      "{family_uid:'microstructureMicrostructureCS', uid:'microstructureNoMicrostructureVisibleAtThisObservationScaleCS', name:'No microstructure visible at this observation scale', order:6, natures:['CP', 'M']},\n",
      "{family_uid:'microstructureMicrostructureCS', uid:'microstructureAlternativeBandsCS', name:'Alternative bands', order:7, natures:['CP'], description:'Occurrence of several alternately repeating layers of corrosion products of different composition.'},\n",
      "{family_uid:'microstructureMicrostructureCS', uid:'microstructureIsolatedAggregateMicrostructureCS', name:'Isolated aggregate microstructure', order:8, natures:['CP', 'D', 'M', 'NMM', 'POM', 'S'], description:'Stratum containing one or more aggregate(s) having a minority volume over the area observed.'},\n",
      "{family_uid:'microstructureMicrostructureCS', uid:'microstructureIsolatedAggregateMicrostructureInCpCS', name:'Isolated aggregate microstructure in CP', order:9, natures:['CM'], description:'CP section of the stratum containing one or more aggregate(s) having a minority volume over the area observed.'},\n",
      "{family_uid:'microstructureMicrostructureCS', uid:'microstructureScatteredAggregateMicrostructureCS', name:'Scattered aggregate microstructure', order:10, natures:['CP', 'D', 'M', 'NMM', 'POM', 'S'], description:'Stratum containing numerous aggregates separated from each other and distributed over the observed area.'},\n",
      "{family_uid:'microstructureMicrostructureCS', uid:'microstructurePseudomorphOfDendriticMicrostructureCS', name:'Pseudomorph of dendritic microstructure', order:11, natures:['CP'], description:'Microstructure formed by selective replacement of dendritic and interdendritic zones. Form revealed by the presence of zones in a corrosion layer stratum corresponding to the dendritic microstructure of the original metal.'},\n",
      "{family_uid:'microstructureMicrostructureCS', uid:'microstructurePseudomorphOfGrainMicrostructureCS', name:'Pseudomorph of grain microstructure', order:12, natures:['CP'], description:'Microstructure formed by selective replacement of grains and grain boundaries. Form revealed by the presence of zones in a corrosion layer stratum corresponding to the grain microstructure of the original metal.'},\n",
      "{family_uid:'microstructureMicrostructureCS', uid:'microstructurePseudomorphOfOrganicMaterialCS', name:'Pseudomorph of organic material', order:13, natures:['CP'], description:'Microstructure formed by the replacement of the constituents of organic materials by corrosion products. The alteration process has led to a preservation of the initial form of the organic materials and a partial or total transformation of the organic matter.'},\n",
      "{family_uid:'microstructureMicrostructureCS', uid:'microstructurePebblesCS', name:'Pebbles', order:14, natures:['S'], description:'20 to 75 mm.'},\n",
      "{family_uid:'microstructureMicrostructureCS', uid:'microstructureGravelCS', name:'Gravel', order:15, natures:['S'], description:'2 to 20 mm.'},\n",
      "{family_uid:'microstructureMicrostructureCS', uid:'microstructureCoarseSandsCS', name:'Coarse sands', order:16, natures:['S'], description:'0,4 to 2 mm. Crumbling.'},\n",
      "{family_uid:'microstructureMicrostructureCS', uid:'microstructureFineSandsCS', name:'Fine sands', order:17, natures:['S'], description:'0,08 to 0,4 mm.'},\n",
      "{family_uid:'microstructureMicrostructureCS', uid:'microstructureLimonsCS', name:'Limons', order:18, natures:['S'], description:'0,01 to 0,08 mm.'},\n",
      "{family_uid:'microstructureMicrostructureCS', uid:'microstructureClayCS', name:'Clay', order:19, natures:['S'], description:'< 0,01 mm.'},\n",
      "{family_uid:'microstructureMicrostructureCS', uid:'microstructureCementiteCS', name:'Cementite', order:20, natures:['M'], description:'Cementite is an iron carbide with the chemical formula Fe₃C.'},\n",
      "{family_uid:'microstructureMicrostructureCS', uid:'microstructureFerriteCS', name:'Ferrite', order:21, natures:['M'], description:'Ferrite is a solid solution of carbon in the iron allotrope α.'},\n",
      "{family_uid:'microstructureMicrostructureCS', uid:'microstructurePearliteCS', name:'Pearlite', order:22, natures:['M'], description:'Perlite is a two-phase component generally consisting of alternating lamellae of cementite (Fe₃C) and ferrite.'},\n",
      "{family_uid:'microstructureMicrostructureCS', uid:'microstructureGraphiteLamellasCS', name:'Graphite lamellas', order:23, natures:['M'], description:'Phase characteristic of grey cast iron.'},\n",
      "{family_uid:'microstructureMicrostructureCS', uid:'microstructureCopperAlphaPhaseCS', name:'Copper alpha phase', order:24, natures:['M'], description:'Primary phase in most copper based alloys'},\n",
      "{family_uid:'microstructureMicrostructureCS', uid:'microstructureP-EutecticCS', name:'P-eutectic', order:25, natures:['M'], description:'Structural components in grey cast iron alloys, also referred to as steatite.'},\n",
      "{family_uid:'microstructureMicrostructureCS', uid:'microstructureBetaCompounds(VoirComposésDuBz)CS', name:'Beta compounds (voir composés du Bz)', order:26, natures:['M']},\n",
      "{family_uid:'microstructureMicrostructureCS', uid:'microstructureOthers?CS', name:'Others?', order:27, natures:['M']},\n"
     ]
    }
   ],
   "source": [
    "import_family_group('Microstructure', filter_observation='Cross-section', fieldsets=[], filter_print=FAMILY|CHARACTERISTIC, shared_sub_characteristics=True) #FAMILY|CHARACTERISTI\n",
    "\n"
   ]
  },
  {
   "cell_type": "code",
   "execution_count": 185,
   "metadata": {
    "collapsed": true
   },
   "outputs": [
    {
     "name": "stdout",
     "output_type": "stream",
     "text": [
      "\n",
      " //FAMILY \n",
      "\n"
     ]
    },
    {
     "ename": "UnboundLocalError",
     "evalue": "local variable 'family_name' referenced before assignment",
     "output_type": "error",
     "traceback": [
      "\u001b[0;31m---------------------------------------------------------------------------\u001b[0m",
      "\u001b[0;31mUnboundLocalError\u001b[0m                         Traceback (most recent call last)",
      "\u001b[0;32m<ipython-input-185-18eae338c217>\u001b[0m in \u001b[0;36m<module>\u001b[0;34m\u001b[0m\n\u001b[1;32m      1\u001b[0m \u001b[0mprint\u001b[0m\u001b[0;34m(\u001b[0m\u001b[0;34m'\\n //FAMILY \\n'\u001b[0m\u001b[0;34m)\u001b[0m\u001b[0;34m\u001b[0m\u001b[0;34m\u001b[0m\u001b[0m\n\u001b[0;32m----> 2\u001b[0;31m \u001b[0mimport_family_group\u001b[0m\u001b[0;34m(\u001b[0m\u001b[0;34m'Microstructure'\u001b[0m\u001b[0;34m,\u001b[0m \u001b[0mfilter_observation\u001b[0m\u001b[0;34m=\u001b[0m\u001b[0;34m'Cross-section'\u001b[0m\u001b[0;34m,\u001b[0m \u001b[0mfieldsets\u001b[0m\u001b[0;34m=\u001b[0m\u001b[0;34m[\u001b[0m\u001b[0;34m]\u001b[0m\u001b[0;34m,\u001b[0m \u001b[0mfilter_print\u001b[0m\u001b[0;34m=\u001b[0m\u001b[0mFAMILY\u001b[0m\u001b[0;34m,\u001b[0m \u001b[0mshared_sub_characteristics\u001b[0m\u001b[0;34m=\u001b[0m\u001b[0;32mTrue\u001b[0m\u001b[0;34m)\u001b[0m \u001b[0;31m#FAMILY|CHARACTERISTI\u001b[0m\u001b[0;34m\u001b[0m\u001b[0;34m\u001b[0m\u001b[0m\n\u001b[0m\u001b[1;32m      3\u001b[0m \u001b[0mprint\u001b[0m\u001b[0;34m(\u001b[0m\u001b[0;34m'\\n //CHARACTERISTICS \\n'\u001b[0m\u001b[0;34m)\u001b[0m\u001b[0;34m\u001b[0m\u001b[0;34m\u001b[0m\u001b[0m\n\u001b[1;32m      4\u001b[0m \u001b[0mimport_family_group\u001b[0m\u001b[0;34m(\u001b[0m\u001b[0;34m'Microstructure'\u001b[0m\u001b[0;34m,\u001b[0m \u001b[0mfilter_observation\u001b[0m\u001b[0;34m=\u001b[0m\u001b[0;34m'Cross-section'\u001b[0m\u001b[0;34m,\u001b[0m \u001b[0mfieldsets\u001b[0m\u001b[0;34m=\u001b[0m\u001b[0;34m[\u001b[0m\u001b[0;34m]\u001b[0m\u001b[0;34m,\u001b[0m \u001b[0mfilter_print\u001b[0m\u001b[0;34m=\u001b[0m\u001b[0mCHARACTERISTIC\u001b[0m\u001b[0;34m,\u001b[0m \u001b[0mshared_sub_characteristics\u001b[0m\u001b[0;34m=\u001b[0m\u001b[0;32mTrue\u001b[0m\u001b[0;34m)\u001b[0m \u001b[0;31m#FAMILY|CHARACTERISTI\u001b[0m\u001b[0;34m\u001b[0m\u001b[0;34m\u001b[0m\u001b[0m\n\u001b[1;32m      5\u001b[0m \u001b[0mprint\u001b[0m\u001b[0;34m(\u001b[0m\u001b[0;34m'\\n //SUBCHARACTERISTICS \\n'\u001b[0m\u001b[0;34m)\u001b[0m\u001b[0;34m\u001b[0m\u001b[0;34m\u001b[0m\u001b[0m\n",
      "\u001b[0;32m<ipython-input-184-9a8450594f42>\u001b[0m in \u001b[0;36mimport_family_group\u001b[0;34m(family_group, filter_observation, fieldsets, filter_print, shared_sub_characteristics)\u001b[0m\n\u001b[1;32m    119\u001b[0m                 \u001b[0;32melse\u001b[0m\u001b[0;34m:\u001b[0m\u001b[0;34m\u001b[0m\u001b[0;34m\u001b[0m\u001b[0m\n\u001b[1;32m    120\u001b[0m                     \u001b[0;31m# print(f'\\nNew {current_value} characteristic:\\n')\u001b[0m\u001b[0;34m\u001b[0m\u001b[0;34m\u001b[0m\u001b[0;34m\u001b[0m\u001b[0m\n\u001b[0;32m--> 121\u001b[0;31m                     \u001b[0mcurrent_value_uid\u001b[0m \u001b[0;34m=\u001b[0m \u001b[0mto_uid\u001b[0m\u001b[0;34m(\u001b[0m\u001b[0;34m' '\u001b[0m\u001b[0;34m.\u001b[0m\u001b[0mjoin\u001b[0m\u001b[0;34m(\u001b[0m\u001b[0;34m[\u001b[0m\u001b[0mr\u001b[0m\u001b[0;34m[\u001b[0m\u001b[0;34m'Characteristic'\u001b[0m\u001b[0;34m]\u001b[0m\u001b[0;34m,\u001b[0m \u001b[0mfamily_name\u001b[0m\u001b[0;34m,\u001b[0m \u001b[0mcurrent_value\u001b[0m\u001b[0;34m]\u001b[0m\u001b[0;34m)\u001b[0m\u001b[0;34m)\u001b[0m \u001b[0;34m+\u001b[0m \u001b[0msuffix\u001b[0m\u001b[0;34m(\u001b[0m\u001b[0mobservation\u001b[0m\u001b[0;34m,\u001b[0m \u001b[0;34m'Characteristic'\u001b[0m\u001b[0;34m)\u001b[0m\u001b[0;34m\u001b[0m\u001b[0;34m\u001b[0m\u001b[0m\n\u001b[0m\u001b[1;32m    122\u001b[0m \u001b[0;34m\u001b[0m\u001b[0m\n\u001b[1;32m    123\u001b[0m                     \u001b[0mcharacteristic_uids\u001b[0m\u001b[0;34m.\u001b[0m\u001b[0mappend\u001b[0m\u001b[0;34m(\u001b[0m\u001b[0mcurrent_value_uid\u001b[0m\u001b[0;34m)\u001b[0m\u001b[0;34m\u001b[0m\u001b[0;34m\u001b[0m\u001b[0m\n",
      "\u001b[0;31mUnboundLocalError\u001b[0m: local variable 'family_name' referenced before assignment"
     ]
    }
   ],
   "source": [
    "print('\\n //FAMILY \\n')\n",
    "import_family_group('Microstructure', filter_observation='Cross-section', fieldsets=[], filter_print=FAMILY, shared_sub_characteristics=True) #FAMILY|CHARACTERISTI\n",
    "print('\\n //CHARACTERISTICS \\n')\n",
    "import_family_group('Microstructure', filter_observation='Cross-section', fieldsets=[], filter_print=CHARACTERISTIC, shared_sub_characteristics=True) #FAMILY|CHARACTERISTI\n",
    "print('\\n //SUBCHARACTERISTICS \\n')\n",
    "import_family_group('Microstructure', filter_observation='Cross-section', fieldsets=[], filter_print=SUBCHARACTERISTIC, shared_sub_characteristics=True) #FAMILY|CHARACTERISTI\n"
   ]
  },
  {
   "cell_type": "code",
   "execution_count": 236,
   "metadata": {},
   "outputs": [
    {
     "name": "stdout",
     "output_type": "stream",
     "text": [
      "['Characteristic', 'Sub-characteristic', 'Observation mode', 'Values', 'Sub-values', 'Image', 'Variables', 'unit', 'uid', 'Definition from observation under binocular', 'Definition from observation on cross-section', 'Notice for modification of the current MiCorr interface', 'Comments', 'CP Binocular', 'CP CS', 'CM Binocular', 'CM CS', 'D Binocular', 'D CS', 'M Binocular', 'M CS', 'NMM Binocular', 'NMM CS', 'POM Binocular', 'POM CS', 'S Binocular', 'S CS', 'SV Binocular', 'SV CS']\n",
      "['Characteristic', 'Sub-characteristic', 'Observation mode', 'Values', 'Sub-values', 'Image', 'Variables', 'unit', 'uid', 'Definition from observation under binocular', 'Definition from observation on cross-section', 'Notice for modification of the current MiCorr interface', 'Comments', 'CP Binocular', 'CP CS', 'CM Binocular', 'CM CS', 'D Binocular', 'D CS', 'M Binocular', 'M CS', 'NMM Binocular', 'NMM CS', 'POM Binocular', 'POM CS', 'S Binocular', 'S CS', 'SV Binocular', 'SV CS']\n"
     ]
    }
   ],
   "source": [
    "import csv\n",
    "csv_file_path='./20200608 SEARCH-by strat. representation-Bin. obs_v1 - MiCorr.csv'\n",
    "with open(csv_file_path,\"r\") as f:\n",
    "    reader =csv.DictReader(f)\n",
    "    print(reader.fieldnames)\n",
    "\n",
    "csv_file_path='./Copy20210102 of 20200608 SEARCH-by strat. representation-Bin. obs_v1 - MiCorr.csv'\n",
    "with open(csv_file_path,\"r\") as f:\n",
    "    reader =csv.DictReader(f)\n",
    "    print(reader.fieldnames)\n",
    "\n",
    "def to_uid(name):\n",
    "    camel_case_name=''.join(name.title().split(' '))\n",
    "\n",
    "    return camel_case_name[0].lower() + camel_case_name[1:]\n"
   ]
  },
  {
   "cell_type": "markdown",
   "metadata": {
    "pycharm": {
     "name": "#%% md\n"
    }
   },
   "source": [
    "## Interface cross-section special case"
   ]
  },
  {
   "cell_type": "code",
   "execution_count": 59,
   "metadata": {
    "collapsed": true,
    "pycharm": {
     "name": "#%%\n"
    }
   },
   "outputs": [
    {
     "name": "stdout",
     "output_type": "stream",
     "text": [
      "{family_uid:'interfaceProfileCSFamily', uid:'interfaceBlankCSCharacteristic', name:'Blank', order:1, natures:['cp', 'deposit', 'metal', 'nmm', 'pom', 'soil', 'sv']},\n",
      "{family_uid:'interfaceProfileCSFamily', uid:'interfaceStraightCSCharacteristic', name:'Straight', order:2, natures:['cp', 'deposit', 'metal', 'nmm', 'pom', 'soil', 'sv'], description:'No waves along the observed length.'},\n",
      "{family_uid:'interfaceProfileCSFamily', uid:'interfaceWavyCSCharacteristic', name:'Wavy', order:3, natures:['cp', 'deposit', 'metal', 'nmm', 'pom', 'soil', 'sv'], description:'Shows variations or undulations with a low height to length ratio. Angles are greater than 90°.'},\n",
      "{family_uid:'interfaceProfileCSFamily', uid:'interfaceBumpyCSCharacteristic', name:'Bumpy', order:4, natures:['cp', 'deposit', 'metal', 'nmm', 'pom', 'soil', 'sv'], description:'Presents variations that are close in height and length. Angles can be equal to or less than 90°.'},\n",
      "{family_uid:'interfaceProfileCSFamily', uid:'interfaceIrregularCSCharacteristic', name:'Irregular', order:5, natures:['cp', 'deposit', 'metal', 'nmm', 'pom', 'soil', 'sv'], description:'Presents variations whose height and length are unrelated. Angles may be variable.'},\n",
      "{family_uid:'interfaceTransitionCSFamily', uid:'interfaceSharpCSCharacteristic', name:'Sharp', order:6, natures:['cp', 'deposit', 'metal', 'nmm', 'pom', 'soil'], description:'Very sharp transition between strata.'},\n",
      "{family_uid:'interfaceTransitionCSFamily', uid:'interfaceDiffuseCSCharacteristic', name:'Diffuse', order:7, natures:['cp', 'deposit', 'metal', 'nmm', 'pom', 'soil'], description:'Weak noticeable transition between strata. A large diffuse transition zone may require identification as an additional stratum.'},\n",
      "{family_uid:'interfaceTransitionCSFamily', uid:'interfaceSemi-GradualSuperiorCSCharacteristic', name:'semi-gradual superior', order:8, natures:['cp', 'deposit', 'metal', 'nmm', 'pom', 'soil'], description:'Marked transition between two strata where the upper stratum has penetration into the lower stratum.'},\n",
      "{family_uid:'interfaceTransitionCSFamily', uid:'interfaceSemi-GradualInferiorCSCharacteristic', name:'semi-gradual inferior', order:9, natures:['cp', 'deposit', 'metal', 'nmm', 'pom', 'soil'], description:'Marked transition between two strata where the lower stratum has penetration into the upper stratum.'},\n",
      "{family_uid:'interfaceTransitionCSFamily', uid:'interfaceGradualCSCharacteristic', name:'Gradual', order:10, natures:['cp', 'deposit', 'metal', 'nmm', 'pom', 'soil'], description:'Marked transition between two interpenetrating strata.'},\n",
      "// new fieldset=Roughness\n",
      "{family_uid:'interfaceAdherenceCSFamily', uid:'interfaceBlankCSCharacteristic', name:'Blank', order:11, natures:['cp', 'deposit', 'metal', 'nmm', 'pom', 'soil']},\n",
      "{family_uid:'interfaceAdherenceCSFamily', uid:'interfaceAdherentCSCharacteristic', name:'Adherent', order:12, natures:['cp', 'deposit', 'metal', 'nmm', 'pom', 'soil'], description:'It is difficult to separate the strata with a thin blade (scalpel).'},\n",
      "{family_uid:'interfaceAdherenceCSFamily', uid:'interfaceNonAdherentCSCharacteristic', name:'Non adherent', order:13, natures:['cp', 'deposit', 'metal', 'nmm', 'pom', 'soil'], description:'The strata separate without any particular intervention.'},\n"
     ]
    }
   ],
   "source": [
    "# we treat Roughness as a fieldset (as it includes multiple families instead of characteristics)\n",
    "# to do add group/fieldset column to spreadsheet\n",
    "\n",
    "import_family_group('Interface', filter_observation='Cross-section', fieldsets=['Roughness'], filter_print=CHARACTERISTIC) #FAMILY|CHARACTERISTIC"
   ]
  },
  {
   "cell_type": "markdown",
   "metadata": {
    "pycharm": {
     "name": "#%% md\n"
    }
   },
   "source": [
    "# we treat Roughness as a fieldset (as it includes multiple families instead of characteristics)\n",
    "# to do add group/fieldset column to spreadsheet\n",
    "\n",
    "import_family_group('Interface', filter_observation='Cross-section', fieldsets=['Roughness'], filter_print=CHARACTERISTIC) #FAMILY|CHARACTERISTIC"
   ]
  },
  {
   "cell_type": "code",
   "execution_count": null,
   "metadata": {
    "pycharm": {
     "name": "#%%\n"
    }
   },
   "outputs": [],
   "source": [
    "# we treat Roughness as a fieldset (as it includes multiple families instead of characteristics)\n",
    "# to do add group/fieldset column to spreadsheet\n",
    "\n",
    "import_family_group('Interface', filter_observation='Cross-section', fieldsets=['Roughness'], filter_print=CHARACTERISTIC) #FAMILY|CHARACTERISTIC"
   ]
  },
  {
   "cell_type": "code",
   "execution_count": null,
   "metadata": {
    "pycharm": {
     "name": "#%%\n"
    }
   },
   "outputs": [],
   "source": [
    "# we treat Roughness as a fieldset (as it includes multiple families instead of characteristics)\n",
    "# to do add group/fieldset column to spreadsheet\n",
    "\n",
    "import_family_group('Microstructure', filter_observation='Cross-section', fieldsets=[], filter_print=CHARACTERISTIC) #FAMILY|CHARACTERISTIC"
   ]
  },
  {
   "cell_type": "markdown",
   "metadata": {},
   "source": [
    "# Composition\n"
   ]
  },
  {
   "cell_type": "code",
   "execution_count": 256,
   "metadata": {
    "collapsed": true
   },
   "outputs": [
    {
     "name": "stdout",
     "output_type": "stream",
     "text": [
      "\n",
      " //FAMILY \n",
      "\n",
      "\n",
      "OrderedDict([('Characteristic', 'Composition'), ('Sub-characteristic', 'Main element(s)'), ('Observation mode', 'Binocular'), ('Values', ''), ('Sub-values', ''), ('Image', ''), ('Variables', 'list'), ('unit', 'elementFamily'), ('uid', ''), ('Definition from observation under binocular', 'Determined in the observed area. Only the family element(s) should be given.'), ('Definition from observation on cross-section', ''), ('Notice for modification of the current MiCorr interface', ''), ('Comments', 'Only if elementary analysis has been carried out.'), ('CP Binocular', 'x'), ('CP CS', ''), ('CM Binocular', ''), ('CM CS', ''), ('D Binocular', 'x'), ('D CS', ''), ('M Binocular', 'x'), ('M CS', ''), ('NMM Binocular', 'x'), ('NMM CS', ''), ('POM Binocular', 'x'), ('POM CS', ''), ('S Binocular', 'x'), ('S CS', ''), ('SV Binocular', ''), ('SV CS', '')])\n",
      "\n",
      "// new family_name=Main element(s) uid: compositionMainElementsFamily\n",
      "{fg:'fgComposition', order:1, observation:binocular, uid:'compositionMainElementsFamily', name:'Main element(s)', visible: False, variable: False, description:'Determined in the observed area. Only the family element(s) should be given.', natures:['cp', 'deposit', 'metal', 'nmm', 'pom', 'soil'], list_elem_family:'elementFamily', upto:0},\n",
      "\n",
      "OrderedDict([('Characteristic', 'Composition'), ('Sub-characteristic', 'Secondary element(s)'), ('Observation mode', 'Binocular'), ('Values', ''), ('Sub-values', ''), ('Image', ''), ('Variables', 'list'), ('unit', 'elementFamily'), ('uid', ''), ('Definition from observation under binocular', 'Any other element(s) having a concentration greater than 1% (in weight) and / or affecting the properties of the CP.'), ('Definition from observation on cross-section', ''), ('Notice for modification of the current MiCorr interface', ''), ('Comments', 'Only if elementary analysis has been carried out.'), ('CP Binocular', 'x'), ('CP CS', ''), ('CM Binocular', ''), ('CM CS', ''), ('D Binocular', 'x'), ('D CS', ''), ('M Binocular', 'x'), ('M CS', ''), ('NMM Binocular', 'x'), ('NMM CS', ''), ('POM Binocular', 'x'), ('POM CS', ''), ('S Binocular', 'x'), ('S CS', ''), ('SV Binocular', ''), ('SV CS', '')])\n",
      "\n",
      "// new family_name=Secondary element(s) uid: compositionSecondaryElementsFamily\n",
      "{fg:'fgComposition', order:2, observation:binocular, uid:'compositionSecondaryElementsFamily', name:'Secondary element(s)', visible: False, variable: False, description:'Any other element(s) having a concentration greater than 1% (in weight) and / or affecting the properties of the CP.', natures:['cp', 'deposit', 'metal', 'nmm', 'pom', 'soil'], list_elem_family:'elementFamily', upto:0},\n",
      "\n",
      "OrderedDict([('Characteristic', 'Composition'), ('Sub-characteristic', 'Compounds'), ('Observation mode', 'Binocular'), ('Values', ''), ('Sub-values', ''), ('Image', ''), ('Variables', ''), ('unit', ''), ('uid', ''), ('Definition from observation under binocular', 'Formula of the CP(s) deduced from its (their) main and secondary element(s) and validaded by analytical techniques.'), ('Definition from observation on cross-section', ''), ('Notice for modification of the current MiCorr interface', ''), ('Comments', 'Only if structural or molecular analysis has been carried out.'), ('CP Binocular', 'x'), ('CP CS', ''), ('CM Binocular', ''), ('CM CS', ''), ('D Binocular', 'x'), ('D CS', ''), ('M Binocular', ''), ('M CS', ''), ('NMM Binocular', 'x'), ('NMM CS', ''), ('POM Binocular', 'x'), ('POM CS', ''), ('S Binocular', 'x'), ('S CS', ''), ('SV Binocular', ''), ('SV CS', '')])\n",
      "\n",
      "\n",
      "OrderedDict([('Characteristic', 'Composition'), ('Sub-characteristic', ''), ('Observation mode', 'Binocular'), ('Values', ''), ('Sub-values', ''), ('Image', ''), ('Variables', ''), ('unit', ''), ('uid', ''), ('Definition from observation under binocular', ''), ('Definition from observation on cross-section', ''), ('Notice for modification of the current MiCorr interface', 'Added'), ('Comments', ''), ('CP Binocular', 'x'), ('CP CS', ''), ('CM Binocular', ''), ('CM CS', ''), ('D Binocular', 'x'), ('D CS', ''), ('M Binocular', ''), ('M CS', ''), ('NMM Binocular', 'x'), ('NMM CS', ''), ('POM Binocular', 'x'), ('POM CS', ''), ('S Binocular', 'x'), ('S CS', ''), ('SV Binocular', ''), ('SV CS', '')])\n",
      "\n",
      "\n",
      "OrderedDict([('Characteristic', 'Composition'), ('Sub-characteristic', ''), ('Observation mode', 'Binocular'), ('Values', 'XRD'), ('Sub-values', ''), ('Image', ''), ('Variables', 'formula'), ('unit', 'compoundFamily'), ('uid', ''), ('Definition from observation under binocular', 'Formula.'), ('Definition from observation on cross-section', ''), ('Notice for modification of the current MiCorr interface', 'Added'), ('Comments', ''), ('CP Binocular', 'x'), ('CP CS', ''), ('CM Binocular', ''), ('CM CS', ''), ('D Binocular', 'x'), ('D CS', ''), ('M Binocular', ''), ('M CS', ''), ('NMM Binocular', 'x'), ('NMM CS', ''), ('POM Binocular', 'x'), ('POM CS', ''), ('S Binocular', 'x'), ('S CS', ''), ('SV Binocular', ''), ('SV CS', '')])\n",
      "\n",
      "{fg:'fgComposition', order:4, observation:binocular, uid:'compositionXrdFamily', name:'XRD', visible: False, variable: False, description:'Formula.', natures:['cp', 'deposit', 'nmm', 'pom', 'soil'], list_elem_family:'compoundFamily', upto:1},\n",
      "\n",
      "OrderedDict([('Characteristic', 'Composition'), ('Sub-characteristic', ''), ('Observation mode', 'Binocular'), ('Values', 'Raman spectroscopy'), ('Sub-values', ''), ('Image', ''), ('Variables', 'formula'), ('unit', 'compoundFamily'), ('uid', ''), ('Definition from observation under binocular', 'Formula.'), ('Definition from observation on cross-section', ''), ('Notice for modification of the current MiCorr interface', 'Added'), ('Comments', ''), ('CP Binocular', 'x'), ('CP CS', ''), ('CM Binocular', ''), ('CM CS', ''), ('D Binocular', 'x'), ('D CS', ''), ('M Binocular', ''), ('M CS', ''), ('NMM Binocular', 'x'), ('NMM CS', ''), ('POM Binocular', 'x'), ('POM CS', ''), ('S Binocular', 'x'), ('S CS', ''), ('SV Binocular', ''), ('SV CS', '')])\n",
      "\n",
      "{fg:'fgComposition', order:5, observation:binocular, uid:'compositionRamanSpectroscopyFamily', name:'Raman spectroscopy', visible: False, variable: False, description:'Formula.', natures:['cp', 'deposit', 'nmm', 'pom', 'soil'], list_elem_family:'compoundFamily', upto:1},\n",
      "\n",
      "OrderedDict([('Characteristic', 'Composition'), ('Sub-characteristic', ''), ('Observation mode', 'Binocular'), ('Values', 'FTIR'), ('Sub-values', ''), ('Image', ''), ('Variables', 'formula'), ('unit', 'compoundFamily'), ('uid', ''), ('Definition from observation under binocular', 'Formula.'), ('Definition from observation on cross-section', ''), ('Notice for modification of the current MiCorr interface', 'Added'), ('Comments', ''), ('CP Binocular', 'x'), ('CP CS', ''), ('CM Binocular', ''), ('CM CS', ''), ('D Binocular', 'x'), ('D CS', ''), ('M Binocular', ''), ('M CS', ''), ('NMM Binocular', 'x'), ('NMM CS', ''), ('POM Binocular', 'x'), ('POM CS', ''), ('S Binocular', 'x'), ('S CS', ''), ('SV Binocular', ''), ('SV CS', '')])\n",
      "\n",
      "{fg:'fgComposition', order:6, observation:binocular, uid:'compositionFtirFamily', name:'FTIR', visible: False, variable: False, description:'Formula.', natures:['cp', 'deposit', 'nmm', 'pom', 'soil'], list_elem_family:'compoundFamily', upto:1},\n",
      "\n",
      "OrderedDict([('Characteristic', 'Composition'), ('Sub-characteristic', ''), ('Observation mode', 'Binocular'), ('Values', 'Others'), ('Sub-values', ''), ('Image', ''), ('Variables', 'formula'), ('unit', 'compoundFamily'), ('uid', ''), ('Definition from observation under binocular', 'Formula.'), ('Definition from observation on cross-section', ''), ('Notice for modification of the current MiCorr interface', 'Added'), ('Comments', ''), ('CP Binocular', 'x'), ('CP CS', ''), ('CM Binocular', ''), ('CM CS', ''), ('D Binocular', 'x'), ('D CS', ''), ('M Binocular', ''), ('M CS', ''), ('NMM Binocular', 'x'), ('NMM CS', ''), ('POM Binocular', 'x'), ('POM CS', ''), ('S Binocular', 'x'), ('S CS', ''), ('SV Binocular', ''), ('SV CS', '')])\n",
      "\n",
      "{fg:'fgComposition', order:7, observation:binocular, uid:'compositionOthersFamily', name:'Others', visible: False, variable: False, description:'Formula.', natures:['cp', 'deposit', 'nmm', 'pom', 'soil'], list_elem_family:'compoundFamily', upto:1},\n",
      "\n",
      "OrderedDict([('Characteristic', 'Composition'), ('Sub-characteristic', 'Additional element(s)'), ('Observation mode', 'Binocular'), ('Values', ''), ('Sub-values', ''), ('Image', ''), ('Variables', 'list'), ('unit', 'elementFamily'), ('uid', ''), ('Definition from observation under binocular', 'Any other element(s) not reported in main and secondary element(s). For CM, any element(s) not in M and CP.'), ('Definition from observation on cross-section', ''), ('Notice for modification of the current MiCorr interface', ''), ('Comments', 'Only if elementary analysis has been carried out.'), ('CP Binocular', 'x'), ('CP CS', ''), ('CM Binocular', 'x'), ('CM CS', ''), ('D Binocular', 'x'), ('D CS', ''), ('M Binocular', 'x'), ('M CS', ''), ('NMM Binocular', 'x'), ('NMM CS', ''), ('POM Binocular', 'x'), ('POM CS', ''), ('S Binocular', 'x'), ('S CS', ''), ('SV Binocular', ''), ('SV CS', '')])\n",
      "\n",
      "// new family_name=Additional element(s) uid: compositionAdditionalElementsFamily\n",
      "{fg:'fgComposition', order:8, observation:binocular, uid:'compositionAdditionalElementsFamily', name:'Additional element(s)', visible: False, variable: False, description:'Any other element(s) not reported in main and secondary element(s). For CM, any element(s) not in M and CP.', natures:['cp', 'cm', 'deposit', 'metal', 'nmm', 'pom', 'soil'], list_elem_family:'elementFamily', upto:0},\n",
      "\n",
      "OrderedDict([('Characteristic', 'Composition'), ('Sub-characteristic', 'Second band / aggregate'), ('Observation mode', 'Binocular'), ('Values', ''), ('Sub-values', ''), ('Image', ''), ('Variables', ''), ('unit', ''), ('uid', ''), ('Definition from observation under binocular', ''), ('Definition from observation on cross-section', ''), ('Notice for modification of the current MiCorr interface', ''), ('Comments', ''), ('CP Binocular', ''), ('CP CS', ''), ('CM Binocular', ''), ('CM CS', ''), ('D Binocular', ''), ('D CS', ''), ('M Binocular', ''), ('M CS', ''), ('NMM Binocular', ''), ('NMM CS', ''), ('POM Binocular', ''), ('POM CS', ''), ('S Binocular', ''), ('S CS', ''), ('SV Binocular', ''), ('SV CS', '')])\n",
      "\n",
      "// new fieldset=Second band / aggregate\n",
      "\n",
      "OrderedDict([('Characteristic', 'Composition'), ('Sub-characteristic', ''), ('Observation mode', 'Binocular'), ('Values', 'main element(s)'), ('Sub-values', ''), ('Image', ''), ('Variables', 'list'), ('unit', 'elementFamily'), ('uid', ''), ('Definition from observation under binocular', 'Only the family element(s) should be given.'), ('Definition from observation on cross-section', ''), ('Notice for modification of the current MiCorr interface', ''), ('Comments', 'Only if elementary analysis has been carried out.'), ('CP Binocular', 'x'), ('CP CS', ''), ('CM Binocular', ''), ('CM CS', ''), ('D Binocular', ''), ('D CS', ''), ('M Binocular', ''), ('M CS', ''), ('NMM Binocular', ''), ('NMM CS', ''), ('POM Binocular', ''), ('POM CS', ''), ('S Binocular', ''), ('S CS', ''), ('SV Binocular', ''), ('SV CS', '')])\n",
      "\n",
      "{fg:'fgComposition', order:10, observation:binocular, uid:'compositionSecondBandAggregateMainElementsFamily', name:'main element(s)', visible: False, variable: False, description:'Only the family element(s) should be given.', natures:['cp'], fieldset:'Second band / aggregate', list_elem_family:'elementFamily', upto:0},\n",
      "\n",
      "OrderedDict([('Characteristic', 'Composition'), ('Sub-characteristic', ''), ('Observation mode', 'Binocular'), ('Values', 'secondary element(s)'), ('Sub-values', ''), ('Image', ''), ('Variables', 'list'), ('unit', 'elementFamily'), ('uid', ''), ('Definition from observation under binocular', 'Any other element(s) having a concentration greater than 1% (in weight) and / or affecting the properties of the CP.'), ('Definition from observation on cross-section', ''), ('Notice for modification of the current MiCorr interface', ''), ('Comments', 'Only if elementary analysis has been carried out.'), ('CP Binocular', 'x'), ('CP CS', ''), ('CM Binocular', ''), ('CM CS', ''), ('D Binocular', ''), ('D CS', ''), ('M Binocular', ''), ('M CS', ''), ('NMM Binocular', ''), ('NMM CS', ''), ('POM Binocular', ''), ('POM CS', ''), ('S Binocular', ''), ('S CS', ''), ('SV Binocular', ''), ('SV CS', '')])\n",
      "\n",
      "{fg:'fgComposition', order:11, observation:binocular, uid:'compositionSecondBandAggregateSecondaryElementsFamily', name:'secondary element(s)', visible: False, variable: False, description:'Any other element(s) having a concentration greater than 1% (in weight) and / or affecting the properties of the CP.', natures:['cp'], fieldset:'Second band / aggregate', list_elem_family:'elementFamily', upto:0},\n",
      "\n",
      "OrderedDict([('Characteristic', 'Composition'), ('Sub-characteristic', 'Second band / aggregate\\nCompounds'), ('Observation mode', 'Binocular'), ('Values', ''), ('Sub-values', ''), ('Image', ''), ('Variables', ''), ('unit', ''), ('uid', ''), ('Definition from observation under binocular', 'Formula of the CP(s) deduced from its (their) main and secondary element(s).'), ('Definition from observation on cross-section', ''), ('Notice for modification of the current MiCorr interface', 'Added'), ('Comments', 'Only if structural or molecular analysis has been carried out.'), ('CP Binocular', 'x'), ('CP CS', ''), ('CM Binocular', ''), ('CM CS', ''), ('D Binocular', ''), ('D CS', ''), ('M Binocular', ''), ('M CS', ''), ('NMM Binocular', ''), ('NMM CS', ''), ('POM Binocular', ''), ('POM CS', ''), ('S Binocular', ''), ('S CS', ''), ('SV Binocular', ''), ('SV CS', '')])\n",
      "\n",
      "\n",
      "OrderedDict([('Characteristic', 'Composition'), ('Sub-characteristic', ''), ('Observation mode', 'Binocular'), ('Values', ''), ('Sub-values', ''), ('Image', ''), ('Variables', ''), ('unit', ''), ('uid', ''), ('Definition from observation under binocular', ''), ('Definition from observation on cross-section', ''), ('Notice for modification of the current MiCorr interface', 'Added'), ('Comments', ''), ('CP Binocular', 'x'), ('CP CS', ''), ('CM Binocular', ''), ('CM CS', ''), ('D Binocular', ''), ('D CS', ''), ('M Binocular', ''), ('M CS', ''), ('NMM Binocular', ''), ('NMM CS', ''), ('POM Binocular', ''), ('POM CS', ''), ('S Binocular', ''), ('S CS', ''), ('SV Binocular', ''), ('SV CS', '')])\n",
      "\n",
      "\n",
      "OrderedDict([('Characteristic', 'Composition'), ('Sub-characteristic', ''), ('Observation mode', 'Binocular'), ('Values', 'XRD'), ('Sub-values', ''), ('Image', ''), ('Variables', 'formula'), ('unit', 'compoundFamily'), ('uid', ''), ('Definition from observation under binocular', 'Formula.'), ('Definition from observation on cross-section', ''), ('Notice for modification of the current MiCorr interface', 'Added'), ('Comments', ''), ('CP Binocular', 'x'), ('CP CS', ''), ('CM Binocular', ''), ('CM CS', ''), ('D Binocular', ''), ('D CS', ''), ('M Binocular', ''), ('M CS', ''), ('NMM Binocular', ''), ('NMM CS', ''), ('POM Binocular', ''), ('POM CS', ''), ('S Binocular', ''), ('S CS', ''), ('SV Binocular', ''), ('SV CS', '')])\n",
      "\n",
      "{fg:'fgComposition', order:13, observation:binocular, uid:'compositionXrdFamily', name:'XRD', visible: False, variable: False, description:'Formula.', natures:['cp'], list_elem_family:'compoundFamily', upto:1},\n",
      "\n",
      "OrderedDict([('Characteristic', 'Composition'), ('Sub-characteristic', ''), ('Observation mode', 'Binocular'), ('Values', 'Raman spectroscopy'), ('Sub-values', ''), ('Image', ''), ('Variables', 'formula'), ('unit', 'compoundFamily'), ('uid', ''), ('Definition from observation under binocular', 'Formula.'), ('Definition from observation on cross-section', ''), ('Notice for modification of the current MiCorr interface', 'Added'), ('Comments', ''), ('CP Binocular', 'x'), ('CP CS', ''), ('CM Binocular', ''), ('CM CS', ''), ('D Binocular', ''), ('D CS', ''), ('M Binocular', ''), ('M CS', ''), ('NMM Binocular', ''), ('NMM CS', ''), ('POM Binocular', ''), ('POM CS', ''), ('S Binocular', ''), ('S CS', ''), ('SV Binocular', ''), ('SV CS', '')])\n",
      "\n",
      "{fg:'fgComposition', order:14, observation:binocular, uid:'compositionRamanSpectroscopyFamily', name:'Raman spectroscopy', visible: False, variable: False, description:'Formula.', natures:['cp'], list_elem_family:'compoundFamily', upto:1},\n",
      "\n",
      "OrderedDict([('Characteristic', 'Composition'), ('Sub-characteristic', ''), ('Observation mode', 'Binocular'), ('Values', 'FTIR'), ('Sub-values', ''), ('Image', ''), ('Variables', 'formula'), ('unit', 'compoundFamily'), ('uid', ''), ('Definition from observation under binocular', 'Formula.'), ('Definition from observation on cross-section', ''), ('Notice for modification of the current MiCorr interface', 'Added'), ('Comments', ''), ('CP Binocular', 'x'), ('CP CS', ''), ('CM Binocular', ''), ('CM CS', ''), ('D Binocular', ''), ('D CS', ''), ('M Binocular', ''), ('M CS', ''), ('NMM Binocular', ''), ('NMM CS', ''), ('POM Binocular', ''), ('POM CS', ''), ('S Binocular', ''), ('S CS', ''), ('SV Binocular', ''), ('SV CS', '')])\n",
      "\n",
      "{fg:'fgComposition', order:15, observation:binocular, uid:'compositionFtirFamily', name:'FTIR', visible: False, variable: False, description:'Formula.', natures:['cp'], list_elem_family:'compoundFamily', upto:1},\n",
      "\n",
      "OrderedDict([('Characteristic', 'Composition'), ('Sub-characteristic', ''), ('Observation mode', 'Binocular'), ('Values', 'Others'), ('Sub-values', ''), ('Image', ''), ('Variables', 'formula'), ('unit', 'compoundFamily'), ('uid', ''), ('Definition from observation under binocular', 'Formula.'), ('Definition from observation on cross-section', ''), ('Notice for modification of the current MiCorr interface', 'Added'), ('Comments', ''), ('CP Binocular', 'x'), ('CP CS', ''), ('CM Binocular', ''), ('CM CS', ''), ('D Binocular', ''), ('D CS', ''), ('M Binocular', ''), ('M CS', ''), ('NMM Binocular', ''), ('NMM CS', ''), ('POM Binocular', ''), ('POM CS', ''), ('S Binocular', ''), ('S CS', ''), ('SV Binocular', ''), ('SV CS', '')])\n",
      "\n",
      "{fg:'fgComposition', order:16, observation:binocular, uid:'compositionOthersFamily', name:'Others', visible: False, variable: False, description:'Formula.', natures:['cp'], list_elem_family:'compoundFamily', upto:1},\n",
      "\n",
      "OrderedDict([('Characteristic', 'Composition'), ('Sub-characteristic', 'Second band / aggregate'), ('Observation mode', 'Binocular'), ('Values', ''), ('Sub-values', ''), ('Image', ''), ('Variables', ''), ('unit', ''), ('uid', ''), ('Definition from observation under binocular', ''), ('Definition from observation on cross-section', ''), ('Notice for modification of the current MiCorr interface', ''), ('Comments', ''), ('CP Binocular', ''), ('CP CS', ''), ('CM Binocular', ''), ('CM CS', ''), ('D Binocular', ''), ('D CS', ''), ('M Binocular', ''), ('M CS', ''), ('NMM Binocular', ''), ('NMM CS', ''), ('POM Binocular', ''), ('POM CS', ''), ('S Binocular', ''), ('S CS', ''), ('SV Binocular', ''), ('SV CS', '')])\n",
      "\n",
      "// new fieldset=Second band / aggregate\n",
      "\n",
      "OrderedDict([('Characteristic', 'Composition'), ('Sub-characteristic', ''), ('Observation mode', 'Binocular'), ('Values', 'additional element(s)'), ('Sub-values', ''), ('Image', ''), ('Variables', 'list'), ('unit', 'elementFamily'), ('uid', ''), ('Definition from observation under binocular', 'Any other element(s) not reported in main and secondary element(s).'), ('Definition from observation on cross-section', ''), ('Notice for modification of the current MiCorr interface', ''), ('Comments', 'Only if elementary analysis has been carried out.'), ('CP Binocular', 'x'), ('CP CS', ''), ('CM Binocular', ''), ('CM CS', ''), ('D Binocular', ''), ('D CS', ''), ('M Binocular', ''), ('M CS', ''), ('NMM Binocular', ''), ('NMM CS', ''), ('POM Binocular', ''), ('POM CS', ''), ('S Binocular', ''), ('S CS', ''), ('SV Binocular', ''), ('SV CS', '')])\n",
      "\n",
      "{fg:'fgComposition', order:18, observation:binocular, uid:'compositionSecondBandAggregateAdditionalElementsFamily', name:'additional element(s)', visible: False, variable: False, description:'Any other element(s) not reported in main and secondary element(s).', natures:['cp'], fieldset:'Second band / aggregate', list_elem_family:'elementFamily', upto:0},\n",
      "\n",
      "OrderedDict([('Characteristic', 'Composition'), ('Sub-characteristic', 'Composition'), ('Observation mode', 'Binocular'), ('Values', ''), ('Sub-values', ''), ('Image', ''), ('Variables', ''), ('unit', ''), ('uid', ''), ('Definition from observation under binocular', ''), ('Definition from observation on cross-section', ''), ('Notice for modification of the current MiCorr interface', ''), ('Comments', ''), ('CP Binocular', ''), ('CP CS', ''), ('CM Binocular', ''), ('CM CS', ''), ('D Binocular', ''), ('D CS', ''), ('M Binocular', ''), ('M CS', ''), ('NMM Binocular', 'x'), ('NMM CS', ''), ('POM Binocular', 'x'), ('POM CS', ''), ('S Binocular', ''), ('S CS', ''), ('SV Binocular', ''), ('SV CS', '')])\n",
      "\n",
      "\n",
      "OrderedDict([('Characteristic', 'Composition'), ('Sub-characteristic', ''), ('Observation mode', 'Binocular'), ('Values', 'Enamel'), ('Sub-values', ''), ('Image', ''), ('Variables', ''), ('unit', ''), ('uid', ''), ('Definition from observation under binocular', 'Opaque or semi-transparent glossy substance that is a type of glass, applied by vitrification to metallic surfaces for ornament or as a protective coating.'), ('Definition from observation on cross-section', ''), ('Notice for modification of the current MiCorr interface', ''), ('Comments', ''), ('CP Binocular', ''), ('CP CS', ''), ('CM Binocular', ''), ('CM CS', ''), ('D Binocular', ''), ('D CS', ''), ('M Binocular', ''), ('M CS', ''), ('NMM Binocular', 'x'), ('NMM CS', ''), ('POM Binocular', ''), ('POM CS', ''), ('S Binocular', ''), ('S CS', ''), ('SV Binocular', ''), ('SV CS', '')])\n",
      "\n",
      "\n",
      "OrderedDict([('Characteristic', 'Composition'), ('Sub-characteristic', ''), ('Observation mode', 'Binocular'), ('Values', 'Leather'), ('Sub-values', ''), ('Image', ''), ('Variables', ''), ('unit', ''), ('uid', ''), ('Definition from observation under binocular', 'Organic material created by tanning of animals skin.'), ('Definition from observation on cross-section', ''), ('Notice for modification of the current MiCorr interface', ''), ('Comments', ''), ('CP Binocular', ''), ('CP CS', ''), ('CM Binocular', ''), ('CM CS', ''), ('D Binocular', ''), ('D CS', ''), ('M Binocular', ''), ('M CS', ''), ('NMM Binocular', 'x'), ('NMM CS', ''), ('POM Binocular', 'x'), ('POM CS', ''), ('S Binocular', ''), ('S CS', ''), ('SV Binocular', ''), ('SV CS', '')])\n",
      "\n",
      "\n",
      "OrderedDict([('Characteristic', 'Composition'), ('Sub-characteristic', ''), ('Observation mode', 'Binocular'), ('Values', 'Niello'), ('Sub-values', ''), ('Image', ''), ('Variables', ''), ('unit', ''), ('uid', ''), ('Definition from observation under binocular', 'Black compound of sulphur with silver, lead, or copper, used for filling in engraved designs in silver or other metals.'), ('Definition from observation on cross-section', ''), ('Notice for modification of the current MiCorr interface', ''), ('Comments', ''), ('CP Binocular', ''), ('CP CS', ''), ('CM Binocular', ''), ('CM CS', ''), ('D Binocular', ''), ('D CS', ''), ('M Binocular', ''), ('M CS', ''), ('NMM Binocular', 'x'), ('NMM CS', ''), ('POM Binocular', ''), ('POM CS', ''), ('S Binocular', ''), ('S CS', ''), ('SV Binocular', ''), ('SV CS', '')])\n",
      "\n",
      "\n",
      "OrderedDict([('Characteristic', 'Composition'), ('Sub-characteristic', ''), ('Observation mode', 'Binocular'), ('Values', 'Paint'), ('Sub-values', ''), ('Image', ''), ('Variables', ''), ('unit', ''), ('uid', ''), ('Definition from observation under binocular', 'Pigmented material applied as a thin layer and forming a solid film.'), ('Definition from observation on cross-section', ''), ('Notice for modification of the current MiCorr interface', ''), ('Comments', ''), ('CP Binocular', ''), ('CP CS', ''), ('CM Binocular', ''), ('CM CS', ''), ('D Binocular', ''), ('D CS', ''), ('M Binocular', ''), ('M CS', ''), ('NMM Binocular', 'x'), ('NMM CS', ''), ('POM Binocular', ''), ('POM CS', ''), ('S Binocular', ''), ('S CS', ''), ('SV Binocular', ''), ('SV CS', '')])\n",
      "\n",
      "\n",
      "OrderedDict([('Characteristic', 'Composition'), ('Sub-characteristic', ''), ('Observation mode', 'Binocular'), ('Values', 'Textile'), ('Sub-values', ''), ('Image', ''), ('Variables', ''), ('unit', ''), ('uid', ''), ('Definition from observation under binocular', 'Flexible material composed of a network of artificial or natural fibers.'), ('Definition from observation on cross-section', ''), ('Notice for modification of the current MiCorr interface', ''), ('Comments', ''), ('CP Binocular', ''), ('CP CS', ''), ('CM Binocular', ''), ('CM CS', ''), ('D Binocular', ''), ('D CS', ''), ('M Binocular', ''), ('M CS', ''), ('NMM Binocular', 'x'), ('NMM CS', ''), ('POM Binocular', 'x'), ('POM CS', ''), ('S Binocular', ''), ('S CS', ''), ('SV Binocular', ''), ('SV CS', '')])\n",
      "\n",
      "\n",
      "OrderedDict([('Characteristic', 'Composition'), ('Sub-characteristic', ''), ('Observation mode', 'Binocular'), ('Values', 'Wax '), ('Sub-values', ''), ('Image', ''), ('Variables', ''), ('unit', ''), ('uid', ''), ('Definition from observation under binocular', 'Organic compound, lipophilic, malleable, solid at ambient temperatures and melts above about 40°C. Insoluble in water, but soluble in nonpolar, organic solvents. Can be produced by plants, animals or with artificial material.'), ('Definition from observation on cross-section', ''), ('Notice for modification of the current MiCorr interface', ''), ('Comments', ''), ('CP Binocular', ''), ('CP CS', ''), ('CM Binocular', ''), ('CM CS', ''), ('D Binocular', ''), ('D CS', ''), ('M Binocular', ''), ('M CS', ''), ('NMM Binocular', 'x'), ('NMM CS', ''), ('POM Binocular', ''), ('POM CS', ''), ('S Binocular', ''), ('S CS', ''), ('SV Binocular', ''), ('SV CS', '')])\n",
      "\n",
      "\n",
      "OrderedDict([('Characteristic', 'Composition'), ('Sub-characteristic', ''), ('Observation mode', 'Binocular'), ('Values', 'Wood'), ('Sub-values', ''), ('Image', ''), ('Variables', ''), ('unit', ''), ('uid', ''), ('Definition from observation under binocular', 'Porous and fibrous structure founds in trees and plants.'), ('Definition from observation on cross-section', ''), ('Notice for modification of the current MiCorr interface', ''), ('Comments', ''), ('CP Binocular', ''), ('CP CS', ''), ('CM Binocular', ''), ('CM CS', ''), ('D Binocular', ''), ('D CS', ''), ('M Binocular', ''), ('M CS', ''), ('NMM Binocular', 'x'), ('NMM CS', ''), ('POM Binocular', 'x'), ('POM CS', ''), ('S Binocular', ''), ('S CS', ''), ('SV Binocular', ''), ('SV CS', '')])\n",
      "\n",
      "\n",
      "OrderedDict([('Characteristic', 'Composition'), ('Sub-characteristic', ''), ('Observation mode', 'Binocular'), ('Values', 'Bone'), ('Sub-values', ''), ('Image', ''), ('Variables', ''), ('unit', ''), ('uid', ''), ('Definition from observation under binocular', 'Rigid organ that constitutes part of the vertebrate skeleton in animals.'), ('Definition from observation on cross-section', ''), ('Notice for modification of the current MiCorr interface', ''), ('Comments', ''), ('CP Binocular', ''), ('CP CS', ''), ('CM Binocular', ''), ('CM CS', ''), ('D Binocular', ''), ('D CS', ''), ('M Binocular', ''), ('M CS', ''), ('NMM Binocular', 'x'), ('NMM CS', ''), ('POM Binocular', 'x'), ('POM CS', ''), ('S Binocular', ''), ('S CS', ''), ('SV Binocular', ''), ('SV CS', '')])\n",
      "\n",
      "\n",
      "OrderedDict([('Characteristic', 'Composition'), ('Sub-characteristic', ''), ('Observation mode', 'Binocular'), ('Values', 'Other'), ('Sub-values', ''), ('Image', ''), ('Variables', ''), ('unit', ''), ('uid', ''), ('Definition from observation under binocular', ''), ('Definition from observation on cross-section', ''), ('Notice for modification of the current MiCorr interface', ''), ('Comments', ''), ('CP Binocular', ''), ('CP CS', ''), ('CM Binocular', ''), ('CM CS', ''), ('D Binocular', ''), ('D CS', ''), ('M Binocular', ''), ('M CS', ''), ('NMM Binocular', 'x'), ('NMM CS', ''), ('POM Binocular', ''), ('POM CS', ''), ('S Binocular', ''), ('S CS', ''), ('SV Binocular', ''), ('SV CS', '')])\n",
      "\n",
      "family_uids=['compositionMainElementsFamily', 'compositionSecondaryElementsFamily', 'compositionXrdFamily', 'compositionRamanSpectroscopyFamily', 'compositionFtirFamily', 'compositionOthersFamily', 'compositionAdditionalElementsFamily', 'compositionSecondBandAggregateMainElementsFamily', 'compositionSecondBandAggregateSecondaryElementsFamily', 'compositionXrdFamily', 'compositionRamanSpectroscopyFamily', 'compositionFtirFamily', 'compositionOthersFamily', 'compositionSecondBandAggregateAdditionalElementsFamily']\n",
      " len=14\n",
      " set len=10\n",
      "duplicated items in family_uids=['compositionXrdFamily', 'compositionRamanSpectroscopyFamily', 'compositionFtirFamily', 'compositionOthersFamily']\n",
      "characteristic_uids=['compositionCompositionEnamelCharacteristic', 'compositionCompositionLeatherCharacteristic', 'compositionCompositionNielloCharacteristic', 'compositionCompositionPaintCharacteristic', 'compositionCompositionTextileCharacteristic', 'compositionCompositionWaxCharacteristic', 'compositionCompositionWoodCharacteristic', 'compositionCompositionBoneCharacteristic', 'compositionCompositionOtherCharacteristic']\n",
      " len=9\n",
      " set len=9\n",
      "duplicated items in characteristic_uids=[]\n",
      "\n",
      " //CHARACTERISTIC \n",
      "\n",
      "\n",
      "OrderedDict([('Characteristic', 'Composition'), ('Sub-characteristic', 'Main element(s)'), ('Observation mode', 'Binocular'), ('Values', ''), ('Sub-values', ''), ('Image', ''), ('Variables', 'list'), ('unit', 'elementFamily'), ('uid', ''), ('Definition from observation under binocular', 'Determined in the observed area. Only the family element(s) should be given.'), ('Definition from observation on cross-section', ''), ('Notice for modification of the current MiCorr interface', ''), ('Comments', 'Only if elementary analysis has been carried out.'), ('CP Binocular', 'x'), ('CP CS', ''), ('CM Binocular', ''), ('CM CS', ''), ('D Binocular', 'x'), ('D CS', ''), ('M Binocular', 'x'), ('M CS', ''), ('NMM Binocular', 'x'), ('NMM CS', ''), ('POM Binocular', 'x'), ('POM CS', ''), ('S Binocular', 'x'), ('S CS', ''), ('SV Binocular', ''), ('SV CS', '')])\n",
      "\n",
      "\n",
      "OrderedDict([('Characteristic', 'Composition'), ('Sub-characteristic', 'Secondary element(s)'), ('Observation mode', 'Binocular'), ('Values', ''), ('Sub-values', ''), ('Image', ''), ('Variables', 'list'), ('unit', 'elementFamily'), ('uid', ''), ('Definition from observation under binocular', 'Any other element(s) having a concentration greater than 1% (in weight) and / or affecting the properties of the CP.'), ('Definition from observation on cross-section', ''), ('Notice for modification of the current MiCorr interface', ''), ('Comments', 'Only if elementary analysis has been carried out.'), ('CP Binocular', 'x'), ('CP CS', ''), ('CM Binocular', ''), ('CM CS', ''), ('D Binocular', 'x'), ('D CS', ''), ('M Binocular', 'x'), ('M CS', ''), ('NMM Binocular', 'x'), ('NMM CS', ''), ('POM Binocular', 'x'), ('POM CS', ''), ('S Binocular', 'x'), ('S CS', ''), ('SV Binocular', ''), ('SV CS', '')])\n",
      "\n",
      "\n",
      "OrderedDict([('Characteristic', 'Composition'), ('Sub-characteristic', 'Compounds'), ('Observation mode', 'Binocular'), ('Values', ''), ('Sub-values', ''), ('Image', ''), ('Variables', ''), ('unit', ''), ('uid', ''), ('Definition from observation under binocular', 'Formula of the CP(s) deduced from its (their) main and secondary element(s) and validaded by analytical techniques.'), ('Definition from observation on cross-section', ''), ('Notice for modification of the current MiCorr interface', ''), ('Comments', 'Only if structural or molecular analysis has been carried out.'), ('CP Binocular', 'x'), ('CP CS', ''), ('CM Binocular', ''), ('CM CS', ''), ('D Binocular', 'x'), ('D CS', ''), ('M Binocular', ''), ('M CS', ''), ('NMM Binocular', 'x'), ('NMM CS', ''), ('POM Binocular', 'x'), ('POM CS', ''), ('S Binocular', 'x'), ('S CS', ''), ('SV Binocular', ''), ('SV CS', '')])\n",
      "\n",
      "\n",
      "OrderedDict([('Characteristic', 'Composition'), ('Sub-characteristic', ''), ('Observation mode', 'Binocular'), ('Values', ''), ('Sub-values', ''), ('Image', ''), ('Variables', ''), ('unit', ''), ('uid', ''), ('Definition from observation under binocular', ''), ('Definition from observation on cross-section', ''), ('Notice for modification of the current MiCorr interface', 'Added'), ('Comments', ''), ('CP Binocular', 'x'), ('CP CS', ''), ('CM Binocular', ''), ('CM CS', ''), ('D Binocular', 'x'), ('D CS', ''), ('M Binocular', ''), ('M CS', ''), ('NMM Binocular', 'x'), ('NMM CS', ''), ('POM Binocular', 'x'), ('POM CS', ''), ('S Binocular', 'x'), ('S CS', ''), ('SV Binocular', ''), ('SV CS', '')])\n",
      "\n",
      "\n",
      "OrderedDict([('Characteristic', 'Composition'), ('Sub-characteristic', ''), ('Observation mode', 'Binocular'), ('Values', 'XRD'), ('Sub-values', ''), ('Image', ''), ('Variables', 'formula'), ('unit', 'compoundFamily'), ('uid', ''), ('Definition from observation under binocular', 'Formula.'), ('Definition from observation on cross-section', ''), ('Notice for modification of the current MiCorr interface', 'Added'), ('Comments', ''), ('CP Binocular', 'x'), ('CP CS', ''), ('CM Binocular', ''), ('CM CS', ''), ('D Binocular', 'x'), ('D CS', ''), ('M Binocular', ''), ('M CS', ''), ('NMM Binocular', 'x'), ('NMM CS', ''), ('POM Binocular', 'x'), ('POM CS', ''), ('S Binocular', 'x'), ('S CS', ''), ('SV Binocular', ''), ('SV CS', '')])\n",
      "\n",
      "\n",
      "OrderedDict([('Characteristic', 'Composition'), ('Sub-characteristic', ''), ('Observation mode', 'Binocular'), ('Values', 'Raman spectroscopy'), ('Sub-values', ''), ('Image', ''), ('Variables', 'formula'), ('unit', 'compoundFamily'), ('uid', ''), ('Definition from observation under binocular', 'Formula.'), ('Definition from observation on cross-section', ''), ('Notice for modification of the current MiCorr interface', 'Added'), ('Comments', ''), ('CP Binocular', 'x'), ('CP CS', ''), ('CM Binocular', ''), ('CM CS', ''), ('D Binocular', 'x'), ('D CS', ''), ('M Binocular', ''), ('M CS', ''), ('NMM Binocular', 'x'), ('NMM CS', ''), ('POM Binocular', 'x'), ('POM CS', ''), ('S Binocular', 'x'), ('S CS', ''), ('SV Binocular', ''), ('SV CS', '')])\n",
      "\n",
      "\n",
      "OrderedDict([('Characteristic', 'Composition'), ('Sub-characteristic', ''), ('Observation mode', 'Binocular'), ('Values', 'FTIR'), ('Sub-values', ''), ('Image', ''), ('Variables', 'formula'), ('unit', 'compoundFamily'), ('uid', ''), ('Definition from observation under binocular', 'Formula.'), ('Definition from observation on cross-section', ''), ('Notice for modification of the current MiCorr interface', 'Added'), ('Comments', ''), ('CP Binocular', 'x'), ('CP CS', ''), ('CM Binocular', ''), ('CM CS', ''), ('D Binocular', 'x'), ('D CS', ''), ('M Binocular', ''), ('M CS', ''), ('NMM Binocular', 'x'), ('NMM CS', ''), ('POM Binocular', 'x'), ('POM CS', ''), ('S Binocular', 'x'), ('S CS', ''), ('SV Binocular', ''), ('SV CS', '')])\n",
      "\n",
      "\n",
      "OrderedDict([('Characteristic', 'Composition'), ('Sub-characteristic', ''), ('Observation mode', 'Binocular'), ('Values', 'Others'), ('Sub-values', ''), ('Image', ''), ('Variables', 'formula'), ('unit', 'compoundFamily'), ('uid', ''), ('Definition from observation under binocular', 'Formula.'), ('Definition from observation on cross-section', ''), ('Notice for modification of the current MiCorr interface', 'Added'), ('Comments', ''), ('CP Binocular', 'x'), ('CP CS', ''), ('CM Binocular', ''), ('CM CS', ''), ('D Binocular', 'x'), ('D CS', ''), ('M Binocular', ''), ('M CS', ''), ('NMM Binocular', 'x'), ('NMM CS', ''), ('POM Binocular', 'x'), ('POM CS', ''), ('S Binocular', 'x'), ('S CS', ''), ('SV Binocular', ''), ('SV CS', '')])\n",
      "\n",
      "\n",
      "OrderedDict([('Characteristic', 'Composition'), ('Sub-characteristic', 'Additional element(s)'), ('Observation mode', 'Binocular'), ('Values', ''), ('Sub-values', ''), ('Image', ''), ('Variables', 'list'), ('unit', 'elementFamily'), ('uid', ''), ('Definition from observation under binocular', 'Any other element(s) not reported in main and secondary element(s). For CM, any element(s) not in M and CP.'), ('Definition from observation on cross-section', ''), ('Notice for modification of the current MiCorr interface', ''), ('Comments', 'Only if elementary analysis has been carried out.'), ('CP Binocular', 'x'), ('CP CS', ''), ('CM Binocular', 'x'), ('CM CS', ''), ('D Binocular', 'x'), ('D CS', ''), ('M Binocular', 'x'), ('M CS', ''), ('NMM Binocular', 'x'), ('NMM CS', ''), ('POM Binocular', 'x'), ('POM CS', ''), ('S Binocular', 'x'), ('S CS', ''), ('SV Binocular', ''), ('SV CS', '')])\n",
      "\n",
      "\n",
      "OrderedDict([('Characteristic', 'Composition'), ('Sub-characteristic', 'Second band / aggregate'), ('Observation mode', 'Binocular'), ('Values', ''), ('Sub-values', ''), ('Image', ''), ('Variables', ''), ('unit', ''), ('uid', ''), ('Definition from observation under binocular', ''), ('Definition from observation on cross-section', ''), ('Notice for modification of the current MiCorr interface', ''), ('Comments', ''), ('CP Binocular', ''), ('CP CS', ''), ('CM Binocular', ''), ('CM CS', ''), ('D Binocular', ''), ('D CS', ''), ('M Binocular', ''), ('M CS', ''), ('NMM Binocular', ''), ('NMM CS', ''), ('POM Binocular', ''), ('POM CS', ''), ('S Binocular', ''), ('S CS', ''), ('SV Binocular', ''), ('SV CS', '')])\n",
      "\n",
      "// new fieldset=Second band / aggregate\n",
      "\n",
      "OrderedDict([('Characteristic', 'Composition'), ('Sub-characteristic', ''), ('Observation mode', 'Binocular'), ('Values', 'main element(s)'), ('Sub-values', ''), ('Image', ''), ('Variables', 'list'), ('unit', 'elementFamily'), ('uid', ''), ('Definition from observation under binocular', 'Only the family element(s) should be given.'), ('Definition from observation on cross-section', ''), ('Notice for modification of the current MiCorr interface', ''), ('Comments', 'Only if elementary analysis has been carried out.'), ('CP Binocular', 'x'), ('CP CS', ''), ('CM Binocular', ''), ('CM CS', ''), ('D Binocular', ''), ('D CS', ''), ('M Binocular', ''), ('M CS', ''), ('NMM Binocular', ''), ('NMM CS', ''), ('POM Binocular', ''), ('POM CS', ''), ('S Binocular', ''), ('S CS', ''), ('SV Binocular', ''), ('SV CS', '')])\n",
      "\n",
      "\n",
      "OrderedDict([('Characteristic', 'Composition'), ('Sub-characteristic', ''), ('Observation mode', 'Binocular'), ('Values', 'secondary element(s)'), ('Sub-values', ''), ('Image', ''), ('Variables', 'list'), ('unit', 'elementFamily'), ('uid', ''), ('Definition from observation under binocular', 'Any other element(s) having a concentration greater than 1% (in weight) and / or affecting the properties of the CP.'), ('Definition from observation on cross-section', ''), ('Notice for modification of the current MiCorr interface', ''), ('Comments', 'Only if elementary analysis has been carried out.'), ('CP Binocular', 'x'), ('CP CS', ''), ('CM Binocular', ''), ('CM CS', ''), ('D Binocular', ''), ('D CS', ''), ('M Binocular', ''), ('M CS', ''), ('NMM Binocular', ''), ('NMM CS', ''), ('POM Binocular', ''), ('POM CS', ''), ('S Binocular', ''), ('S CS', ''), ('SV Binocular', ''), ('SV CS', '')])\n",
      "\n",
      "\n",
      "OrderedDict([('Characteristic', 'Composition'), ('Sub-characteristic', 'Second band / aggregate\\nCompounds'), ('Observation mode', 'Binocular'), ('Values', ''), ('Sub-values', ''), ('Image', ''), ('Variables', ''), ('unit', ''), ('uid', ''), ('Definition from observation under binocular', 'Formula of the CP(s) deduced from its (their) main and secondary element(s).'), ('Definition from observation on cross-section', ''), ('Notice for modification of the current MiCorr interface', 'Added'), ('Comments', 'Only if structural or molecular analysis has been carried out.'), ('CP Binocular', 'x'), ('CP CS', ''), ('CM Binocular', ''), ('CM CS', ''), ('D Binocular', ''), ('D CS', ''), ('M Binocular', ''), ('M CS', ''), ('NMM Binocular', ''), ('NMM CS', ''), ('POM Binocular', ''), ('POM CS', ''), ('S Binocular', ''), ('S CS', ''), ('SV Binocular', ''), ('SV CS', '')])\n",
      "\n",
      "\n",
      "OrderedDict([('Characteristic', 'Composition'), ('Sub-characteristic', ''), ('Observation mode', 'Binocular'), ('Values', ''), ('Sub-values', ''), ('Image', ''), ('Variables', ''), ('unit', ''), ('uid', ''), ('Definition from observation under binocular', ''), ('Definition from observation on cross-section', ''), ('Notice for modification of the current MiCorr interface', 'Added'), ('Comments', ''), ('CP Binocular', 'x'), ('CP CS', ''), ('CM Binocular', ''), ('CM CS', ''), ('D Binocular', ''), ('D CS', ''), ('M Binocular', ''), ('M CS', ''), ('NMM Binocular', ''), ('NMM CS', ''), ('POM Binocular', ''), ('POM CS', ''), ('S Binocular', ''), ('S CS', ''), ('SV Binocular', ''), ('SV CS', '')])\n",
      "\n",
      "\n",
      "OrderedDict([('Characteristic', 'Composition'), ('Sub-characteristic', ''), ('Observation mode', 'Binocular'), ('Values', 'XRD'), ('Sub-values', ''), ('Image', ''), ('Variables', 'formula'), ('unit', 'compoundFamily'), ('uid', ''), ('Definition from observation under binocular', 'Formula.'), ('Definition from observation on cross-section', ''), ('Notice for modification of the current MiCorr interface', 'Added'), ('Comments', ''), ('CP Binocular', 'x'), ('CP CS', ''), ('CM Binocular', ''), ('CM CS', ''), ('D Binocular', ''), ('D CS', ''), ('M Binocular', ''), ('M CS', ''), ('NMM Binocular', ''), ('NMM CS', ''), ('POM Binocular', ''), ('POM CS', ''), ('S Binocular', ''), ('S CS', ''), ('SV Binocular', ''), ('SV CS', '')])\n",
      "\n",
      "\n",
      "OrderedDict([('Characteristic', 'Composition'), ('Sub-characteristic', ''), ('Observation mode', 'Binocular'), ('Values', 'Raman spectroscopy'), ('Sub-values', ''), ('Image', ''), ('Variables', 'formula'), ('unit', 'compoundFamily'), ('uid', ''), ('Definition from observation under binocular', 'Formula.'), ('Definition from observation on cross-section', ''), ('Notice for modification of the current MiCorr interface', 'Added'), ('Comments', ''), ('CP Binocular', 'x'), ('CP CS', ''), ('CM Binocular', ''), ('CM CS', ''), ('D Binocular', ''), ('D CS', ''), ('M Binocular', ''), ('M CS', ''), ('NMM Binocular', ''), ('NMM CS', ''), ('POM Binocular', ''), ('POM CS', ''), ('S Binocular', ''), ('S CS', ''), ('SV Binocular', ''), ('SV CS', '')])\n",
      "\n",
      "\n",
      "OrderedDict([('Characteristic', 'Composition'), ('Sub-characteristic', ''), ('Observation mode', 'Binocular'), ('Values', 'FTIR'), ('Sub-values', ''), ('Image', ''), ('Variables', 'formula'), ('unit', 'compoundFamily'), ('uid', ''), ('Definition from observation under binocular', 'Formula.'), ('Definition from observation on cross-section', ''), ('Notice for modification of the current MiCorr interface', 'Added'), ('Comments', ''), ('CP Binocular', 'x'), ('CP CS', ''), ('CM Binocular', ''), ('CM CS', ''), ('D Binocular', ''), ('D CS', ''), ('M Binocular', ''), ('M CS', ''), ('NMM Binocular', ''), ('NMM CS', ''), ('POM Binocular', ''), ('POM CS', ''), ('S Binocular', ''), ('S CS', ''), ('SV Binocular', ''), ('SV CS', '')])\n",
      "\n",
      "\n",
      "OrderedDict([('Characteristic', 'Composition'), ('Sub-characteristic', ''), ('Observation mode', 'Binocular'), ('Values', 'Others'), ('Sub-values', ''), ('Image', ''), ('Variables', 'formula'), ('unit', 'compoundFamily'), ('uid', ''), ('Definition from observation under binocular', 'Formula.'), ('Definition from observation on cross-section', ''), ('Notice for modification of the current MiCorr interface', 'Added'), ('Comments', ''), ('CP Binocular', 'x'), ('CP CS', ''), ('CM Binocular', ''), ('CM CS', ''), ('D Binocular', ''), ('D CS', ''), ('M Binocular', ''), ('M CS', ''), ('NMM Binocular', ''), ('NMM CS', ''), ('POM Binocular', ''), ('POM CS', ''), ('S Binocular', ''), ('S CS', ''), ('SV Binocular', ''), ('SV CS', '')])\n",
      "\n",
      "\n",
      "OrderedDict([('Characteristic', 'Composition'), ('Sub-characteristic', 'Second band / aggregate'), ('Observation mode', 'Binocular'), ('Values', ''), ('Sub-values', ''), ('Image', ''), ('Variables', ''), ('unit', ''), ('uid', ''), ('Definition from observation under binocular', ''), ('Definition from observation on cross-section', ''), ('Notice for modification of the current MiCorr interface', ''), ('Comments', ''), ('CP Binocular', ''), ('CP CS', ''), ('CM Binocular', ''), ('CM CS', ''), ('D Binocular', ''), ('D CS', ''), ('M Binocular', ''), ('M CS', ''), ('NMM Binocular', ''), ('NMM CS', ''), ('POM Binocular', ''), ('POM CS', ''), ('S Binocular', ''), ('S CS', ''), ('SV Binocular', ''), ('SV CS', '')])\n",
      "\n",
      "// new fieldset=Second band / aggregate\n",
      "\n",
      "OrderedDict([('Characteristic', 'Composition'), ('Sub-characteristic', ''), ('Observation mode', 'Binocular'), ('Values', 'additional element(s)'), ('Sub-values', ''), ('Image', ''), ('Variables', 'list'), ('unit', 'elementFamily'), ('uid', ''), ('Definition from observation under binocular', 'Any other element(s) not reported in main and secondary element(s).'), ('Definition from observation on cross-section', ''), ('Notice for modification of the current MiCorr interface', ''), ('Comments', 'Only if elementary analysis has been carried out.'), ('CP Binocular', 'x'), ('CP CS', ''), ('CM Binocular', ''), ('CM CS', ''), ('D Binocular', ''), ('D CS', ''), ('M Binocular', ''), ('M CS', ''), ('NMM Binocular', ''), ('NMM CS', ''), ('POM Binocular', ''), ('POM CS', ''), ('S Binocular', ''), ('S CS', ''), ('SV Binocular', ''), ('SV CS', '')])\n",
      "\n",
      "\n",
      "OrderedDict([('Characteristic', 'Composition'), ('Sub-characteristic', 'Composition'), ('Observation mode', 'Binocular'), ('Values', ''), ('Sub-values', ''), ('Image', ''), ('Variables', ''), ('unit', ''), ('uid', ''), ('Definition from observation under binocular', ''), ('Definition from observation on cross-section', ''), ('Notice for modification of the current MiCorr interface', ''), ('Comments', ''), ('CP Binocular', ''), ('CP CS', ''), ('CM Binocular', ''), ('CM CS', ''), ('D Binocular', ''), ('D CS', ''), ('M Binocular', ''), ('M CS', ''), ('NMM Binocular', 'x'), ('NMM CS', ''), ('POM Binocular', 'x'), ('POM CS', ''), ('S Binocular', ''), ('S CS', ''), ('SV Binocular', ''), ('SV CS', '')])\n",
      "\n",
      "\n",
      "OrderedDict([('Characteristic', 'Composition'), ('Sub-characteristic', ''), ('Observation mode', 'Binocular'), ('Values', 'Enamel'), ('Sub-values', ''), ('Image', ''), ('Variables', ''), ('unit', ''), ('uid', ''), ('Definition from observation under binocular', 'Opaque or semi-transparent glossy substance that is a type of glass, applied by vitrification to metallic surfaces for ornament or as a protective coating.'), ('Definition from observation on cross-section', ''), ('Notice for modification of the current MiCorr interface', ''), ('Comments', ''), ('CP Binocular', ''), ('CP CS', ''), ('CM Binocular', ''), ('CM CS', ''), ('D Binocular', ''), ('D CS', ''), ('M Binocular', ''), ('M CS', ''), ('NMM Binocular', 'x'), ('NMM CS', ''), ('POM Binocular', ''), ('POM CS', ''), ('S Binocular', ''), ('S CS', ''), ('SV Binocular', ''), ('SV CS', '')])\n",
      "\n",
      "{family_uid:'compositionFamily', uid:'compositionCompositionEnamelCharacteristic', name:'Enamel', order:1, natures:['nmm'], description:'Opaque or semi-transparent glossy substance that is a type of glass, applied by vitrification to metallic surfaces for ornament or as a protective coating.'},\n",
      "\n",
      "OrderedDict([('Characteristic', 'Composition'), ('Sub-characteristic', ''), ('Observation mode', 'Binocular'), ('Values', 'Leather'), ('Sub-values', ''), ('Image', ''), ('Variables', ''), ('unit', ''), ('uid', ''), ('Definition from observation under binocular', 'Organic material created by tanning of animals skin.'), ('Definition from observation on cross-section', ''), ('Notice for modification of the current MiCorr interface', ''), ('Comments', ''), ('CP Binocular', ''), ('CP CS', ''), ('CM Binocular', ''), ('CM CS', ''), ('D Binocular', ''), ('D CS', ''), ('M Binocular', ''), ('M CS', ''), ('NMM Binocular', 'x'), ('NMM CS', ''), ('POM Binocular', 'x'), ('POM CS', ''), ('S Binocular', ''), ('S CS', ''), ('SV Binocular', ''), ('SV CS', '')])\n",
      "\n",
      "{family_uid:'compositionFamily', uid:'compositionCompositionLeatherCharacteristic', name:'Leather', order:2, natures:['nmm', 'pom'], description:'Organic material created by tanning of animals skin.'},\n",
      "\n",
      "OrderedDict([('Characteristic', 'Composition'), ('Sub-characteristic', ''), ('Observation mode', 'Binocular'), ('Values', 'Niello'), ('Sub-values', ''), ('Image', ''), ('Variables', ''), ('unit', ''), ('uid', ''), ('Definition from observation under binocular', 'Black compound of sulphur with silver, lead, or copper, used for filling in engraved designs in silver or other metals.'), ('Definition from observation on cross-section', ''), ('Notice for modification of the current MiCorr interface', ''), ('Comments', ''), ('CP Binocular', ''), ('CP CS', ''), ('CM Binocular', ''), ('CM CS', ''), ('D Binocular', ''), ('D CS', ''), ('M Binocular', ''), ('M CS', ''), ('NMM Binocular', 'x'), ('NMM CS', ''), ('POM Binocular', ''), ('POM CS', ''), ('S Binocular', ''), ('S CS', ''), ('SV Binocular', ''), ('SV CS', '')])\n",
      "\n",
      "{family_uid:'compositionFamily', uid:'compositionCompositionNielloCharacteristic', name:'Niello', order:3, natures:['nmm'], description:'Black compound of sulphur with silver, lead, or copper, used for filling in engraved designs in silver or other metals.'},\n",
      "\n",
      "OrderedDict([('Characteristic', 'Composition'), ('Sub-characteristic', ''), ('Observation mode', 'Binocular'), ('Values', 'Paint'), ('Sub-values', ''), ('Image', ''), ('Variables', ''), ('unit', ''), ('uid', ''), ('Definition from observation under binocular', 'Pigmented material applied as a thin layer and forming a solid film.'), ('Definition from observation on cross-section', ''), ('Notice for modification of the current MiCorr interface', ''), ('Comments', ''), ('CP Binocular', ''), ('CP CS', ''), ('CM Binocular', ''), ('CM CS', ''), ('D Binocular', ''), ('D CS', ''), ('M Binocular', ''), ('M CS', ''), ('NMM Binocular', 'x'), ('NMM CS', ''), ('POM Binocular', ''), ('POM CS', ''), ('S Binocular', ''), ('S CS', ''), ('SV Binocular', ''), ('SV CS', '')])\n",
      "\n",
      "{family_uid:'compositionFamily', uid:'compositionCompositionPaintCharacteristic', name:'Paint', order:4, natures:['nmm'], description:'Pigmented material applied as a thin layer and forming a solid film.'},\n",
      "\n",
      "OrderedDict([('Characteristic', 'Composition'), ('Sub-characteristic', ''), ('Observation mode', 'Binocular'), ('Values', 'Textile'), ('Sub-values', ''), ('Image', ''), ('Variables', ''), ('unit', ''), ('uid', ''), ('Definition from observation under binocular', 'Flexible material composed of a network of artificial or natural fibers.'), ('Definition from observation on cross-section', ''), ('Notice for modification of the current MiCorr interface', ''), ('Comments', ''), ('CP Binocular', ''), ('CP CS', ''), ('CM Binocular', ''), ('CM CS', ''), ('D Binocular', ''), ('D CS', ''), ('M Binocular', ''), ('M CS', ''), ('NMM Binocular', 'x'), ('NMM CS', ''), ('POM Binocular', 'x'), ('POM CS', ''), ('S Binocular', ''), ('S CS', ''), ('SV Binocular', ''), ('SV CS', '')])\n",
      "\n",
      "{family_uid:'compositionFamily', uid:'compositionCompositionTextileCharacteristic', name:'Textile', order:5, natures:['nmm', 'pom'], description:'Flexible material composed of a network of artificial or natural fibers.'},\n",
      "\n",
      "OrderedDict([('Characteristic', 'Composition'), ('Sub-characteristic', ''), ('Observation mode', 'Binocular'), ('Values', 'Wax '), ('Sub-values', ''), ('Image', ''), ('Variables', ''), ('unit', ''), ('uid', ''), ('Definition from observation under binocular', 'Organic compound, lipophilic, malleable, solid at ambient temperatures and melts above about 40°C. Insoluble in water, but soluble in nonpolar, organic solvents. Can be produced by plants, animals or with artificial material.'), ('Definition from observation on cross-section', ''), ('Notice for modification of the current MiCorr interface', ''), ('Comments', ''), ('CP Binocular', ''), ('CP CS', ''), ('CM Binocular', ''), ('CM CS', ''), ('D Binocular', ''), ('D CS', ''), ('M Binocular', ''), ('M CS', ''), ('NMM Binocular', 'x'), ('NMM CS', ''), ('POM Binocular', ''), ('POM CS', ''), ('S Binocular', ''), ('S CS', ''), ('SV Binocular', ''), ('SV CS', '')])\n",
      "\n",
      "{family_uid:'compositionFamily', uid:'compositionCompositionWaxCharacteristic', name:'Wax ', order:6, natures:['nmm'], description:'Organic compound, lipophilic, malleable, solid at ambient temperatures and melts above about 40°C. Insoluble in water, but soluble in nonpolar, organic solvents. Can be produced by plants, animals or with artificial material.'},\n",
      "\n",
      "OrderedDict([('Characteristic', 'Composition'), ('Sub-characteristic', ''), ('Observation mode', 'Binocular'), ('Values', 'Wood'), ('Sub-values', ''), ('Image', ''), ('Variables', ''), ('unit', ''), ('uid', ''), ('Definition from observation under binocular', 'Porous and fibrous structure founds in trees and plants.'), ('Definition from observation on cross-section', ''), ('Notice for modification of the current MiCorr interface', ''), ('Comments', ''), ('CP Binocular', ''), ('CP CS', ''), ('CM Binocular', ''), ('CM CS', ''), ('D Binocular', ''), ('D CS', ''), ('M Binocular', ''), ('M CS', ''), ('NMM Binocular', 'x'), ('NMM CS', ''), ('POM Binocular', 'x'), ('POM CS', ''), ('S Binocular', ''), ('S CS', ''), ('SV Binocular', ''), ('SV CS', '')])\n",
      "\n",
      "{family_uid:'compositionFamily', uid:'compositionCompositionWoodCharacteristic', name:'Wood', order:7, natures:['nmm', 'pom'], description:'Porous and fibrous structure founds in trees and plants.'},\n",
      "\n",
      "OrderedDict([('Characteristic', 'Composition'), ('Sub-characteristic', ''), ('Observation mode', 'Binocular'), ('Values', 'Bone'), ('Sub-values', ''), ('Image', ''), ('Variables', ''), ('unit', ''), ('uid', ''), ('Definition from observation under binocular', 'Rigid organ that constitutes part of the vertebrate skeleton in animals.'), ('Definition from observation on cross-section', ''), ('Notice for modification of the current MiCorr interface', ''), ('Comments', ''), ('CP Binocular', ''), ('CP CS', ''), ('CM Binocular', ''), ('CM CS', ''), ('D Binocular', ''), ('D CS', ''), ('M Binocular', ''), ('M CS', ''), ('NMM Binocular', 'x'), ('NMM CS', ''), ('POM Binocular', 'x'), ('POM CS', ''), ('S Binocular', ''), ('S CS', ''), ('SV Binocular', ''), ('SV CS', '')])\n",
      "\n",
      "{family_uid:'compositionFamily', uid:'compositionCompositionBoneCharacteristic', name:'Bone', order:8, natures:['nmm', 'pom'], description:'Rigid organ that constitutes part of the vertebrate skeleton in animals.'},\n",
      "\n",
      "OrderedDict([('Characteristic', 'Composition'), ('Sub-characteristic', ''), ('Observation mode', 'Binocular'), ('Values', 'Other'), ('Sub-values', ''), ('Image', ''), ('Variables', ''), ('unit', ''), ('uid', ''), ('Definition from observation under binocular', ''), ('Definition from observation on cross-section', ''), ('Notice for modification of the current MiCorr interface', ''), ('Comments', ''), ('CP Binocular', ''), ('CP CS', ''), ('CM Binocular', ''), ('CM CS', ''), ('D Binocular', ''), ('D CS', ''), ('M Binocular', ''), ('M CS', ''), ('NMM Binocular', 'x'), ('NMM CS', ''), ('POM Binocular', ''), ('POM CS', ''), ('S Binocular', ''), ('S CS', ''), ('SV Binocular', ''), ('SV CS', '')])\n",
      "\n",
      "{family_uid:'compositionFamily', uid:'compositionCompositionOtherCharacteristic', name:'Other', order:9, natures:['nmm']},\n",
      "family_uids=['compositionXrdFamily', 'compositionRamanSpectroscopyFamily', 'compositionFtirFamily', 'compositionOthersFamily', 'compositionMainElementsFamily', 'compositionSecondaryElementsFamily', 'compositionXrdFamily', 'compositionRamanSpectroscopyFamily', 'compositionFtirFamily', 'compositionOthersFamily', 'compositionAdditionalElementsFamily', 'compositionSecondBandAggregateMainElementsFamily', 'compositionSecondBandAggregateSecondaryElementsFamily', 'compositionXrdFamily', 'compositionRamanSpectroscopyFamily', 'compositionFtirFamily', 'compositionOthersFamily', 'compositionSecondBandAggregateAdditionalElementsFamily']\n",
      " len=18\n",
      " set len=10\n",
      "duplicated items in family_uids=['compositionXrdFamily', 'compositionRamanSpectroscopyFamily', 'compositionFtirFamily', 'compositionOthersFamily', 'compositionXrdFamily', 'compositionRamanSpectroscopyFamily', 'compositionFtirFamily', 'compositionOthersFamily']\n",
      "characteristic_uids=['compositionCompositionEnamelCharacteristic', 'compositionCompositionLeatherCharacteristic', 'compositionCompositionNielloCharacteristic', 'compositionCompositionPaintCharacteristic', 'compositionCompositionTextileCharacteristic', 'compositionCompositionWaxCharacteristic', 'compositionCompositionWoodCharacteristic', 'compositionCompositionBoneCharacteristic', 'compositionCompositionOtherCharacteristic']\n",
      " len=9\n",
      " set len=9\n",
      "duplicated items in characteristic_uids=[]\n",
      "\n",
      " //SUBCHARACTERISTIC \n",
      "\n",
      "\n",
      "OrderedDict([('Characteristic', 'Composition'), ('Sub-characteristic', 'Main element(s)'), ('Observation mode', 'Binocular'), ('Values', ''), ('Sub-values', ''), ('Image', ''), ('Variables', 'list'), ('unit', 'elementFamily'), ('uid', ''), ('Definition from observation under binocular', 'Determined in the observed area. Only the family element(s) should be given.'), ('Definition from observation on cross-section', ''), ('Notice for modification of the current MiCorr interface', ''), ('Comments', 'Only if elementary analysis has been carried out.'), ('CP Binocular', 'x'), ('CP CS', ''), ('CM Binocular', ''), ('CM CS', ''), ('D Binocular', 'x'), ('D CS', ''), ('M Binocular', 'x'), ('M CS', ''), ('NMM Binocular', 'x'), ('NMM CS', ''), ('POM Binocular', 'x'), ('POM CS', ''), ('S Binocular', 'x'), ('S CS', ''), ('SV Binocular', ''), ('SV CS', '')])\n",
      "\n",
      "\n",
      "OrderedDict([('Characteristic', 'Composition'), ('Sub-characteristic', 'Secondary element(s)'), ('Observation mode', 'Binocular'), ('Values', ''), ('Sub-values', ''), ('Image', ''), ('Variables', 'list'), ('unit', 'elementFamily'), ('uid', ''), ('Definition from observation under binocular', 'Any other element(s) having a concentration greater than 1% (in weight) and / or affecting the properties of the CP.'), ('Definition from observation on cross-section', ''), ('Notice for modification of the current MiCorr interface', ''), ('Comments', 'Only if elementary analysis has been carried out.'), ('CP Binocular', 'x'), ('CP CS', ''), ('CM Binocular', ''), ('CM CS', ''), ('D Binocular', 'x'), ('D CS', ''), ('M Binocular', 'x'), ('M CS', ''), ('NMM Binocular', 'x'), ('NMM CS', ''), ('POM Binocular', 'x'), ('POM CS', ''), ('S Binocular', 'x'), ('S CS', ''), ('SV Binocular', ''), ('SV CS', '')])\n",
      "\n",
      "\n",
      "OrderedDict([('Characteristic', 'Composition'), ('Sub-characteristic', 'Compounds'), ('Observation mode', 'Binocular'), ('Values', ''), ('Sub-values', ''), ('Image', ''), ('Variables', ''), ('unit', ''), ('uid', ''), ('Definition from observation under binocular', 'Formula of the CP(s) deduced from its (their) main and secondary element(s) and validaded by analytical techniques.'), ('Definition from observation on cross-section', ''), ('Notice for modification of the current MiCorr interface', ''), ('Comments', 'Only if structural or molecular analysis has been carried out.'), ('CP Binocular', 'x'), ('CP CS', ''), ('CM Binocular', ''), ('CM CS', ''), ('D Binocular', 'x'), ('D CS', ''), ('M Binocular', ''), ('M CS', ''), ('NMM Binocular', 'x'), ('NMM CS', ''), ('POM Binocular', 'x'), ('POM CS', ''), ('S Binocular', 'x'), ('S CS', ''), ('SV Binocular', ''), ('SV CS', '')])\n",
      "\n",
      "\n",
      "OrderedDict([('Characteristic', 'Composition'), ('Sub-characteristic', ''), ('Observation mode', 'Binocular'), ('Values', ''), ('Sub-values', ''), ('Image', ''), ('Variables', ''), ('unit', ''), ('uid', ''), ('Definition from observation under binocular', ''), ('Definition from observation on cross-section', ''), ('Notice for modification of the current MiCorr interface', 'Added'), ('Comments', ''), ('CP Binocular', 'x'), ('CP CS', ''), ('CM Binocular', ''), ('CM CS', ''), ('D Binocular', 'x'), ('D CS', ''), ('M Binocular', ''), ('M CS', ''), ('NMM Binocular', 'x'), ('NMM CS', ''), ('POM Binocular', 'x'), ('POM CS', ''), ('S Binocular', 'x'), ('S CS', ''), ('SV Binocular', ''), ('SV CS', '')])\n",
      "\n",
      "\n",
      "OrderedDict([('Characteristic', 'Composition'), ('Sub-characteristic', ''), ('Observation mode', 'Binocular'), ('Values', 'XRD'), ('Sub-values', ''), ('Image', ''), ('Variables', 'formula'), ('unit', 'compoundFamily'), ('uid', ''), ('Definition from observation under binocular', 'Formula.'), ('Definition from observation on cross-section', ''), ('Notice for modification of the current MiCorr interface', 'Added'), ('Comments', ''), ('CP Binocular', 'x'), ('CP CS', ''), ('CM Binocular', ''), ('CM CS', ''), ('D Binocular', 'x'), ('D CS', ''), ('M Binocular', ''), ('M CS', ''), ('NMM Binocular', 'x'), ('NMM CS', ''), ('POM Binocular', 'x'), ('POM CS', ''), ('S Binocular', 'x'), ('S CS', ''), ('SV Binocular', ''), ('SV CS', '')])\n",
      "\n",
      "\n",
      "OrderedDict([('Characteristic', 'Composition'), ('Sub-characteristic', ''), ('Observation mode', 'Binocular'), ('Values', 'Raman spectroscopy'), ('Sub-values', ''), ('Image', ''), ('Variables', 'formula'), ('unit', 'compoundFamily'), ('uid', ''), ('Definition from observation under binocular', 'Formula.'), ('Definition from observation on cross-section', ''), ('Notice for modification of the current MiCorr interface', 'Added'), ('Comments', ''), ('CP Binocular', 'x'), ('CP CS', ''), ('CM Binocular', ''), ('CM CS', ''), ('D Binocular', 'x'), ('D CS', ''), ('M Binocular', ''), ('M CS', ''), ('NMM Binocular', 'x'), ('NMM CS', ''), ('POM Binocular', 'x'), ('POM CS', ''), ('S Binocular', 'x'), ('S CS', ''), ('SV Binocular', ''), ('SV CS', '')])\n",
      "\n",
      "\n",
      "OrderedDict([('Characteristic', 'Composition'), ('Sub-characteristic', ''), ('Observation mode', 'Binocular'), ('Values', 'FTIR'), ('Sub-values', ''), ('Image', ''), ('Variables', 'formula'), ('unit', 'compoundFamily'), ('uid', ''), ('Definition from observation under binocular', 'Formula.'), ('Definition from observation on cross-section', ''), ('Notice for modification of the current MiCorr interface', 'Added'), ('Comments', ''), ('CP Binocular', 'x'), ('CP CS', ''), ('CM Binocular', ''), ('CM CS', ''), ('D Binocular', 'x'), ('D CS', ''), ('M Binocular', ''), ('M CS', ''), ('NMM Binocular', 'x'), ('NMM CS', ''), ('POM Binocular', 'x'), ('POM CS', ''), ('S Binocular', 'x'), ('S CS', ''), ('SV Binocular', ''), ('SV CS', '')])\n",
      "\n",
      "\n",
      "OrderedDict([('Characteristic', 'Composition'), ('Sub-characteristic', ''), ('Observation mode', 'Binocular'), ('Values', 'Others'), ('Sub-values', ''), ('Image', ''), ('Variables', 'formula'), ('unit', 'compoundFamily'), ('uid', ''), ('Definition from observation under binocular', 'Formula.'), ('Definition from observation on cross-section', ''), ('Notice for modification of the current MiCorr interface', 'Added'), ('Comments', ''), ('CP Binocular', 'x'), ('CP CS', ''), ('CM Binocular', ''), ('CM CS', ''), ('D Binocular', 'x'), ('D CS', ''), ('M Binocular', ''), ('M CS', ''), ('NMM Binocular', 'x'), ('NMM CS', ''), ('POM Binocular', 'x'), ('POM CS', ''), ('S Binocular', 'x'), ('S CS', ''), ('SV Binocular', ''), ('SV CS', '')])\n",
      "\n",
      "\n",
      "OrderedDict([('Characteristic', 'Composition'), ('Sub-characteristic', 'Additional element(s)'), ('Observation mode', 'Binocular'), ('Values', ''), ('Sub-values', ''), ('Image', ''), ('Variables', 'list'), ('unit', 'elementFamily'), ('uid', ''), ('Definition from observation under binocular', 'Any other element(s) not reported in main and secondary element(s). For CM, any element(s) not in M and CP.'), ('Definition from observation on cross-section', ''), ('Notice for modification of the current MiCorr interface', ''), ('Comments', 'Only if elementary analysis has been carried out.'), ('CP Binocular', 'x'), ('CP CS', ''), ('CM Binocular', 'x'), ('CM CS', ''), ('D Binocular', 'x'), ('D CS', ''), ('M Binocular', 'x'), ('M CS', ''), ('NMM Binocular', 'x'), ('NMM CS', ''), ('POM Binocular', 'x'), ('POM CS', ''), ('S Binocular', 'x'), ('S CS', ''), ('SV Binocular', ''), ('SV CS', '')])\n",
      "\n",
      "\n",
      "OrderedDict([('Characteristic', 'Composition'), ('Sub-characteristic', 'Second band / aggregate'), ('Observation mode', 'Binocular'), ('Values', ''), ('Sub-values', ''), ('Image', ''), ('Variables', ''), ('unit', ''), ('uid', ''), ('Definition from observation under binocular', ''), ('Definition from observation on cross-section', ''), ('Notice for modification of the current MiCorr interface', ''), ('Comments', ''), ('CP Binocular', ''), ('CP CS', ''), ('CM Binocular', ''), ('CM CS', ''), ('D Binocular', ''), ('D CS', ''), ('M Binocular', ''), ('M CS', ''), ('NMM Binocular', ''), ('NMM CS', ''), ('POM Binocular', ''), ('POM CS', ''), ('S Binocular', ''), ('S CS', ''), ('SV Binocular', ''), ('SV CS', '')])\n",
      "\n",
      "// new fieldset=Second band / aggregate\n",
      "\n",
      "OrderedDict([('Characteristic', 'Composition'), ('Sub-characteristic', ''), ('Observation mode', 'Binocular'), ('Values', 'main element(s)'), ('Sub-values', ''), ('Image', ''), ('Variables', 'list'), ('unit', 'elementFamily'), ('uid', ''), ('Definition from observation under binocular', 'Only the family element(s) should be given.'), ('Definition from observation on cross-section', ''), ('Notice for modification of the current MiCorr interface', ''), ('Comments', 'Only if elementary analysis has been carried out.'), ('CP Binocular', 'x'), ('CP CS', ''), ('CM Binocular', ''), ('CM CS', ''), ('D Binocular', ''), ('D CS', ''), ('M Binocular', ''), ('M CS', ''), ('NMM Binocular', ''), ('NMM CS', ''), ('POM Binocular', ''), ('POM CS', ''), ('S Binocular', ''), ('S CS', ''), ('SV Binocular', ''), ('SV CS', '')])\n",
      "\n",
      "\n",
      "OrderedDict([('Characteristic', 'Composition'), ('Sub-characteristic', ''), ('Observation mode', 'Binocular'), ('Values', 'secondary element(s)'), ('Sub-values', ''), ('Image', ''), ('Variables', 'list'), ('unit', 'elementFamily'), ('uid', ''), ('Definition from observation under binocular', 'Any other element(s) having a concentration greater than 1% (in weight) and / or affecting the properties of the CP.'), ('Definition from observation on cross-section', ''), ('Notice for modification of the current MiCorr interface', ''), ('Comments', 'Only if elementary analysis has been carried out.'), ('CP Binocular', 'x'), ('CP CS', ''), ('CM Binocular', ''), ('CM CS', ''), ('D Binocular', ''), ('D CS', ''), ('M Binocular', ''), ('M CS', ''), ('NMM Binocular', ''), ('NMM CS', ''), ('POM Binocular', ''), ('POM CS', ''), ('S Binocular', ''), ('S CS', ''), ('SV Binocular', ''), ('SV CS', '')])\n",
      "\n",
      "\n",
      "OrderedDict([('Characteristic', 'Composition'), ('Sub-characteristic', 'Second band / aggregate\\nCompounds'), ('Observation mode', 'Binocular'), ('Values', ''), ('Sub-values', ''), ('Image', ''), ('Variables', ''), ('unit', ''), ('uid', ''), ('Definition from observation under binocular', 'Formula of the CP(s) deduced from its (their) main and secondary element(s).'), ('Definition from observation on cross-section', ''), ('Notice for modification of the current MiCorr interface', 'Added'), ('Comments', 'Only if structural or molecular analysis has been carried out.'), ('CP Binocular', 'x'), ('CP CS', ''), ('CM Binocular', ''), ('CM CS', ''), ('D Binocular', ''), ('D CS', ''), ('M Binocular', ''), ('M CS', ''), ('NMM Binocular', ''), ('NMM CS', ''), ('POM Binocular', ''), ('POM CS', ''), ('S Binocular', ''), ('S CS', ''), ('SV Binocular', ''), ('SV CS', '')])\n",
      "\n",
      "\n",
      "OrderedDict([('Characteristic', 'Composition'), ('Sub-characteristic', ''), ('Observation mode', 'Binocular'), ('Values', ''), ('Sub-values', ''), ('Image', ''), ('Variables', ''), ('unit', ''), ('uid', ''), ('Definition from observation under binocular', ''), ('Definition from observation on cross-section', ''), ('Notice for modification of the current MiCorr interface', 'Added'), ('Comments', ''), ('CP Binocular', 'x'), ('CP CS', ''), ('CM Binocular', ''), ('CM CS', ''), ('D Binocular', ''), ('D CS', ''), ('M Binocular', ''), ('M CS', ''), ('NMM Binocular', ''), ('NMM CS', ''), ('POM Binocular', ''), ('POM CS', ''), ('S Binocular', ''), ('S CS', ''), ('SV Binocular', ''), ('SV CS', '')])\n",
      "\n",
      "\n",
      "OrderedDict([('Characteristic', 'Composition'), ('Sub-characteristic', ''), ('Observation mode', 'Binocular'), ('Values', 'XRD'), ('Sub-values', ''), ('Image', ''), ('Variables', 'formula'), ('unit', 'compoundFamily'), ('uid', ''), ('Definition from observation under binocular', 'Formula.'), ('Definition from observation on cross-section', ''), ('Notice for modification of the current MiCorr interface', 'Added'), ('Comments', ''), ('CP Binocular', 'x'), ('CP CS', ''), ('CM Binocular', ''), ('CM CS', ''), ('D Binocular', ''), ('D CS', ''), ('M Binocular', ''), ('M CS', ''), ('NMM Binocular', ''), ('NMM CS', ''), ('POM Binocular', ''), ('POM CS', ''), ('S Binocular', ''), ('S CS', ''), ('SV Binocular', ''), ('SV CS', '')])\n",
      "\n",
      "\n",
      "OrderedDict([('Characteristic', 'Composition'), ('Sub-characteristic', ''), ('Observation mode', 'Binocular'), ('Values', 'Raman spectroscopy'), ('Sub-values', ''), ('Image', ''), ('Variables', 'formula'), ('unit', 'compoundFamily'), ('uid', ''), ('Definition from observation under binocular', 'Formula.'), ('Definition from observation on cross-section', ''), ('Notice for modification of the current MiCorr interface', 'Added'), ('Comments', ''), ('CP Binocular', 'x'), ('CP CS', ''), ('CM Binocular', ''), ('CM CS', ''), ('D Binocular', ''), ('D CS', ''), ('M Binocular', ''), ('M CS', ''), ('NMM Binocular', ''), ('NMM CS', ''), ('POM Binocular', ''), ('POM CS', ''), ('S Binocular', ''), ('S CS', ''), ('SV Binocular', ''), ('SV CS', '')])\n",
      "\n",
      "\n",
      "OrderedDict([('Characteristic', 'Composition'), ('Sub-characteristic', ''), ('Observation mode', 'Binocular'), ('Values', 'FTIR'), ('Sub-values', ''), ('Image', ''), ('Variables', 'formula'), ('unit', 'compoundFamily'), ('uid', ''), ('Definition from observation under binocular', 'Formula.'), ('Definition from observation on cross-section', ''), ('Notice for modification of the current MiCorr interface', 'Added'), ('Comments', ''), ('CP Binocular', 'x'), ('CP CS', ''), ('CM Binocular', ''), ('CM CS', ''), ('D Binocular', ''), ('D CS', ''), ('M Binocular', ''), ('M CS', ''), ('NMM Binocular', ''), ('NMM CS', ''), ('POM Binocular', ''), ('POM CS', ''), ('S Binocular', ''), ('S CS', ''), ('SV Binocular', ''), ('SV CS', '')])\n",
      "\n",
      "\n",
      "OrderedDict([('Characteristic', 'Composition'), ('Sub-characteristic', ''), ('Observation mode', 'Binocular'), ('Values', 'Others'), ('Sub-values', ''), ('Image', ''), ('Variables', 'formula'), ('unit', 'compoundFamily'), ('uid', ''), ('Definition from observation under binocular', 'Formula.'), ('Definition from observation on cross-section', ''), ('Notice for modification of the current MiCorr interface', 'Added'), ('Comments', ''), ('CP Binocular', 'x'), ('CP CS', ''), ('CM Binocular', ''), ('CM CS', ''), ('D Binocular', ''), ('D CS', ''), ('M Binocular', ''), ('M CS', ''), ('NMM Binocular', ''), ('NMM CS', ''), ('POM Binocular', ''), ('POM CS', ''), ('S Binocular', ''), ('S CS', ''), ('SV Binocular', ''), ('SV CS', '')])\n",
      "\n",
      "\n",
      "OrderedDict([('Characteristic', 'Composition'), ('Sub-characteristic', 'Second band / aggregate'), ('Observation mode', 'Binocular'), ('Values', ''), ('Sub-values', ''), ('Image', ''), ('Variables', ''), ('unit', ''), ('uid', ''), ('Definition from observation under binocular', ''), ('Definition from observation on cross-section', ''), ('Notice for modification of the current MiCorr interface', ''), ('Comments', ''), ('CP Binocular', ''), ('CP CS', ''), ('CM Binocular', ''), ('CM CS', ''), ('D Binocular', ''), ('D CS', ''), ('M Binocular', ''), ('M CS', ''), ('NMM Binocular', ''), ('NMM CS', ''), ('POM Binocular', ''), ('POM CS', ''), ('S Binocular', ''), ('S CS', ''), ('SV Binocular', ''), ('SV CS', '')])\n",
      "\n",
      "// new fieldset=Second band / aggregate\n",
      "\n",
      "OrderedDict([('Characteristic', 'Composition'), ('Sub-characteristic', ''), ('Observation mode', 'Binocular'), ('Values', 'additional element(s)'), ('Sub-values', ''), ('Image', ''), ('Variables', 'list'), ('unit', 'elementFamily'), ('uid', ''), ('Definition from observation under binocular', 'Any other element(s) not reported in main and secondary element(s).'), ('Definition from observation on cross-section', ''), ('Notice for modification of the current MiCorr interface', ''), ('Comments', 'Only if elementary analysis has been carried out.'), ('CP Binocular', 'x'), ('CP CS', ''), ('CM Binocular', ''), ('CM CS', ''), ('D Binocular', ''), ('D CS', ''), ('M Binocular', ''), ('M CS', ''), ('NMM Binocular', ''), ('NMM CS', ''), ('POM Binocular', ''), ('POM CS', ''), ('S Binocular', ''), ('S CS', ''), ('SV Binocular', ''), ('SV CS', '')])\n",
      "\n",
      "\n",
      "OrderedDict([('Characteristic', 'Composition'), ('Sub-characteristic', 'Composition'), ('Observation mode', 'Binocular'), ('Values', ''), ('Sub-values', ''), ('Image', ''), ('Variables', ''), ('unit', ''), ('uid', ''), ('Definition from observation under binocular', ''), ('Definition from observation on cross-section', ''), ('Notice for modification of the current MiCorr interface', ''), ('Comments', ''), ('CP Binocular', ''), ('CP CS', ''), ('CM Binocular', ''), ('CM CS', ''), ('D Binocular', ''), ('D CS', ''), ('M Binocular', ''), ('M CS', ''), ('NMM Binocular', 'x'), ('NMM CS', ''), ('POM Binocular', 'x'), ('POM CS', ''), ('S Binocular', ''), ('S CS', ''), ('SV Binocular', ''), ('SV CS', '')])\n",
      "\n",
      "\n",
      "OrderedDict([('Characteristic', 'Composition'), ('Sub-characteristic', ''), ('Observation mode', 'Binocular'), ('Values', 'Enamel'), ('Sub-values', ''), ('Image', ''), ('Variables', ''), ('unit', ''), ('uid', ''), ('Definition from observation under binocular', 'Opaque or semi-transparent glossy substance that is a type of glass, applied by vitrification to metallic surfaces for ornament or as a protective coating.'), ('Definition from observation on cross-section', ''), ('Notice for modification of the current MiCorr interface', ''), ('Comments', ''), ('CP Binocular', ''), ('CP CS', ''), ('CM Binocular', ''), ('CM CS', ''), ('D Binocular', ''), ('D CS', ''), ('M Binocular', ''), ('M CS', ''), ('NMM Binocular', 'x'), ('NMM CS', ''), ('POM Binocular', ''), ('POM CS', ''), ('S Binocular', ''), ('S CS', ''), ('SV Binocular', ''), ('SV CS', '')])\n",
      "\n",
      "\n",
      "OrderedDict([('Characteristic', 'Composition'), ('Sub-characteristic', ''), ('Observation mode', 'Binocular'), ('Values', 'Leather'), ('Sub-values', ''), ('Image', ''), ('Variables', ''), ('unit', ''), ('uid', ''), ('Definition from observation under binocular', 'Organic material created by tanning of animals skin.'), ('Definition from observation on cross-section', ''), ('Notice for modification of the current MiCorr interface', ''), ('Comments', ''), ('CP Binocular', ''), ('CP CS', ''), ('CM Binocular', ''), ('CM CS', ''), ('D Binocular', ''), ('D CS', ''), ('M Binocular', ''), ('M CS', ''), ('NMM Binocular', 'x'), ('NMM CS', ''), ('POM Binocular', 'x'), ('POM CS', ''), ('S Binocular', ''), ('S CS', ''), ('SV Binocular', ''), ('SV CS', '')])\n",
      "\n",
      "\n",
      "OrderedDict([('Characteristic', 'Composition'), ('Sub-characteristic', ''), ('Observation mode', 'Binocular'), ('Values', 'Niello'), ('Sub-values', ''), ('Image', ''), ('Variables', ''), ('unit', ''), ('uid', ''), ('Definition from observation under binocular', 'Black compound of sulphur with silver, lead, or copper, used for filling in engraved designs in silver or other metals.'), ('Definition from observation on cross-section', ''), ('Notice for modification of the current MiCorr interface', ''), ('Comments', ''), ('CP Binocular', ''), ('CP CS', ''), ('CM Binocular', ''), ('CM CS', ''), ('D Binocular', ''), ('D CS', ''), ('M Binocular', ''), ('M CS', ''), ('NMM Binocular', 'x'), ('NMM CS', ''), ('POM Binocular', ''), ('POM CS', ''), ('S Binocular', ''), ('S CS', ''), ('SV Binocular', ''), ('SV CS', '')])\n",
      "\n",
      "\n",
      "OrderedDict([('Characteristic', 'Composition'), ('Sub-characteristic', ''), ('Observation mode', 'Binocular'), ('Values', 'Paint'), ('Sub-values', ''), ('Image', ''), ('Variables', ''), ('unit', ''), ('uid', ''), ('Definition from observation under binocular', 'Pigmented material applied as a thin layer and forming a solid film.'), ('Definition from observation on cross-section', ''), ('Notice for modification of the current MiCorr interface', ''), ('Comments', ''), ('CP Binocular', ''), ('CP CS', ''), ('CM Binocular', ''), ('CM CS', ''), ('D Binocular', ''), ('D CS', ''), ('M Binocular', ''), ('M CS', ''), ('NMM Binocular', 'x'), ('NMM CS', ''), ('POM Binocular', ''), ('POM CS', ''), ('S Binocular', ''), ('S CS', ''), ('SV Binocular', ''), ('SV CS', '')])\n",
      "\n",
      "\n",
      "OrderedDict([('Characteristic', 'Composition'), ('Sub-characteristic', ''), ('Observation mode', 'Binocular'), ('Values', 'Textile'), ('Sub-values', ''), ('Image', ''), ('Variables', ''), ('unit', ''), ('uid', ''), ('Definition from observation under binocular', 'Flexible material composed of a network of artificial or natural fibers.'), ('Definition from observation on cross-section', ''), ('Notice for modification of the current MiCorr interface', ''), ('Comments', ''), ('CP Binocular', ''), ('CP CS', ''), ('CM Binocular', ''), ('CM CS', ''), ('D Binocular', ''), ('D CS', ''), ('M Binocular', ''), ('M CS', ''), ('NMM Binocular', 'x'), ('NMM CS', ''), ('POM Binocular', 'x'), ('POM CS', ''), ('S Binocular', ''), ('S CS', ''), ('SV Binocular', ''), ('SV CS', '')])\n",
      "\n",
      "\n",
      "OrderedDict([('Characteristic', 'Composition'), ('Sub-characteristic', ''), ('Observation mode', 'Binocular'), ('Values', 'Wax '), ('Sub-values', ''), ('Image', ''), ('Variables', ''), ('unit', ''), ('uid', ''), ('Definition from observation under binocular', 'Organic compound, lipophilic, malleable, solid at ambient temperatures and melts above about 40°C. Insoluble in water, but soluble in nonpolar, organic solvents. Can be produced by plants, animals or with artificial material.'), ('Definition from observation on cross-section', ''), ('Notice for modification of the current MiCorr interface', ''), ('Comments', ''), ('CP Binocular', ''), ('CP CS', ''), ('CM Binocular', ''), ('CM CS', ''), ('D Binocular', ''), ('D CS', ''), ('M Binocular', ''), ('M CS', ''), ('NMM Binocular', 'x'), ('NMM CS', ''), ('POM Binocular', ''), ('POM CS', ''), ('S Binocular', ''), ('S CS', ''), ('SV Binocular', ''), ('SV CS', '')])\n",
      "\n",
      "\n",
      "OrderedDict([('Characteristic', 'Composition'), ('Sub-characteristic', ''), ('Observation mode', 'Binocular'), ('Values', 'Wood'), ('Sub-values', ''), ('Image', ''), ('Variables', ''), ('unit', ''), ('uid', ''), ('Definition from observation under binocular', 'Porous and fibrous structure founds in trees and plants.'), ('Definition from observation on cross-section', ''), ('Notice for modification of the current MiCorr interface', ''), ('Comments', ''), ('CP Binocular', ''), ('CP CS', ''), ('CM Binocular', ''), ('CM CS', ''), ('D Binocular', ''), ('D CS', ''), ('M Binocular', ''), ('M CS', ''), ('NMM Binocular', 'x'), ('NMM CS', ''), ('POM Binocular', 'x'), ('POM CS', ''), ('S Binocular', ''), ('S CS', ''), ('SV Binocular', ''), ('SV CS', '')])\n",
      "\n",
      "\n",
      "OrderedDict([('Characteristic', 'Composition'), ('Sub-characteristic', ''), ('Observation mode', 'Binocular'), ('Values', 'Bone'), ('Sub-values', ''), ('Image', ''), ('Variables', ''), ('unit', ''), ('uid', ''), ('Definition from observation under binocular', 'Rigid organ that constitutes part of the vertebrate skeleton in animals.'), ('Definition from observation on cross-section', ''), ('Notice for modification of the current MiCorr interface', ''), ('Comments', ''), ('CP Binocular', ''), ('CP CS', ''), ('CM Binocular', ''), ('CM CS', ''), ('D Binocular', ''), ('D CS', ''), ('M Binocular', ''), ('M CS', ''), ('NMM Binocular', 'x'), ('NMM CS', ''), ('POM Binocular', 'x'), ('POM CS', ''), ('S Binocular', ''), ('S CS', ''), ('SV Binocular', ''), ('SV CS', '')])\n",
      "\n",
      "\n",
      "OrderedDict([('Characteristic', 'Composition'), ('Sub-characteristic', ''), ('Observation mode', 'Binocular'), ('Values', 'Other'), ('Sub-values', ''), ('Image', ''), ('Variables', ''), ('unit', ''), ('uid', ''), ('Definition from observation under binocular', ''), ('Definition from observation on cross-section', ''), ('Notice for modification of the current MiCorr interface', ''), ('Comments', ''), ('CP Binocular', ''), ('CP CS', ''), ('CM Binocular', ''), ('CM CS', ''), ('D Binocular', ''), ('D CS', ''), ('M Binocular', ''), ('M CS', ''), ('NMM Binocular', 'x'), ('NMM CS', ''), ('POM Binocular', ''), ('POM CS', ''), ('S Binocular', ''), ('S CS', ''), ('SV Binocular', ''), ('SV CS', '')])\n",
      "\n",
      "family_uids=['compositionXrdFamily', 'compositionRamanSpectroscopyFamily', 'compositionFtirFamily', 'compositionOthersFamily', 'compositionXrdFamily', 'compositionRamanSpectroscopyFamily', 'compositionFtirFamily', 'compositionOthersFamily', 'compositionMainElementsFamily', 'compositionSecondaryElementsFamily', 'compositionXrdFamily', 'compositionRamanSpectroscopyFamily', 'compositionFtirFamily', 'compositionOthersFamily', 'compositionAdditionalElementsFamily', 'compositionSecondBandAggregateMainElementsFamily', 'compositionSecondBandAggregateSecondaryElementsFamily', 'compositionXrdFamily', 'compositionRamanSpectroscopyFamily', 'compositionFtirFamily', 'compositionOthersFamily', 'compositionSecondBandAggregateAdditionalElementsFamily']\n",
      " len=22\n",
      " set len=10\n",
      "duplicated items in family_uids=['compositionXrdFamily', 'compositionRamanSpectroscopyFamily', 'compositionFtirFamily', 'compositionOthersFamily', 'compositionXrdFamily', 'compositionRamanSpectroscopyFamily', 'compositionFtirFamily', 'compositionOthersFamily', 'compositionXrdFamily', 'compositionRamanSpectroscopyFamily', 'compositionFtirFamily', 'compositionOthersFamily']\n",
      "characteristic_uids=['compositionCompositionEnamelCharacteristic', 'compositionCompositionLeatherCharacteristic', 'compositionCompositionNielloCharacteristic', 'compositionCompositionPaintCharacteristic', 'compositionCompositionTextileCharacteristic', 'compositionCompositionWaxCharacteristic', 'compositionCompositionWoodCharacteristic', 'compositionCompositionBoneCharacteristic', 'compositionCompositionOtherCharacteristic']\n",
      " len=9\n",
      " set len=9\n",
      "duplicated items in characteristic_uids=[]\n"
     ]
    }
   ],
   "source": [
    "print('\\n //FAMILY \\n')\n",
    "import_family_group('Composition',filter_observation='Binocular', fieldsets=['Second band / aggregate'], filter_print=FAMILY|DEBUG)\n",
    "print('\\n //CHARACTERISTIC \\n')\n",
    "import_family_group('Composition',filter_observation='Binocular', fieldsets=['Second band / aggregate'], filter_print=CHARACTERISTIC|DEBUG)\n",
    "print('\\n //SUBCHARACTERISTIC \\n')\n",
    "import_family_group('Composition',filter_observation='Binocular', fieldsets=['Second band / aggregate'], filter_print=SUBCHARACTERISTIC|DEBUG)\n",
    "\n"
   ]
  },
  {
   "cell_type": "code",
   "execution_count": 251,
   "metadata": {},
   "outputs": [
    {
     "name": "stdout",
     "output_type": "stream",
     "text": [
      "\n",
      " //FAMILY \n",
      "\n",
      "// new family_name=Main element(s) uid: compositionMainElementsFamily\n",
      "{fg:'fgComposition', order:1, observation:binocular, uid:'compositionMainElementsFamily', name:'Main element(s)', visible: False, variable: False, description:'Determined in the observed area. Only the family element(s) should be given.', natures:['cp', 'deposit', 'metal', 'nmm', 'pom', 'soil'], list_elem_family:'elementFamily', upto:0},\n",
      "// new family_name=Secondary element(s) uid: compositionSecondaryElementsFamily\n",
      "{fg:'fgComposition', order:2, observation:binocular, uid:'compositionSecondaryElementsFamily', name:'Secondary element(s)', visible: False, variable: False, description:'Any other element(s) having a concentration greater than 1% (in weight) and / or affecting the properties of the CP.', natures:['cp', 'deposit', 'metal', 'nmm', 'pom', 'soil'], list_elem_family:'elementFamily', upto:0},\n",
      "// new fieldset=Compounds\n",
      "{fg:'fgComposition', order:4, observation:binocular, uid:'compositionCompoundsXrdFamily', name:'XRD', visible: False, variable: False, description:'Formula.', natures:['cp', 'deposit', 'nmm', 'pom', 'soil'], fieldset:'Compounds', list_elem_family:'compoundFamily', upto:1},\n",
      "{fg:'fgComposition', order:5, observation:binocular, uid:'compositionCompoundsRamanSpectroscopyFamily', name:'Raman spectroscopy', visible: False, variable: False, description:'Formula.', natures:['cp', 'deposit', 'nmm', 'pom', 'soil'], fieldset:'Compounds', list_elem_family:'compoundFamily', upto:1},\n",
      "{fg:'fgComposition', order:6, observation:binocular, uid:'compositionCompoundsFtirFamily', name:'FTIR', visible: False, variable: False, description:'Formula.', natures:['cp', 'deposit', 'nmm', 'pom', 'soil'], fieldset:'Compounds', list_elem_family:'compoundFamily', upto:1},\n",
      "{fg:'fgComposition', order:7, observation:binocular, uid:'compositionCompoundsOthersFamily', name:'Others', visible: False, variable: False, description:'Formula.', natures:['cp', 'deposit', 'nmm', 'pom', 'soil'], fieldset:'Compounds', list_elem_family:'compoundFamily', upto:1},\n",
      "// new family_name=Additional element(s) uid: compositionAdditionalElementsFamily\n",
      "{fg:'fgComposition', order:8, observation:binocular, uid:'compositionAdditionalElementsFamily', name:'Additional element(s)', visible: False, variable: False, description:'Any other element(s) not reported in main and secondary element(s). For CM, any element(s) not in M and CP.', natures:['cp', 'cm', 'deposit', 'metal', 'nmm', 'pom', 'soil'], list_elem_family:'elementFamily', upto:0},\n",
      "// new fieldset=Second band / aggregate\n",
      "{fg:'fgComposition', order:10, observation:binocular, uid:'compositionSecondBandAggregateMainElementsFamily', name:'main element(s)', visible: False, variable: False, description:'Only the family element(s) should be given.', natures:['cp'], fieldset:'Second band / aggregate', list_elem_family:'elementFamily', upto:0},\n",
      "{fg:'fgComposition', order:11, observation:binocular, uid:'compositionSecondBandAggregateSecondaryElementsFamily', name:'secondary element(s)', visible: False, variable: False, description:'Any other element(s) having a concentration greater than 1% (in weight) and / or affecting the properties of the CP.', natures:['cp'], fieldset:'Second band / aggregate', list_elem_family:'elementFamily', upto:0},\n",
      "{fg:'fgComposition', order:12, observation:binocular, uid:'compositionSecondBandAggregateAdditionalElementsFamily', name:'additional element(s)', visible: False, variable: False, description:'Any other element(s) not reported in main and secondary element(s).', natures:['cp'], fieldset:'Second band / aggregate', list_elem_family:'elementFamily', upto:0},\n"
     ]
    }
   ],
   "source": [
    "print('\\n //FAMILY \\n')\n",
    "import_family_group('Composition',filter_observation='Binocular', fieldsets=[ 'Compounds', 'Second band / aggregate'], filter_print=FAMILY)\n"
   ]
  },
  {
   "cell_type": "code",
   "execution_count": 274,
   "metadata": {
    "scrolled": true
   },
   "outputs": [
    {
     "name": "stdout",
     "output_type": "stream",
     "text": [
      "\n",
      " //CHARACTERISTIC \n",
      "\n",
      "// new fieldset=Main element(s)\n",
      "// new fieldset=Secondary element(s)\n",
      "// new fieldset=Compounds\n",
      "// new fieldset=Additional element(s)\n",
      "{family_uid:'compositionSecondBandAggregateCompoundsCSFamily', uid:'compositionSecondBandAggregateCompoundsTechniquesCSCharacteristic', name:'Techniques', order:1, natures:['cp']},\n",
      "{family_uid:'compositionCSFamily', uid:'compositionCompositionEnamelCSCharacteristic', name:'Enamel', order:2, natures:['nmm'], description:'Opaque or semi-transparent glossy substance that is a type of glass, applied by vitrification to metallic surfaces for ornament or as a protective coating.'},\n",
      "{family_uid:'compositionCSFamily', uid:'compositionCompositionLeatherCSCharacteristic', name:'Leather', order:3, natures:['nmm', 'pom'], description:'Organic material created by tanning of animals skin.'},\n",
      "{family_uid:'compositionCSFamily', uid:'compositionCompositionNielloCSCharacteristic', name:'Niello', order:4, natures:['nmm'], description:'Black compound of sulphur with silver, lead, or copper, used for filling in engraved designs in silver or other metals.'},\n",
      "{family_uid:'compositionCSFamily', uid:'compositionCompositionPaintCSCharacteristic', name:'Paint', order:5, natures:['nmm'], description:'Pigmented material applied as a thin layers and forming a solid film.'},\n",
      "{family_uid:'compositionCSFamily', uid:'compositionCompositionTextileCSCharacteristic', name:'Textile', order:6, natures:['nmm', 'pom'], description:'Flexible material composed of a network of artificial or natural fibers.'},\n",
      "{family_uid:'compositionCSFamily', uid:'compositionCompositionWaxCSCharacteristic', name:'Wax ', order:7, natures:['nmm'], description:'Organic compound, lipophilic, malleable, solid at ambient temperatures and melt above about 40°C. Insoluble in water, but soluble in nonpolar, organic solvents. Can be produced by plants, animals or with artificial material.'},\n",
      "{family_uid:'compositionCSFamily', uid:'compositionCompositionWoodCSCharacteristic', name:'Wood', order:8, natures:['nmm', 'pom'], description:'Porous and fibrous structure founds in trees and plants.'},\n",
      "{family_uid:'compositionCSFamily', uid:'compositionCompositionBoneCSCharacteristic', name:'Bone', order:9, natures:['nmm', 'pom'], description:'Rigid organ that constitutes part of the vertebrate skeleton in animals.'},\n",
      "{family_uid:'compositionCSFamily', uid:'compositionCompositionOtherCSCharacteristic', name:'Other', order:10, natures:['nmm']},\n"
     ]
    }
   ],
   "source": [
    "\n",
    "print('\\n //CHARACTERISTIC \\n')\n",
    "import_family_group('Composition',filter_observation='Cross-section', fieldsets=[ 'Main element(s)', 'Secondary element(s)','Compounds', 'Additional element(s)', 'Second band / aggregate'], filter_print=CHARACTERISTIC)\n",
    "# print('\\n //SUBCHARACTERISTIC \\n')\n",
    "# import_family_group('Composition',filter_observation='Cross-section', fieldsets=[ 'Main element(s)', 'Secondary element(s)','Compounds', 'Additional element(s)', 'Second band / aggregate'], filter_print=SUBCHARACTERISTIC)\n"
   ]
  },
  {
   "cell_type": "code",
   "execution_count": 272,
   "metadata": {},
   "outputs": [
    {
     "name": "stdout",
     "output_type": "stream",
     "text": [
      "\n",
      " //FAMILY \n",
      "\n",
      "// new fieldset=Main element(s)\n",
      "{fg:'fgComposition', order:2, observation:cross_section, uid:'compositionMainElementsListCSFamily', name:'List', visible: False, variable: False, description:'Determined in the observed area. Only the family element(s) should be given.', natures:['cp', 'deposit', 'metal', 'nmm', 'pom', 'soil'], fieldset:'Main element(s)', list_elem_family:'elementFamily', upto:0},\n",
      "{fg:'fgComposition', order:3, observation:cross_section, uid:'compositionMainElementsAmountCSVarFamily', name:'Amount', visible: False, variable: True, description:'In % (mass).', natures:['cp', 'deposit', 'metal', 'nmm', 'pom', 'soil'], unit:'%', fieldset:'Main element(s)'},\n",
      "// new fieldset=Secondary element(s)\n",
      "{fg:'fgComposition', order:5, observation:cross_section, uid:'compositionSecondaryElementsListCSFamily', name:'List', visible: False, variable: False, description:'Any other element(s) having a concentration greater than 1% (in weight) and / or affecting the properties of the CP.', natures:['cp', 'deposit', 'metal', 'nmm', 'pom', 'soil'], fieldset:'Secondary element(s)', list_elem_family:'elementFamily', upto:0},\n",
      "{fg:'fgComposition', order:6, observation:cross_section, uid:'compositionSecondaryElementsAmountCSVarFamily', name:'Amount', visible: False, variable: True, description:'In % (mass).', natures:['cp', 'deposit', 'metal', 'nmm', 'pom', 'soil'], unit:'%', fieldset:'Secondary element(s)'},\n",
      "// new fieldset=Compounds\n",
      "{fg:'fgComposition', order:8, observation:cross_section, uid:'compositionCompoundsXrdCSFamily', name:'XRD', visible: False, variable: False, description:'Formula.', natures:['cp', 'deposit', 'nmm', 'pom', 'soil'], fieldset:'Compounds', list_elem_family:'compoundFamily', upto:1},\n",
      "{fg:'fgComposition', order:9, observation:cross_section, uid:'compositionCompoundsRamanSpectroscopyCSFamily', name:'Raman spectroscopy', visible: False, variable: False, description:'Formula.', natures:['cp', 'deposit', 'nmm', 'pom', 'soil'], fieldset:'Compounds', list_elem_family:'compoundFamily', upto:1},\n",
      "{fg:'fgComposition', order:10, observation:cross_section, uid:'compositionCompoundsFtirCSFamily', name:'FTIR', visible: False, variable: False, description:'Formula.', natures:['cp', 'deposit', 'nmm', 'pom', 'soil'], fieldset:'Compounds', list_elem_family:'compoundFamily', upto:1},\n",
      "{fg:'fgComposition', order:11, observation:cross_section, uid:'compositionCompoundsOthersCSFamily', name:'Others', visible: False, variable: False, description:'Formula.', natures:['cp', 'deposit', 'nmm', 'pom', 'soil'], fieldset:'Compounds', list_elem_family:'compoundFamily', upto:1},\n",
      "// new fieldset=Additional element(s)\n",
      "{fg:'fgComposition', order:13, observation:cross_section, uid:'compositionAdditionalElementsListCSFamily', name:'List', visible: False, variable: False, description:'Any other element(s) not reported in main and secondary element(s). For CM, any element(s) not in M and CP.', natures:['cp', 'deposit', 'metal', 'nmm', 'pom', 'soil'], fieldset:'Additional element(s)', list_elem_family:'elementFamily', upto:0},\n",
      "{fg:'fgComposition', order:14, observation:cross_section, uid:'compositionAdditionalElementsAmountCSVarFamily', name:'Amount', visible: False, variable: True, description:'In % (mass).', natures:['cp', 'deposit', 'metal', 'nmm', 'pom', 'soil'], unit:'%', fieldset:'Additional element(s)'},\n",
      "{fg:'fgComposition', order:15, observation:cross_section, uid:'compositionAdditionalElementsMAmountCSVarFamily', name:'M Amount', visible: False, variable: True, description:'In M part of CM, in % (mass).', natures:['cm'], unit:'%', fieldset:'Additional element(s)'},\n",
      "{fg:'fgComposition', order:16, observation:cross_section, uid:'compositionAdditionalElementsCpAmountCSVarFamily', name:'CP Amount', visible: False, variable: True, description:'In CP part of CM, in % (mass).', natures:['cm'], unit:'%', fieldset:'Additional element(s)'},\n",
      "{fg:'fgComposition', order:17, observation:cross_section, uid:'compositionAdditionalElementsAggAmountCSVarFamily', name:'Agg Amount', visible: False, variable: True, description:'In  aggregate(s) of CM, in % (mass).', natures:['cm'], unit:'%', fieldset:'Additional element(s)'},\n",
      "// new fieldset=Second band / aggregate_main element(s)\n",
      "{fg:'fgComposition', order:19, observation:cross_section, uid:'compositionSecondBandAggregateMainElementsListCSFamily', name:'List', visible: False, variable: False, description:'Only the family element(s) should be given.', natures:['cp'], fieldset:'Second band / aggregate_main element(s)', list_elem_family:'elementFamily', upto:0},\n",
      "{fg:'fgComposition', order:20, observation:cross_section, uid:'compositionSecondBandAggregateMainElementsAmountCSVarFamily', name:'Amount', visible: False, variable: True, description:'In % (mass).', natures:['cp'], unit:'%', fieldset:'Second band / aggregate_main element(s)'},\n",
      "// new fieldset=Second band / aggregate_secondary element(s)\n",
      "{fg:'fgComposition', order:22, observation:cross_section, uid:'compositionSecondBandAggregateSecondaryElementsListCSFamily', name:'List', visible: False, variable: False, description:'Any other element(s) having a concentration greater than 1% (in weight) and / or affecting the properties of the CP.', natures:['cp'], fieldset:'Second band / aggregate_secondary element(s)', list_elem_family:'elementFamily', upto:0},\n",
      "{fg:'fgComposition', order:23, observation:cross_section, uid:'compositionSecondBandAggregateSecondaryElementsAmountCSVarFamily', name:'Amount', visible: False, variable: True, description:'In % (mass).', natures:['cp'], unit:'%', fieldset:'Second band / aggregate_secondary element(s)'},\n",
      "// new fieldset=Second band / aggregate_Compounds\n",
      "{fg:'fgComposition', order:25, observation:cross_section, uid:'compositionSecondBandAggregateCompoundsXrdCSFamily', name:'XRD', visible: False, variable: False, description:'Formula.', natures:['cp'], fieldset:'Second band / aggregate_Compounds', list_elem_family:'compoundFamily', upto:1},\n",
      "{fg:'fgComposition', order:26, observation:cross_section, uid:'compositionSecondBandAggregateCompoundsRamanSpectroscopyCSFamily', name:'Raman spectroscopy', visible: False, variable: False, description:'Formula.', natures:['cp'], fieldset:'Second band / aggregate_Compounds', list_elem_family:'compoundFamily', upto:1},\n",
      "{fg:'fgComposition', order:27, observation:cross_section, uid:'compositionSecondBandAggregateCompoundsFtirCSFamily', name:'FTIR', visible: False, variable: False, description:'Formula.', natures:['cp'], fieldset:'Second band / aggregate_Compounds', list_elem_family:'compoundFamily', upto:1},\n",
      "{fg:'fgComposition', order:28, observation:cross_section, uid:'compositionSecondBandAggregateCompoundsOthersCSFamily', name:'Others', visible: False, variable: False, description:'Formula.', natures:['cp'], fieldset:'Second band / aggregate_Compounds', list_elem_family:'compoundFamily', upto:1},\n",
      "{fg:'fgComposition', order:29, observation:cross_section, uid:'compositionSecondBandAggregateCompoundsListCSFamily', name:'List', visible: False, variable: False, description:'Any other element(s) not reported in main and secondary element(s).', natures:['cp'], fieldset:'Second band / aggregate_Compounds', list_elem_family:'elementFamily', upto:0},\n",
      "{fg:'fgComposition', order:30, observation:cross_section, uid:'compositionSecondBandAggregateCompoundsAmountCSVarFamily', name:'Amount', visible: False, variable: True, description:'In % (mass).', natures:['cp'], unit:'%', fieldset:'Second band / aggregate_Compounds'},\n"
     ]
    }
   ],
   "source": [
    "print('\\n //FAMILY \\n')\n",
    "import_family_group('Composition',filter_observation='Cross-section', fieldsets=[ 'Main element(s)', 'Secondary element(s)','Compounds', 'Additional element(s)', 'Second band / aggregate','Second band / aggregate_Compounds','Second band / aggregate_main element(s)',\n",
    "                                                                                 'Second band / aggregate_secondary element(s)','Second band / aggregate_Additional element(s)'], filter_print=FAMILY)\n"
   ]
  }
 ],
 "metadata": {
  "kernelspec": {
   "display_name": "Django Shell-Plus",
   "language": "python",
   "name": "django_extensions"
  },
  "language_info": {
   "codemirror_mode": {
    "name": "ipython",
    "version": 3
   },
   "file_extension": ".py",
   "mimetype": "text/x-python",
   "name": "python",
   "nbconvert_exporter": "python",
   "pygments_lexer": "ipython3",
   "version": "3.7.6"
  }
 },
 "nbformat": 4,
 "nbformat_minor": 4
}
