{
 "cells": [
  {
   "cell_type": "markdown",
   "metadata": {},
   "source": [
    "# import new/updated characteristics from google sheet file exported as csv\n"
   ]
  },
  {
   "cell_type": "code",
   "execution_count": 1,
   "metadata": {
    "pycharm": {
     "name": "#%%\n"
    }
   },
   "outputs": [
    {
     "data": {
      "text/html": [
       "<style>.container {width:90% !important;}</style>"
      ],
      "text/plain": [
       "<IPython.core.display.HTML object>"
      ]
     },
     "metadata": {},
     "output_type": "display_data"
    }
   ],
   "source": [
    "from IPython.core.display import display, HTML\n",
    "display(HTML(\"<style>.container {width:90% !important;}</style>\"))"
   ]
  },
  {
   "cell_type": "code",
   "execution_count": 2,
   "metadata": {},
   "outputs": [
    {
     "name": "stdout",
     "output_type": "stream",
     "text": [
      "['Characteristic', 'Sub-characteristic', 'Observation mode', 'Values', 'Sub-values', 'Image', 'Variables', 'unit', 'uid', 'Definition from observation under binocular', 'Definition from observation on cross-section', 'Notice for modification of the current MiCorr interface', 'Comments', 'CP Binocular', 'CP CS', 'CM Binocular', 'CM CS', 'D Binocular', 'D CS', 'M Binocular', 'M CS', 'NMM Binocular', 'NMM CS', 'POM Binocular', 'POM CS', 'S Binocular', 'S CS', 'SV Binocular', 'SV CS']\n"
     ]
    }
   ],
   "source": [
    "import csv\n",
    "csv_file_path='./20200608 SEARCH-by strat. representation-Bin. obs_v1 - MiCorr.csv'\n",
    "with open(csv_file_path,\"r\") as f:\n",
    "    reader =csv.DictReader(f)\n",
    "    print(reader.fieldnames)\n",
    "\n",
    "def to_uid(name):\n",
    "    camel_case_name=''.join(name.title().split(' '))\n",
    "\n",
    "    return camel_case_name[0].lower() + camel_case_name[1:]\n"
   ]
  },
  {
   "cell_type": "code",
   "execution_count": null,
   "metadata": {
    "pycharm": {
     "name": "#%%\n"
    }
   },
   "outputs": [],
   "source": []
  },
  {
   "cell_type": "markdown",
   "metadata": {
    "pycharm": {
     "name": "#%% md\n"
    }
   },
   "source": [
    "# import image urls from html export\n"
   ]
  },
  {
   "cell_type": "code",
   "execution_count": 46,
   "metadata": {},
   "outputs": [],
   "source": [
    "name_img_url = {}"
   ]
  },
  {
   "cell_type": "code",
   "execution_count": 7,
   "metadata": {
    "pycharm": {
     "name": "#%%\n"
    }
   },
   "outputs": [],
   "source": [
    "from bs4 import BeautifulSoup\n",
    "f=open('20200608 SEARCH-by strat. representation-Bin. obs_v1/MiCorr.html')\n",
    "content=f.read()\n",
    "soup=BeautifulSoup(content,'html.parser')\n",
    "imgs=soup.find_all('img')\n",
    "name_img_url={}\n",
    "for im in imgs:\n",
    "    parent_td=im.parent.parent if im.parent.parent.name=='td' else None\n",
    "    if parent_td:\n",
    "        name_img_url[parent_td.previous_sibling.previous_sibling.text]=im['src']"
   ]
  },
  {
   "cell_type": "code",
   "execution_count": 37,
   "metadata": {
    "pycharm": {
     "name": "#%%\n"
    }
   },
   "outputs": [],
   "source": [
    "\n",
    "def new_characteristic(family_uid, uid, name, order, description=None, image_url=None, optgroup=None, natures=[]):\n",
    "    cql_update_row = f\"\"\"{{family_uid:'{family_uid}', uid:'{uid}', name:'{name}', order:{order}, natures:{natures}\"\"\"\n",
    "    arg_list=[cql_update_row]\n",
    "\n",
    "    if image_url is None:\n",
    "        # search characteristic name in name to image_url map\n",
    "        image_url = name_img_url.get(name)\n",
    "    if description:\n",
    "        arg_list.append(f\"description:'{description}'\")\n",
    "    if image_url:\n",
    "        arg_list.append(f\"image_url:'{image_url}'\")\n",
    "    if optgroup:\n",
    "        arg_list.append(f\"optgroup:'{optgroup}'\")\n",
    "\n",
    "    return ', '.join(arg_list) + '},'\n",
    "\n",
    "def new_family(fg_uid, uid, name, order, observation, description='',visible=False, variable=False, unit=None, fieldset=None,natures=[]):\n",
    "    # adapt csv column value to cql format\n",
    "    observation=observation.lower()\n",
    "    if observation=='cross-section':\n",
    "        observation='cross_section'\n",
    "    cql_update_row = f\"\"\"{{fg:'{fg_uid}', order:{order}, observation:{observation}, uid:'{uid}', name:'{name}', visible: {visible}, variable: {variable}, description:'{description}, natures:{natures}'\"\"\"\n",
    "    arg_list=[cql_update_row]\n",
    "    if unit:\n",
    "        arg_list.append(f\"unit:'{unit}'\")\n",
    "    if fieldset:\n",
    "        arg_list.append(f\"fieldset:'{fieldset}'\")\n",
    "    return ', '.join(arg_list) + '},'\n",
    "\n",
    "def new_subcharacteristic(parent_uid, uid, name, order, description=None, image_url=None, optgroup=None,natures=[]):\n",
    "    cql_update_row = f\"\"\"{{parent_uid:'{parent_uid}', uid:'{uid}', name:'{name}', order:{order}, natures:{natures}\"\"\"\n",
    "    arg_list=[cql_update_row]\n",
    "\n",
    "    if image_url is None:\n",
    "        # search characteristic name in name to image_url map\n",
    "        image_url = name_img_url.get(name)\n",
    "    if description:\n",
    "        arg_list.append(f\"description:'{description}'\")\n",
    "    if image_url:\n",
    "        arg_list.append(f\"image_url:'{image_url}'\")\n",
    "    if optgroup:\n",
    "        arg_list.append(f\"optgroup:'{optgroup}'\")\n",
    "\n",
    "    return ', '.join(arg_list) + '},'\n"
   ]
  },
  {
   "cell_type": "code",
   "execution_count": null,
   "metadata": {},
   "outputs": [],
   "source": []
  },
  {
   "cell_type": "code",
   "execution_count": 10,
   "metadata": {},
   "outputs": [
    {
     "data": {
      "text/plain": [
       "\"{parent_uid:'x', uid:'y', name:'z', order:1},\""
      ]
     },
     "execution_count": 10,
     "metadata": {},
     "output_type": "execute_result"
    }
   ],
   "source": [
    "new_subcharacteristic('x','y','z',1)"
   ]
  },
  {
   "cell_type": "markdown",
   "metadata": {
    "pycharm": {
     "name": "#%% md\n"
    }
   },
   "source": [
    "## Microstructure Binocular special case"
   ]
  },
  {
   "cell_type": "code",
   "execution_count": 49,
   "metadata": {
    "collapsed": true,
    "pycharm": {
     "name": "#%%\n"
    }
   },
   "outputs": [
    {
     "name": "stdout",
     "output_type": "stream",
     "text": [
      "{fg:'fgMicrostructure', order:1, observation:binocular, uid:'microstructureFamily', name:'Microstructure', visible: False, variable: False, description:'Assessed on the observed area. The blank option corresponds to a stratum which microstructure is not known.'},\n",
      "\n",
      "// microstructureFamily characteristics:\n",
      "// microstructureCristallineMicrostructureCharacteristic optgroup options:\n",
      "{family_uid:'microstructureFamily', uid:'cristallineMicrostructureBlankCharacteristic', name:'Blank', order:4},\n",
      "{family_uid:'microstructureFamily', uid:'cristallineMicrostructureDendriticCharacteristic', name:'Dendritic', order:5, image_url:'https://lh6.googleusercontent.com/FyP0N-Th3gRuKFukmtMQPekDzkTkk4rqsVoqWgZLep7-kvuIVy0tXhyBwC9BHm1TlRKAZdSNhPCAFfyNE-DmsKJbKz7YSqrn0SwjfX0WZbPeS_gJhDmiIizLf6osIuEfGqBLvBUXgA=w126-h119'},\n",
      "{family_uid:'microstructureFamily', uid:'cristallineMicrostructureDrusyAggregateCharacteristic', name:'Drusy aggregate', order:6, image_url:'https://lh3.googleusercontent.com/i904_m1OrYim9EZyNZiQ4PDGfeoV8NleF91S1_pBrvGLqI_pKfiNdinc-htQa15MAXxgG5NXIoB4h7jIzUfXvEVvD9X-lUZgM45paGcCPi83H81NhUvog3mOwzGVKDJeOXuG1hdiQw=w126-h107'},\n",
      "{family_uid:'microstructureFamily', uid:'cristallineMicrostructureGéodeCharacteristic', name:'Géode', order:7, image_url:'https://lh6.googleusercontent.com/wmlMDLY_Q1Q4pggxDLKvQ4MuGrToL5YALEBs5jKLQVRfhG7lbEbhlDglSBYpDSjNV0eigOj_eO_68YVX70Nag3qLHBcT-ThfO0wdCW8c5Qj-P8rKyj2COndVtCd84xnuf6lSGiqIiA=w126-h137'},\n",
      "{family_uid:'microstructureFamily', uid:'cristallineMicrostructureLamellarCharacteristic', name:'Lamellar', order:8, image_url:'https://lh3.googleusercontent.com/V6WXsI2qcUrYqUQ9rxv5TzoB2mLdN0OREnWXUbk3iMEu3pelwL7EOSDVt16NQIo9w4SN3qvKey-LyZ5B_jMYls0kvkPRZffbhbjxiaOdnFoA2qizxmmB5CwY7AbiHpVGc0ryHr_-bw=w126-h134'},\n",
      "{family_uid:'microstructureFamily', uid:'cristallineMicrostructureFoliatedCharacteristic', name:'Foliated', order:9, image_url:'https://lh4.googleusercontent.com/aL1ihcSMWB5xH-xPdEoF-aQA64jBRspxWCPZhqY4mUTI6iyfP-bhm4KhjK6T7QallyIGxQLFOfJGu-RnBSZUdDZbBydugpVCKGKCp4jQS2hTou_CmJ99Nktw7yn2_BIdSsU05N8Liw=w126-h128'},\n",
      "{family_uid:'microstructureFamily', uid:'cristallineMicrostructureFibrousCharacteristic', name:'Fibrous', order:10, image_url:'https://lh3.googleusercontent.com/bboWl7IRuuQd9FL5Q_u6YQTgqyCRZcd-__v2uvLY9D7WU07k-yEtQFkTVZCn6oSpBiFFJMGYRn9BN57Dn7WS_nypdrmiSYd5zxRLl5d5qQRXt2pKAVCDoCMSdj96nIL0L5g0YB8Eow=w126-h107'},\n",
      "{family_uid:'microstructureFamily', uid:'cristallineMicrostructureStellatedCharacteristic', name:'Stellated', order:11, image_url:'https://lh4.googleusercontent.com/E-vNQvqQtMZwnLMRPfytsxQaM0qt6jAzzpp5PJo4ccMmYmIU_Fw5_52P3l43gSvMqKy2rZkfaKNMODHNwWImoue6fwQN7jmHfXPXug2JpYJMzMbBWjtgZ03ovyZINwsaVNEeSgroWg=w126-h132'},\n",
      "{family_uid:'microstructureFamily', uid:'cristallineMicrostructureConcentricCharacteristic', name:'Concentric', order:12, image_url:'https://lh4.googleusercontent.com/nEwdFT7hC2c4Ll1oI8aZ8vVbtw-lbcWjXT9Bdsl2gqM4XUyjXbTFujOhgi4VSd6b29oJqWAxyePZHKoN_aL-35Z_VsvyQpbSP79H-QILK4MnlLLPm20j_Mv8LM3jp99S6Uz51IWzAg=w126-h108'},\n",
      "{family_uid:'microstructureFamily', uid:'cristallineMicrostructureBandedCharacteristic', name:'Banded', order:13, image_url:'https://lh3.googleusercontent.com/Mxzty5aqKR5wWrNkfIYwaN74V_OlwuFXWYTpzzH1ghTSieP-aho0cV22cMk-FfGDDAV1Fy5k0-yM9Rv7zc_0A5x82SSSoWXEFJx_cmIyccUzw3IXNYagbvFilAhvj1rbNqbVO-u51w=w126-h106'},\n",
      "{family_uid:'microstructureFamily', uid:'cristallineMicrostructureBotryoidalCharacteristic', name:'Botryoidal', order:14, image_url:'https://lh3.googleusercontent.com/xA43KIvNJkH5niUyikcCfh7XI9EtNP4xwHW5v1i3MHcHC0rGSC5QwYIcNgv7CHSz9MJWVfSrrsHAdNsW8PnlxdstdyE5GeBLN66Q3SIPrnlbNb0SRQRj5dUrrnfQBF6_8hGDnSkpEg=w126-h109'},\n",
      "{family_uid:'microstructureFamily', uid:'cristallineMicrostructureReniformCharacteristic', name:'Reniform', order:15, image_url:'https://lh3.googleusercontent.com/nXvRKJdJ_KFA13aUzttXcttqcFB98NKFwM49w3i1OiLlkhZhCgGWSX8V6Cfbtj7jfoETl08rNYJyf8DirEYW9b0b0zRk23BkEZCX299aID-2CLGEvdVj5MCcxRHuEwVsHwSdYoT5CQ=w126-h130'},\n",
      "{family_uid:'microstructureFamily', uid:'cristallineMicrostructureStalactiformCharacteristic', name:'Stalactiform', order:16, image_url:'https://lh5.googleusercontent.com/0wQ8ygBXwk8tUE-KVIFq2DGP0UfG5yOHUrUtQz7yWuDMyPnEYPb2dL7nnm70a2CJiuueVvtVKV51JGBUA_4QJwUmh5lThz2nQkLEY2euTEooVhIoGIehb28XEL-_RDqMGzW1b2A-Iw=w126-h134'},\n",
      "{family_uid:'microstructureFamily', uid:'cristallineMicrostructureGlobularCharacteristic', name:'Globular', order:17, image_url:'https://lh5.googleusercontent.com/4S9204hhpo2khAjRGdiCBG_I52NO7iLkzeKsjqlqqs8uorDNK4q71FM2P1tSHrjnPzljtlmdAFkRuX3iAlfbSwyD2zypA-MzVZI-BEI_OF11LqfSx7gFC90gJgniq9oN1O9Q-IjKgw=w126-h146'},\n",
      "{family_uid:'microstructureFamily', uid:'cristallineMicrostructureGranularCharacteristic', name:'Granular', order:18, image_url:'https://lh6.googleusercontent.com/31wLwVd4-ECmxuvm3qrC-AqwQLJqmdCGiehASXQNO1-xZYEpCIvL1JqUJjPKw6kTNFw69pQsYdqTcUM94cfgPIu5lxqkIPQjwzmKhwdboualf0-wuDHs3j4nV1mB6zWNpq_kfbgeJQ=w126-h128'},\n",
      "{family_uid:'microstructureFamily', uid:'cristallineMicrostructureMassiveCharacteristic', name:'Massive', order:19, image_url:'https://lh5.googleusercontent.com/Ua5DBHBX58l5mjzcS7uS05nhRFzG2tsmBYKIYHq_8bbsXia4OYkfDd5ih-dVu13uFv3pGcsVUVLobx0xYS4yNZ71qyw8T2klwYIGr3fhgeAxbOdSG0PPLVL1QpYmEjAx_sxvD3g_ZA=w126-h131'},\n",
      "{family_uid:'microstructureFamily', uid:'cristallineMicrostructurePowderishCharacteristic', name:'Powderish', order:20, image_url:'https://lh4.googleusercontent.com/leMfZHd9RwkJswH-TUHtnK4zmkv14hcl3nNfCtDiuvz7h18DTLCw2fDfEFUciHMAh0vkWqdaQ3g4En7Ypnw3D5sHkfQSA_NktpQ7a5oNtzWkS_OZiUBG7Mvl3Dim9XfyCWOGaz2LVA=w126-h113'},\n"
     ]
    }
   ],
   "source": [
    "\n",
    "# we treat all values and sub-values as characteristics (with optgroup + property for Cristalline microstructure)\n",
    "# and optgroup - (closure of previous group) for isolated aggregate\n",
    "\n",
    "\n",
    "with open(csv_file_path,\"r\") as f:\n",
    "    reader =csv.DictReader(f)\n",
    "    current_value=''\n",
    "    characteristic_order = 1\n",
    "    family_order = 1\n",
    "    sub_value_order = 1\n",
    "    optgroup_level = 0\n",
    "    description_field_in = {'Binocular':'Definition from observation under binocular',\n",
    "                           'Cross-section': 'Definition from observation on cross-section'}\n",
    "\n",
    "    for r in reader:\n",
    "        if 'Microstructure' not in r['Characteristic']:\n",
    "            continue\n",
    "        observation = r['Observation mode']\n",
    "        if observation != 'Binocular':\n",
    "            continue\n",
    "\n",
    "        if r['Values'] == '' and r['Sub-values'] == '':\n",
    "            family_uid='microstructureFamily'\n",
    "            cql_family_update_row=new_family(fg_uid='fgMicrostructure', uid=family_uid, name='Microstructure',\n",
    "                                     order=family_order,observation='binocular', description=r[description_field_in[observation]])\n",
    "            print(cql_family_update_row)\n",
    "            print(f'\\n// {family_uid} characteristics:')\n",
    "            family_order+=1\n",
    "\n",
    "        if r['Values'] != '':\n",
    "            # print('\\nNew characteristic:\\n')\n",
    "            current_value = r['Values']\n",
    "            current_value_uid = to_uid(r['Characteristic'] + ' ' +current_value)+'Characteristic'\n",
    "            # trick to detect end of optgroup in our particular case (1 optgroup only yet)\n",
    "            if optgroup_level:\n",
    "                optgroup=None\n",
    "                optgroup_level-=1\n",
    "\n",
    "            # print(new_characteristic(family_uid=family_uid, uid=current_value_uid,\n",
    "            #                         name=current_value,order=characteristic_order,\n",
    "            #                         description=r[description_field_in[observation]],optgroup=optgroup))\n",
    "            # family_order+=1\n",
    "            # characteristic_order = 1\n",
    "            characteristic_order += 1\n",
    "\n",
    "        # print(observation, r['Characteristic'], current_value,'None' if r['Sub-values'] == '' else r['Sub-values'])\n",
    "        current_subvalue = r['Sub-values']\n",
    "        if current_value!='' and current_subvalue!='':\n",
    "            if sub_value_order==1:\n",
    "                optgroup_level+=1\n",
    "                optgroup=current_value\n",
    "                print(f'// {current_value_uid} optgroup options:')\n",
    "            current_subvalue_uid = to_uid(current_value + ' ' +current_subvalue)+'Characteristic'\n",
    "            if observation=='Binocular':\n",
    "                print(new_characteristic(family_uid=family_uid, uid=current_subvalue_uid,name=current_subvalue,\n",
    "                                     order=characteristic_order))\n",
    "            else:\n",
    "                print(new_characteristic(family_uid=family_uid, uid=current_subvalue_uid,name=current_subvalue,\n",
    "                                     order=characteristic_order))\n",
    "\n",
    "            sub_value_order+=1\n",
    "            characteristic_order+=1"
   ]
  },
  {
   "cell_type": "code",
   "execution_count": 54,
   "metadata": {
    "pycharm": {
     "name": "#%%\n"
    }
   },
   "outputs": [],
   "source": [
    "\n",
    "FAMILY = 1\n",
    "CHARACTERISTIC = 2\n",
    "SUBCHARACTERISTIC = 4\n",
    "NATURES = ['CP','CM', 'D','M','NMM','POM','S','SV']\n",
    "NATURE_HEADER_SUFFIX = {'Binocular':' Binocular', 'Cross-section':' CS'}\n",
    "\n",
    "def import_family_group(family_group, filter_observation=None, fieldsets=[], filter_print=FAMILY|CHARACTERISTIC|SUBCHARACTERISTIC, shared_sub_characteristics=False):\n",
    "    with open(csv_file_path,\"r\") as f:\n",
    "        reader =csv.DictReader(f)\n",
    "        current_value=''\n",
    "        characteristic_order = 1\n",
    "        family_order = 1\n",
    "        sub_value_order = 1\n",
    "        optgroup = None\n",
    "        optgroup_level = 0\n",
    "        description_field_in = {'Binocular':'Definition from observation under binocular',\n",
    "                               'Cross-section': 'Definition from observation on cross-section'}\n",
    "        fieldset = None # group Values below under fieldset\n",
    "\n",
    "        for r in reader:\n",
    "            if family_group not in r['Characteristic']:\n",
    "                continue\n",
    "            observation = r['Observation mode']\n",
    "            if observation != filter_observation:\n",
    "                continue\n",
    "            # strata Nature filtering\n",
    "            r_natures = [N for N in NATURES if r[N+NATURE_HEADER_SUFFIX[observation]]]\n",
    "            \n",
    "            # print(f'family_group={r[\"Characteristic\"]}')\n",
    "            # print(f'observation={observation}')\n",
    "            if r['Values'] == '' and r['Sub-values'] == '' and r['Sub-characteristic']!='':\n",
    "                family_name=r['Sub-characteristic']\n",
    "                if family_name in fieldsets:\n",
    "                    fieldset = family_name\n",
    "                    print(f'// new fieldset={fieldset}')\n",
    "                else:\n",
    "                    fieldset = None\n",
    "                    if family_name != r['Characteristic']: \n",
    "                        family_uid=to_uid(r['Characteristic'] + ' ' +family_name)+ ('CS' if observation=='Cross-section' else '') +'Family'\n",
    "                    else:\n",
    "                        family_uid=to_uid(r['Characteristic'])+ ('CS' if observation=='Cross-section' else '') +'Family'\n",
    "                    cql_family_update_row=new_family(fg_uid='fg'+family_group, uid=family_uid, name=family_name,\n",
    "                                         order=family_order,observation=observation, description=r[description_field_in[observation]],\n",
    "                                                    natures=r_natures)\n",
    "                    if filter_print & FAMILY:\n",
    "                        print(f'// new family_name={family_name}')\n",
    "                        print(cql_family_update_row)\n",
    "                    ## print(f'\\n// {family_uid} characteristics:')\n",
    "                sub_value_order=1\n",
    "                family_order+=1\n",
    "            elif r['Values'] == '' and r['Sub-values'] != '':\n",
    "                current_subvalue = r['Sub-values']\n",
    "                if not shared_sub_characteristics:\n",
    "                    current_subvalue_uid = to_uid(current_value + ' ' +current_subvalue)+'Characteristic'\n",
    "                else:\n",
    "                    current_subvalue_uid = to_uid(current_subvalue)+'Characteristic'                \n",
    "\n",
    "                cql_subcharacteristic_update_row=new_subcharacteristic(parent_uid=current_value_uid, uid=current_subvalue_uid,\n",
    "                                                                       name=current_subvalue, order=sub_value_order,natures=r_natures)\n",
    "                if filter_print & SUBCHARACTERISTIC:\n",
    "                    # print(f'\\n// {current_subvalue} sub-characteristic:')\n",
    "                    print(cql_subcharacteristic_update_row)\n",
    "                sub_value_order+=1\n",
    "\n",
    "            if r['Values'] != '':\n",
    "                current_value = r['Values']\n",
    "                sub_value_order=1\n",
    "                if r['Variables'] !='':\n",
    "                    #print(f'\\nNew {current_value} variable Family:\\n')\n",
    "                    current_value_uid = to_uid(r['Characteristic'] + ' ' +current_value)+ ('CS' if observation=='Cross-section' else '') +'VarFamily'\n",
    "                    cql_family_update_row=new_family(fg_uid='fg'+family_group, uid=current_value_uid, name=current_value,\n",
    "                        order=family_order,observation=observation.lower(), description=r[description_field_in[observation]],\n",
    "                                                     variable=True, unit=r['unit'], fieldset=fieldset, natures=r_natures)\n",
    "                    if filter_print & FAMILY:\n",
    "                        print(cql_family_update_row)\n",
    "                    family_order+=1\n",
    "                else:\n",
    "                    # print(f'\\nNew {current_value} characteristic:\\n')\n",
    "                    current_value_uid = to_uid(r['Characteristic'] + ' ' +current_value)+ ('CS' if observation=='Cross-section' else '') +'Characteristic'\n",
    "\n",
    "                    # trick to detect end of optgroup in our particular case (1 optgroup only yet)\n",
    "                    if optgroup_level:\n",
    "                        optgroup= None\n",
    "                        optgroup_level-=1\n",
    "\n",
    "                    cql_characteristic_update_row = new_characteristic(family_uid=family_uid, uid=current_value_uid,\n",
    "                                         name=current_value,order=characteristic_order,\n",
    "                                         description=r[description_field_in[observation]],optgroup=optgroup,natures=r_natures)\n",
    "                    if filter_print & CHARACTERISTIC:\n",
    "                        print(cql_characteristic_update_row)\n",
    "\n",
    "                    # family_order+=1\n",
    "                    # characteristic_order = 1\n",
    "                    characteristic_order += 1\n",
    "\n"
   ]
  },
  {
   "cell_type": "code",
   "execution_count": null,
   "metadata": {},
   "outputs": [],
   "source": []
  },
  {
   "cell_type": "code",
   "execution_count": null,
   "metadata": {},
   "outputs": [],
   "source": []
  },
  {
   "cell_type": "code",
   "execution_count": 73,
   "metadata": {
    "pycharm": {
     "name": "#%%\n"
    }
   },
   "outputs": [],
   "source": [
    "## Interface cross-section special case"
   ]
  },
  {
   "cell_type": "code",
   "execution_count": 16,
   "metadata": {
    "collapsed": true,
    "pycharm": {
     "name": "#%%\n"
    }
   },
   "outputs": [
    {
     "name": "stdout",
     "output_type": "stream",
     "text": [
      "// new family_name=Profile\n",
      "{family_uid:'interfaceProfileCSFamily', uid:'interfaceBlankCSCharacteristic', name:'Blank', order:1},\n",
      "{family_uid:'interfaceProfileCSFamily', uid:'interfaceStraightCSCharacteristic', name:'Straight', order:2, description:'No waves along the observed length.'},\n",
      "{family_uid:'interfaceProfileCSFamily', uid:'interfaceWavyCSCharacteristic', name:'Wavy', order:3, description:'Shows variations or undulations with a low height to length ratio. Angles are greater than 90°.'},\n",
      "{family_uid:'interfaceProfileCSFamily', uid:'interfaceBumpyCSCharacteristic', name:'Bumpy', order:4, description:'Presents variations that are close in height and length. Angles can be equal to or less than 90°.'},\n",
      "{family_uid:'interfaceProfileCSFamily', uid:'interfaceIrregularCSCharacteristic', name:'Irregular', order:5, description:'Presents variations whose height and length are unrelated. Angles may be variable.'},\n",
      "// new family_name=Transition\n",
      "{family_uid:'interfaceTransitionCSFamily', uid:'interfaceSharpCSCharacteristic', name:'Sharp', order:6, description:'Very sharp transition between strata.'},\n",
      "{family_uid:'interfaceTransitionCSFamily', uid:'interfaceDiffuseCSCharacteristic', name:'Diffuse', order:7, description:'Weak noticeable transition between strata. A large diffuse transition zone may require identification as an additional stratum.'},\n",
      "{family_uid:'interfaceTransitionCSFamily', uid:'interfaceSemi-GradualSuperiorCSCharacteristic', name:'semi-gradual superior', order:8, description:'Marked transition between two strata where the upper stratum has penetration into the lower stratum.'},\n",
      "{family_uid:'interfaceTransitionCSFamily', uid:'interfaceSemi-GradualInferiorCSCharacteristic', name:'semi-gradual inferior', order:9, description:'Marked transition between two strata where the lower stratum has penetration into the upper stratum.'},\n",
      "{family_uid:'interfaceTransitionCSFamily', uid:'interfaceGradualCSCharacteristic', name:'Gradual', order:10, description:'Marked transition between two interpenetrating strata.'},\n",
      "// new fieldset=Roughness\n",
      "// new family_name=Adherence\n",
      "{family_uid:'interfaceAdherenceCSFamily', uid:'interfaceBlankCSCharacteristic', name:'Blank', order:11},\n",
      "{family_uid:'interfaceAdherenceCSFamily', uid:'interfaceAdherentCSCharacteristic', name:'Adherent', order:12, description:'It is difficult to separate the strata with a thin blade (scalpel).'},\n",
      "{family_uid:'interfaceAdherenceCSFamily', uid:'interfaceNonAdherentCSCharacteristic', name:'Non adherent', order:13, description:'The strata separate without any particular intervention.'},\n"
     ]
    }
   ],
   "source": [
    "# we treat Roughness as a fieldset (as it includes multiple families instead of characteristics)\n",
    "# to do add group/fieldset column to spreadsheet\n",
    "\n",
    "import_family_group('Interface', filter_observation='Cross-section', fieldsets=['Roughness'], filter_print=CHARACTERISTIC) #FAMILY|CHARACTERISTIC"
   ]
  },
  {
   "cell_type": "code",
   "execution_count": null,
   "metadata": {},
   "outputs": [],
   "source": []
  },
  {
   "cell_type": "code",
   "execution_count": null,
   "metadata": {},
   "outputs": [],
   "source": []
  },
  {
   "cell_type": "code",
   "execution_count": 55,
   "metadata": {
    "scrolled": false
   },
   "outputs": [
    {
     "name": "stdout",
     "output_type": "stream",
     "text": [
      "\n",
      " //FAMILY \n",
      "\n",
      "// new family_name=Microstructure\n",
      "{fg:'fgMicrostructure', order:1, observation:cross_section, uid:'microstructureCSFamily', name:'Microstructure', visible: False, variable: False, description:'Assessed on the observed area. The blank option corresponds to a stratum which microstructure is not known., natures:['M']'},\n",
      "\n",
      " //CHARACTERISTICS \n",
      "\n",
      "{family_uid:'microstructureCSFamily', uid:'microstructureBlankCSCharacteristic', name:'Blank', order:1, natures:['M']},\n",
      "{family_uid:'microstructureCSFamily', uid:'microstructureDeformedDendritesCSCharacteristic', name:'Deformed dendrites', order:2, natures:['M'], description:'Stratum containing crystals in the form of deformed trees with branches.'},\n",
      "{family_uid:'microstructureCSFamily', uid:'microstructureDendritesCSCharacteristic', name:'Dendrites', order:3, natures:['M'], description:'Stratum containing crystals in the form of trees with branches.'},\n",
      "{family_uid:'microstructureCSFamily', uid:'microstructureElongatedGrainsCSCharacteristic', name:'Elongated grains', order:4, natures:['M'], description:'Stratum consisting of grains elongated in one or several direction(s).'},\n",
      "{family_uid:'microstructureCSFamily', uid:'microstructureEquiaxeGrainsCSCharacteristic', name:'Equiaxe grains', order:5, natures:['M'], description:'Stratum consisting of equiaxed grains.'},\n",
      "{family_uid:'microstructureCSFamily', uid:'microstructureNoMicrostructureVisibleAtThisObservationScaleCSCharacteristic', name:'No microstructure visible at this observation scale', order:6, natures:['CP', 'M']},\n",
      "{family_uid:'microstructureCSFamily', uid:'microstructureAlternativeBandsCSCharacteristic', name:'Alternative bands', order:7, natures:['CP'], description:'Occurrence of several alternately repeating layers of corrosion products of different composition.'},\n",
      "{family_uid:'microstructureCSFamily', uid:'microstructureIsolatedAggregateMicrostructureCSCharacteristic', name:'Isolated aggregate microstructure', order:8, natures:['CP', 'D', 'M', 'NMM', 'POM', 'S'], description:'Stratum containing one or more aggregate(s) having a minority volume over the area observed.'},\n",
      "{family_uid:'microstructureCSFamily', uid:'microstructureIsolatedAggregateMicrostructureInCpCSCharacteristic', name:'Isolated aggregate microstructure in CP', order:9, natures:['CM'], description:'CP section of the stratum containing one or more aggregate(s) having a minority volume over the area observed.'},\n",
      "{family_uid:'microstructureCSFamily', uid:'microstructureScatteredAggregateMicrostructureCSCharacteristic', name:'Scattered aggregate microstructure', order:10, natures:['CP', 'D', 'M', 'NMM', 'POM', 'S'], description:'Stratum containing numerous aggregates separated from each other and distributed over the observed area.'},\n",
      "{family_uid:'microstructureCSFamily', uid:'microstructurePseudomorphOfDendriticMicrostructureCSCharacteristic', name:'Pseudomorph of dendritic microstructure', order:11, natures:['CP'], description:'Microstructure formed by selective replacement of dendritic and interdendritic zones. Form revealed by the presence of zones in a corrosion layer stratum corresponding to the dendritic microstructure of the original metal.'},\n",
      "{family_uid:'microstructureCSFamily', uid:'microstructurePseudomorphOfGrainMicrostructureCSCharacteristic', name:'Pseudomorph of grain microstructure', order:12, natures:['CP'], description:'Microstructure formed by selective replacement of grains and grain boundaries. Form revealed by the presence of zones in a corrosion layer stratum corresponding to the grain microstructure of the original metal.'},\n",
      "{family_uid:'microstructureCSFamily', uid:'microstructurePseudomorphOfOrganicMaterialCSCharacteristic', name:'Pseudomorph of organic material', order:13, natures:['CP'], description:'Microstructure formed by the replacement of the constituents of organic materials by corrosion products. The alteration process has led to a preservation of the initial form of the organic materials and a partial or total transformation of the organic matter.'},\n",
      "{family_uid:'microstructureCSFamily', uid:'microstructurePebblesCSCharacteristic', name:'Pebbles', order:14, natures:['S'], description:'20 to 75 mm.'},\n",
      "{family_uid:'microstructureCSFamily', uid:'microstructureGravelCSCharacteristic', name:'Gravel', order:15, natures:['S'], description:'2 to 20 mm.'},\n",
      "{family_uid:'microstructureCSFamily', uid:'microstructureCoarseSandsCSCharacteristic', name:'Coarse sands', order:16, natures:['S'], description:'0,4 to 2 mm. Crumbling.'},\n",
      "{family_uid:'microstructureCSFamily', uid:'microstructureFineSandsCSCharacteristic', name:'Fine sands', order:17, natures:['S'], description:'0,08 to 0,4 mm.'},\n",
      "{family_uid:'microstructureCSFamily', uid:'microstructureLimonsCSCharacteristic', name:'Limons', order:18, natures:['S'], description:'0,01 to 0,08 mm.'},\n",
      "{family_uid:'microstructureCSFamily', uid:'microstructureClayCSCharacteristic', name:'Clay', order:19, natures:['S'], description:'< 0,01 mm.'},\n",
      "{family_uid:'microstructureCSFamily', uid:'microstructureCementiteCSCharacteristic', name:'Cementite', order:20, natures:['M'], description:'Cementite is an iron carbide with the chemical formula Fe₃C.'},\n",
      "{family_uid:'microstructureCSFamily', uid:'microstructureFerriteCSCharacteristic', name:'Ferrite', order:21, natures:['M'], description:'Ferrite is a solid solution of carbon in the iron allotrope α.'},\n",
      "{family_uid:'microstructureCSFamily', uid:'microstructurePearliteCSCharacteristic', name:'Pearlite', order:22, natures:['M'], description:'Perlite is a two-phase component generally consisting of alternating lamellae of cementite (Fe₃C) and ferrite.'},\n",
      "{family_uid:'microstructureCSFamily', uid:'microstructureGraphiteLamellasCSCharacteristic', name:'Graphite lamellas', order:23, natures:['M'], description:'Phase characteristic of grey cast iron.'},\n",
      "{family_uid:'microstructureCSFamily', uid:'microstructureCopperAlphaPhaseCSCharacteristic', name:'Copper alpha phase', order:24, natures:['M'], description:'Primary phase in most copper based alloys'},\n",
      "{family_uid:'microstructureCSFamily', uid:'microstructureP-EutecticCSCharacteristic', name:'P-eutectic', order:25, natures:['M'], description:'Structural components in grey cast iron alloys, also referred to as steatite.'},\n",
      "{family_uid:'microstructureCSFamily', uid:'microstructureBetaCompounds(VoirComposésDuBz)CSCharacteristic', name:'Beta compounds (voir composés du Bz)', order:26, natures:['M']},\n",
      "{family_uid:'microstructureCSFamily', uid:'microstructureOthers?CSCharacteristic', name:'Others?', order:27, natures:['M']},\n",
      "\n",
      " //SUBCHARACTERISTICS \n",
      "\n",
      "{parent_uid:'microstructureDeformedDendritesCSCharacteristic', uid:'eutecticPhaseCharacteristic', name:'Eutectic phase', order:1, natures:['M']},\n",
      "{parent_uid:'microstructureDeformedDendritesCSCharacteristic', uid:'elongatedInclusionsCharacteristic', name:'Elongated inclusions', order:2, natures:['M']},\n",
      "{parent_uid:'microstructureDeformedDendritesCSCharacteristic', uid:'nonElongatedInclusionsCharacteristic', name:'Non elongated inclusions', order:3, natures:['M']},\n",
      "{parent_uid:'microstructureDeformedDendritesCSCharacteristic', uid:'inclusionsSizeCharacteristic', name:'Inclusions size', order:4, natures:['M']},\n",
      "{parent_uid:'microstructureDeformedDendritesCSCharacteristic', uid:'inclusionsDistributionCharacteristic', name:'Inclusions distribution', order:5, natures:['M']},\n",
      "{parent_uid:'microstructureDeformedDendritesCSCharacteristic', uid:'slipLinesCharacteristic', name:'Slip lines', order:6, natures:['M']},\n",
      "{parent_uid:'microstructureDeformedDendritesCSCharacteristic', uid:'twinLines/NewmannBandsCharacteristic', name:'Twin lines / Newmann bands', order:7, natures:['M']},\n",
      "{parent_uid:'microstructureDendritesCSCharacteristic', uid:'eutecticPhaseCharacteristic', name:'Eutectic phase', order:1, natures:['M']},\n",
      "{parent_uid:'microstructureDendritesCSCharacteristic', uid:'elongatedInclusionsCharacteristic', name:'Elongated inclusions', order:2, natures:['M']},\n",
      "{parent_uid:'microstructureDendritesCSCharacteristic', uid:'nonElongatedInclusionsCharacteristic', name:'Non elongated inclusions', order:3, natures:['M']},\n",
      "{parent_uid:'microstructureDendritesCSCharacteristic', uid:'inclusionsSizeCharacteristic', name:'Inclusions size', order:4, natures:['M']},\n",
      "{parent_uid:'microstructureDendritesCSCharacteristic', uid:'inclusionsDistributionCharacteristic', name:'Inclusions distribution', order:5, natures:['M']},\n",
      "{parent_uid:'microstructureDendritesCSCharacteristic', uid:'slipLinesCharacteristic', name:'Slip lines', order:6, natures:['M']},\n",
      "{parent_uid:'microstructureDendritesCSCharacteristic', uid:'twinLines/NewmannBandsCharacteristic', name:'Twin lines / Newmann bands', order:7, natures:['M']},\n",
      "{parent_uid:'microstructureElongatedGrainsCSCharacteristic', uid:'elongatedInclusionsCharacteristic', name:'Elongated inclusions', order:1, natures:['M']},\n",
      "{parent_uid:'microstructureElongatedGrainsCSCharacteristic', uid:'nonElongatedInclusionsCharacteristic', name:'Non elongated inclusions', order:2, natures:['M']},\n",
      "{parent_uid:'microstructureElongatedGrainsCSCharacteristic', uid:'inclusionsSizeCharacteristic', name:'Inclusions size', order:3, natures:['M']},\n",
      "{parent_uid:'microstructureElongatedGrainsCSCharacteristic', uid:'inclusionsDistributionCharacteristic', name:'Inclusions distribution', order:4, natures:['M']},\n",
      "{parent_uid:'microstructureElongatedGrainsCSCharacteristic', uid:'eutecticPhaseCharacteristic', name:'Eutectic phase', order:5, natures:['M']},\n",
      "{parent_uid:'microstructureElongatedGrainsCSCharacteristic', uid:'slipLinesCharacteristic', name:'Slip lines', order:6, natures:['M']},\n",
      "{parent_uid:'microstructureElongatedGrainsCSCharacteristic', uid:'twinLines/NewmannBandsCharacteristic', name:'Twin lines / Newmann bands', order:7, natures:['M']},\n",
      "{parent_uid:'microstructureEquiaxeGrainsCSCharacteristic', uid:'grainSizeCharacteristic', name:'Grain size', order:1, natures:['M']},\n",
      "{parent_uid:'microstructureEquiaxeGrainsCSCharacteristic', uid:'elongatedInclusionsCharacteristic', name:'Elongated inclusions', order:2, natures:['M']},\n",
      "{parent_uid:'microstructureEquiaxeGrainsCSCharacteristic', uid:'nonElongatedInclusionsCharacteristic', name:'Non elongated inclusions', order:3, natures:['M']},\n",
      "{parent_uid:'microstructureEquiaxeGrainsCSCharacteristic', uid:'inclusionsSizeCharacteristic', name:'Inclusions size', order:4, natures:['M']},\n",
      "{parent_uid:'microstructureEquiaxeGrainsCSCharacteristic', uid:'inclusionsDistributionCharacteristic', name:'Inclusions distribution', order:5, natures:['M']},\n",
      "{parent_uid:'microstructureEquiaxeGrainsCSCharacteristic', uid:'eutecticPhaseCharacteristic', name:'Eutectic phase', order:6, natures:['M']},\n",
      "{parent_uid:'microstructureEquiaxeGrainsCSCharacteristic', uid:'slipLinesCharacteristic', name:'Slip lines', order:7, natures:['M']},\n",
      "{parent_uid:'microstructureEquiaxeGrainsCSCharacteristic', uid:'twinLines/NewmannBandsCharacteristic', name:'Twin lines / Newmann bands', order:8, natures:['M']},\n",
      "{parent_uid:'microstructurePseudomorphOfDendriticMicrostructureCSCharacteristic', uid:'eutecticPhaseCharacteristic', name:'Eutectic phase', order:1, natures:['CP']},\n",
      "{parent_uid:'microstructurePseudomorphOfDendriticMicrostructureCSCharacteristic', uid:'inclusionsCharacteristic', name:'Inclusions', order:2, natures:['CP']},\n",
      "{parent_uid:'microstructurePseudomorphOfDendriticMicrostructureCSCharacteristic', uid:'slipLinesCharacteristic', name:'Slip lines', order:3, natures:['CP']},\n",
      "{parent_uid:'microstructurePseudomorphOfDendriticMicrostructureCSCharacteristic', uid:'twinLinesCharacteristic', name:'Twin lines', order:4, natures:['CP']},\n",
      "{parent_uid:'microstructurePseudomorphOfGrainMicrostructureCSCharacteristic', uid:'eutecticPhaseCharacteristic', name:'Eutectic phase', order:1, natures:['CP']},\n",
      "{parent_uid:'microstructurePseudomorphOfGrainMicrostructureCSCharacteristic', uid:'inclusionsCharacteristic', name:'Inclusions', order:2, natures:['CP']},\n",
      "{parent_uid:'microstructurePseudomorphOfGrainMicrostructureCSCharacteristic', uid:'slipLinesCharacteristic', name:'Slip lines', order:3, natures:['CP']},\n",
      "{parent_uid:'microstructurePseudomorphOfGrainMicrostructureCSCharacteristic', uid:'twinLinesCharacteristic', name:'Twin lines', order:4, natures:['CP']},\n"
     ]
    }
   ],
   "source": [
    "print('\\n //FAMILY \\n')\n",
    "import_family_group('Microstructure', filter_observation='Cross-section', fieldsets=[], filter_print=FAMILY, shared_sub_characteristics=True) #FAMILY|CHARACTERISTI\n",
    "print('\\n //CHARACTERISTICS \\n')\n",
    "import_family_group('Microstructure', filter_observation='Cross-section', fieldsets=[], filter_print=CHARACTERISTIC, shared_sub_characteristics=True) #FAMILY|CHARACTERISTI\n",
    "print('\\n //SUBCHARACTERISTICS \\n')\n",
    "import_family_group('Microstructure', filter_observation='Cross-section', fieldsets=[], filter_print=SUBCHARACTERISTIC, shared_sub_characteristics=True) #FAMILY|CHARACTERISTI\n"
   ]
  },
  {
   "cell_type": "code",
   "execution_count": null,
   "metadata": {},
   "outputs": [],
   "source": []
  },
  {
   "cell_type": "code",
   "execution_count": null,
   "metadata": {},
   "outputs": [],
   "source": []
  },
  {
   "cell_type": "code",
   "execution_count": null,
   "metadata": {},
   "outputs": [],
   "source": []
  },
  {
   "cell_type": "code",
   "execution_count": null,
   "metadata": {},
   "outputs": [],
   "source": []
  },
  {
   "cell_type": "code",
   "execution_count": null,
   "metadata": {},
   "outputs": [],
   "source": []
  },
  {
   "cell_type": "code",
   "execution_count": null,
   "metadata": {},
   "outputs": [],
   "source": []
  },
  {
   "cell_type": "code",
   "execution_count": null,
   "metadata": {},
   "outputs": [],
   "source": []
  },
  {
   "cell_type": "code",
   "execution_count": null,
   "metadata": {},
   "outputs": [],
   "source": []
  },
  {
   "cell_type": "code",
   "execution_count": null,
   "metadata": {},
   "outputs": [],
   "source": []
  },
  {
   "cell_type": "code",
   "execution_count": null,
   "metadata": {},
   "outputs": [],
   "source": []
  },
  {
   "cell_type": "code",
   "execution_count": null,
   "metadata": {},
   "outputs": [],
   "source": []
  },
  {
   "cell_type": "code",
   "execution_count": null,
   "metadata": {},
   "outputs": [],
   "source": []
  },
  {
   "cell_type": "code",
   "execution_count": null,
   "metadata": {},
   "outputs": [],
   "source": []
  },
  {
   "cell_type": "code",
   "execution_count": null,
   "metadata": {},
   "outputs": [],
   "source": []
  },
  {
   "cell_type": "code",
   "execution_count": null,
   "metadata": {},
   "outputs": [],
   "source": []
  },
  {
   "cell_type": "code",
   "execution_count": null,
   "metadata": {},
   "outputs": [],
   "source": []
  },
  {
   "cell_type": "code",
   "execution_count": null,
   "metadata": {},
   "outputs": [],
   "source": []
  },
  {
   "cell_type": "code",
   "execution_count": 44,
   "metadata": {
    "pycharm": {
     "name": "#%%\n"
    },
    "scrolled": false
   },
   "outputs": [
    {
     "name": "stdout",
     "output_type": "stream",
     "text": [
      "// new family_name=Microstructure\n",
      "{fg:'fgMicrostructure', order:1, observation:cross_section, uid:'microstructureMicrostructureCS', name:'Microstructure', visible: False, variable: False, description:'Assessed on the observed area. The blank option corresponds to a stratum which microstructure is not known., natures:['M']'},\n",
      "{family_uid:'microstructureMicrostructureCS', uid:'microstructureBlankCS', name:'Blank', order:1, natures:['M']},\n",
      "{family_uid:'microstructureMicrostructureCS', uid:'microstructureDeformedDendritesCS', name:'Deformed dendrites', order:2, natures:['M'], description:'Stratum containing crystals in the form of deformed trees with branches.'},\n",
      "{family_uid:'microstructureMicrostructureCS', uid:'microstructureDendritesCS', name:'Dendrites', order:3, natures:['M'], description:'Stratum containing crystals in the form of trees with branches.'},\n",
      "{family_uid:'microstructureMicrostructureCS', uid:'microstructureElongatedGrainsCS', name:'Elongated grains', order:4, natures:['M'], description:'Stratum consisting of grains elongated in one or several direction(s).'},\n",
      "{family_uid:'microstructureMicrostructureCS', uid:'microstructureEquiaxeGrainsCS', name:'Equiaxe grains', order:5, natures:['M'], description:'Stratum consisting of equiaxed grains.'},\n",
      "{family_uid:'microstructureMicrostructureCS', uid:'microstructureNoMicrostructureVisibleAtThisObservationScaleCS', name:'No microstructure visible at this observation scale', order:6, natures:['CP', 'M']},\n",
      "{family_uid:'microstructureMicrostructureCS', uid:'microstructureAlternativeBandsCS', name:'Alternative bands', order:7, natures:['CP'], description:'Occurrence of several alternately repeating layers of corrosion products of different composition.'},\n",
      "{family_uid:'microstructureMicrostructureCS', uid:'microstructureIsolatedAggregateMicrostructureCS', name:'Isolated aggregate microstructure', order:8, natures:['CP', 'D', 'M', 'NMM', 'POM', 'S'], description:'Stratum containing one or more aggregate(s) having a minority volume over the area observed.'},\n",
      "{family_uid:'microstructureMicrostructureCS', uid:'microstructureIsolatedAggregateMicrostructureInCpCS', name:'Isolated aggregate microstructure in CP', order:9, natures:['CM'], description:'CP section of the stratum containing one or more aggregate(s) having a minority volume over the area observed.'},\n",
      "{family_uid:'microstructureMicrostructureCS', uid:'microstructureScatteredAggregateMicrostructureCS', name:'Scattered aggregate microstructure', order:10, natures:['CP', 'D', 'M', 'NMM', 'POM', 'S'], description:'Stratum containing numerous aggregates separated from each other and distributed over the observed area.'},\n",
      "{family_uid:'microstructureMicrostructureCS', uid:'microstructurePseudomorphOfDendriticMicrostructureCS', name:'Pseudomorph of dendritic microstructure', order:11, natures:['CP'], description:'Microstructure formed by selective replacement of dendritic and interdendritic zones. Form revealed by the presence of zones in a corrosion layer stratum corresponding to the dendritic microstructure of the original metal.'},\n",
      "{family_uid:'microstructureMicrostructureCS', uid:'microstructurePseudomorphOfGrainMicrostructureCS', name:'Pseudomorph of grain microstructure', order:12, natures:['CP'], description:'Microstructure formed by selective replacement of grains and grain boundaries. Form revealed by the presence of zones in a corrosion layer stratum corresponding to the grain microstructure of the original metal.'},\n",
      "{family_uid:'microstructureMicrostructureCS', uid:'microstructurePseudomorphOfOrganicMaterialCS', name:'Pseudomorph of organic material', order:13, natures:['CP'], description:'Microstructure formed by the replacement of the constituents of organic materials by corrosion products. The alteration process has led to a preservation of the initial form of the organic materials and a partial or total transformation of the organic matter.'},\n",
      "{family_uid:'microstructureMicrostructureCS', uid:'microstructurePebblesCS', name:'Pebbles', order:14, natures:['S'], description:'20 to 75 mm.'},\n",
      "{family_uid:'microstructureMicrostructureCS', uid:'microstructureGravelCS', name:'Gravel', order:15, natures:['S'], description:'2 to 20 mm.'},\n",
      "{family_uid:'microstructureMicrostructureCS', uid:'microstructureCoarseSandsCS', name:'Coarse sands', order:16, natures:['S'], description:'0,4 to 2 mm. Crumbling.'},\n",
      "{family_uid:'microstructureMicrostructureCS', uid:'microstructureFineSandsCS', name:'Fine sands', order:17, natures:['S'], description:'0,08 to 0,4 mm.'},\n",
      "{family_uid:'microstructureMicrostructureCS', uid:'microstructureLimonsCS', name:'Limons', order:18, natures:['S'], description:'0,01 to 0,08 mm.'},\n",
      "{family_uid:'microstructureMicrostructureCS', uid:'microstructureClayCS', name:'Clay', order:19, natures:['S'], description:'< 0,01 mm.'},\n",
      "{family_uid:'microstructureMicrostructureCS', uid:'microstructureCementiteCS', name:'Cementite', order:20, natures:['M'], description:'Cementite is an iron carbide with the chemical formula Fe₃C.'},\n",
      "{family_uid:'microstructureMicrostructureCS', uid:'microstructureFerriteCS', name:'Ferrite', order:21, natures:['M'], description:'Ferrite is a solid solution of carbon in the iron allotrope α.'},\n",
      "{family_uid:'microstructureMicrostructureCS', uid:'microstructurePearliteCS', name:'Pearlite', order:22, natures:['M'], description:'Perlite is a two-phase component generally consisting of alternating lamellae of cementite (Fe₃C) and ferrite.'},\n",
      "{family_uid:'microstructureMicrostructureCS', uid:'microstructureGraphiteLamellasCS', name:'Graphite lamellas', order:23, natures:['M'], description:'Phase characteristic of grey cast iron.'},\n",
      "{family_uid:'microstructureMicrostructureCS', uid:'microstructureCopperAlphaPhaseCS', name:'Copper alpha phase', order:24, natures:['M'], description:'Primary phase in most copper based alloys'},\n",
      "{family_uid:'microstructureMicrostructureCS', uid:'microstructureP-EutecticCS', name:'P-eutectic', order:25, natures:['M'], description:'Structural components in grey cast iron alloys, also referred to as steatite.'},\n",
      "{family_uid:'microstructureMicrostructureCS', uid:'microstructureBetaCompounds(VoirComposésDuBz)CS', name:'Beta compounds (voir composés du Bz)', order:26, natures:['M']},\n",
      "{family_uid:'microstructureMicrostructureCS', uid:'microstructureOthers?CS', name:'Others?', order:27, natures:['M']},\n"
     ]
    }
   ],
   "source": [
    "import_family_group('Microstructure', filter_observation='Cross-section', fieldsets=[], filter_print=FAMILY|CHARACTERISTIC, shared_sub_characteristics=True) #FAMILY|CHARACTERISTI\n",
    "\n"
   ]
  },
  {
   "cell_type": "code",
   "execution_count": null,
   "metadata": {},
   "outputs": [],
   "source": []
  },
  {
   "cell_type": "code",
   "execution_count": null,
   "metadata": {},
   "outputs": [],
   "source": []
  },
  {
   "cell_type": "code",
   "execution_count": null,
   "metadata": {},
   "outputs": [],
   "source": []
  },
  {
   "cell_type": "markdown",
   "metadata": {
    "pycharm": {
     "name": "#%% md\n"
    }
   },
   "source": [
    "## Interface cross-section special case"
   ]
  },
  {
   "cell_type": "code",
   "execution_count": null,
   "metadata": {
    "pycharm": {
     "name": "#%%\n"
    }
   },
   "outputs": [],
   "source": [
    "# we treat Roughness as a fieldset (as it includes multiple families instead of characteristics)\n",
    "# to do add group/fieldset column to spreadsheet\n",
    "\n",
    "import_family_group('Interface', filter_observation='Cross-section', fieldsets=['Roughness'], filter_print=CHARACTERISTIC) #FAMILY|CHARACTERISTIC"
   ]
  },
  {
   "cell_type": "markdown",
   "metadata": {
    "pycharm": {
     "name": "#%% md\n"
    }
   },
   "source": [
    "# we treat Roughness as a fieldset (as it includes multiple families instead of characteristics)\n",
    "# to do add group/fieldset column to spreadsheet\n",
    "\n",
    "import_family_group('Interface', filter_observation='Cross-section', fieldsets=['Roughness'], filter_print=CHARACTERISTIC) #FAMILY|CHARACTERISTIC"
   ]
  },
  {
   "cell_type": "code",
   "execution_count": null,
   "metadata": {
    "pycharm": {
     "name": "#%%\n"
    }
   },
   "outputs": [],
   "source": [
    "# we treat Roughness as a fieldset (as it includes multiple families instead of characteristics)\n",
    "# to do add group/fieldset column to spreadsheet\n",
    "\n",
    "import_family_group('Interface', filter_observation='Cross-section', fieldsets=['Roughness'], filter_print=CHARACTERISTIC) #FAMILY|CHARACTERISTIC"
   ]
  },
  {
   "cell_type": "code",
   "execution_count": null,
   "metadata": {
    "pycharm": {
     "name": "#%%\n"
    }
   },
   "outputs": [],
   "source": [
    "# we treat Roughness as a fieldset (as it includes multiple families instead of characteristics)\n",
    "# to do add group/fieldset column to spreadsheet\n",
    "\n",
    "import_family_group('Microstructure', filter_observation='Cross-section', fieldsets=[], filter_print=CHARACTERISTIC) #FAMILY|CHARACTERISTIC"
   ]
  }
 ],
 "metadata": {
  "kernelspec": {
   "display_name": "Django Shell-Plus",
   "language": "python",
   "name": "django_extensions"
  },
  "language_info": {
   "codemirror_mode": {
    "name": "ipython",
    "version": 3
   },
   "file_extension": ".py",
   "mimetype": "text/x-python",
   "name": "python",
   "nbconvert_exporter": "python",
   "pygments_lexer": "ipython3",
   "version": "3.7.6"
  }
 },
 "nbformat": 4,
 "nbformat_minor": 4
}
