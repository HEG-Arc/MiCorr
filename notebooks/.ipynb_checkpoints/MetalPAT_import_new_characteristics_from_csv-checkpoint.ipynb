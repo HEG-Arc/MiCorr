{
 "cells": [
  {
   "cell_type": "markdown",
   "metadata": {},
   "source": [
    "# import new/updated characteristics from google sheet file exported as csv\n"
   ]
  },
  {
   "cell_type": "code",
   "execution_count": 47,
   "metadata": {
    "pycharm": {
     "name": "#%%\n"
    }
   },
   "outputs": [
    {
     "data": {
      "text/html": [
       "<style>.container {width:90% !important;}</style>"
      ],
      "text/plain": [
       "<IPython.core.display.HTML object>"
      ]
     },
     "metadata": {},
     "output_type": "display_data"
    }
   ],
   "source": [
    "from IPython.core.display import display, HTML\n",
    "import csv\n",
    "display(HTML(\"<style>.container {width:90% !important;}</style>\"))\n"
   ]
  },
  {
   "cell_type": "markdown",
   "metadata": {
    "pycharm": {
     "name": "#%% md\n"
    }
   },
   "source": [
    "# import image urls from html export\n"
   ]
  },
  {
   "cell_type": "code",
   "execution_count": 48,
   "metadata": {},
   "outputs": [],
   "source": [
    "name_img_url = {}"
   ]
  },
  {
   "cell_type": "code",
   "execution_count": 49,
   "metadata": {
    "pycharm": {
     "name": "#%%\n"
    }
   },
   "outputs": [],
   "source": [
    "from bs4 import BeautifulSoup\n",
    "f=open('20200608 SEARCH-by strat. representation-Bin. obs_v1/MiCorr.html')\n",
    "content=f.read()\n",
    "soup=BeautifulSoup(content,'html.parser')\n",
    "imgs=soup.find_all('img')\n",
    "name_img_url={}\n",
    "for im in imgs:\n",
    "    parent_td=im.parent.parent if im.parent.parent.name=='td' else None\n",
    "    if parent_td:\n",
    "        name_img_url[parent_td.previous_sibling.previous_sibling.text]=im['src']"
   ]
  },
  {
   "cell_type": "code",
   "execution_count": 50,
   "metadata": {
    "pycharm": {
     "name": "#%%\n"
    }
   },
   "outputs": [],
   "source": [
    "\n",
    "def new_characteristic(family_uid, uid, name, order, description=None, image_url=None, optgroup=None, natures=[],new_uid=None):\n",
    "    cql_update_row = f\"\"\"{{family_uid:'{family_uid}', uid:'{uid}', name:'{name}', order:{order}, natures:{natures}\"\"\"\n",
    "    arg_list=[cql_update_row]\n",
    "\n",
    "    if image_url is None:\n",
    "        # search characteristic name in name to image_url map\n",
    "        image_url = name_img_url.get(name)\n",
    "    if description:\n",
    "        arg_list.append(f\"description:'{description}'\")\n",
    "    if image_url:\n",
    "        arg_list.append(f\"image_url:'{image_url}'\")\n",
    "    if optgroup:\n",
    "        arg_list.append(f\"optgroup:'{optgroup}'\")\n",
    "    if new_uid is not None:\n",
    "        arg_list.append(f\"new_uid:'{new_uid}'\")\n",
    "    return ', '.join(arg_list) + '},'\n",
    "\n",
    "\n",
    "def find_old_uid(name, uid, name2uids):\n",
    "    nbrof_uid = len(name2uids[name])\n",
    "    if nbrof_uid==1: # unique uid for name\n",
    "        return name2uids[name][0]\n",
    "    elif nbrof_uid==2: # 2 old_uids for name, 1 for Binocular 1 for CS check in which case is uid to select the right one\n",
    "        return  [old_uid for old_uid in name2uids[name] if ('CS' in uid and 'CS' in old_uid) or ('CS' not in uid and 'CS' not in old_uid)][0]\n",
    "    else:\n",
    "        # 0 or more than 2 ? return the list for manual selection in output file\n",
    "        return name2uids[name]\n",
    "\n",
    "def get_uid(name, uid, name2uids):\n",
    "    # if an old manual uid exists then use it and save the new one\n",
    "    lower_name = name.lower()\n",
    "    if lower_name in name2uids:\n",
    "        new_uid = uid\n",
    "        uid = find_old_uid(lower_name, uid, name2uids)\n",
    "    else:\n",
    "        new_uid = None\n",
    "    return uid, new_uid\n",
    "\n",
    "def new_family(fg_uid, uid, name, order, observation, description='',visible=False, variable=False, unit=None, fieldset=None,natures=[], list_elem_family=None, upto=None,new_uid=None):\n",
    "    # adapt csv column value to cql format\n",
    "    observation=observation.lower()\n",
    "    if observation=='cross-section':\n",
    "        observation='cross_section'\n",
    "    cql_update_row = f\"\"\"{{fg:'{fg_uid}', order:{order}, observation:{observation}, uid:'{uid}', name:'{name}', visible: {visible}, variable: {variable}, description:'{description}', natures:{natures}\"\"\"\n",
    "    arg_list=[cql_update_row]\n",
    "    if unit:\n",
    "        arg_list.append(f\"unit:'{unit}'\")\n",
    "    if fieldset:\n",
    "        arg_list.append(f\"fieldset:'{fieldset}'\")\n",
    "    if list_elem_family:\n",
    "        arg_list.append(f\"list_elem_family:'{list_elem_family}'\")\n",
    "    if upto is not None:\n",
    "        arg_list.append(f\"upto:{upto}\")\n",
    "    if new_uid is not None:\n",
    "        arg_list.append(f\"new_uid:'{new_uid}'\")\n",
    "    return ', '.join(arg_list) + '},'\n",
    "\n",
    "def new_subcharacteristic(parent_uid, uid, name, order, variable=False, description=None, natures=[], unit=None, image_url=None, optgroup=None, list_elem_family=None, upto=None):\n",
    "    cql_update_row = f\"\"\"{{parent_uid:'{parent_uid}', uid:'{uid}', name:'{name}', variable:{variable}, order:{order}, natures:{natures}\"\"\"\n",
    "    arg_list=[cql_update_row]\n",
    "    if unit:\n",
    "        arg_list.append(f\"unit:'{unit}'\")\n",
    "    if image_url is None:\n",
    "        # search characteristic name in name to image_url map\n",
    "        image_url = name_img_url.get(name)\n",
    "    if description:\n",
    "        arg_list.append(f\"description:'{description}'\")\n",
    "    if image_url:\n",
    "        arg_list.append(f\"image_url:'{image_url}'\")\n",
    "    if optgroup:\n",
    "        arg_list.append(f\"optgroup:'{optgroup}'\")\n",
    "    if list_elem_family:\n",
    "        arg_list.append(f\"list_elem_family:'{list_elem_family}'\")\n",
    "    if upto is not None:\n",
    "        arg_list.append(f\"upto:{upto}\")\n",
    "    # lower_name = name.lower()\n",
    "    # if lower_name in cname2uids:\n",
    "    #    arg_list.append(f\"old_uid:{find_old_uid(lower_name, uid, cname2uids)}\")\n",
    "    return ', '.join(arg_list) + '},'\n"
   ]
  },
  {
   "cell_type": "code",
   "execution_count": 51,
   "metadata": {
    "pycharm": {
     "name": "#%%\n"
    },
    "scrolled": true
   },
   "outputs": [
    {
     "name": "stdout",
     "output_type": "stream",
     "text": [
      "['\\ufefff.uid', 'f.name', 'c.uid', 'c.name', 'c.order']\n",
      "error with Family: average = ['avgThicknessCSVarFamily', 'avgThicknessVarFamily']\n",
      "error with Family: maximal = ['maxThicknessCSVarFamily', 'maxThicknessVarFamily']\n",
      "error with Family: minimal = ['minThicknessCSVarFamily', 'minThicknessVarFamily']\n",
      "error with Characteristic: medium = ['normalWidthCharacteristic', 'normalThicknessCharacteristic']\n",
      "error with Characteristic: null = ['null', 'null', 'null', 'null', 'null', 'null', 'null', 'null', 'null']\n",
      "defaultdict(<class 'list'>,\n",
      "            {'average': ['avgThicknessCSVarFamily', 'avgThicknessVarFamily'],\n",
      "             'brightness': ['brightnessFamily'],\n",
      "             'colour': ['colourFamily'],\n",
      "             'continuity': ['continuityFamily'],\n",
      "             'direction': ['directionFamily'],\n",
      "             'maximal': ['maxThicknessCSVarFamily', 'maxThicknessVarFamily'],\n",
      "             'minimal': ['minThicknessCSVarFamily', 'minThicknessVarFamily'],\n",
      "             'observed area': ['areaWidthVarFamily'],\n",
      "             'opacity': ['opacityFamily'],\n",
      "             'percentage': ['percentageWidthVarFamily'],\n",
      "             'relative': ['thicknessFamily'],\n",
      "             'shape': ['shapeFamily'],\n",
      "             'stratum': ['stratumWidthVarFamily'],\n",
      "             'width': ['widthFamily']})\n",
      "defaultdict(<class 'list'>,\n",
      "            {'adamantine': ['adamantineCharacteristic'],\n",
      "             'black': ['blackCharacteristic'],\n",
      "             'blue': ['blueCharacteristic'],\n",
      "             'brown': ['brownCharacteristic'],\n",
      "             'circular': ['ringShapedCharacteristic'],\n",
      "             'cloud': ['cloudCharacteristic'],\n",
      "             'cluster': ['clusterCharacteristic'],\n",
      "             'conical': ['coneShapedCharacteristic'],\n",
      "             'continuous': ['continuousCharacteristic'],\n",
      "             'crater': ['craterCharacteristic'],\n",
      "             'crust': ['crustCharacteristic'],\n",
      "             'cubic': ['cubicCharacteristic'],\n",
      "             'curly': ['curlyCharacteristic'],\n",
      "             'cylindrical': ['cylindricalCharacteristic'],\n",
      "             'dark blue': ['darkBlueCharacteristic'],\n",
      "             'dark brown': ['darkBrownCharacteristic'],\n",
      "             'dark green': ['darkGreenCharacteristic'],\n",
      "             'dark grey': ['darkGreyCharacteristic'],\n",
      "             'dark magenta': ['darkMagentaCharacteristic'],\n",
      "             'dark orange': ['darkOrangeCharacteristic'],\n",
      "             'dark pink': ['darkPinkCharacteristic'],\n",
      "             'dark red': ['darkRedCharacteristic'],\n",
      "             'dark yellow': ['darkYellowCharacteristic'],\n",
      "             'discontinuous1': ['discontinuous1Characteristic'],\n",
      "             'discontinuous2': ['discontinuous2Characteristic'],\n",
      "             'discontinuous3': ['discontinuous3Characteristic'],\n",
      "             'droplet': ['dropletCharacteristic'],\n",
      "             'earthy': ['earthyCharacteristic'],\n",
      "             'greasy': ['greasyCharacteristic'],\n",
      "             'green': ['greenCharacteristic'],\n",
      "             'grey': ['greyCharacteristic'],\n",
      "             'hemispherical': ['hemisphericalCharacteristic'],\n",
      "             'isolated': ['isolatedCharacteristic'],\n",
      "             'large': ['largeCharacteristic'],\n",
      "             'layer/film/coating': ['layerFilmCoatingCharacteristic'],\n",
      "             'lenticular': ['lensShapedCharacteristic'],\n",
      "             'light blue': ['lightBlueCharacteristic'],\n",
      "             'light brown': ['lightBrownCharacteristic'],\n",
      "             'light green': ['lightGreenCharacteristic'],\n",
      "             'light grey': ['lightGreyCharacteristic'],\n",
      "             'light magenta': ['lightMagentaCharacteristic'],\n",
      "             'light orange': ['lightOrangeCharacteristic'],\n",
      "             'light pink': ['lightPinkCharacteristic'],\n",
      "             'light red': ['lightRedCharacteristic'],\n",
      "             'light yellow': ['lightYellowCharacteristic'],\n",
      "             'longitudinal': ['longitudinalCharacteristic'],\n",
      "             'magenta': ['magentaCharacteristic'],\n",
      "             'matte': ['matteCharacteristic'],\n",
      "             'medium': ['normalWidthCharacteristic',\n",
      "                        'normalThicknessCharacteristic'],\n",
      "             'medium blue': ['mediumBlueCharacteristic'],\n",
      "             'medium green': ['mediumGreenCharacteristic'],\n",
      "             'metallic': ['metallicCharacteristic'],\n",
      "             'multidirectional': ['multidirectionalCharacteristic'],\n",
      "             'nodule': ['noduleCharacteristic'],\n",
      "             'null': ['null',\n",
      "                      'null',\n",
      "                      'null',\n",
      "                      'null',\n",
      "                      'null',\n",
      "                      'null',\n",
      "                      'null',\n",
      "                      'null',\n",
      "                      'null'],\n",
      "             'oblique': ['obliqueCharacteristic'],\n",
      "             'ochre': ['ochreCharacteristic'],\n",
      "             'opaque': ['opaqueCharacteristic'],\n",
      "             'orange': ['orangeCharacteristic'],\n",
      "             'ovoid': ['ovoidCharacteristic'],\n",
      "             'parallelepipedal': ['parallelepipedalCharacteristic'],\n",
      "             'pearly': ['pearlyCharacteristic'],\n",
      "             'pink': ['pinkCharacteristic'],\n",
      "             'pit': ['pitCharacteristic'],\n",
      "             'prismatic': ['prismaticCharacteristic'],\n",
      "             'pustule': ['pustuleCharacteristic'],\n",
      "             'pyramidal': ['pyramidalCharacteristic'],\n",
      "             'red': ['redCharacteristic'],\n",
      "             'resinous': ['resinousCharacteristic'],\n",
      "             'scattered': ['scatteredCharacteristic'],\n",
      "             'sector of a sphere': ['sectorOfASphereCharacteristic'],\n",
      "             'silky': ['silkyCharacteristic'],\n",
      "             'small': ['smallCharacteristic'],\n",
      "             'spherical': ['sphericalCharacteristic'],\n",
      "             'spherical cap': ['sphericalCapCharacteristic'],\n",
      "             'submetallic': ['submetallicCharacteristic'],\n",
      "             'thick': ['thickCharacteristic'],\n",
      "             'thin': ['thinCharacteristic'],\n",
      "             'translucent': ['translucentCharacteristic'],\n",
      "             'transparent': ['transparentCharacteristic'],\n",
      "             'transversal': ['transversalCharacteristic'],\n",
      "             'veins or seams': ['vainsOrSeamsCharacteristic'],\n",
      "             'vitreous': ['vitreousCharacteristic'],\n",
      "             'white': ['whiteCharacteristic'],\n",
      "             'yellow': ['yellowCharacteristic']})\n"
     ]
    }
   ],
   "source": [
    "# retrieved old uids or new ones manually generated in 08.2020\n",
    "# using below cypher query and neo4j browser csv export\n",
    "#\n",
    "# MATCH (fg:FamilyGroup {uid:'fgMorphology'})-[:SHOWS]->(f:Family)\n",
    "# OPTIONAL MATCH (f)<-[:BELONGS_TO]-(c:Characteristic)\n",
    "# RETURN f.uid,f.name,c.uid,c.name,c.order ORDER by c.order  ASC\n",
    "# => ./data/fgMorphology_before_new_uids_20210202.csv\n",
    "\n",
    "from collections import defaultdict\n",
    "from pprint import pprint\n",
    "\n",
    "old_uids_csv='./data/fgMorphology_before_new_uids_20210202.csv'\n",
    "cname2uids = defaultdict(list)\n",
    "fname2uids = defaultdict(list)\n",
    "with open(old_uids_csv, 'r') as f:\n",
    "    reader = csv.DictReader(f)\n",
    "    print(reader.fieldnames)\n",
    "    for r in reader:\n",
    "        fname=r['f.name'].lower()\n",
    "        cname=r['c.name'].lower()\n",
    "        if r['\\ufefff.uid'] not in fname2uids[fname]:\n",
    "            fname2uids[fname].append(r['\\ufefff.uid'])\n",
    "        cname2uids[cname].append(r['c.uid'])\n",
    "\n",
    "for name in fname2uids:\n",
    "    if len(fname2uids[name])>1:\n",
    "        print(f'error with Family: {name} = {fname2uids[name]}')\n",
    "\n",
    "for name in cname2uids:\n",
    "    if len(cname2uids[name])>1 :\n",
    "        print(f'error with Characteristic: {name} = {cname2uids[name]}')\n",
    "        \n",
    "pprint(fname2uids)\n",
    "pprint(cname2uids)\n"
   ]
  },
  {
   "cell_type": "markdown",
   "metadata": {},
   "source": [
    "## Main import_family_group"
   ]
  },
  {
   "cell_type": "code",
   "execution_count": 52,
   "metadata": {
    "pycharm": {
     "name": "#%%\n"
    }
   },
   "outputs": [
    {
     "name": "stdout",
     "output_type": "stream",
     "text": [
      "['Characteristic', 'Sub-characteristic', 'Observation mode', 'Values', 'Sub-values', 'Image', 'Variables', 'unit', 'uid', 'Definition from observation under binocular', 'Definition from observation on cross-section', 'Notice for modification of the current MiCorr interface', 'Comments', 'CP Binocular', 'CP CS', 'CM Binocular', 'CM CS', 'D Binocular', 'D CS', 'M Binocular', 'M CS', 'NMM Binocular', 'NMM CS', 'POM Binocular', 'POM CS', 'S Binocular', 'S CS', 'SV Binocular', 'SV CS']\n"
     ]
    }
   ],
   "source": [
    "\n",
    "FAMILY = 1\n",
    "CHARACTERISTIC = 2\n",
    "SUBCHARACTERISTIC = 4\n",
    "DEBUG = 8\n",
    "NATURES_L = ['CP','CM', 'D','M','NMM','POM','S','SV']\n",
    "NATURES = {'CP':'cp','CM':'cm', 'D':'deposit','M':'metal','NMM':'nmm','POM':'pom','S':'soil','SV':'sv'}\n",
    "\n",
    "NATURE_HEADER_SUFFIX = {'Binocular':' Binocular', 'Cross-section':' CS'}\n",
    "\n",
    "csv_file_path='./Copy20210102 of 20200608 SEARCH-by strat. representation-Bin. obs_v1 - MiCorr.csv'\n",
    "# csv_file_path='./20200608 SEARCH-by strat. representation-Bin. obs_v1 - MiCorr.csv'\n",
    "\n",
    "\n",
    "with open(csv_file_path,\"r\") as f:\n",
    "    reader =csv.DictReader(f)\n",
    "    print(reader.fieldnames)\n",
    "    \n",
    "def suffix(observation, end):\n",
    "    return ('CS' if observation=='Cross-section' else '') + end\n",
    "\n",
    "def upto_list_elem(r):\n",
    "        # element / compound list\n",
    "    if r['Variables'] =='list':\n",
    "        list_elem_family = r['unit']\n",
    "        upto=0\n",
    "    elif  r['Variables'] =='formula':\n",
    "        list_elem_family = r['unit']\n",
    "        upto=1\n",
    "    else:\n",
    "        list_elem_family = None\n",
    "        upto = None\n",
    "    return upto, list_elem_family\n",
    "\n",
    "def cleanup_uid(string_id):\n",
    "    # import re\n",
    "    # re.sub(r'\\((.*)\\)',r'\\1',string_id)\n",
    "    return string_id.replace('(S)','s').replace('/','').replace('_',' ').replace('-',' ').replace('(','').replace(')','')\n",
    "\n",
    "def to_uid(name):\n",
    "    camel_case_name=''.join(name.title().split(' '))\n",
    "    return camel_case_name[0].lower() + camel_case_name[1:]\n",
    "\n",
    "def build_uid(*args):\n",
    "    str_arg = ' '.join(map(cleanup_uid, args))\n",
    "    return to_uid(str_arg)\n",
    "\n",
    "def import_family_group(family_group, filter_observation=None, fieldsets=[], optgroups=[], filter_print=FAMILY|CHARACTERISTIC|SUBCHARACTERISTIC, shared_sub_characteristics=False):\n",
    "    family_uids=[]\n",
    "    characteristic_uids=[]\n",
    "    with open(csv_file_path,\"r\") as f:\n",
    "        reader =csv.DictReader(f)\n",
    "        current_value=''\n",
    "        characteristic_order = 1\n",
    "        family_order = 1\n",
    "        sub_value_order = 1\n",
    "        optgroup = None\n",
    "        optgroup_level = 0\n",
    "        description_field_in = {'Binocular':'Definition from observation under binocular',\n",
    "                               'Cross-section': 'Definition from observation on cross-section'}\n",
    "        fieldset = None # group Values below under fieldset\n",
    "\n",
    "        for r in reader:\n",
    "            if family_group not in r['Characteristic']:\n",
    "                continue\n",
    "            observation = r['Observation mode']\n",
    "            if (filter_observation and observation != filter_observation) or observation not in ['Binocular','Cross-section'] :\n",
    "                # print(f'skip observation=[{observation}]\\n')\n",
    "                continue\n",
    "            # strata Nature filtering\n",
    "            r_natures = [NATURES[N] for N in NATURES if r[N+NATURE_HEADER_SUFFIX[observation]]]\n",
    "            if filter_print & DEBUG:\n",
    "                print(f'\\n{r}\\n')\n",
    "            # print(f'family_group={r[\"Characteristic\"]}')\n",
    "            # print(f'observation={observation}')\n",
    "            if r['Values'] == '' and r['Sub-values'] == '' and r['Sub-characteristic']!='':\n",
    "                family_name=r['Sub-characteristic']\n",
    "                if '\\n' in family_name:\n",
    "                    # encode sub fieldset using code compatible '_' instead of '\\n' that is used in source csv\n",
    "                    family_name=family_name.replace('\\n', '_')\n",
    "\n",
    "\n",
    "                code_compatible_family_name = cleanup_uid(family_name)\n",
    "\n",
    "                if family_name != r['Characteristic']:\n",
    "                    family_uid=build_uid(r['Characteristic'], code_compatible_family_name) + suffix(observation, 'Family')\n",
    "                else:\n",
    "                    family_uid=build_uid(r['Characteristic']) + suffix(observation, 'Family')\n",
    "                if family_name in fieldsets:\n",
    "                    fieldset = family_name\n",
    "                    code_compatible_fieldset = cleanup_uid(fieldset)\n",
    "                    print(f'// new fieldset={fieldset}')\n",
    "                else:\n",
    "                    fieldset = None\n",
    "                    code_compatible_fieldset = None\n",
    "                if True: # r['Variables']:\n",
    "\n",
    "                    # check if element / compound list\n",
    "                    upto, list_elem_family = upto_list_elem(r)\n",
    "\n",
    "                    \n",
    "                    family_uid, new_uid = get_uid(family_name, family_uid, fname2uids)\n",
    "                    \n",
    "                    cql_family_update_row=new_family(fg_uid='fg'+family_group, uid=family_uid, name=family_name,\n",
    "                                         order=family_order,observation=observation, description=r[description_field_in[observation]],\n",
    "                                                    natures=r_natures, list_elem_family=list_elem_family,upto=upto,new_uid=new_uid)\n",
    "                    family_uids.append(family_uid)\n",
    "\n",
    "                    if filter_print & FAMILY:\n",
    "                        print(f'// new family_name={family_name} uid: {family_uid}')\n",
    "                        print(cql_family_update_row)\n",
    "                ## print(f'\\n// {family_uid} characteristics:')\n",
    "                sub_value_order=1\n",
    "                family_order+=1\n",
    "            elif r['Values'] == '' and r['Sub-values'] != '':\n",
    "                # Sub-Characteristic or characteristic under optgroup\n",
    "                current_subvalue = r['Sub-values']\n",
    "\n",
    "                if current_value!='' and current_value in optgroups:\n",
    "                    if sub_value_order==1:\n",
    "                        optgroup_level+=1\n",
    "                        optgroup=current_value\n",
    "                        print(f'// {current_value_uid} optgroup options:')\n",
    "                    # current_subvalue_uid = to_uid(current_value + ' ' +current_subvalue)+'Characteristic'\n",
    "                    current_subvalue_uid = build_uid(current_value, current_subvalue, 'Characteristic')\n",
    "                    current_subvalue_uid, new_uid = get_uid(current_subvalue, current_subvalue_uid, cname2uids)\n",
    "                    \n",
    "                    current_value_uid = build_uid(r['Characteristic'], code_compatible_family_name, current_value) + suffix(observation, 'Characteristic')\n",
    "                        # to_uid(' '.join([r['Characteristic'], code_compatible_family_name, current_value])) + suffix(observation, 'Characteristic')\n",
    "                    if filter_print & CHARACTERISTIC:\n",
    "                        print(new_characteristic(family_uid=family_uid, uid=current_subvalue_uid,name=current_subvalue,\n",
    "                                             optgroup=optgroup, order=characteristic_order,natures=r_natures, new_uid=new_uid))\n",
    "                    sub_value_order+=1\n",
    "                    characteristic_order+=1\n",
    "                    continue\n",
    "\n",
    "                if not shared_sub_characteristics:\n",
    "                    # current_subvalue_uid = to_uid(' '.join([r['Characteristic'], code_compatible_family_name, current_value, current_subvalue])) + suffix(observation, 'Characteristic')\n",
    "                    current_subvalue_uid = build_uid(r['Characteristic'], code_compatible_family_name, current_value, current_subvalue) + suffix(observation, 'Characteristic')\n",
    "                else:\n",
    "                    #current_subvalue_uid = to_uid(current_subvalue) + suffix(observation, 'Characteristic')\n",
    "                    current_subvalue_uid = build_uid(current_subvalue) + suffix(observation, 'Characteristic')\n",
    "\n",
    "                characteristic_uids.append(current_subvalue_uid)\n",
    "                upto, list_elem_family = upto_list_elem(r)\n",
    "                if not list_elem_family:\n",
    "                    variable=r['Variables']!=''\n",
    "                    unit=r['unit']\n",
    "                else:\n",
    "                    variable,unit=False,None\n",
    "                cql_subcharacteristic_update_row=new_subcharacteristic(parent_uid=current_value_uid, uid=current_subvalue_uid,\n",
    "                                                                       name=current_subvalue, order=sub_value_order,natures=r_natures,\n",
    "                                                                      variable=variable, unit=unit,\n",
    "                                                                      list_elem_family=list_elem_family,upto=upto)\n",
    "\n",
    "                if filter_print & SUBCHARACTERISTIC:\n",
    "                    # print(f'\\n// {current_subvalue} sub-characteristic:')\n",
    "                    print(cql_subcharacteristic_update_row)\n",
    "                sub_value_order+=1\n",
    "\n",
    "            if r['Values'] != '':\n",
    "                current_value = r['Values']\n",
    "                sub_value_order=1\n",
    "                if r['Variables'] !='':\n",
    "                    #print(f'\\nNew {current_value} variable Family:\\n')\n",
    "                    upto, list_elem_family = upto_list_elem(r)\n",
    "                    if not list_elem_family:\n",
    "                        variable=r['Variables']!=''\n",
    "                        unit=r['unit']\n",
    "                    else:\n",
    "                        variable,unit=False,None\n",
    "                    # current_value_uid = to_uid(' '.join([r['Characteristic'], (code_compatible_fieldset if fieldset else ''), current_value])) + suffix(observation, 'VarFamily' if variable else 'Family')\n",
    "                    # current_value_uid = cleanup_uid(current_value_uid)\n",
    "                    current_value_uid = build_uid(r['Characteristic'], (code_compatible_fieldset if fieldset else ''), current_value) + suffix(observation, 'VarFamily' if variable else 'Family')\n",
    "                    current_value_uid, new_uid = get_uid(current_value, current_value_uid, fname2uids)\n",
    "                    family_uids.append(current_value_uid)\n",
    "\n",
    "                    cql_family_update_row=new_family(fg_uid='fg'+family_group, uid=current_value_uid, name=current_value,\n",
    "                                order=family_order,observation=observation.lower(), description=r[description_field_in[observation]],\n",
    "                                variable=variable, unit=unit, fieldset=fieldset, natures=r_natures,list_elem_family=list_elem_family,upto=upto,new_uid=new_uid)\n",
    "\n",
    "                    if filter_print & FAMILY:\n",
    "                        print(cql_family_update_row)\n",
    "                    family_order+=1\n",
    "                else:\n",
    "                    # print(f'\\nNew {current_value} characteristic:\\n')\n",
    "                    # current_value_uid = to_uid(' '.join([r['Characteristic'], code_compatible_family_name, current_value])) + suffix(observation, 'Characteristic')\n",
    "                    current_value_uid = build_uid(r['Characteristic'], code_compatible_family_name, current_value) + suffix(observation, 'Characteristic')\n",
    "                    current_value_uid, new_uid = get_uid(current_value, current_value_uid, cname2uids)\n",
    "                    \n",
    "                    characteristic_uids.append(current_value_uid)\n",
    "\n",
    "                    # trick to detect end of optgroup in our particular case (1 optgroup only yet)\n",
    "                    if optgroup_level:\n",
    "                        optgroup= None\n",
    "                        optgroup_level-=1\n",
    "\n",
    "                    cql_characteristic_update_row = new_characteristic(family_uid=family_uid, uid=current_value_uid,\n",
    "                                         name=current_value,order=characteristic_order,\n",
    "                                         description=r[description_field_in[observation]],optgroup=optgroup,natures=r_natures,new_uid=new_uid)\n",
    "                    if filter_print & CHARACTERISTIC:\n",
    "                        print(cql_characteristic_update_row)\n",
    "\n",
    "                    # family_order+=1\n",
    "                    # characteristic_order = 1\n",
    "                    characteristic_order += 1\n",
    "    if filter_print & DEBUG:\n",
    "        print(f'family_uids={family_uids}\\n len={len(family_uids)}\\n set len={len(set(family_uids))}')\n",
    "        for x in set(family_uids):\n",
    "            family_uids.remove(x)\n",
    "        print(f'duplicated items in family_uids={family_uids}')\n",
    "        print(f'characteristic_uids={characteristic_uids}\\n len={len(characteristic_uids)}\\n set len={len(set(characteristic_uids))}')\n",
    "        for x in set(characteristic_uids):\n",
    "            characteristic_uids.remove(x)\n",
    "        print(f'duplicated items in characteristic_uids={characteristic_uids}')\n",
    "\n",
    "\n"
   ]
  },
  {
   "cell_type": "markdown",
   "metadata": {},
   "source": [
    "## Morphology"
   ]
  },
  {
   "cell_type": "code",
   "execution_count": 54,
   "metadata": {
    "scrolled": false
   },
   "outputs": [
    {
     "name": "stdout",
     "output_type": "stream",
     "text": [
      "\n",
      " //FAMILY \n",
      "\n",
      "// new family_name=Shape uid: shapeFamily\n",
      "{fg:'fgMorphology', order:1, observation:binocular, uid:'shapeFamily', name:'Shape', visible: False, variable: False, description:'Geometry of the stratum in the observed area. Only the film/coating/layer options are made visible. The blank option corresponds to a stratum which shape is not known.', natures:['cp', 'cm', 'deposit', 'metal', 'nmm', 'pom', 'soil', 'sv'], new_uid:'morphologyShapeFamily'},\n",
      "// morphologyShapeGeometricalShapeCharacteristic optgroup options:\n",
      "// new fieldset=Width\n",
      "// new family_name=Width uid: widthFamily\n",
      "{fg:'fgMorphology', order:2, observation:cross_section, uid:'widthFamily', name:'Width', visible: False, variable: False, description:'Determined on the observed area. It is expressed in µm and %. ', natures:['cp', 'cm', 'deposit', 'metal', 'nmm', 'pom', 'soil', 'sv'], new_uid:'morphologyWidthCSFamily'},\n",
      "{fg:'fgMorphology', order:3, observation:cross_section, uid:'morphologyWidthAreaCSVarFamily', name:'Area', visible: False, variable: True, description:'In µm.', natures:['cp', 'cm', 'deposit', 'metal', 'nmm', 'pom', 'soil', 'sv'], unit:'µm', fieldset:'Width'},\n",
      "{fg:'fgMorphology', order:4, observation:cross_section, uid:'stratumWidthVarFamily', name:'Stratum', visible: False, variable: True, description:'In µm.', natures:['cp', 'cm', 'deposit', 'metal', 'nmm', 'pom', 'soil', 'sv'], unit:'µm', fieldset:'Width', new_uid:'morphologyWidthStratumCSVarFamily'},\n",
      "{fg:'fgMorphology', order:5, observation:cross_section, uid:'percentageWidthVarFamily', name:'Percentage', visible: False, variable: True, description:'in % (deduced automatically).', natures:['cp', 'cm', 'deposit', 'metal', 'nmm', 'pom', 'soil', 'sv'], unit:'%', fieldset:'Width', new_uid:'morphologyWidthPercentageCSVarFamily'},\n",
      "// new fieldset=Thickness\n",
      "// new family_name=Thickness uid: morphologyThicknessFamily\n",
      "{fg:'fgMorphology', order:6, observation:binocular, uid:'morphologyThicknessFamily', name:'Thickness', visible: False, variable: False, description:'The thickness of the strata in the observed area can be measured if the binocular or microscope is equipped with scales. Otherwise, the thickness should be deduced in relation to the other strata of the corrosion structure (thick, medium, thin). The blank option corresponds to a stratum which thickness is not known.', natures:['cp', 'cm', 'deposit', 'metal', 'nmm', 'pom', 'soil', 'sv']},\n",
      "{fg:'fgMorphology', order:7, observation:binocular, uid:'minThicknessVarFamily', name:'Minimal', visible: False, variable: True, description:'In µm', natures:['cp', 'cm', 'deposit', 'metal', 'nmm', 'pom', 'soil', 'sv'], unit:'µm', fieldset:'Thickness', new_uid:'morphologyThicknessMinimalVarFamily'},\n",
      "{fg:'fgMorphology', order:8, observation:binocular, uid:'maxThicknessVarFamily', name:'Maximal', visible: False, variable: True, description:'In µm', natures:['cp', 'cm', 'deposit', 'metal', 'nmm', 'pom', 'soil', 'sv'], unit:'µm', fieldset:'Thickness', new_uid:'morphologyThicknessMaximalVarFamily'},\n",
      "{fg:'fgMorphology', order:9, observation:binocular, uid:'avgThicknessVarFamily', name:'Average', visible: False, variable: True, description:'In µm', natures:['cp', 'cm', 'deposit', 'metal', 'nmm', 'pom', 'soil', 'sv'], unit:'µm', fieldset:'Thickness', new_uid:'morphologyThicknessAverageVarFamily'},\n",
      "{fg:'fgMorphology', order:10, observation:cross_section, uid:'minThicknessCSVarFamily', name:'Minimal', visible: False, variable: True, description:'In µm.', natures:['cp', 'cm', 'deposit', 'metal', 'nmm', 'pom', 'soil', 'sv'], fieldset:'Thickness', new_uid:'morphologyThicknessMinimalCSVarFamily'},\n",
      "{fg:'fgMorphology', order:11, observation:cross_section, uid:'maxThicknessCSVarFamily', name:'Maximal', visible: False, variable: True, description:'In µm.', natures:['cp', 'cm', 'deposit', 'metal', 'nmm', 'pom', 'soil', 'sv'], fieldset:'Thickness', new_uid:'morphologyThicknessMaximalCSVarFamily'},\n",
      "{fg:'fgMorphology', order:12, observation:cross_section, uid:'avgThicknessCSVarFamily', name:'Average', visible: False, variable: True, description:'In µm.', natures:['cp', 'cm', 'deposit', 'metal', 'nmm', 'pom', 'soil', 'sv'], fieldset:'Thickness', new_uid:'morphologyThicknessAverageCSVarFamily'},\n",
      "// new family_name=Continuity uid: continuityFamily\n",
      "{fg:'fgMorphology', order:13, observation:binocular, uid:'continuityFamily', name:'Continuity', visible: False, variable: False, description:'The continuity of a stratum is assessed in relation to the observed area. The blank option corresponds to a stratum which continuity is not known.', natures:['cp', 'cm', 'deposit', 'metal', 'nmm', 'pom', 'soil', 'sv'], new_uid:'morphologyContinuityFamily'},\n",
      "// new family_name=Direction uid: directionFamily\n",
      "{fg:'fgMorphology', order:14, observation:binocular, uid:'directionFamily', name:'Direction', visible: False, variable: False, description:'The surface orientation represents the direction of the described stratum in relation to the tangential plane of the present surface (or to the mean tangential plane of the present surface in the case of macro-roughnesses or irregularities). Only the longitudinal option is made visible. The blank option corresponds to a stratum which direction is not known.', natures:['cp', 'cm', 'deposit', 'metal', 'nmm', 'pom', 'soil', 'sv'], new_uid:'morphologyDirectionFamily'},\n",
      "// new family_name=Colour uid: colourFamily\n",
      "{fg:'fgMorphology', order:15, observation:binocular, uid:'colourFamily', name:'Colour', visible: False, variable: False, description:'Assessed with naked eyes on the observed area. The number of colours offered is deliberately limited in order to allow a reliable transmission of this property in the descriptions. The blank option corresponds to a stratum which colour is not known.', natures:['cp', 'cm', 'deposit', 'metal', 'nmm', 'pom', 'soil'], new_uid:'morphologyColourFamily'},\n",
      "// new family_name=Colour (with optical microscope - bright field) uid: morphologyColourWithOpticalMicroscopeBrightFieldCSFamily\n",
      "{fg:'fgMorphology', order:16, observation:cross_section, uid:'morphologyColourWithOpticalMicroscopeBrightFieldCSFamily', name:'Colour (with optical microscope - bright field)', visible: False, variable: False, description:'Determined on the observed area. The number of colours offered is deliberately limited in order to allow a reliable transmission of this property in the descriptions. The blank option corresponds to a stratum which colour is not known.', natures:['cp', 'cm', 'deposit', 'metal', 'nmm', 'pom', 'soil']},\n",
      "// new family_name=Colour (with optical microscope - dark field) uid: morphologyColourWithOpticalMicroscopeDarkFieldCSFamily\n",
      "{fg:'fgMorphology', order:17, observation:cross_section, uid:'morphologyColourWithOpticalMicroscopeDarkFieldCSFamily', name:'Colour (with optical microscope - dark field)', visible: False, variable: False, description:'Determined on the observed area. The number of colours offered is deliberately limited in order to allow a reliable transmission of this property in the descriptions. The blank option corresponds to a stratum which colour is not known.', natures:['cp', 'cm', 'deposit', 'metal', 'nmm', 'pom', 'soil']},\n",
      "// new family_name=Colour (with scanning electron microscope - secondary electrons) uid: morphologyColourWithScanningElectronMicroscopeSecondaryElectronsCSFamily\n",
      "{fg:'fgMorphology', order:18, observation:cross_section, uid:'morphologyColourWithScanningElectronMicroscopeSecondaryElectronsCSFamily', name:'Colour (with scanning electron microscope - secondary electrons)', visible: False, variable: False, description:'Determined on the observed area. The number of colours offered is deliberately limited in order to allow a reliable transmission of this property in the descriptions. ', natures:['cp', 'cm', 'deposit', 'metal', 'nmm', 'pom', 'soil']},\n",
      "// new family_name=Colour (with scanning electron microscope - backscattered electrons) uid: morphologyColourWithScanningElectronMicroscopeBackscatteredElectronsCSFamily\n",
      "{fg:'fgMorphology', order:19, observation:cross_section, uid:'morphologyColourWithScanningElectronMicroscopeBackscatteredElectronsCSFamily', name:'Colour (with scanning electron microscope - backscattered electrons)', visible: False, variable: False, description:'Determined on the observed area. The number of colours offered is deliberately limited in order to allow a reliable transmission of this property in the descriptions.', natures:['cp', 'cm', 'deposit', 'metal', 'nmm', 'pom', 'soil']},\n",
      "// new family_name=Brightness  uid: morphologyBrightnessFamily\n",
      "{fg:'fgMorphology', order:20, observation:binocular, uid:'morphologyBrightnessFamily', name:'Brightness ', visible: False, variable: False, description:'Assessed on the observed area. None of the options is made visible. The blank option corresponds to a stratum which brightness is not known.', natures:['cp', 'cm', 'deposit', 'metal', 'nmm', 'pom', 'soil']},\n",
      "// new family_name=Opacity uid: opacityFamily\n",
      "{fg:'fgMorphology', order:21, observation:binocular, uid:'opacityFamily', name:'Opacity', visible: False, variable: False, description:'Assessed with naked eyes on the observed area. None of the options is made visible. The blank option corresponds to a stratum which opacity is not known.', natures:['cp', 'cm', 'deposit', 'metal', 'nmm', 'pom', 'soil'], new_uid:'morphologyOpacityFamily'},\n",
      "// new family_name=Opacity (with optical microscope - dark field) uid: morphologyOpacityWithOpticalMicroscopeDarkFieldCSFamily\n",
      "{fg:'fgMorphology', order:22, observation:cross_section, uid:'morphologyOpacityWithOpticalMicroscopeDarkFieldCSFamily', name:'Opacity (with optical microscope - dark field)', visible: False, variable: False, description:'Assessed on the observed area. None of the options is made visible. ', natures:['cp', 'cm', 'deposit', 'metal', 'nmm', 'pom', 'soil']},\n",
      "\n",
      " //CHARACTERISTIC \n",
      "\n",
      "{family_uid:'shapeFamily', uid:'morphologyShapeBlankCharacteristic', name:'Blank', order:1, natures:['cp', 'cm', 'deposit', 'metal', 'nmm', 'pom', 'soil', 'sv']},\n",
      "{family_uid:'shapeFamily', uid:'cloudCharacteristic', name:'Cloud', order:2, natures:['cp', 'deposit', 'nmm', 'soil'], description:'Continuous or very fine discontinuous outer stratum showing the underlying stratum.', new_uid:'morphologyShapeCloudCharacteristic'},\n",
      "{family_uid:'shapeFamily', uid:'clusterCharacteristic', name:'Cluster', order:3, natures:['cp', 'deposit', 'nmm', 'pom', 'soil'], description:'Stratum, usually thick, dispersed or isolated, of irregular massive shape.', new_uid:'morphologyShapeClusterCharacteristic'},\n",
      "{family_uid:'shapeFamily', uid:'craterCharacteristic', name:'Crater', order:4, natures:['cm', 'metal'], description:'Particular shape at the surface of a metal stratum in the form of a cavity that is wider than deep.', new_uid:'morphologyShapeCraterCharacteristic'},\n",
      "{family_uid:'shapeFamily', uid:'crustCharacteristic', name:'Crust', order:5, natures:['cp', 'deposit', 'soil'], description:'Continuous or discontinuous outer stratum of possibly irregular thickness.', new_uid:'morphologyShapeCrustCharacteristic'},\n",
      "{family_uid:'shapeFamily', uid:'dropletCharacteristic', name:'Droplet', order:6, natures:['cp', 'deposit'], description:'Most often outer stratum dispersed or isolated, droplet-shaped stratum.', new_uid:'morphologyShapeDropletCharacteristic'},\n",
      "{family_uid:'shapeFamily', uid:'morphologyShapeFilmcoatingCharacteristic', name:'Film/coating', order:7, natures:['cp', 'deposit', 'metal', 'nmm', 'soil'], description:'Thin continuous or discontinuous stratum of regular thickness (on the scale of the observation) and whose faces appear parallel.'},\n",
      "{family_uid:'shapeFamily', uid:'morphologyShapeLayerCharacteristic', name:'Layer', order:8, natures:['cp', 'cm', 'deposit', 'metal', 'nmm', 'pom', 'soil', 'sv'], description:'Thin continuous or discontinuous stratum of regular thickness (on the scale of the observation) and whose faces appear parallel.'},\n",
      "{family_uid:'shapeFamily', uid:'noduleCharacteristic', name:'Nodule', order:9, natures:['cp', 'cm', 'deposit', 'metal', 'soil'], description:'Generally thick, dispersed or isolated stratum of massive pseudo-geometric shape.', new_uid:'morphologyShapeNoduleCharacteristic'},\n",
      "{family_uid:'shapeFamily', uid:'pitCharacteristic', name:'Pit', order:10, natures:['cm', 'metal'], description:'Particular shape on the surface of a metal stratum in the form of a cavity deeper than wide.', new_uid:'morphologyShapePitCharacteristic'},\n",
      "{family_uid:'shapeFamily', uid:'pustuleCharacteristic', name:'Pustule', order:11, natures:['cp'], description:'Dispersed or isolated stratum of conical or hemispherical shape.', new_uid:'morphologyShapePustuleCharacteristic'},\n",
      "{family_uid:'shapeFamily', uid:'vainsOrSeamsCharacteristic', name:'Veins or seams', order:12, natures:['cp', 'deposit', 'metal', 'sv'], description:'Continuous or discontinuous stratum.', new_uid:'morphologyShapeVeinsOrSeamsCharacteristic'},\n",
      "{family_uid:'shapeFamily', uid:'morphologyShapeWhiskersCharacteristic', name:'Whiskers', order:13, natures:['cp', 'deposit'], description:'Stratum in the form of a filament or hair extending over the surface. '},\n",
      "{family_uid:'shapeFamily', uid:'morphologyShapeGeometricalShapeCharacteristic', name:'Geometrical shape', order:14, natures:['cp', 'metal'], description:'Stratum with a specific geometrical shape'},\n",
      "// morphologyShapeGeometricalShapeCharacteristic optgroup options:\n",
      "{family_uid:'shapeFamily', uid:'ringShapedCharacteristic', name:'Circular', order:15, natures:['cp', 'metal'], optgroup:'Geometrical shape', new_uid:'geometricalShapeCircularCharacteristic'},\n",
      "{family_uid:'shapeFamily', uid:'coneShapedCharacteristic', name:'Conical', order:16, natures:['cp', 'metal'], optgroup:'Geometrical shape', new_uid:'geometricalShapeConicalCharacteristic'},\n",
      "{family_uid:'shapeFamily', uid:'cubicCharacteristic', name:'Cubic', order:17, natures:['cp', 'metal'], optgroup:'Geometrical shape', new_uid:'geometricalShapeCubicCharacteristic'},\n",
      "{family_uid:'shapeFamily', uid:'cylindricalCharacteristic', name:'Cylindrical', order:18, natures:['cp', 'metal'], optgroup:'Geometrical shape', new_uid:'geometricalShapeCylindricalCharacteristic'},\n",
      "{family_uid:'shapeFamily', uid:'hemisphericalCharacteristic', name:'Hemispherical', order:19, natures:['cp', 'metal'], optgroup:'Geometrical shape', new_uid:'geometricalShapeHemisphericalCharacteristic'},\n",
      "{family_uid:'shapeFamily', uid:'geometricalShapeLensShapedCharacteristic', name:'Lens-shaped', order:20, natures:['cp', 'metal'], optgroup:'Geometrical shape'},\n",
      "{family_uid:'shapeFamily', uid:'ovoidCharacteristic', name:'Ovoid', order:21, natures:['cp', 'metal'], optgroup:'Geometrical shape', new_uid:'geometricalShapeOvoidCharacteristic'},\n",
      "{family_uid:'shapeFamily', uid:'parallelepipedalCharacteristic', name:'Parallelepipedal', order:22, natures:['cp', 'metal'], optgroup:'Geometrical shape', new_uid:'geometricalShapeParallelepipedalCharacteristic'},\n",
      "{family_uid:'shapeFamily', uid:'prismaticCharacteristic', name:'Prismatic', order:23, natures:['cp', 'metal'], optgroup:'Geometrical shape', new_uid:'geometricalShapePrismaticCharacteristic'},\n",
      "{family_uid:'shapeFamily', uid:'pyramidalCharacteristic', name:'Pyramidal', order:24, natures:['cp', 'metal'], optgroup:'Geometrical shape', new_uid:'geometricalShapePyramidalCharacteristic'},\n",
      "{family_uid:'shapeFamily', uid:'geometricalShapeRingShapedCharacteristic', name:'Ring-shaped', order:25, natures:['cp', 'metal'], optgroup:'Geometrical shape'},\n",
      "{family_uid:'shapeFamily', uid:'sectorOfASphereCharacteristic', name:'Sector of a sphere', order:26, natures:['cp', 'metal'], optgroup:'Geometrical shape', new_uid:'geometricalShapeSectorOfASphereCharacteristic'},\n",
      "{family_uid:'shapeFamily', uid:'sphericalCapCharacteristic', name:'Spherical cap', order:27, natures:['cp', 'metal'], optgroup:'Geometrical shape', new_uid:'geometricalShapeSphericalCapCharacteristic'},\n",
      "{family_uid:'shapeFamily', uid:'sphericalCharacteristic', name:'Spherical', order:28, natures:['cp', 'metal'], optgroup:'Geometrical shape', new_uid:'geometricalShapeSphericalCharacteristic'},\n",
      "{family_uid:'shapeFamily', uid:'geometricalShapeTrapezoïdalCharacteristic', name:'Trapezoïdal', order:29, natures:['cp', 'metal'], optgroup:'Geometrical shape'},\n",
      "{family_uid:'shapeFamily', uid:'geometricalShapeCurveShapedCharacteristic', name:'Curve-shaped', order:30, natures:['cp', 'metal'], optgroup:'Geometrical shape'},\n",
      "// new fieldset=Width\n",
      "// new fieldset=Thickness\n",
      "{family_uid:'morphologyThicknessFamily', uid:'morphologyThicknessBlankCharacteristic', name:'Blank', order:31, natures:['cp', 'cm', 'deposit', 'metal', 'nmm', 'pom', 'soil', 'sv']},\n",
      "{family_uid:'morphologyThicknessFamily', uid:'thickCharacteristic', name:'Thick', order:32, natures:['cp', 'cm', 'deposit', 'metal', 'nmm', 'pom', 'soil', 'sv'], new_uid:'morphologyThicknessThickCharacteristic'},\n",
      "{family_uid:'morphologyThicknessFamily', uid:'normalWidthCharacteristic', name:'Medium', order:33, natures:['cp', 'cm', 'deposit', 'metal', 'nmm', 'pom', 'soil', 'sv'], new_uid:'morphologyThicknessMediumCharacteristic'},\n",
      "{family_uid:'morphologyThicknessFamily', uid:'thinCharacteristic', name:'Thin', order:34, natures:['cp', 'cm', 'deposit', 'metal', 'nmm', 'pom', 'soil', 'sv'], new_uid:'morphologyThicknessThinCharacteristic'},\n",
      "{family_uid:'continuityFamily', uid:'morphologyContinuityBlankCharacteristic', name:'Blank', order:35, natures:['cp', 'cm', 'deposit', 'metal', 'nmm', 'pom', 'soil', 'sv']},\n",
      "{family_uid:'continuityFamily', uid:'continuousCharacteristic', name:'Continuous', order:36, natures:['cp', 'cm', 'deposit', 'metal', 'nmm', 'pom', 'soil', 'sv'], description:'Stratum showing no interruption (consisting of a single stratigraphic element) over the observed area.', new_uid:'morphologyContinuityContinuousCharacteristic'},\n",
      "{family_uid:'continuityFamily', uid:'morphologyContinuityDiscontinuousCharacteristic', name:'Discontinuous', order:37, natures:['cp', 'cm', 'deposit', 'metal', 'nmm', 'pom', 'soil', 'sv'], description:'Stratum with one ore more interruption(s) in the observed area.'},\n",
      "{family_uid:'continuityFamily', uid:'scatteredCharacteristic', name:'Scattered', order:38, natures:['cp', 'cm', 'deposit', 'metal', 'nmm', 'pom', 'soil', 'sv'], description:'Stratum consisting of numerous stratigraphic elements separated from each other and distributed over the observed area.', new_uid:'morphologyContinuityScatteredCharacteristic'},\n",
      "{family_uid:'continuityFamily', uid:'isolatedCharacteristic', name:'Isolated', order:39, natures:['cp', 'cm', 'deposit', 'metal', 'nmm', 'pom', 'soil', 'sv'], description:'Stratum consisting of one or more stratigraphic elements having a minority volume over the area observed.', new_uid:'morphologyContinuityIsolatedCharacteristic'},\n",
      "{family_uid:'continuityFamily', uid:'morphologyContinuityBlankCSCharacteristic', name:'Blank', order:40, natures:['cp', 'cm', 'deposit', 'metal', 'nmm', 'pom', 'soil', 'sv']},\n",
      "{family_uid:'continuityFamily', uid:'continuousCharacteristic', name:'Continuous', order:41, natures:['cp', 'cm', 'deposit', 'metal', 'nmm', 'pom', 'soil', 'sv'], description:'Stratum showing no interruption (consisting of a single stratigraphic element) over the observed area.', new_uid:'morphologyContinuityContinuousCSCharacteristic'},\n",
      "{family_uid:'continuityFamily', uid:'morphologyContinuityDiscontinuousCSCharacteristic', name:'Discontinuous', order:42, natures:['cp', 'cm', 'deposit', 'metal', 'nmm', 'pom', 'soil', 'sv'], description:'Stratum with one ore more interruption(s) in the observed area.'},\n",
      "{family_uid:'directionFamily', uid:'morphologyDirectionBlankCharacteristic', name:'Blank', order:43, natures:['cp', 'cm', 'deposit', 'metal', 'nmm', 'pom', 'soil', 'sv']},\n",
      "{family_uid:'directionFamily', uid:'longitudinalCharacteristic', name:'Longitudinal', order:44, natures:['cp', 'cm', 'deposit', 'metal', 'nmm', 'pom', 'soil', 'sv'], new_uid:'morphologyDirectionLongitudinalCharacteristic'},\n",
      "{family_uid:'directionFamily', uid:'morphologyDirectionObliqueCharacteristic', name:'Oblique ', order:45, natures:['cp', 'cm', 'deposit', 'metal', 'nmm', 'pom', 'soil', 'sv']},\n",
      "{family_uid:'directionFamily', uid:'transversalCharacteristic', name:'Transversal', order:46, natures:['cp', 'cm', 'deposit', 'metal', 'nmm', 'pom', 'soil', 'sv'], new_uid:'morphologyDirectionTransversalCharacteristic'},\n",
      "{family_uid:'directionFamily', uid:'multidirectionalCharacteristic', name:'Multidirectional', order:47, natures:['cp', 'cm', 'deposit', 'metal', 'nmm', 'pom', 'soil', 'sv'], new_uid:'morphologyDirectionMultidirectionalCharacteristic'},\n",
      "{family_uid:'colourFamily', uid:'morphologyColourBlankCharacteristic', name:'Blank', order:48, natures:['cp', 'cm', 'deposit', 'metal', 'nmm', 'pom', 'soil']},\n",
      "{family_uid:'colourFamily', uid:'whiteCharacteristic', name:'White', order:49, natures:['cp', 'cm', 'deposit', 'metal', 'nmm', 'pom', 'soil'], new_uid:'morphologyColourWhiteCharacteristic'},\n",
      "{family_uid:'colourFamily', uid:'yellowCharacteristic', name:'Yellow', order:50, natures:['cp', 'cm', 'deposit', 'metal', 'nmm', 'pom', 'soil'], new_uid:'morphologyColourYellowCharacteristic'},\n",
      "{family_uid:'colourFamily', uid:'orangeCharacteristic', name:'Orange', order:51, natures:['cp', 'cm', 'deposit', 'metal', 'nmm', 'pom', 'soil'], new_uid:'morphologyColourOrangeCharacteristic'},\n",
      "{family_uid:'colourFamily', uid:'pinkCharacteristic', name:'Pink', order:52, natures:['cp', 'cm', 'deposit', 'metal', 'nmm', 'pom', 'soil'], new_uid:'morphologyColourPinkCharacteristic'},\n",
      "{family_uid:'colourFamily', uid:'redCharacteristic', name:'Red', order:53, natures:['cp', 'cm', 'deposit', 'metal', 'nmm', 'pom', 'soil'], new_uid:'morphologyColourRedCharacteristic'},\n",
      "{family_uid:'colourFamily', uid:'greenCharacteristic', name:'Green', order:54, natures:['cp', 'cm', 'deposit', 'metal', 'nmm', 'pom', 'soil'], new_uid:'morphologyColourGreenCharacteristic'},\n",
      "{family_uid:'colourFamily', uid:'blueCharacteristic', name:'Blue', order:55, natures:['cp', 'cm', 'deposit', 'metal', 'nmm', 'pom', 'soil'], new_uid:'morphologyColourBlueCharacteristic'},\n",
      "{family_uid:'colourFamily', uid:'brownCharacteristic', name:'Brown', order:56, natures:['cp', 'cm', 'deposit', 'metal', 'nmm', 'pom', 'soil'], new_uid:'morphologyColourBrownCharacteristic'},\n",
      "{family_uid:'colourFamily', uid:'greyCharacteristic', name:'Grey', order:57, natures:['cp', 'cm', 'deposit', 'metal', 'nmm', 'pom', 'soil'], new_uid:'morphologyColourGreyCharacteristic'},\n",
      "{family_uid:'colourFamily', uid:'blackCharacteristic', name:'Black', order:58, natures:['cp', 'cm', 'deposit', 'metal', 'nmm', 'pom', 'soil'], new_uid:'morphologyColourBlackCharacteristic'},\n",
      "{family_uid:'morphologyColourWithOpticalMicroscopeBrightFieldCSFamily', uid:'morphologyColourWithOpticalMicroscopeBrightFieldBlankCSCharacteristic', name:'Blank', order:59, natures:['cp', 'cm', 'deposit', 'metal', 'nmm', 'pom', 'soil']},\n",
      "{family_uid:'morphologyColourWithOpticalMicroscopeBrightFieldCSFamily', uid:'whiteCharacteristic', name:'White', order:60, natures:['cp', 'cm', 'deposit', 'metal', 'nmm', 'pom', 'soil'], new_uid:'morphologyColourWithOpticalMicroscopeBrightFieldWhiteCSCharacteristic'},\n",
      "{family_uid:'morphologyColourWithOpticalMicroscopeBrightFieldCSFamily', uid:'yellowCharacteristic', name:'Yellow', order:61, natures:['cp', 'cm', 'deposit', 'metal', 'nmm', 'pom', 'soil'], new_uid:'morphologyColourWithOpticalMicroscopeBrightFieldYellowCSCharacteristic'},\n",
      "{family_uid:'morphologyColourWithOpticalMicroscopeBrightFieldCSFamily', uid:'orangeCharacteristic', name:'Orange', order:62, natures:['cp', 'cm', 'deposit', 'metal', 'nmm', 'pom', 'soil'], new_uid:'morphologyColourWithOpticalMicroscopeBrightFieldOrangeCSCharacteristic'},\n",
      "{family_uid:'morphologyColourWithOpticalMicroscopeBrightFieldCSFamily', uid:'pinkCharacteristic', name:'Pink', order:63, natures:['cp', 'cm', 'deposit', 'metal', 'nmm', 'pom', 'soil'], new_uid:'morphologyColourWithOpticalMicroscopeBrightFieldPinkCSCharacteristic'},\n",
      "{family_uid:'morphologyColourWithOpticalMicroscopeBrightFieldCSFamily', uid:'redCharacteristic', name:'Red', order:64, natures:['cp', 'cm', 'deposit', 'metal', 'nmm', 'pom', 'soil'], new_uid:'morphologyColourWithOpticalMicroscopeBrightFieldRedCSCharacteristic'},\n",
      "{family_uid:'morphologyColourWithOpticalMicroscopeBrightFieldCSFamily', uid:'greenCharacteristic', name:'Green', order:65, natures:['cp', 'cm', 'deposit', 'metal', 'nmm', 'pom', 'soil'], new_uid:'morphologyColourWithOpticalMicroscopeBrightFieldGreenCSCharacteristic'},\n",
      "{family_uid:'morphologyColourWithOpticalMicroscopeBrightFieldCSFamily', uid:'blueCharacteristic', name:'Blue', order:66, natures:['cp', 'cm', 'deposit', 'metal', 'nmm', 'pom', 'soil'], new_uid:'morphologyColourWithOpticalMicroscopeBrightFieldBlueCSCharacteristic'},\n",
      "{family_uid:'morphologyColourWithOpticalMicroscopeBrightFieldCSFamily', uid:'brownCharacteristic', name:'Brown', order:67, natures:['cp', 'cm', 'deposit', 'metal', 'nmm', 'pom', 'soil'], new_uid:'morphologyColourWithOpticalMicroscopeBrightFieldBrownCSCharacteristic'},\n",
      "{family_uid:'morphologyColourWithOpticalMicroscopeBrightFieldCSFamily', uid:'greyCharacteristic', name:'Grey', order:68, natures:['cp', 'cm', 'deposit', 'metal', 'nmm', 'pom', 'soil'], new_uid:'morphologyColourWithOpticalMicroscopeBrightFieldGreyCSCharacteristic'},\n",
      "{family_uid:'morphologyColourWithOpticalMicroscopeBrightFieldCSFamily', uid:'blackCharacteristic', name:'Black', order:69, natures:['cp', 'cm', 'deposit', 'metal', 'nmm', 'pom', 'soil'], new_uid:'morphologyColourWithOpticalMicroscopeBrightFieldBlackCSCharacteristic'},\n",
      "{family_uid:'morphologyColourWithOpticalMicroscopeDarkFieldCSFamily', uid:'morphologyColourWithOpticalMicroscopeDarkFieldBlankCSCharacteristic', name:'Blank', order:70, natures:['cp', 'cm', 'deposit', 'metal', 'nmm', 'pom', 'soil']},\n",
      "{family_uid:'morphologyColourWithOpticalMicroscopeDarkFieldCSFamily', uid:'whiteCharacteristic', name:'White', order:71, natures:['cp', 'cm', 'deposit', 'metal', 'nmm', 'pom', 'soil'], new_uid:'morphologyColourWithOpticalMicroscopeDarkFieldWhiteCSCharacteristic'},\n",
      "{family_uid:'morphologyColourWithOpticalMicroscopeDarkFieldCSFamily', uid:'yellowCharacteristic', name:'Yellow', order:72, natures:['cp', 'cm', 'deposit', 'metal', 'nmm', 'pom', 'soil'], new_uid:'morphologyColourWithOpticalMicroscopeDarkFieldYellowCSCharacteristic'},\n",
      "{family_uid:'morphologyColourWithOpticalMicroscopeDarkFieldCSFamily', uid:'orangeCharacteristic', name:'Orange', order:73, natures:['cp', 'cm', 'deposit', 'metal', 'nmm', 'pom', 'soil'], new_uid:'morphologyColourWithOpticalMicroscopeDarkFieldOrangeCSCharacteristic'},\n",
      "{family_uid:'morphologyColourWithOpticalMicroscopeDarkFieldCSFamily', uid:'pinkCharacteristic', name:'Pink', order:74, natures:['cp', 'cm', 'deposit', 'metal', 'nmm', 'pom', 'soil'], new_uid:'morphologyColourWithOpticalMicroscopeDarkFieldPinkCSCharacteristic'},\n",
      "{family_uid:'morphologyColourWithOpticalMicroscopeDarkFieldCSFamily', uid:'redCharacteristic', name:'Red', order:75, natures:['cp', 'cm', 'deposit', 'metal', 'nmm', 'pom', 'soil'], new_uid:'morphologyColourWithOpticalMicroscopeDarkFieldRedCSCharacteristic'},\n",
      "{family_uid:'morphologyColourWithOpticalMicroscopeDarkFieldCSFamily', uid:'greenCharacteristic', name:'Green', order:76, natures:['cp', 'cm', 'deposit', 'metal', 'nmm', 'pom', 'soil'], new_uid:'morphologyColourWithOpticalMicroscopeDarkFieldGreenCSCharacteristic'},\n",
      "{family_uid:'morphologyColourWithOpticalMicroscopeDarkFieldCSFamily', uid:'blueCharacteristic', name:'Blue', order:77, natures:['cp', 'cm', 'deposit', 'metal', 'nmm', 'pom', 'soil'], new_uid:'morphologyColourWithOpticalMicroscopeDarkFieldBlueCSCharacteristic'},\n",
      "{family_uid:'morphologyColourWithOpticalMicroscopeDarkFieldCSFamily', uid:'brownCharacteristic', name:'Brown', order:78, natures:['cp', 'cm', 'deposit', 'metal', 'nmm', 'pom', 'soil'], new_uid:'morphologyColourWithOpticalMicroscopeDarkFieldBrownCSCharacteristic'},\n",
      "{family_uid:'morphologyColourWithOpticalMicroscopeDarkFieldCSFamily', uid:'greyCharacteristic', name:'Grey', order:79, natures:['cp', 'cm', 'deposit', 'metal', 'nmm', 'pom', 'soil'], new_uid:'morphologyColourWithOpticalMicroscopeDarkFieldGreyCSCharacteristic'},\n",
      "{family_uid:'morphologyColourWithOpticalMicroscopeDarkFieldCSFamily', uid:'blackCharacteristic', name:'Black', order:80, natures:['cp', 'cm', 'deposit', 'metal', 'nmm', 'pom', 'soil'], new_uid:'morphologyColourWithOpticalMicroscopeDarkFieldBlackCSCharacteristic'},\n",
      "{family_uid:'morphologyColourWithScanningElectronMicroscopeSecondaryElectronsCSFamily', uid:'whiteCharacteristic', name:'White', order:81, natures:['cp', 'cm', 'deposit', 'metal', 'nmm', 'pom', 'soil'], new_uid:'morphologyColourWithScanningElectronMicroscopeSecondaryElectronsWhiteCSCharacteristic'},\n",
      "{family_uid:'morphologyColourWithScanningElectronMicroscopeSecondaryElectronsCSFamily', uid:'greyCharacteristic', name:'Grey', order:82, natures:['cp', 'cm', 'deposit', 'metal', 'nmm', 'pom', 'soil'], new_uid:'morphologyColourWithScanningElectronMicroscopeSecondaryElectronsGreyCSCharacteristic'},\n",
      "{family_uid:'morphologyColourWithScanningElectronMicroscopeSecondaryElectronsCSFamily', uid:'blackCharacteristic', name:'Black', order:83, natures:['cp', 'cm', 'deposit', 'metal', 'nmm', 'pom', 'soil'], new_uid:'morphologyColourWithScanningElectronMicroscopeSecondaryElectronsBlackCSCharacteristic'},\n",
      "{family_uid:'morphologyColourWithScanningElectronMicroscopeBackscatteredElectronsCSFamily', uid:'whiteCharacteristic', name:'White', order:84, natures:['cp', 'cm', 'deposit', 'metal', 'nmm', 'pom', 'soil'], new_uid:'morphologyColourWithScanningElectronMicroscopeBackscatteredElectronsWhiteCSCharacteristic'},\n",
      "{family_uid:'morphologyColourWithScanningElectronMicroscopeBackscatteredElectronsCSFamily', uid:'greyCharacteristic', name:'Grey', order:85, natures:['cp', 'cm', 'deposit', 'metal', 'nmm', 'pom', 'soil'], new_uid:'morphologyColourWithScanningElectronMicroscopeBackscatteredElectronsGreyCSCharacteristic'},\n",
      "{family_uid:'morphologyColourWithScanningElectronMicroscopeBackscatteredElectronsCSFamily', uid:'blackCharacteristic', name:'Black', order:86, natures:['cp', 'cm', 'deposit', 'metal', 'nmm', 'pom', 'soil'], new_uid:'morphologyColourWithScanningElectronMicroscopeBackscatteredElectronsBlackCSCharacteristic'},\n",
      "{family_uid:'morphologyBrightnessFamily', uid:'morphologyBrightnessBlankCharacteristic', name:'Blank', order:87, natures:['cp', 'cm', 'deposit', 'metal', 'nmm', 'pom', 'soil']},\n",
      "{family_uid:'morphologyBrightnessFamily', uid:'metallicCharacteristic', name:'Metallic', order:88, natures:['cp', 'cm', 'deposit', 'metal', 'nmm', 'pom', 'soil'], description:'Shows high luminance even when the angle of view is varied.', new_uid:'morphologyBrightnessMetallicCharacteristic'},\n",
      "{family_uid:'morphologyBrightnessFamily', uid:'submetallicCharacteristic', name:'Submetallic', order:89, natures:['cp', 'cm', 'deposit', 'metal', 'nmm', 'pom', 'soil'], description:'Shows areas of high luminance and areas of lower luminance even when the viewing angle is varied.', new_uid:'morphologyBrightnessSubmetallicCharacteristic'},\n",
      "{family_uid:'morphologyBrightnessFamily', uid:'vitreousCharacteristic', name:'Vitreous', order:90, natures:['cp', 'cm', 'deposit', 'metal', 'nmm', 'pom', 'soil'], description:'Luster of the glass, like quartz.', new_uid:'morphologyBrightnessVitreousCharacteristic'},\n",
      "{family_uid:'morphologyBrightnessFamily', uid:'resinousCharacteristic', name:'Resinous', order:91, natures:['cp', 'cm', 'deposit', 'metal', 'nmm', 'pom', 'soil'], description:'Resin luster. Some sulphides have a resinous luster.', new_uid:'morphologyBrightnessResinousCharacteristic'},\n",
      "{family_uid:'morphologyBrightnessFamily', uid:'morphologyBrightnessSilkyOrSilklikeCharacteristic', name:'Silky or silklike', order:92, natures:['cp', 'cm', 'deposit', 'metal', 'nmm', 'pom', 'soil'], description:'Shows a directed reflection of light. Caused by the reflection of light in a fine aggregate of parallel fibrous crystals (some gypsum, malachite).'},\n",
      "{family_uid:'morphologyBrightnessFamily', uid:'greasyCharacteristic', name:'Greasy', order:93, natures:['cp', 'cm', 'deposit', 'metal', 'nmm', 'pom', 'soil'], description:'Shows a slightly diffuse reflection as if a layer of oil was covering the surface.', new_uid:'morphologyBrightnessGreasyCharacteristic'},\n",
      "{family_uid:'morphologyBrightnessFamily', uid:'pearlyCharacteristic', name:'Pearly', order:94, natures:['cp', 'cm', 'deposit', 'metal', 'nmm', 'pom', 'soil'], description:'Shows surface iridescence. Caused by the refraction of light in crystal layers cleaved parallel to the surface (mother-of-pearl, micas).', new_uid:'morphologyBrightnessPearlyCharacteristic'},\n",
      "{family_uid:'morphologyBrightnessFamily', uid:'adamantineCharacteristic', name:'Adamantine', order:95, natures:['cp', 'cm', 'deposit', 'metal', 'nmm', 'pom', 'soil'], description:'Shows a strong diamond like brilliance. Caused by strong refraction of light. Can be observed on corrosion products with a high refractive index and on fairly large crystals (such as cerusite and anglesite, cuprite).', new_uid:'morphologyBrightnessAdamantineCharacteristic'},\n",
      "{family_uid:'morphologyBrightnessFamily', uid:'matteCharacteristic', name:'Matte', order:96, natures:['cp', 'cm', 'deposit', 'metal', 'nmm', 'pom', 'soil'], description:'No special reflection, no shine. Caused by a very fine aggregate.', new_uid:'morphologyBrightnessMatteCharacteristic'},\n",
      "{family_uid:'morphologyBrightnessFamily', uid:'morphologyBrightnessNonObservableBrightnessCharacteristic', name:'Non-observable brightness', order:97, natures:['cp', 'cm', 'deposit', 'metal', 'nmm', 'pom', 'soil']},\n",
      "{family_uid:'opacityFamily', uid:'morphologyOpacityBlankCharacteristic', name:'Blank', order:98, natures:['cp', 'cm', 'deposit', 'metal', 'nmm', 'pom', 'soil']},\n",
      "{family_uid:'opacityFamily', uid:'opaqueCharacteristic', name:'Opaque', order:99, natures:['cp', 'cm', 'deposit', 'metal', 'nmm', 'pom', 'soil'], description:'Which does not let the light pass through.', new_uid:'morphologyOpacityOpaqueCharacteristic'},\n",
      "{family_uid:'opacityFamily', uid:'translucentCharacteristic', name:'Translucent', order:100, natures:['cp', 'cm', 'deposit', 'metal', 'nmm', 'pom', 'soil'], description:'Which lets the light through, but does not allow the contours of the objects to be clearly discerned.', new_uid:'morphologyOpacityTranslucentCharacteristic'},\n",
      "{family_uid:'opacityFamily', uid:'transparentCharacteristic', name:'Transparent', order:101, natures:['cp', 'cm', 'deposit', 'metal', 'nmm', 'pom', 'soil'], description:'Which, allowing itself to be easily penetrated by light, makes it possible to clearly distinguish objects through its thickness.', new_uid:'morphologyOpacityTransparentCharacteristic'},\n",
      "{family_uid:'morphologyOpacityWithOpticalMicroscopeDarkFieldCSFamily', uid:'opaqueCharacteristic', name:'Opaque', order:102, natures:['cp', 'cm', 'deposit', 'metal', 'nmm', 'pom', 'soil'], description:'Which does not let the light pass through.', new_uid:'morphologyOpacityWithOpticalMicroscopeDarkFieldOpaqueCSCharacteristic'},\n",
      "{family_uid:'morphologyOpacityWithOpticalMicroscopeDarkFieldCSFamily', uid:'translucentCharacteristic', name:'Translucent', order:103, natures:['cp', 'cm', 'deposit', 'metal', 'nmm', 'pom', 'soil'], description:'Which lets the light through, but does not allow the contours of the objects to be clearly discerned.', new_uid:'morphologyOpacityWithOpticalMicroscopeDarkFieldTranslucentCSCharacteristic'},\n"
     ]
    }
   ],
   "source": [
    "\n",
    "print('\\n //FAMILY \\n')\n",
    "import_family_group('Morphology', filter_observation=None, fieldsets=['Thickness','Width'],optgroups=['Geometrical shape'], filter_print=FAMILY, shared_sub_characteristics=False)\n",
    "print('\\n //CHARACTERISTIC \\n')\n",
    "import_family_group('Morphology', filter_observation=None, fieldsets=['Thickness','Width'],optgroups=['Geometrical shape'], filter_print=CHARACTERISTIC, shared_sub_characteristics=False)\n",
    "#import_family_group('Texture', filter_observation='Cross-section', fieldsets=['Roughness'], filter_print=FAMILY, shared_sub_characteristics=False) #FAMILY|CHARACTERISTI\n",
    "#import_family_group('Interface', filter_observation='Cross-section', fieldsets=['Roughness'], filter_print=FAMILY, shared_sub_characteristics=False) #FAMILY|CHARACTERISTI\n"
   ]
  },
  {
   "cell_type": "code",
   "execution_count": null,
   "metadata": {},
   "outputs": [],
   "source": []
  },
  {
   "cell_type": "code",
   "execution_count": null,
   "metadata": {
    "pycharm": {
     "name": "#%%\n"
    }
   },
   "outputs": [],
   "source": [
    "## Interface cross-section special case"
   ]
  },
  {
   "cell_type": "code",
   "execution_count": null,
   "metadata": {
    "collapsed": true,
    "pycharm": {
     "name": "#%%\n"
    }
   },
   "outputs": [],
   "source": [
    "# we treat Roughness as a fieldset (as it includes multiple families instead of characteristics)\n",
    "# to do add group/fieldset column to spreadsheet\n",
    "\n",
    "import_family_group('Interface', filter_observation='Cross-section', fieldsets=['Roughness'], filter_print=CHARACTERISTIC) #FAMILY|CHARACTERISTIC"
   ]
  },
  {
   "cell_type": "code",
   "execution_count": null,
   "metadata": {
    "collapsed": true
   },
   "outputs": [],
   "source": [
    "print('\\n //FAMILY \\n')\n",
    "import_family_group('Microstructure', filter_observation='Binocular', fieldsets=[], filter_print=FAMILY, shared_sub_characteristics=True) #FAMILY|CHARACTERISTI\n",
    "print('\\n //CHARACTERISTICS \\n')\n",
    "import_family_group('Microstructure', filter_observation='Binocular', fieldsets=[], filter_print=CHARACTERISTIC, shared_sub_characteristics=True) #FAMILY|CHARACTERISTI\n",
    "print('\\n //SUBCHARACTERISTICS \\n')\n",
    "import_family_group('Microstructure', filter_observation='Binocular', fieldsets=[], filter_print=SUBCHARACTERISTIC, shared_sub_characteristics=True) #FAMILY|CHARACTERISTI\n",
    "3'"
   ]
  },
  {
   "cell_type": "code",
   "execution_count": null,
   "metadata": {
    "collapsed": true
   },
   "outputs": [],
   "source": [
    "# fixes SUBCHARACTERISTIC uid with shared_sub_characteristics = False like first generated characteristics\n",
    "# in\n",
    "print('\\n //SUBCHARACTERISTICS \\n')\n",
    "import_family_group('Microstructure', filter_observation='Binocular', fieldsets=[], filter_print=SUBCHARACTERISTIC, shared_sub_characteristics=False) #FAMILY|CHARACTERISTI\n"
   ]
  },
  {
   "cell_type": "code",
   "execution_count": null,
   "metadata": {
    "collapsed": true,
    "pycharm": {
     "name": "#%%\n"
    }
   },
   "outputs": [],
   "source": [
    "import_family_group('Microstructure', filter_observation='Cross-section', fieldsets=[], filter_print=FAMILY|CHARACTERISTIC, shared_sub_characteristics=True) #FAMILY|CHARACTERISTI\n",
    "\n"
   ]
  },
  {
   "cell_type": "code",
   "execution_count": null,
   "metadata": {
    "collapsed": true
   },
   "outputs": [],
   "source": [
    "print('\\n //FAMILY \\n')\n",
    "import_family_group('Microstructure', filter_observation='Cross-section', fieldsets=[], filter_print=FAMILY, shared_sub_characteristics=True) #FAMILY|CHARACTERISTI\n",
    "print('\\n //CHARACTERISTICS \\n')\n",
    "import_family_group('Microstructure', filter_observation='Cross-section', fieldsets=[], filter_print=CHARACTERISTIC, shared_sub_characteristics=True) #FAMILY|CHARACTERISTI\n",
    "print('\\n //SUBCHARACTERISTICS \\n')\n",
    "import_family_group('Microstructure', filter_observation='Cross-section', fieldsets=[], filter_print=SUBCHARACTERISTIC, shared_sub_characteristics=True) #FAMILY|CHARACTERISTI\n"
   ]
  },
  {
   "cell_type": "markdown",
   "metadata": {
    "pycharm": {
     "name": "#%% md\n"
    }
   },
   "source": [
    "## Interface cross-section special case"
   ]
  },
  {
   "cell_type": "code",
   "execution_count": null,
   "metadata": {
    "collapsed": true,
    "pycharm": {
     "name": "#%%\n"
    }
   },
   "outputs": [],
   "source": [
    "# we treat Roughness as a fieldset (as it includes multiple families instead of characteristics)\n",
    "# to do add group/fieldset column to spreadsheet\n",
    "\n",
    "import_family_group('Interface', filter_observation='Cross-section', fieldsets=['Roughness'], filter_print=CHARACTERISTIC) #FAMILY|CHARACTERISTIC"
   ]
  },
  {
   "cell_type": "markdown",
   "metadata": {
    "pycharm": {
     "name": "#%% md\n"
    }
   },
   "source": [
    "# we treat Roughness as a fieldset (as it includes multiple families instead of characteristics)\n",
    "# to do add group/fieldset column to spreadsheet\n",
    "\n",
    "import_family_group('Interface', filter_observation='Cross-section', fieldsets=['Roughness'], filter_print=CHARACTERISTIC) #FAMILY|CHARACTERISTIC"
   ]
  },
  {
   "cell_type": "code",
   "execution_count": null,
   "metadata": {
    "pycharm": {
     "name": "#%%\n"
    }
   },
   "outputs": [],
   "source": [
    "# we treat Roughness as a fieldset (as it includes multiple families instead of characteristics)\n",
    "# to do add group/fieldset column to spreadsheet\n",
    "\n",
    "import_family_group('Interface', filter_observation='Cross-section', fieldsets=['Roughness'], filter_print=CHARACTERISTIC) #FAMILY|CHARACTERISTIC"
   ]
  },
  {
   "cell_type": "code",
   "execution_count": null,
   "metadata": {
    "pycharm": {
     "name": "#%%\n"
    }
   },
   "outputs": [],
   "source": [
    "# we treat Roughness as a fieldset (as it includes multiple families instead of characteristics)\n",
    "# to do add group/fieldset column to spreadsheet\n",
    "\n",
    "import_family_group('Microstructure', filter_observation='Cross-section', fieldsets=[], filter_print=CHARACTERISTIC) #FAMILY|CHARACTERISTIC"
   ]
  },
  {
   "cell_type": "markdown",
   "metadata": {},
   "source": [
    "# Composition\n"
   ]
  },
  {
   "cell_type": "code",
   "execution_count": null,
   "metadata": {
    "collapsed": true
   },
   "outputs": [],
   "source": [
    "print('\\n //FAMILY \\n')\n",
    "import_family_group('Composition',filter_observation='Binocular', fieldsets=['Second band / aggregate'], filter_print=FAMILY|DEBUG)\n",
    "print('\\n //CHARACTERISTIC \\n')\n",
    "import_family_group('Composition',filter_observation='Binocular', fieldsets=['Second band / aggregate'], filter_print=CHARACTERISTIC|DEBUG)\n",
    "print('\\n //SUBCHARACTERISTIC \\n')\n",
    "import_family_group('Composition',filter_observation='Binocular', fieldsets=['Second band / aggregate'], filter_print=SUBCHARACTERISTIC|DEBUG)\n",
    "\n"
   ]
  },
  {
   "cell_type": "code",
   "execution_count": null,
   "metadata": {
    "scrolled": true
   },
   "outputs": [],
   "source": [
    "print('\\n //FAMILY \\n')\n",
    "import_family_group('Composition',filter_observation='Binocular', fieldsets=[ 'Compounds', 'Second band / aggregate'], filter_print=FAMILY)\n"
   ]
  },
  {
   "cell_type": "code",
   "execution_count": null,
   "metadata": {
    "collapsed": true
   },
   "outputs": [],
   "source": [
    "\n",
    "print('\\n //CHARACTERISTIC \\n')\n",
    "import_family_group('Composition',filter_observation='Cross-section', fieldsets=[ 'Main element(s)', 'Secondary element(s)','Compounds', 'Additional element(s)', 'Second band / aggregate'], filter_print=CHARACTERISTIC)\n",
    "# print('\\n //SUBCHARACTERISTIC \\n')\n",
    "# import_family_group('Composition',filter_observation='Cross-section', fieldsets=[ 'Main element(s)', 'Secondary element(s)','Compounds', 'Additional element(s)', 'Second band / aggregate'], filter_print=SUBCHARACTERISTIC)\n"
   ]
  },
  {
   "cell_type": "code",
   "execution_count": null,
   "metadata": {
    "collapsed": true
   },
   "outputs": [],
   "source": [
    "print('\\n //FAMILY \\n')\n",
    "import_family_group('Composition',filter_observation='Cross-section', fieldsets=[ 'Main element(s)', 'Secondary element(s)','Compounds', 'Additional element(s)', 'Second band / aggregate','Second band / aggregate_Compounds','Second band / aggregate_main element(s)',\n",
    "                                                                                 'Second band / aggregate_secondary element(s)','Second band / aggregate_Additional element(s)'], filter_print=FAMILY)\n"
   ]
  },
  {
   "cell_type": "markdown",
   "metadata": {},
   "source": [
    "## initial code (before common import_family_group )"
   ]
  },
  {
   "cell_type": "markdown",
   "metadata": {
    "pycharm": {
     "name": "#%%\n"
    }
   },
   "source": [
    "## Microstructure Binocular special case"
   ]
  },
  {
   "cell_type": "code",
   "execution_count": null,
   "metadata": {},
   "outputs": [],
   "source": [
    "\n",
    "# we treat all values and sub-values as characteristics (with optgroup + property for Cristalline microstructure)\n",
    "# and optgroup - (closure of previous group) for isolated aggregate\n",
    "\n",
    "\n",
    "with open(csv_file_path,\"r\") as f:\n",
    "    reader =csv.DictReader(f)\n",
    "    current_value=''\n",
    "    characteristic_order = 1\n",
    "    family_order = 1\n",
    "    sub_value_order = 1\n",
    "    optgroup_level = 0\n",
    "    description_field_in = {'Binocular':'Definition from observation under binocular',\n",
    "                           'Cross-section': 'Definition from observation on cross-section'}\n",
    "\n",
    "    for r in reader:\n",
    "        if 'Microstructure' not in r['Characteristic']:\n",
    "            continue\n",
    "        observation = r['Observation mode']\n",
    "        if observation != 'Binocular':\n",
    "            continue\n",
    "\n",
    "        if r['Values'] == '' and r['Sub-values'] == '':\n",
    "            family_uid='microstructureFamily'\n",
    "            cql_family_update_row=new_family(fg_uid='fgMicrostructure', uid=family_uid, name='Microstructure',\n",
    "                                     order=family_order,observation='binocular', description=r[description_field_in[observation]])\n",
    "            print(cql_family_update_row)\n",
    "            print(f'\\n// {family_uid} characteristics:')\n",
    "            family_order+=1\n",
    "\n",
    "        if r['Values'] != '':\n",
    "            # print('\\nNew characteristic:\\n')\n",
    "            current_value = r['Values']\n",
    "            current_value_uid = to_uid(r['Characteristic'] + ' ' +current_value)+'Characteristic'\n",
    "            # trick to detect end of optgroup in our particular case (1 optgroup only yet)\n",
    "            if optgroup_level:\n",
    "                optgroup=None\n",
    "                optgroup_level-=1\n",
    "\n",
    "            # print(new_characteristic(family_uid=family_uid, uid=current_value_uid,\n",
    "            #                         name=current_value,order=characteristic_order,\n",
    "            #                         description=r[description_field_in[observation]],optgroup=optgroup))\n",
    "            # family_order+=1\n",
    "            # characteristic_order = 1\n",
    "            characteristic_order += 1\n",
    "\n",
    "        # print(observation, r['Characteristic'], current_value,'None' if r['Sub-values'] == '' else r['Sub-values'])\n",
    "        current_subvalue = r['Sub-values']\n",
    "        if current_value!='' and current_subvalue!='':\n",
    "            if sub_value_order==1:\n",
    "                optgroup_level+=1\n",
    "                optgroup=current_value\n",
    "                print(f'// {current_value_uid} optgroup options:')\n",
    "            current_subvalue_uid = to_uid(current_value + ' ' +current_subvalue)+'Characteristic'\n",
    "            if observation=='Binocular':\n",
    "                print(new_characteristic(family_uid=family_uid, uid=current_subvalue_uid,name=current_subvalue,\n",
    "                                     order=characteristic_order))\n",
    "            else:\n",
    "                print(new_characteristic(family_uid=family_uid, uid=current_subvalue_uid,name=current_subvalue,\n",
    "                                     order=characteristic_order))\n",
    "\n",
    "            sub_value_order+=1\n",
    "            characteristic_order+=1"
   ]
  }
 ],
 "metadata": {
  "kernelspec": {
   "display_name": "Django Shell-Plus",
   "language": "python",
   "name": "django_extensions"
  },
  "language_info": {
   "codemirror_mode": {
    "name": "ipython",
    "version": 3
   },
   "file_extension": ".py",
   "mimetype": "text/x-python",
   "name": "python",
   "nbconvert_exporter": "python",
   "pygments_lexer": "ipython3",
   "version": "3.7.9"
  }
 },
 "nbformat": 4,
 "nbformat_minor": 4
}
