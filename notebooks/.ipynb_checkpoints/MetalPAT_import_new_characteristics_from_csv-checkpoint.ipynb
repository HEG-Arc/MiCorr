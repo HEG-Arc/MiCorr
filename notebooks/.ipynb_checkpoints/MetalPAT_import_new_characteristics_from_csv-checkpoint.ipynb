{
 "cells": [
  {
   "cell_type": "markdown",
   "metadata": {},
   "source": [
    "# import new/updated characteristics from google sheet file exported as csv\n"
   ]
  },
  {
   "cell_type": "code",
   "execution_count": 46,
   "metadata": {
    "pycharm": {
     "name": "#%%\n"
    }
   },
   "outputs": [
    {
     "data": {
      "text/html": [
       "<style>.container {width:90% !important;}</style>"
      ],
      "text/plain": [
       "<IPython.core.display.HTML object>"
      ]
     },
     "metadata": {},
     "output_type": "display_data"
    }
   ],
   "source": [
    "from IPython.core.display import display, HTML\n",
    "import csv\n",
    "display(HTML(\"<style>.container {width:90% !important;}</style>\"))\n"
   ]
  },
  {
   "cell_type": "markdown",
   "metadata": {
    "pycharm": {
     "name": "#%% md\n"
    }
   },
   "source": [
    "# import image urls from html export\n"
   ]
  },
  {
   "cell_type": "code",
   "execution_count": 47,
   "metadata": {},
   "outputs": [],
   "source": [
    "name_img_url = {}"
   ]
  },
  {
   "cell_type": "code",
   "execution_count": 48,
   "metadata": {
    "pycharm": {
     "name": "#%%\n"
    }
   },
   "outputs": [],
   "source": [
    "from bs4 import BeautifulSoup\n",
    "f=open('20200608 SEARCH-by strat. representation-Bin. obs_v1/MiCorr.html')\n",
    "content=f.read()\n",
    "soup=BeautifulSoup(content,'html.parser')\n",
    "imgs=soup.find_all('img')\n",
    "name_img_url={}\n",
    "for im in imgs:\n",
    "    parent_td=im.parent.parent if im.parent.parent.name=='td' else None\n",
    "    if parent_td:\n",
    "        name_img_url[parent_td.previous_sibling.previous_sibling.text]=im['src']"
   ]
  },
  {
   "cell_type": "code",
   "execution_count": 49,
   "metadata": {
    "pycharm": {
     "name": "#%%\n"
    }
   },
   "outputs": [],
   "source": [
    "\n",
    "def new_characteristic(family_uid, uid, name, order, description=None, image_url=None, optgroup=None, natures=[],new_uid=None):\n",
    "    cql_update_row = f\"\"\"{{family_uid:'{family_uid}', uid:'{uid}', name:'{name}', order:{order}, natures:{natures}\"\"\"\n",
    "    arg_list=[cql_update_row]\n",
    "\n",
    "    if image_url is None:\n",
    "        # search characteristic name in name to image_url map\n",
    "        image_url = name_img_url.get(name)\n",
    "    if description:\n",
    "        arg_list.append(f\"description:'{description}'\")\n",
    "    if image_url:\n",
    "        arg_list.append(f\"image_url:'{image_url}'\")\n",
    "    if optgroup:\n",
    "        arg_list.append(f\"optgroup:'{optgroup}'\")\n",
    "    if new_uid is not None:\n",
    "        arg_list.append(f\"new_uid:'{new_uid}'\")\n",
    "    return ', '.join(arg_list) + '},'\n",
    "\n",
    "\n",
    "def find_old_uid(name, uid, name2uids):\n",
    "    nbrof_uid = len(name2uids[name])\n",
    "    if nbrof_uid==1: # unique uid for name\n",
    "        return name2uids[name][0]\n",
    "    elif nbrof_uid==2: # 2 old_uids for name, 1 for Binocular 1 for CS check in which case is uid to select the right one\n",
    "        return  [old_uid for old_uid in name2uids[name] if ('CS' in uid and 'CS' in old_uid) or ('CS' not in uid and 'CS' not in old_uid)][0]\n",
    "    else:\n",
    "        # 0 or more than 2 ? return the list for manual selection in output file\n",
    "        return name2uids[name]\n",
    "\n",
    "def get_uid(name, uid, name2uids):\n",
    "    # if an old manual uid exists then use it and save the new one\n",
    "    lower_name = name.lower()\n",
    "    if lower_name in name2uids:\n",
    "        new_uid = uid\n",
    "        uid = find_old_uid(lower_name, uid, name2uids)\n",
    "    else:\n",
    "        new_uid = None\n",
    "    return uid, new_uid\n",
    "\n",
    "def new_family(fg_uid, uid, name, order, observation, description='',visible=False, variable=False, unit=None, fieldset=None,natures=[], list_elem_family=None, upto=None,new_uid=None):\n",
    "    # adapt csv column value to cql format\n",
    "    observation=observation.lower()\n",
    "    if observation=='cross-section':\n",
    "        observation='cross_section'\n",
    "    cql_update_row = f\"\"\"{{fg:'{fg_uid}', order:{order}, observation:{observation}, uid:'{uid}', name:'{name}', visible: {visible}, variable: {variable}, description:'{description}', natures:{natures}\"\"\"\n",
    "    arg_list=[cql_update_row]\n",
    "    if unit:\n",
    "        arg_list.append(f\"unit:'{unit}'\")\n",
    "    if fieldset:\n",
    "        arg_list.append(f\"fieldset:'{fieldset}'\")\n",
    "    if list_elem_family:\n",
    "        arg_list.append(f\"list_elem_family:'{list_elem_family}'\")\n",
    "    if upto is not None:\n",
    "        arg_list.append(f\"upto:{upto}\")\n",
    "    if new_uid is not None:\n",
    "        arg_list.append(f\"new_uid:'{new_uid}'\")\n",
    "    return ', '.join(arg_list) + '},'\n",
    "\n",
    "def new_subcharacteristic(parent_uid, uid, name, order, variable=False, description=None, natures=[], unit=None, image_url=None, optgroup=None, list_elem_family=None, upto=None, new_uid=None):\n",
    "    cql_update_row = f\"\"\"{{parent_uid:'{parent_uid}', uid:'{uid}', name:'{name}', variable:{variable}, order:{order}, natures:{natures}\"\"\"\n",
    "    arg_list=[cql_update_row]\n",
    "    if unit:\n",
    "        arg_list.append(f\"unit:'{unit}'\")\n",
    "    if image_url is None:\n",
    "        # search characteristic name in name to image_url map\n",
    "        image_url = name_img_url.get(name)\n",
    "    if description:\n",
    "        arg_list.append(f\"description:'{description}'\")\n",
    "    if image_url:\n",
    "        arg_list.append(f\"image_url:'{image_url}'\")\n",
    "    if optgroup:\n",
    "        arg_list.append(f\"optgroup:'{optgroup}'\")\n",
    "    if list_elem_family:\n",
    "        arg_list.append(f\"list_elem_family:'{list_elem_family}'\")\n",
    "    if upto is not None:\n",
    "        arg_list.append(f\"upto:{upto}\")\n",
    "    if new_uid is not None:\n",
    "        arg_list.append(f\"new_uid:'{new_uid}'\")\n",
    "\n",
    "    # lower_name = name.lower()\n",
    "    # if lower_name in cname2uids:\n",
    "    #    arg_list.append(f\"old_uid:{find_old_uid(lower_name, uid, cname2uids)}\")\n",
    "    return ', '.join(arg_list) + '},'\n"
   ]
  },
  {
   "cell_type": "code",
   "execution_count": 50,
   "metadata": {
    "pycharm": {
     "name": "#%%\n"
    },
    "scrolled": false
   },
   "outputs": [
    {
     "name": "stdout",
     "output_type": "stream",
     "text": [
      "['\\ufefff.uid', 'f.name', 'c.uid', 'c.name', 'c.order']\n",
      "error with Family: filling = ['crackingFillingFamily', 'crackingFillingCSFamily']\n",
      "error with Family: width = ['crackingWidthFamily', 'crackingWidthCSVarFamily', 'crackingWidthVarFamily']\n",
      "error with Family: inward direction = ['crackingInwardDirectionCSFamily', 'crackingInwardDirectionFamily']\n",
      "error with Family: structure = ['crackingStructureCSFamily', 'crackingStructureFamily']\n",
      "error with Family: length = ['crackingLengthVarFamily', 'crackingLengthCSVarFamily']\n",
      "error with Family: depth = ['crackingDepthCSVarFamily', 'crackingDepthVarFamily']\n",
      "error with Characteristic: empty = ['emptyFillingCharacteristic', 'emptyFillingCSCharacteristic']\n",
      "error with Characteristic: parallel = ['parallelInwardDirectionCSCharacteristic', 'parallelInwardDirectionCharacteristic']\n",
      "error with Characteristic: no crack = ['noCrackCrackingStructureCSCharacteristic', 'noCrackCrackingStructureCharacteristic', 'noCracksCharacteristic']\n",
      "error with Characteristic: filled = ['filledFillingCharacteristic', 'filledFillingCSCharacteristic']\n",
      "error with Characteristic: oblique = ['obliqueInwardDirectionCSCharacteristic', 'obliqueInwardDirectionCharacteristic', 'obliqueSurfaceDirectionCharacteristic']\n",
      "error with Characteristic: simple = ['simpleCrackingStructureCSCharacteristic', 'simpleCrackingStructureCharacteristic']\n",
      "error with Characteristic: perpendicular = ['circularInwardDirectionCSCharacteristic', 'circularInwardDirectionCharacteristic']\n",
      "error with Characteristic: branched = ['branchedCrackingStructureCSCharacteristic', 'branchedCrackingStructureCharacteristic']\n",
      "error with Characteristic: network = ['networkCrackingStructureCSCharacteristic', 'networkCrackingStructureCharacteristic']\n",
      "defaultdict(<class 'list'>,\n",
      "            {'cohesion': ['cohesionFamily'],\n",
      "             'compactness': ['porosityFamily'],\n",
      "             'compactness amount': ['compactnessVarFamily'],\n",
      "             'cracking': ['crackingFamily'],\n",
      "             'depth': ['crackingDepthCSVarFamily', 'crackingDepthVarFamily'],\n",
      "             'edges': ['crackingEdgesFamily'],\n",
      "             'filling': ['crackingFillingFamily', 'crackingFillingCSFamily'],\n",
      "             'hardness': ['hardnessFamily'],\n",
      "             'inward direction': ['crackingInwardDirectionCSFamily',\n",
      "                                  'crackingInwardDirectionFamily'],\n",
      "             'length': ['crackingLengthVarFamily', 'crackingLengthCSVarFamily'],\n",
      "             'microhardness': ['microhardnessVarFamily'],\n",
      "             'structure': ['crackingStructureCSFamily',\n",
      "                           'crackingStructureFamily'],\n",
      "             'surface direction': ['crackingSurfaceDirectionFamily'],\n",
      "             'type of cracks': ['crackingTypeOfCracksFamily'],\n",
      "             'width': ['crackingWidthFamily',\n",
      "                       'crackingWidthCSVarFamily',\n",
      "                       'crackingWidthVarFamily']})\n",
      "defaultdict(<class 'list'>,\n",
      "            {'branched': ['branchedCrackingStructureCSCharacteristic',\n",
      "                          'branchedCrackingStructureCharacteristic'],\n",
      "             'branched cracks': ['branchedCracksCharacteristic'],\n",
      "             'brittle': ['brittleCharacteristic'],\n",
      "             'circular': ['circularSurfaceDirectionCharacteristic'],\n",
      "             'compact': ['compactCharacteristic'],\n",
      "             'dishing': ['dishingTypeOfCracksCharacteristic'],\n",
      "             'empty': ['emptyFillingCharacteristic',\n",
      "                       'emptyFillingCSCharacteristic'],\n",
      "             'filled': ['filledFillingCharacteristic',\n",
      "                        'filledFillingCSCharacteristic'],\n",
      "             'flaking': ['flakingTypeOfCracksCharacteristic'],\n",
      "             'friable': ['friableCharacteristic'],\n",
      "             'hard': ['hardCharacteristic'],\n",
      "             'highly porous': ['highlyPorousCharacteristic'],\n",
      "             'large': ['largeWidthCharacteristic'],\n",
      "             'longitudinal': ['longitudinalSurfaceDirectionCharacteristic'],\n",
      "             'malleable': ['malleableCharacteristic'],\n",
      "             'narrow': ['narrowWidthCharacteristic'],\n",
      "             'network': ['networkCrackingStructureCSCharacteristic',\n",
      "                         'networkCrackingStructureCharacteristic'],\n",
      "             'network cracks': ['networkCracksCharacteristic'],\n",
      "             'no crack': ['noCrackCrackingStructureCSCharacteristic',\n",
      "                          'noCrackCrackingStructureCharacteristic',\n",
      "                          'noCracksCharacteristic'],\n",
      "             'null': ['null'],\n",
      "             'oblique': ['obliqueInwardDirectionCSCharacteristic',\n",
      "                         'obliqueInwardDirectionCharacteristic',\n",
      "                         'obliqueSurfaceDirectionCharacteristic'],\n",
      "             'parallel': ['parallelInwardDirectionCSCharacteristic',\n",
      "                          'parallelInwardDirectionCharacteristic'],\n",
      "             'perpendicular': ['circularInwardDirectionCSCharacteristic',\n",
      "                               'circularInwardDirectionCharacteristic'],\n",
      "             'porous': ['porousCharacteristic'],\n",
      "             'powdery': ['powderyCharacteristic'],\n",
      "             'rounded': ['roundedEdgesCharacteristic'],\n",
      "             'severable': ['severableCharacteristic'],\n",
      "             'sharp': ['sharpEdgesCharacteristic'],\n",
      "             'simple': ['simpleCrackingStructureCSCharacteristic',\n",
      "                        'simpleCrackingStructureCharacteristic'],\n",
      "             'simple crack': ['simpleCracksCharacteristic'],\n",
      "             'slightly porous': ['slightlyPorousCharacteristic'],\n",
      "             'soft': ['softCharacteristic'],\n",
      "             'star-shaped cracking': ['starShapedTypeOfCracksCharacteristic'],\n",
      "             'surface crazing': ['surfaceCrazingTypeOfCracksCharacteristic'],\n",
      "             'tough': ['toughCharacteristic'],\n",
      "             'transverse': ['transverseSurfaceDirectionCharacteristic'],\n",
      "             'very hard': ['veryHardCharacteristic'],\n",
      "             'very soft': ['verySoftCharacteristic'],\n",
      "             'wedges': ['wedgesTypeOfCracksCharacteristic']})\n"
     ]
    }
   ],
   "source": [
    "# retrieved old uids or new ones manually generated in 08.2020\n",
    "# using below cypher query and neo4j browser csv export\n",
    "#\n",
    "# MATCH (fg:FamilyGroup {uid:'fgMorphology'})-[:SHOWS]->(f:Family)\n",
    "# OPTIONAL MATCH (f)<-[:BELONGS_TO]-(c:Characteristic)\n",
    "# RETURN f.uid,f.name,c.uid,c.name,c.order ORDER by c.order  ASC\n",
    "# => ./data/fgMorphology_before_new_uids_20210202.csv\n",
    "\n",
    "from collections import defaultdict\n",
    "from pprint import pprint\n",
    "\n",
    "# old_uids_csv='./data/fgInterface_before_new_uids_20210204.csv'\n",
    "\n",
    "fname2uids = defaultdict(list)\n",
    "cname2uids = defaultdict(list)\n",
    "#scname2uids = defaultdict(list)\n",
    "\n",
    "def load_old_uids(old_uids_csv):\n",
    "    with open(old_uids_csv, 'r') as f:\n",
    "        reader = csv.DictReader(f)\n",
    "        print(reader.fieldnames)\n",
    "        for r in reader:\n",
    "            fname=r['f.name'].lower()\n",
    "            cname=r['c.name'].lower()\n",
    "#           scname=r['sc.name'].lower()\n",
    "            if r['\\ufefff.uid'] not in fname2uids[fname]:\n",
    "                fname2uids[fname].append(r['\\ufefff.uid'])\n",
    "            if r['c.uid'] not in cname2uids[cname]:\n",
    "                cname2uids[cname].append(r['c.uid'])\n",
    "#            scname2uids[scname].append(r['sc.uid'])\n",
    "\n",
    "\n",
    "load_old_uids('./data/fgTexture_before_new_uids_20210204.csv')\n",
    "\n",
    "for name in fname2uids:\n",
    "    if len(fname2uids[name])>1:\n",
    "        print(f'error with Family: {name} = {fname2uids[name]}')\n",
    "\n",
    "for name in cname2uids:\n",
    "    if len(cname2uids[name])>1 :\n",
    "        print(f'error with Characteristic: {name} = {cname2uids[name]}')\n",
    "\n",
    "pprint(fname2uids)\n",
    "pprint(cname2uids)\n"
   ]
  },
  {
   "cell_type": "markdown",
   "metadata": {},
   "source": [
    "## Main import_family_group"
   ]
  },
  {
   "cell_type": "code",
   "execution_count": 55,
   "metadata": {
    "pycharm": {
     "name": "#%%\n"
    }
   },
   "outputs": [
    {
     "name": "stdout",
     "output_type": "stream",
     "text": [
      "['Characteristic', 'Sub-characteristic', 'Observation mode', 'Values', 'Sub-values', 'Image', 'Variables', 'unit', 'uid', 'Definition from observation under binocular', 'Definition from observation on cross-section', 'Notice for modification of the current MiCorr interface', 'Comments', 'CP Binocular', 'CP CS', 'CM Binocular', 'CM CS', 'D Binocular', 'D CS', 'M Binocular', 'M CS', 'NMM Binocular', 'NMM CS', 'POM Binocular', 'POM CS', 'S Binocular', 'S CS', 'SV Binocular', 'SV CS']\n"
     ]
    }
   ],
   "source": [
    "\n",
    "FAMILY = 1\n",
    "CHARACTERISTIC = 2\n",
    "SUBCHARACTERISTIC = 4\n",
    "DEBUG = 8\n",
    "NATURES_L = ['CP','CM', 'D','M','NMM','POM','S','SV']\n",
    "NATURES = {'CP':'cp','CM':'cm', 'D':'deposit','M':'metal','NMM':'nmm','POM':'pom','S':'soil','SV':'sv'}\n",
    "\n",
    "NATURE_HEADER_SUFFIX = {'Binocular':' Binocular', 'Cross-section':' CS'}\n",
    "\n",
    "csv_file_path='./data/Copy20210102 of 20200608 SEARCH-by strat. representation-Bin. obs_v1 - MiCorr.csv'\n",
    "# csv_file_path='./20200608 SEARCH-by strat. representation-Bin. obs_v1 - MiCorr.csv'\n",
    "\n",
    "\n",
    "with open(csv_file_path,\"r\") as f:\n",
    "    reader =csv.DictReader(f)\n",
    "    print(reader.fieldnames)\n",
    "\n",
    "def suffix(observation, end):\n",
    "    return ('CS' if observation=='Cross-section' else '') + end\n",
    "\n",
    "def upto_list_elem(r):\n",
    "        # element / compound list\n",
    "    if r['Variables'] =='list':\n",
    "        list_elem_family = r['unit']\n",
    "        upto=0\n",
    "    elif  r['Variables'] =='formula':\n",
    "        list_elem_family = r['unit']\n",
    "        upto=1\n",
    "    else:\n",
    "        list_elem_family = None\n",
    "        upto = None\n",
    "    return upto, list_elem_family\n",
    "\n",
    "def cleanup_uid(string_id):\n",
    "    # import re\n",
    "    # re.sub(r'\\((.*)\\)',r'\\1',string_id)\n",
    "    return string_id.replace('(S)','s').replace('/','').replace('_',' ').replace('-',' ').replace('(','').replace(')','')\n",
    "\n",
    "def to_uid(name):\n",
    "    camel_case_name=''.join(name.title().split(' '))\n",
    "    return camel_case_name[0].lower() + camel_case_name[1:]\n",
    "\n",
    "def build_uid(*args):\n",
    "    str_arg = ' '.join(map(cleanup_uid, args))\n",
    "    return to_uid(str_arg)\n",
    "\n",
    "def import_family_group(family_group, filter_observation=None, fieldsets=[], optgroups=[], filter_print=FAMILY|CHARACTERISTIC|SUBCHARACTERISTIC, shared_sub_characteristics=False):\n",
    "    family_uids=[]\n",
    "    characteristic_uids=[]\n",
    "    with open(csv_file_path,\"r\") as f:\n",
    "        reader =csv.DictReader(f)\n",
    "        current_value=''\n",
    "        characteristic_order = 1\n",
    "        family_order = 1\n",
    "        sub_value_order = 1\n",
    "        optgroup = None\n",
    "        optgroup_level = 0\n",
    "        description_field_in = {'Binocular':'Definition from observation under binocular',\n",
    "                               'Cross-section': 'Definition from observation on cross-section'}\n",
    "        fieldset = None # group Values below under fieldset\n",
    "\n",
    "        for r in reader:\n",
    "            if family_group not in r['Characteristic']:\n",
    "                continue\n",
    "            observation = r['Observation mode']\n",
    "            if (filter_observation and observation != filter_observation) or observation not in ['Binocular','Cross-section'] :\n",
    "                # print(f'skip observation=[{observation}]\\n')\n",
    "                continue\n",
    "            # strata Nature filtering\n",
    "            r_natures = [NATURES[N] for N in NATURES if r[N+NATURE_HEADER_SUFFIX[observation]]]\n",
    "            if filter_print & DEBUG:\n",
    "                print(f'\\n{r}\\n')\n",
    "            # print(f'family_group={r[\"Characteristic\"]}')\n",
    "            # print(f'observation={observation}')\n",
    "            if r['Values'] == '' and r['Sub-values'] == '' and r['Sub-characteristic']!='':\n",
    "                # New Sub-Characteristic / Family (or Fieldset)\n",
    "                family_name=r['Sub-characteristic'].strip()\n",
    "                if '\\n' in family_name:\n",
    "                    # encode sub fieldset using code compatible '_' instead of '\\n' that is used in source csv\n",
    "                    family_name=family_name.replace('\\n', '_')\n",
    "\n",
    "\n",
    "                code_compatible_family_name = cleanup_uid(family_name)\n",
    "\n",
    "                if family_name != r['Characteristic']:\n",
    "                    family_uid=build_uid(r['Characteristic'], code_compatible_family_name) + suffix(observation, 'Family')\n",
    "                else:\n",
    "                    family_uid=build_uid(r['Characteristic']) + suffix(observation, 'Family')\n",
    "                if family_name in fieldsets:\n",
    "                    fieldset = family_name\n",
    "                    code_compatible_fieldset = cleanup_uid(fieldset)\n",
    "                    print(f'// new fieldset={fieldset}')\n",
    "                else:\n",
    "                    fieldset = None\n",
    "                    code_compatible_fieldset = None\n",
    "                if True: # r['Variables']:\n",
    "\n",
    "                    # check if element / compound list\n",
    "                    upto, list_elem_family = upto_list_elem(r)\n",
    "\n",
    "\n",
    "                    family_uid, new_uid = get_uid(family_name, family_uid, fname2uids)\n",
    "\n",
    "                    cql_family_update_row=new_family(fg_uid='fg'+family_group, uid=family_uid, name=family_name,\n",
    "                                         order=family_order,observation=observation, description=r[description_field_in[observation]],\n",
    "                                                    natures=r_natures, list_elem_family=list_elem_family,upto=upto,new_uid=new_uid)\n",
    "                    family_uids.append(family_uid)\n",
    "\n",
    "                    if filter_print & FAMILY:\n",
    "                        print(f'// new family_name={family_name} uid: {family_uid}')\n",
    "                        print(cql_family_update_row)\n",
    "                ## print(f'\\n// {family_uid} characteristics:')\n",
    "                sub_value_order=1\n",
    "                family_order+=1\n",
    "            elif r['Values'] == '' and r['Sub-values'] != '':\n",
    "                # New Sub-values =>\n",
    "                # New Sub-Characteristic or Characteristic under optgroup or fieldset\n",
    "                current_subvalue = r['Sub-values'].strip()\n",
    "\n",
    "                if current_value!='' and (current_value in optgroups or fieldset):\n",
    "                    if sub_value_order==1:\n",
    "                        if current_value in optgroups:\n",
    "                            optgroup_level+=1\n",
    "                            optgroup=current_value\n",
    "                            print(f'// {current_value_uid} optgroup options:')\n",
    "                        else: # fieldset\n",
    "                            pass\n",
    "\n",
    "                    current_subvalue_uid = build_uid(current_value, current_subvalue) + suffix(observation,'Characteristic')\n",
    "                    current_subvalue_uid, new_uid = get_uid(current_subvalue, current_subvalue_uid, cname2uids)\n",
    "                    current_value_uid = build_uid(r['Characteristic'], code_compatible_family_name, current_value) + suffix(observation, 'Characteristic')\n",
    "                    if filter_print & CHARACTERISTIC:\n",
    "                        print(new_characteristic(family_uid=family_uid, uid=current_subvalue_uid,name=current_subvalue,\n",
    "                                             optgroup=optgroup, order=characteristic_order,natures=r_natures, new_uid=new_uid))\n",
    "                    sub_value_order+=1\n",
    "                    characteristic_order+=1\n",
    "                    continue\n",
    "\n",
    "                if not shared_sub_characteristics:\n",
    "                    current_subvalue_uid = build_uid(r['Characteristic'], code_compatible_family_name, current_value, current_subvalue) + suffix(observation, 'Characteristic')\n",
    "\n",
    "                    current_subvalue_uid, new_uid = get_uid(current_subvalue, current_subvalue_uid, cname2uids)\n",
    "\n",
    "                else:\n",
    "                    current_subvalue_uid = build_uid(current_subvalue) + suffix(observation, 'Characteristic')\n",
    "                    current_subvalue_uid, new_uid = get_uid(current_subvalue, current_subvalue_uid, cname2uids)\n",
    "\n",
    "\n",
    "                characteristic_uids.append(current_subvalue_uid)\n",
    "                upto, list_elem_family = upto_list_elem(r)\n",
    "                if not list_elem_family:\n",
    "                    variable=r['Variables']!=''\n",
    "                    unit=r['unit']\n",
    "                else:\n",
    "                    variable,unit=False,None\n",
    "                cql_subcharacteristic_update_row=new_subcharacteristic(parent_uid=current_value_uid, uid=current_subvalue_uid,\n",
    "                                                                       name=current_subvalue, order=sub_value_order,natures=r_natures,\n",
    "                                                                      variable=variable, unit=unit,\n",
    "                                                                      list_elem_family=list_elem_family,upto=upto)\n",
    "\n",
    "                if filter_print & SUBCHARACTERISTIC:\n",
    "                    # print(f'\\n// {current_subvalue} sub-characteristic:')\n",
    "                    print(cql_subcharacteristic_update_row)\n",
    "                sub_value_order+=1\n",
    "\n",
    "            if r['Values'] != '':\n",
    "                current_value = r['Values'].strip()\n",
    "                sub_value_order=1\n",
    "                if r['Variables'] !='' or fieldset:\n",
    "                    #print(f'\\nNew {current_value} variable Family:\\n')\n",
    "                    upto, list_elem_family = upto_list_elem(r)\n",
    "                    if not list_elem_family:\n",
    "                        variable=r['Variables']!=''\n",
    "                        unit=r['unit']\n",
    "                    else:\n",
    "                        variable,unit=False,None\n",
    "                    # current_value_uid = to_uid(' '.join([r['Characteristic'], (code_compatible_fieldset if fieldset else ''), current_value])) + suffix(observation, 'VarFamily' if variable else 'Family')\n",
    "                    # current_value_uid = cleanup_uid(current_value_uid)\n",
    "                    current_value_uid = build_uid(r['Characteristic'], (code_compatible_fieldset if fieldset else ''), current_value) + suffix(observation, 'VarFamily' if variable else 'Family')\n",
    "                    current_value_uid, new_uid = get_uid(current_value, current_value_uid, fname2uids)\n",
    "                    if fieldset and not variable:\n",
    "                        # new value is a family under current fieldset Sub-characteristic constituted by regular characteristic underneath\n",
    "                        family_name = current_value\n",
    "                        code_compatible_family_name = cleanup_uid(family_name)\n",
    "                        family_uid = current_value_uid\n",
    "\n",
    "                    family_uids.append(current_value_uid)\n",
    "\n",
    "                    cql_family_update_row=new_family(fg_uid='fg'+family_group, uid=current_value_uid, name=current_value,\n",
    "                                order=family_order,observation=observation.lower(), description=r[description_field_in[observation]],\n",
    "                                variable=variable, unit=unit, fieldset=fieldset, natures=r_natures,list_elem_family=list_elem_family,upto=upto,new_uid=new_uid)\n",
    "\n",
    "                    if filter_print & FAMILY:\n",
    "                        print(cql_family_update_row)\n",
    "                    family_order+=1\n",
    "                else:\n",
    "                    # new Values is not a variable\n",
    "                    # either Fieldset/Family or a characteristic\n",
    "                    # print(f'\\nNew {current_value} characteristic:\\n')\n",
    "\n",
    "                    #if fieldset:\n",
    "                        # new family then\n",
    "\n",
    "                    current_value_uid = build_uid(r['Characteristic'], code_compatible_family_name, current_value) + suffix(observation, 'Characteristic')\n",
    "                    current_value_uid, new_uid = get_uid(current_value, current_value_uid, cname2uids)\n",
    "\n",
    "                    characteristic_uids.append(current_value_uid)\n",
    "\n",
    "                    # trick to detect end of optgroup in our particular case (1 optgroup only yet)\n",
    "                    if optgroup_level:\n",
    "                        optgroup= None\n",
    "                        optgroup_level-=1\n",
    "\n",
    "                    cql_characteristic_update_row = new_characteristic(family_uid=family_uid, uid=current_value_uid,\n",
    "                                         name=current_value,order=characteristic_order,\n",
    "                                         description=r[description_field_in[observation]],optgroup=optgroup,natures=r_natures,new_uid=new_uid)\n",
    "                    if filter_print & CHARACTERISTIC:\n",
    "                        print(cql_characteristic_update_row)\n",
    "\n",
    "                    # family_order+=1\n",
    "                    # characteristic_order = 1\n",
    "                    characteristic_order += 1\n",
    "    if filter_print & DEBUG:\n",
    "        print(f'family_uids={family_uids}\\n len={len(family_uids)}\\n set len={len(set(family_uids))}')\n",
    "        for x in set(family_uids):\n",
    "            family_uids.remove(x)\n",
    "        print(f'duplicated items in family_uids={family_uids}')\n",
    "        print(f'characteristic_uids={characteristic_uids}\\n len={len(characteristic_uids)}\\n set len={len(set(characteristic_uids))}')\n",
    "        for x in set(characteristic_uids):\n",
    "            characteristic_uids.remove(x)\n",
    "        print(f'duplicated items in characteristic_uids={characteristic_uids}')\n",
    "\n",
    "\n"
   ]
  },
  {
   "cell_type": "markdown",
   "metadata": {},
   "source": [
    "## Morphology"
   ]
  },
  {
   "cell_type": "code",
   "execution_count": null,
   "metadata": {
    "scrolled": false
   },
   "outputs": [],
   "source": [
    "\n",
    "print('\\n //FAMILY \\n')\n",
    "import_family_group('Morphology', filter_observation=None, fieldsets=['Thickness','Width'],optgroups=['Geometrical shape'], filter_print=FAMILY, shared_sub_characteristics=False)\n",
    "print('\\n //CHARACTERISTIC \\n')\n",
    "import_family_group('Morphology', filter_observation=None, fieldsets=['Thickness','Width'],optgroups=['Geometrical shape'], filter_print=CHARACTERISTIC, shared_sub_characteristics=False)\n",
    "#import_family_group('Texture', filter_observation='Cross-section', fieldsets=['Roughness'], filter_print=FAMILY, shared_sub_characteristics=False) #FAMILY|CHARACTERISTI\n",
    "#import_family_group('Interface', filter_observation='Cross-section', fieldsets=['Roughness'], filter_print=FAMILY, shared_sub_characteristics=False) #FAMILY|CHARACTERISTI\n"
   ]
  },
  {
   "cell_type": "markdown",
   "metadata": {},
   "source": [
    "## Interface"
   ]
  },
  {
   "cell_type": "code",
   "execution_count": 56,
   "metadata": {},
   "outputs": [
    {
     "name": "stdout",
     "output_type": "stream",
     "text": [
      "\n",
      " //FAMILY \n",
      "\n",
      "// new family_name=Profile uid: interfaceProfileFamily\n",
      "{fg:'fgInterface', order:1, observation:binocular, uid:'interfaceProfileFamily', name:'Profile', visible: False, variable: False, description:'Assessed on the observed area. The blank option corresponds to a stratum which upper interface profile is not known.', natures:['cp', 'deposit', 'metal', 'nmm', 'pom', 'soil', 'sv']},\n",
      "// new family_name=Transition uid: interfaceTransitionFamily\n",
      "{fg:'fgInterface', order:2, observation:binocular, uid:'interfaceTransitionFamily', name:'Transition', visible: False, variable: False, description:'Assessed on the observed area. The blank option corresponds to a stratum which transition with upper stratum is not known.', natures:['cp', 'deposit', 'metal', 'nmm', 'pom', 'soil']},\n",
      "// new family_name=Roughness uid: interfaceRoughnessFamily\n",
      "{fg:'fgInterface', order:3, observation:binocular, uid:'interfaceRoughnessFamily', name:'Roughness', visible: False, variable: False, description:'Assessed on the observed area. The blank option corresponds to a stratum which upper interface roughness is not known.', natures:['cp', 'deposit', 'metal', 'nmm', 'pom', 'soil']},\n",
      "// new family_name=Adherence uid: interfaceAdherenceFamily\n",
      "{fg:'fgInterface', order:4, observation:binocular, uid:'interfaceAdherenceFamily', name:'Adherence', visible: False, variable: False, description:'Assessed on the observed area. The blank option corresponds to a stratum which adherence with upper stratum is not known.', natures:['cp', 'deposit', 'metal', 'nmm', 'pom', 'soil']},\n",
      "// new family_name=Profile uid: interfaceProfileCSFamily\n",
      "{fg:'fgInterface', order:1, observation:cross_section, uid:'interfaceProfileCSFamily', name:'Profile', visible: False, variable: False, description:'Determined on the observed area.', natures:['cp', 'deposit', 'metal', 'nmm', 'pom', 'soil', 'sv']},\n",
      "// new family_name=Transition uid: interfaceTransitionCSFamily\n",
      "{fg:'fgInterface', order:2, observation:cross_section, uid:'interfaceTransitionCSFamily', name:'Transition', visible: False, variable: False, description:'Determined on the observed area.', natures:['cp', 'deposit', 'metal', 'nmm', 'pom', 'soil']},\n",
      "// new fieldset=Roughness\n",
      "// new family_name=Roughness uid: interfaceRoughnessCSFamily\n",
      "{fg:'fgInterface', order:3, observation:cross_section, uid:'interfaceRoughnessCSFamily', name:'Roughness', visible: False, variable: False, description:'Determined on the observed area.', natures:['cp', 'deposit', 'metal', 'nmm', 'pom', 'soil']},\n",
      "{fg:'fgInterface', order:4, observation:cross_section, uid:'interfaceRoughnessRpCSVarFamily', name:'Rp', visible: False, variable: True, description:'Maximum height of peak on the observed area. (measurment according to norme ISO 4288:1996)', natures:['cp', 'deposit', 'metal', 'nmm', 'pom', 'soil'], unit:'µm', fieldset:'Roughness'},\n",
      "{fg:'fgInterface', order:5, observation:cross_section, uid:'interfaceRoughnessRcCSVarFamily', name:'Rc', visible: False, variable: True, description:'Average height of the elements on the observed area. (measurment according to norme ISO 4288:1996)', natures:['cp', 'deposit', 'metal', 'nmm', 'pom', 'soil'], unit:'µm', fieldset:'Roughness'},\n",
      "{fg:'fgInterface', order:6, observation:cross_section, uid:'interfaceRoughnessRtCSVarFamily', name:'Rt', visible: False, variable: True, description:'Total roughness corresponding to the sum of Rp and Rc. (measurment according to norme ISO 4288:1996)\n",
      "', natures:['cp', 'deposit', 'metal', 'nmm', 'pom', 'soil'], unit:'µm', fieldset:'Roughness'},\n",
      "{fg:'fgInterface', order:7, observation:cross_section, uid:'interfaceRoughnessRaCSVarFamily', name:'Ra', visible: False, variable: True, description:'Standard deviation or arithmetic mean of the distances between successive peaks and troughs. (measurment according to norme ISO 4288:1996)', natures:['cp', 'deposit', 'metal', 'nmm', 'pom', 'soil'], unit:'µm', fieldset:'Roughness'},\n",
      "// new family_name=Adherence uid: interfaceAdherenceCSFamily\n",
      "{fg:'fgInterface', order:8, observation:cross_section, uid:'interfaceAdherenceCSFamily', name:'Adherence', visible: False, variable: False, description:'Determined on the observed area.', natures:['cp', 'deposit', 'metal', 'nmm', 'pom', 'soil']},\n",
      "\n",
      " //CHARACTERISTICS\n",
      "\n",
      "{family_uid:'interfaceProfileFamily', uid:'interfaceProfileBlankCharacteristic', name:'Blank', order:1, natures:['cp', 'deposit', 'metal', 'nmm', 'pom', 'soil', 'sv']},\n",
      "{family_uid:'interfaceProfileFamily', uid:'interfaceProfileStraightCharacteristic', name:'Straight', order:2, natures:['cp', 'deposit', 'metal', 'nmm', 'pom', 'soil', 'sv'], description:'No waves along the observed length.'},\n",
      "{family_uid:'interfaceProfileFamily', uid:'interfaceProfileWavyCharacteristic', name:'Wavy', order:3, natures:['cp', 'deposit', 'metal', 'nmm', 'pom', 'soil', 'sv'], description:'Shows variations or undulations with a low height to length ratio. Angles are greater than 90°.'},\n",
      "{family_uid:'interfaceProfileFamily', uid:'interfaceProfileBumpyCharacteristic', name:'Bumpy', order:4, natures:['cp', 'deposit', 'metal', 'nmm', 'pom', 'soil', 'sv'], description:'Presents variations that are close in height and length. Angles can be equal to or less than 90°.'},\n",
      "{family_uid:'interfaceProfileFamily', uid:'interfaceProfileIrregularCharacteristic', name:'Irregular', order:5, natures:['cp', 'deposit', 'metal', 'nmm', 'pom', 'soil', 'sv'], description:'Presents variations whose height and length are unrelated. Angles may be variable.'},\n",
      "{family_uid:'interfaceTransitionFamily', uid:'interfaceTransitionBlankCharacteristic', name:'Blank', order:6, natures:['cp', 'deposit', 'metal', 'nmm', 'pom', 'soil']},\n",
      "{family_uid:'interfaceTransitionFamily', uid:'sharpEdgesCharacteristic', name:'Sharp', order:7, natures:['cp', 'deposit', 'metal', 'nmm', 'pom', 'soil'], description:'Very sharp transition between strata.', new_uid:'interfaceTransitionSharpCharacteristic'},\n",
      "{family_uid:'interfaceTransitionFamily', uid:'interfaceTransitionDiffuseCharacteristic', name:'Diffuse', order:8, natures:['cp', 'deposit', 'metal', 'nmm', 'pom', 'soil'], description:'   '},\n",
      "{family_uid:'interfaceTransitionFamily', uid:'interfaceTransitionGradualCharacteristic', name:'Gradual', order:9, natures:['cp', 'deposit', 'metal', 'nmm', 'pom', 'soil'], description:'Marked transition between two interpenetrating strata.'},\n",
      "{family_uid:'interfaceRoughnessFamily', uid:'interfaceRoughnessBlankCharacteristic', name:'Blank', order:10, natures:['cp', 'deposit', 'metal', 'nmm', 'pom', 'soil']},\n",
      "{family_uid:'interfaceRoughnessFamily', uid:'interfaceRoughnessSmoothCharacteristic', name:'Smooth', order:11, natures:['cp', 'deposit', 'metal', 'nmm', 'pom', 'soil'], description:'Asperities not detectable by tactile evaluation. Roughness lower than that of n°0 (or n°1000) abrasive papers.'},\n",
      "{family_uid:'interfaceRoughnessFamily', uid:'interfaceRoughnessSlightlyRoughCharacteristic', name:'Slightly rough', order:12, natures:['cp', 'deposit', 'metal', 'nmm', 'pom', 'soil'], description:'Low asperities detectable by tactile evaluation but not or hardly detectable by visual evaluation. Roughness between the roughness of abrasive papers n°0 (or n°1000) and n°100.'},\n",
      "{family_uid:'interfaceRoughnessFamily', uid:'interfaceRoughnessRoughCharacteristic', name:'Rough', order:13, natures:['cp', 'deposit', 'metal', 'nmm', 'pom', 'soil'], description:'High asperities detectable by tactile and visual evaluation. Roughness superior to that of n°100 abrasive papers.'},\n",
      "{family_uid:'interfaceRoughnessFamily', uid:'interfaceRoughnessUnevenCharacteristic', name:'Uneven', order:14, natures:['cp', 'deposit', 'metal', 'nmm', 'pom', 'soil'], description:'Visible asperities too big for tactile evaluation.'},\n",
      "{family_uid:'interfaceAdherenceFamily', uid:'interfaceAdherenceBlankCharacteristic', name:'Blank', order:15, natures:['cp', 'deposit', 'metal', 'nmm', 'pom', 'soil']},\n",
      "{family_uid:'interfaceAdherenceFamily', uid:'interfaceAdherenceInseparableCharacteristic', name:'Inseparable', order:16, natures:['cp', 'deposit', 'metal', 'nmm', 'pom', 'soil'], description:'The strata cannot be separated with a thin blade (scalpel).'},\n",
      "{family_uid:'interfaceAdherenceFamily', uid:'interfaceAdherenceAdherentCharacteristic', name:'Adherent', order:17, natures:['cp', 'deposit', 'metal', 'nmm', 'pom', 'soil'], description:'It is difficult to separate the strata with a thin blade (scalpel).'},\n",
      "{family_uid:'interfaceAdherenceFamily', uid:'interfaceAdherenceLooselyCharacteristic', name:'Loosely', order:18, natures:['cp', 'deposit', 'metal', 'nmm', 'pom', 'soil'], description:'The strata can be easily separated using a thin blade (scalpel).'},\n",
      "{family_uid:'interfaceAdherenceFamily', uid:'interfaceAdherenceNonAdherentCharacteristic', name:'Non adherent', order:19, natures:['cp', 'deposit', 'metal', 'nmm', 'pom', 'soil'], description:'The strata separate without any particular intervention.'},\n",
      "{family_uid:'interfaceProfileCSFamily', uid:'interfaceProfileBlankCSCharacteristic', name:'Blank', order:1, natures:['cp', 'deposit', 'metal', 'nmm', 'pom', 'soil', 'sv']},\n",
      "{family_uid:'interfaceProfileCSFamily', uid:'interfaceProfileStraightCSCharacteristic', name:'Straight', order:2, natures:['cp', 'deposit', 'metal', 'nmm', 'pom', 'soil', 'sv'], description:'No waves along the observed length.'},\n",
      "{family_uid:'interfaceProfileCSFamily', uid:'interfaceProfileWavyCSCharacteristic', name:'Wavy', order:3, natures:['cp', 'deposit', 'metal', 'nmm', 'pom', 'soil', 'sv'], description:'Shows variations or undulations with a low height to length ratio. Angles are greater than 90°.'},\n",
      "{family_uid:'interfaceProfileCSFamily', uid:'interfaceProfileBumpyCSCharacteristic', name:'Bumpy', order:4, natures:['cp', 'deposit', 'metal', 'nmm', 'pom', 'soil', 'sv'], description:'Presents variations that are close in height and length. Angles can be equal to or less than 90°.'},\n",
      "{family_uid:'interfaceProfileCSFamily', uid:'interfaceProfileIrregularCSCharacteristic', name:'Irregular', order:5, natures:['cp', 'deposit', 'metal', 'nmm', 'pom', 'soil', 'sv'], description:'Presents variations whose height and length are unrelated. Angles may be variable.'},\n",
      "{family_uid:'interfaceTransitionCSFamily', uid:'interfaceTransitionBlankCSCharacteristic', name:'Blank', order:6, natures:['cp', 'deposit', 'metal', 'nmm', 'pom', 'soil']},\n",
      "{family_uid:'interfaceTransitionCSFamily', uid:'sharpEdgesCharacteristic', name:'Sharp', order:7, natures:['cp', 'deposit', 'metal', 'nmm', 'pom', 'soil'], description:'Very sharp transition between strata.', new_uid:'interfaceTransitionSharpCSCharacteristic'},\n",
      "{family_uid:'interfaceTransitionCSFamily', uid:'interfaceTransitionDiffuseCSCharacteristic', name:'Diffuse', order:8, natures:['cp', 'deposit', 'metal', 'nmm', 'pom', 'soil'], description:'Weak noticeable transition between strata. A large diffuse transition zone may require identification as an additional stratum.'},\n",
      "{family_uid:'interfaceTransitionCSFamily', uid:'interfaceTransitionSemiGradualSuperiorCSCharacteristic', name:'semi-gradual superior', order:9, natures:['cp', 'deposit', 'metal', 'nmm', 'pom', 'soil'], description:'Marked transition between two strata where the upper stratum has penetration into the lower stratum.'},\n",
      "{family_uid:'interfaceTransitionCSFamily', uid:'interfaceTransitionSemiGradualInferiorCSCharacteristic', name:'semi-gradual inferior', order:10, natures:['cp', 'deposit', 'metal', 'nmm', 'pom', 'soil'], description:'Marked transition between two strata where the lower stratum has penetration into the upper stratum.'},\n",
      "{family_uid:'interfaceTransitionCSFamily', uid:'interfaceTransitionGradualCSCharacteristic', name:'Gradual', order:11, natures:['cp', 'deposit', 'metal', 'nmm', 'pom', 'soil'], description:'Marked transition between two interpenetrating strata.'},\n",
      "// new fieldset=Roughness\n",
      "{family_uid:'interfaceAdherenceCSFamily', uid:'interfaceAdherenceBlankCSCharacteristic', name:'Blank', order:12, natures:['cp', 'deposit', 'metal', 'nmm', 'pom', 'soil']},\n",
      "{family_uid:'interfaceAdherenceCSFamily', uid:'interfaceAdherenceAdherentCSCharacteristic', name:'Adherent', order:13, natures:['cp', 'deposit', 'metal', 'nmm', 'pom', 'soil'], description:'It is difficult to separate the strata with a thin blade (scalpel).'},\n",
      "{family_uid:'interfaceAdherenceCSFamily', uid:'interfaceAdherenceNonAdherentCSCharacteristic', name:'Non adherent', order:14, natures:['cp', 'deposit', 'metal', 'nmm', 'pom', 'soil'], description:'The strata separate without any particular intervention.'},\n"
     ]
    }
   ],
   "source": [
    "# we treat Roughness as a fieldset (as it includes multiple families instead of characteristics)\n",
    "# to do add group/fieldset column to spreadsheet\n",
    "print('\\n //FAMILY \\n')\n",
    "import_family_group('Interface', filter_observation='Binocular', fieldsets=[], filter_print=FAMILY, shared_sub_characteristics=False)\n",
    "import_family_group('Interface', filter_observation='Cross-section', fieldsets=['Roughness'], filter_print=FAMILY, shared_sub_characteristics=False)\n",
    "print('\\n //CHARACTERISTICS\\n')\n",
    "import_family_group('Interface', filter_observation='Binocular', fieldsets=[], filter_print=CHARACTERISTIC, shared_sub_characteristics=False)\n",
    "import_family_group('Interface', filter_observation='Cross-section', fieldsets=['Roughness'], filter_print=CHARACTERISTIC, shared_sub_characteristics=False)\n",
    "\n"
   ]
  },
  {
   "cell_type": "markdown",
   "metadata": {},
   "source": [
    "## Texture"
   ]
  },
  {
   "cell_type": "code",
   "execution_count": 57,
   "metadata": {
    "scrolled": false
   },
   "outputs": [
    {
     "name": "stdout",
     "output_type": "stream",
     "text": [
      "['\\ufefff.uid', 'f.name', 'c.uid', 'c.name', 'c.order']\n",
      "\n",
      " //FAMILY \n",
      "\n",
      "// new family_name=Compactness uid: porosityFamily\n",
      "{fg:'fgTexture', order:1, observation:binocular, uid:'porosityFamily', name:'Compactness', visible: False, variable: False, description:'Assessed on the observed area. The blank option corresponds to a stratum which compactness is not known.', natures:['cp', 'cm', 'deposit', 'metal', 'nmm', 'pom', 'soil'], new_uid:'textureCompactnessFamily'},\n",
      "// new family_name=Cohesion uid: cohesionFamily\n",
      "{fg:'fgTexture', order:2, observation:binocular, uid:'cohesionFamily', name:'Cohesion', visible: False, variable: False, description:'Assessed on the observed area. Only the powdery option is made visible. The blank option corresponds to a stratum which cohesion is not known.', natures:['cp', 'cm', 'deposit', 'metal', 'nmm', 'pom', 'soil'], new_uid:'textureCohesionFamily'},\n",
      "// new family_name=Hardness uid: hardnessFamily\n",
      "{fg:'fgTexture', order:3, observation:binocular, uid:'hardnessFamily', name:'Hardness', visible: False, variable: False, description:'Assessed on the observed area. The blank option corresponds to a stratum which hardness is not known.', natures:['cp', 'cm', 'deposit', 'metal', 'nmm', 'pom', 'soil'], new_uid:'textureHardnessFamily'},\n",
      "// new fieldset=Cracking\n",
      "// new family_name=Cracking uid: crackingFamily\n",
      "{fg:'fgTexture', order:4, observation:binocular, uid:'crackingFamily', name:'Cracking', visible: False, variable: False, description:'Assessed on the observed area. Pattern which results of the combined and synergistic interaction of mechanical stress and corrosion reactions.', natures:['cp', 'cm', 'deposit', 'metal', 'nmm', 'pom', 'soil'], new_uid:'textureCrackingFamily'},\n",
      "{fg:'fgTexture', order:5, observation:binocular, uid:'crackingStructureFamily', name:'Structure', visible: False, variable: False, description:'Options of patterns. The blank option corresponds to a stratum which cracking is not known.', natures:['cp', 'cm', 'deposit', 'metal', 'nmm', 'pom', 'soil'], fieldset:'Cracking', new_uid:'textureCrackingStructureFamily'},\n",
      "{fg:'fgTexture', order:6, observation:binocular, uid:'crackingSurfaceDirectionFamily', name:'Surface direction', visible: False, variable: False, description:'Orientation of the crack in a plane tangential to the surface of the object and direction of propagation.', natures:['cp', 'cm', 'deposit', 'metal', 'nmm', 'pom', 'soil'], fieldset:'Cracking', new_uid:'textureCrackingSurfaceDirectionFamily'},\n",
      "{fg:'fgTexture', order:7, observation:binocular, uid:'crackingInwardDirectionFamily', name:'Inward direction', visible: False, variable: False, description:'Orientation of the crack in a plane perpendicular to the surface of the object and with respect to the corrosion layers and direction of propagation.', natures:['cp', 'cm', 'deposit', 'metal', 'nmm', 'pom', 'soil'], fieldset:'Cracking', new_uid:'textureCrackingInwardDirectionFamily'},\n",
      "{fg:'fgTexture', order:8, observation:binocular, uid:'['crackingWidthFamily', 'crackingWidthCSVarFamily', 'crackingWidthVarFamily']', name:'Width', visible: False, variable: False, description:'Average space between the lips of the cracks. To compare to the back of a classical sclapel blade type 11 which is 400µm width.', natures:['cp', 'cm', 'deposit', 'metal', 'nmm', 'pom', 'soil'], fieldset:'Cracking', new_uid:'textureCrackingWidthFamily'},\n",
      "{fg:'fgTexture', order:9, observation:binocular, uid:'crackingLengthVarFamily', name:'Length', visible: False, variable: False, description:'Average crack size parallel to the surface.', natures:['cp', 'cm', 'deposit', 'metal', 'nmm', 'pom', 'soil'], fieldset:'Cracking', new_uid:'textureCrackingLengthFamily'},\n",
      "{fg:'fgTexture', order:10, observation:binocular, uid:'crackingDepthVarFamily', name:'Depth', visible: False, variable: False, description:'Average crack size perpendicular to the surface.', natures:['cp', 'cm', 'deposit', 'metal', 'nmm', 'pom', 'soil'], fieldset:'Cracking', new_uid:'textureCrackingDepthFamily'},\n",
      "{fg:'fgTexture', order:11, observation:binocular, uid:'crackingFillingFamily', name:'Filling', visible: False, variable: False, description:'Material which might fill the cracks.', natures:['cp', 'cm', 'deposit', 'metal', 'nmm', 'pom', 'soil'], fieldset:'Cracking', new_uid:'textureCrackingFillingFamily'},\n",
      "{fg:'fgTexture', order:12, observation:binocular, uid:'crackingEdgesFamily', name:'Edges', visible: False, variable: False, description:'', natures:['cp', 'cm', 'deposit', 'metal', 'nmm', 'pom', 'soil'], fieldset:'Cracking', new_uid:'textureCrackingEdgesFamily'},\n",
      "{fg:'fgTexture', order:13, observation:binocular, uid:'crackingTypeOfCracksFamily', name:'Type of cracks', visible: False, variable: False, description:'Main specific types of cracks.', natures:['cp', 'cm', 'deposit', 'metal', 'pom'], fieldset:'Cracking', new_uid:'textureCrackingTypeOfCracksFamily'},\n",
      "// new fieldset=Cracking\n",
      "// new family_name=Cracking uid: crackingFamily\n",
      "{fg:'fgTexture', order:1, observation:cross_section, uid:'crackingFamily', name:'Cracking', visible: False, variable: False, description:'Determined in the observed area. Pattern which results of the combined and synergistic interaction of mechanical stress and corrosion reactions.', natures:['cp', 'cm', 'deposit', 'metal', 'nmm', 'pom', 'soil'], new_uid:'textureCrackingCSFamily'},\n",
      "{fg:'fgTexture', order:2, observation:cross_section, uid:'crackingStructureCSFamily', name:'Structure', visible: False, variable: False, description:'Options of patterns. The blank option corresponds to a stratum which cracking is not known?', natures:['cp', 'cm', 'deposit', 'metal', 'nmm', 'pom', 'soil'], fieldset:'Cracking', new_uid:'textureCrackingStructureCSFamily'},\n",
      "{fg:'fgTexture', order:3, observation:cross_section, uid:'crackingInwardDirectionCSFamily', name:'Inward direction', visible: False, variable: False, description:'Orientation of the crack in a plane perpendicular to the surface of the cross-section at the Metal / corrosion products interfaces. ', natures:['cp', 'cm', 'deposit', 'metal', 'nmm', 'pom', 'soil'], fieldset:'Cracking', new_uid:'textureCrackingInwardDirectionCSFamily'},\n",
      "{fg:'fgTexture', order:4, observation:cross_section, uid:'['crackingWidthFamily', 'crackingWidthCSVarFamily', 'crackingWidthVarFamily']', name:'Width', visible: False, variable: False, description:'Average spacing of the lips of the crack.', natures:['cp', 'cm', 'deposit', 'metal', 'nmm', 'pom', 'soil'], fieldset:'Cracking', new_uid:'textureCrackingWidthCSFamily'},\n",
      "{fg:'fgTexture', order:5, observation:cross_section, uid:'crackingLengthCSVarFamily', name:'Length', visible: False, variable: False, description:'Average crack size parallel to the surface.', natures:['cp', 'cm', 'deposit', 'metal', 'nmm', 'pom', 'soil'], fieldset:'Cracking', new_uid:'textureCrackingLengthCSFamily'},\n",
      "{fg:'fgTexture', order:6, observation:cross_section, uid:'crackingDepthCSVarFamily', name:'Depth', visible: False, variable: False, description:'Average crack size perpendicular to the surface.', natures:['cp', 'cm', 'deposit', 'metal', 'nmm', 'pom', 'soil'], fieldset:'Cracking', new_uid:'textureCrackingDepthCSFamily'},\n",
      "{fg:'fgTexture', order:7, observation:cross_section, uid:'crackingFillingCSFamily', name:'Filling', visible: False, variable: False, description:'Material which might fill the cracks.', natures:['cp', 'cm', 'deposit', 'metal', 'nmm', 'pom', 'soil'], fieldset:'Cracking', new_uid:'textureCrackingFillingCSFamily'},\n",
      "\n",
      " //Binocular CHARACTERISTICS\n",
      "\n",
      "{family_uid:'porosityFamily', uid:'textureCompactnessBlankCharacteristic', name:'Blank', order:1, natures:['cp', 'cm', 'deposit', 'metal', 'nmm', 'pom', 'soil']},\n",
      "{family_uid:'porosityFamily', uid:'compactCharacteristic', name:'Compact', order:2, natures:['cp', 'cm', 'deposit', 'metal', 'nmm', 'pom', 'soil'], description:'No observable pores.', new_uid:'textureCompactnessCompactCharacteristic'},\n",
      "{family_uid:'porosityFamily', uid:'textureCompactnessSlightyPorousCharacteristic', name:'Slighty porous', order:3, natures:[]},\n",
      "{family_uid:'porosityFamily', uid:'porousCharacteristic', name:'Porous', order:4, natures:[], new_uid:'textureCompactnessPorousCharacteristic'},\n",
      "{family_uid:'porosityFamily', uid:'textureCompactnessVeryPorousCharacteristic', name:'Very porous', order:5, natures:[]},\n",
      "{family_uid:'porosityFamily', uid:'textureCompactnessNonCompactCharacteristic', name:'Non compact', order:6, natures:['cp', 'cm', 'deposit', 'metal', 'nmm', 'pom', 'soil'], description:'Pores are detected.'},\n",
      "{family_uid:'cohesionFamily', uid:'textureCohesionBlankCharacteristic', name:'Blank', order:7, natures:['cp', 'cm', 'deposit', 'metal', 'nmm', 'pom', 'soil']},\n",
      "{family_uid:'cohesionFamily', uid:'powderyCharacteristic', name:'Powdery', order:8, natures:['cp', 'cm', 'deposit', 'metal', 'nmm', 'pom', 'soil'], description:'Has no cohesion: is easily penetrated by a steel needle or a scalpel, or even a wooden stick without effort.', new_uid:'textureCohesionPowderyCharacteristic'},\n",
      "{family_uid:'cohesionFamily', uid:'friableCharacteristic', name:'Friable', order:9, natures:['cp', 'cm', 'deposit', 'metal', 'nmm', 'pom', 'soil'], description:'Can be crushed with a scalpel or steel tip to form a powder.', new_uid:'textureCohesionFriableCharacteristic'},\n",
      "{family_uid:'cohesionFamily', uid:'brittleCharacteristic', name:'Brittle', order:10, natures:['cp', 'cm', 'deposit', 'metal', 'nmm', 'pom', 'soil'], description:'Can be fragmented by pressure with a steel tip, or a scalpel to form piles of varying sizes. ', new_uid:'textureCohesionBrittleCharacteristic'},\n",
      "{family_uid:'cohesionFamily', uid:'severableCharacteristic', name:'Severable', order:11, natures:['cp', 'cm', 'deposit', 'metal', 'nmm', 'pom', 'soil'], description:'Can be cut with a scalpel forming lumps or chips without being plastically deformed.', new_uid:'textureCohesionSeverableCharacteristic'},\n",
      "{family_uid:'cohesionFamily', uid:'malleableCharacteristic', name:'Malleable', order:12, natures:['cp', 'cm', 'deposit', 'metal', 'nmm', 'pom', 'soil'], description:'Can be poked in with a steel spike or scalpel and plastically deformed. Can also be flattened mechanically without being pulverized (Syn. plastic).', new_uid:'textureCohesionMalleableCharacteristic'},\n",
      "{family_uid:'cohesionFamily', uid:'toughCharacteristic', name:'Tough', order:13, natures:['cp', 'cm', 'deposit', 'metal', 'nmm', 'pom', 'soil'], description:'Cannot be shattered by pressure with a steel tip or scalpel.', new_uid:'textureCohesionToughCharacteristic'},\n",
      "{family_uid:'hardnessFamily', uid:'textureHardnessBlankCharacteristic', name:'Blank', order:14, natures:['cp', 'cm', 'deposit', 'metal', 'nmm', 'pom', 'soil']},\n",
      "{family_uid:'hardnessFamily', uid:'verySoftCharacteristic', name:'Very soft', order:15, natures:['cp', 'cm', 'deposit', 'metal', 'nmm', 'pom', 'soil'], description:'Scratchable with a hardwood tip (boxwood, yew). Hardness Mohs < 3.', new_uid:'textureHardnessVerySoftCharacteristic'},\n",
      "{family_uid:'hardnessFamily', uid:'softCharacteristic', name:'Soft', order:16, natures:['cp', 'cm', 'deposit', 'metal', 'nmm', 'pom', 'soil'], description:'Is not scratchable with a hardwood tip, but is easily scratched with a hardened steel spike. Mohs hardness > 3 and < 5.', new_uid:'textureHardnessSoftCharacteristic'},\n",
      "{family_uid:'hardnessFamily', uid:'hardCharacteristic', name:'Hard', order:17, natures:['cp', 'cm', 'deposit', 'metal', 'nmm', 'pom', 'soil'], description:'Hardly scratchable with a hardened steel tip. Mohs hardness > 5 and < 7.', new_uid:'textureHardnessHardCharacteristic'},\n",
      "{family_uid:'hardnessFamily', uid:'veryHardCharacteristic', name:'Very hard', order:18, natures:['cp', 'cm', 'deposit', 'metal', 'nmm', 'pom', 'soil'], description:'Is not scratched by a hardened steel tip. Mohs hardness > 7.', new_uid:'textureHardnessVeryHardCharacteristic'},\n",
      "// new fieldset=Cracking\n",
      "{family_uid:'crackingStructureFamily', uid:'structureBlankCharacteristic', name:'Blank', order:19, natures:['cp', 'cm', 'deposit', 'metal', 'nmm', 'pom', 'soil']},\n",
      "{family_uid:'crackingStructureFamily', uid:'['noCrackCrackingStructureCSCharacteristic', 'noCrackCrackingStructureCharacteristic', 'noCracksCharacteristic']', name:'No crack', order:20, natures:['cp', 'cm', 'deposit', 'metal', 'nmm', 'pom', 'soil'], new_uid:'structureNoCrackCharacteristic'},\n",
      "{family_uid:'crackingStructureFamily', uid:'simpleCrackingStructureCharacteristic', name:'Simple', order:21, natures:['cp', 'cm', 'deposit', 'metal', 'nmm', 'pom', 'soil'], new_uid:'structureSimpleCharacteristic'},\n",
      "{family_uid:'crackingStructureFamily', uid:'branchedCrackingStructureCharacteristic', name:'Branched', order:22, natures:['cp', 'cm', 'deposit', 'metal', 'nmm', 'pom', 'soil'], new_uid:'structureBranchedCharacteristic'},\n",
      "{family_uid:'crackingStructureFamily', uid:'networkCrackingStructureCharacteristic', name:'Network', order:23, natures:['cp', 'cm', 'deposit', 'metal', 'nmm', 'pom', 'soil'], new_uid:'structureNetworkCharacteristic'},\n",
      "{family_uid:'crackingSurfaceDirectionFamily', uid:'surfaceDirectionBlankCharacteristic', name:'Blank', order:24, natures:['cm', 'nmm', 'pom']},\n",
      "{family_uid:'crackingSurfaceDirectionFamily', uid:'longitudinalSurfaceDirectionCharacteristic', name:'Longitudinal', order:25, natures:['cp', 'cm', 'deposit', 'metal', 'nmm', 'pom', 'soil'], new_uid:'surfaceDirectionLongitudinalCharacteristic'},\n",
      "{family_uid:'crackingSurfaceDirectionFamily', uid:'surfaceDirectionTransvereCharacteristic', name:'Transvere', order:26, natures:['cp', 'cm', 'deposit', 'metal', 'nmm', 'pom', 'soil']},\n",
      "{family_uid:'crackingSurfaceDirectionFamily', uid:'['obliqueInwardDirectionCSCharacteristic', 'obliqueInwardDirectionCharacteristic', 'obliqueSurfaceDirectionCharacteristic']', name:'Oblique', order:27, natures:['cp', 'cm', 'deposit', 'metal', 'nmm', 'pom', 'soil'], new_uid:'surfaceDirectionObliqueCharacteristic'},\n",
      "{family_uid:'crackingSurfaceDirectionFamily', uid:'circularSurfaceDirectionCharacteristic', name:'Circular', order:28, natures:['cp', 'cm', 'deposit', 'metal', 'nmm', 'pom', 'soil'], new_uid:'surfaceDirectionCircularCharacteristic'},\n",
      "{family_uid:'crackingInwardDirectionFamily', uid:'inwardDirectionBlankCharacteristic', name:'Blank', order:29, natures:['cm', 'nmm', 'pom']},\n",
      "{family_uid:'crackingInwardDirectionFamily', uid:'parallelInwardDirectionCharacteristic', name:'Parallel', order:30, natures:['cp', 'cm', 'deposit', 'metal', 'nmm', 'pom', 'soil'], new_uid:'inwardDirectionParallelCharacteristic'},\n",
      "{family_uid:'crackingInwardDirectionFamily', uid:'['obliqueInwardDirectionCSCharacteristic', 'obliqueInwardDirectionCharacteristic', 'obliqueSurfaceDirectionCharacteristic']', name:'Oblique', order:31, natures:['cp', 'cm', 'deposit', 'metal', 'nmm', 'pom', 'soil'], new_uid:'inwardDirectionObliqueCharacteristic'},\n",
      "{family_uid:'crackingInwardDirectionFamily', uid:'circularInwardDirectionCharacteristic', name:'Perpendicular', order:32, natures:['cp', 'cm', 'deposit', 'metal', 'nmm', 'pom', 'soil'], new_uid:'inwardDirectionPerpendicularCharacteristic'},\n",
      "{family_uid:'['crackingWidthFamily', 'crackingWidthCSVarFamily', 'crackingWidthVarFamily']', uid:'narrowWidthCharacteristic', name:'Narrow', order:33, natures:['cp', 'cm', 'deposit', 'metal', 'nmm', 'pom', 'soil'], new_uid:'widthNarrowCharacteristic'},\n",
      "{family_uid:'['crackingWidthFamily', 'crackingWidthCSVarFamily', 'crackingWidthVarFamily']', uid:'largeWidthCharacteristic', name:'Large', order:34, natures:['cp', 'cm', 'deposit', 'metal', 'nmm', 'pom', 'soil'], new_uid:'widthLargeCharacteristic'},\n",
      "{family_uid:'crackingFillingFamily', uid:'emptyFillingCharacteristic', name:'Empty', order:35, natures:['cp', 'cm', 'deposit', 'metal', 'nmm', 'pom', 'soil'], new_uid:'fillingEmptyCharacteristic'},\n",
      "{family_uid:'crackingFillingFamily', uid:'filledFillingCharacteristic', name:'Filled', order:36, natures:['cp', 'cm', 'deposit', 'metal', 'nmm', 'pom', 'soil'], new_uid:'fillingFilledCharacteristic'},\n",
      "{family_uid:'crackingEdgesFamily', uid:'sharpEdgesCharacteristic', name:'Sharp', order:37, natures:['cp', 'cm', 'deposit', 'metal', 'nmm', 'pom', 'soil'], new_uid:'edgesSharpCharacteristic'},\n",
      "{family_uid:'crackingEdgesFamily', uid:'roundedEdgesCharacteristic', name:'Rounded', order:38, natures:['cp', 'cm', 'deposit', 'metal', 'nmm', 'pom', 'soil'], new_uid:'edgesRoundedCharacteristic'},\n",
      "{family_uid:'crackingTypeOfCracksFamily', uid:'dishingTypeOfCracksCharacteristic', name:'Dishing', order:39, natures:['cp', 'cm', 'deposit', 'metal', 'nmm', 'pom', 'soil'], image_url:'https://lh5.googleusercontent.com/OjbxPEa4xZc_YncCe7RM3SzrhZN0k5mjfkRVknk9Vk3UqBtLdU0E4sSzgTyols1Rt_-y7JmnxubX6JshjLA4JQQVKV6RXWWI2vNIhs4hWceDfrC9sjeqlQ0O72R7PqZO3RtZ5jhmTw=w126-h123', new_uid:'typeOfCracksDishingCharacteristic'},\n",
      "{family_uid:'crackingTypeOfCracksFamily', uid:'flakingTypeOfCracksCharacteristic', name:'Flaking', order:40, natures:['cp', 'cm', 'deposit', 'metal', 'nmm', 'pom', 'soil'], image_url:'https://lh3.googleusercontent.com/vr9yZY_oEuhR5nhmuahX4rWQQtOvVlRg-PAeE2IaCbYgqXvDnm1x1EEvuFRrhmLxNcTPRSR__g1SlUalVG-bWsQs9TUSTuH1AL5NObldMoxAdt0T6JQXZ051cMybyLy9hGnNCR2HjA=w126-h112', new_uid:'typeOfCracksFlakingCharacteristic'},\n",
      "{family_uid:'crackingTypeOfCracksFamily', uid:'wedgesTypeOfCracksCharacteristic', name:'Wedges', order:41, natures:['cp', 'cm', 'deposit', 'metal', 'nmm', 'pom', 'soil'], image_url:'https://lh3.googleusercontent.com/jsgPu7PBzPb1le0GSLN-B47anat1-zwLQbUcnO7Nxc1a8Ynfw0Yb3ibM0vxKd6Jf8UePE_H4JXbASZ_cn4m-UhT71lbcbJlWOE4RQSccpXiOBBp--Y2LC1pxvWbmG1DZC12yO5Io-A=w126-h137', new_uid:'typeOfCracksWedgesCharacteristic'},\n",
      "{family_uid:'crackingTypeOfCracksFamily', uid:'surfaceCrazingTypeOfCracksCharacteristic', name:'Surface crazing', order:42, natures:['cp', 'cm', 'deposit', 'metal', 'nmm', 'pom', 'soil'], image_url:'https://lh5.googleusercontent.com/s0Itc5SPXPvI5RgR39MOZi0I6PUNeNI7BDUWV6GSEnnBmbNXtRxAXwLzm578PhGUM9iNX07JdztbLfm43kM29DKRb9SpiCdFbGGAzm4ynOK7RP6pIFfYmXtOS1uG8wJptef3FV0Fvg=w126-h128', new_uid:'typeOfCracksSurfaceCrazingCharacteristic'},\n",
      "{family_uid:'crackingTypeOfCracksFamily', uid:'starShapedTypeOfCracksCharacteristic', name:'Star-shaped cracking', order:43, natures:['cp', 'cm', 'deposit', 'metal', 'nmm', 'pom', 'soil'], image_url:'https://lh4.googleusercontent.com/0y0Sww61R3c5CkqHoT1JADz3VYUEw2EWGTndn3WfKb--XNC4LZhLHXeneeyf3-e0h7IdAhK7M-b_hIZ7cPp5Y3aJpA9o8pfXB-hy_bTYSJwUZNQnKyllGXyVmWKpqQL7EUcEh8Ok3w=w126-h110', new_uid:'typeOfCracksStarShapedCrackingCharacteristic'},\n",
      "\n",
      " //Cross-section CHARACTERISTICS\n",
      "\n",
      "// new fieldset=Cracking\n",
      "{family_uid:'crackingStructureCSFamily', uid:'structureBlankCSCharacteristic', name:'Blank', order:1, natures:['cp', 'cm', 'deposit', 'metal', 'nmm', 'pom', 'soil']},\n",
      "{family_uid:'crackingStructureCSFamily', uid:'['noCrackCrackingStructureCSCharacteristic', 'noCrackCrackingStructureCharacteristic', 'noCracksCharacteristic']', name:'No crack', order:2, natures:['cp', 'cm', 'deposit', 'metal', 'nmm', 'pom', 'soil'], new_uid:'structureNoCrackCSCharacteristic'},\n",
      "{family_uid:'crackingStructureCSFamily', uid:'simpleCrackingStructureCSCharacteristic', name:'Simple', order:3, natures:['cp', 'cm', 'deposit', 'metal', 'nmm', 'pom', 'soil'], new_uid:'structureSimpleCSCharacteristic'},\n",
      "{family_uid:'crackingStructureCSFamily', uid:'branchedCrackingStructureCSCharacteristic', name:'Branched', order:4, natures:['cp', 'cm', 'deposit', 'metal', 'nmm', 'pom', 'soil'], new_uid:'structureBranchedCSCharacteristic'},\n",
      "{family_uid:'crackingStructureCSFamily', uid:'networkCrackingStructureCSCharacteristic', name:'Network', order:5, natures:['cp', 'cm', 'deposit', 'metal', 'nmm', 'pom', 'soil'], new_uid:'structureNetworkCSCharacteristic'},\n",
      "{family_uid:'crackingInwardDirectionCSFamily', uid:'inwardDirectionBlankCSCharacteristic', name:'Blank', order:6, natures:['cp', 'cm', 'deposit', 'metal', 'nmm', 'pom', 'soil']},\n",
      "{family_uid:'crackingInwardDirectionCSFamily', uid:'parallelInwardDirectionCSCharacteristic', name:'Parallel', order:7, natures:['cp', 'cm', 'deposit', 'metal', 'nmm', 'pom', 'soil'], new_uid:'inwardDirectionParallelCSCharacteristic'},\n",
      "{family_uid:'crackingInwardDirectionCSFamily', uid:'['obliqueInwardDirectionCSCharacteristic', 'obliqueInwardDirectionCharacteristic', 'obliqueSurfaceDirectionCharacteristic']', name:'Oblique', order:8, natures:['cp', 'cm', 'deposit', 'metal', 'nmm', 'pom', 'soil'], new_uid:'inwardDirectionObliqueCSCharacteristic'},\n",
      "{family_uid:'crackingInwardDirectionCSFamily', uid:'circularInwardDirectionCSCharacteristic', name:'Perpendicular', order:9, natures:['cp', 'cm', 'deposit', 'metal', 'nmm', 'pom', 'soil'], new_uid:'inwardDirectionPerpendicularCSCharacteristic'},\n",
      "{family_uid:'crackingFillingCSFamily', uid:'emptyFillingCSCharacteristic', name:'Empty', order:10, natures:['cp', 'cm', 'deposit', 'metal', 'nmm', 'pom', 'soil'], new_uid:'fillingEmptyCSCharacteristic'},\n",
      "{family_uid:'crackingFillingCSFamily', uid:'filledFillingCSCharacteristic', name:'Filled', order:11, natures:['cp', 'cm', 'deposit', 'metal', 'nmm', 'pom', 'soil'], new_uid:'fillingFilledCSCharacteristic'},\n"
     ]
    }
   ],
   "source": [
    "load_old_uids('./data/fgTexture_before_new_uids_20210204.csv')\n",
    "print('\\n //FAMILY \\n')\n",
    "import_family_group('Texture', filter_observation='Binocular', fieldsets=['Cracking'], filter_print=FAMILY, shared_sub_characteristics=False)\n",
    "import_family_group('Texture', filter_observation='Cross-section', fieldsets=['Cracking'], filter_print=FAMILY, shared_sub_characteristics=False)\n",
    "print('\\n //Binocular CHARACTERISTICS\\n')\n",
    "import_family_group('Texture', filter_observation='Binocular', fieldsets=['Cracking'], filter_print=CHARACTERISTIC, shared_sub_characteristics=False)\n",
    "print('\\n //Cross-section CHARACTERISTICS\\n')\n",
    "import_family_group('Texture', filter_observation='Cross-section', fieldsets=['Cracking'], filter_print=CHARACTERISTIC, shared_sub_characteristics=False)\n"
   ]
  },
  {
   "cell_type": "code",
   "execution_count": null,
   "metadata": {},
   "outputs": [],
   "source": []
  },
  {
   "cell_type": "code",
   "execution_count": null,
   "metadata": {},
   "outputs": [],
   "source": []
  },
  {
   "cell_type": "code",
   "execution_count": null,
   "metadata": {},
   "outputs": [],
   "source": []
  },
  {
   "cell_type": "code",
   "execution_count": null,
   "metadata": {
    "collapsed": true
   },
   "outputs": [],
   "source": [
    "print('\\n //FAMILY \\n')\n",
    "import_family_group('Microstructure', filter_observation='Binocular', fieldsets=[], filter_print=FAMILY, shared_sub_characteristics=True) #FAMILY|CHARACTERISTI\n",
    "print('\\n //CHARACTERISTICS \\n')\n",
    "import_family_group('Microstructure', filter_observation='Binocular', fieldsets=[], filter_print=CHARACTERISTIC, shared_sub_characteristics=True) #FAMILY|CHARACTERISTI\n",
    "print('\\n //SUBCHARACTERISTICS \\n')\n",
    "import_family_group('Microstructure', filter_observation='Binocular', fieldsets=[], filter_print=SUBCHARACTERISTIC, shared_sub_characteristics=True) #FAMILY|CHARACTERISTI\n",
    "3'"
   ]
  },
  {
   "cell_type": "code",
   "execution_count": null,
   "metadata": {
    "collapsed": true
   },
   "outputs": [],
   "source": [
    "# fixes SUBCHARACTERISTIC uid with shared_sub_characteristics = False like first generated characteristics\n",
    "# in\n",
    "print('\\n //SUBCHARACTERISTICS \\n')\n",
    "import_family_group('Microstructure', filter_observation='Binocular', fieldsets=[], filter_print=SUBCHARACTERISTIC, shared_sub_characteristics=False) #FAMILY|CHARACTERISTI\n"
   ]
  },
  {
   "cell_type": "code",
   "execution_count": null,
   "metadata": {
    "collapsed": true,
    "pycharm": {
     "name": "#%%\n"
    }
   },
   "outputs": [],
   "source": [
    "import_family_group('Microstructure', filter_observation='Cross-section', fieldsets=[], filter_print=FAMILY|CHARACTERISTIC, shared_sub_characteristics=True) #FAMILY|CHARACTERISTI\n",
    "\n"
   ]
  },
  {
   "cell_type": "code",
   "execution_count": null,
   "metadata": {
    "collapsed": true
   },
   "outputs": [],
   "source": [
    "print('\\n //FAMILY \\n')\n",
    "import_family_group('Microstructure', filter_observation='Cross-section', fieldsets=[], filter_print=FAMILY, shared_sub_characteristics=True) #FAMILY|CHARACTERISTI\n",
    "print('\\n //CHARACTERISTICS \\n')\n",
    "import_family_group('Microstructure', filter_observation='Cross-section', fieldsets=[], filter_print=CHARACTERISTIC, shared_sub_characteristics=True) #FAMILY|CHARACTERISTI\n",
    "print('\\n //SUBCHARACTERISTICS \\n')\n",
    "import_family_group('Microstructure', filter_observation='Cross-section', fieldsets=[], filter_print=SUBCHARACTERISTIC, shared_sub_characteristics=True) #FAMILY|CHARACTERISTI\n"
   ]
  },
  {
   "cell_type": "markdown",
   "metadata": {
    "pycharm": {
     "name": "#%% md\n"
    }
   },
   "source": [
    "## Interface cross-section special case"
   ]
  },
  {
   "cell_type": "code",
   "execution_count": null,
   "metadata": {
    "collapsed": true,
    "pycharm": {
     "name": "#%%\n"
    }
   },
   "outputs": [],
   "source": [
    "# we treat Roughness as a fieldset (as it includes multiple families instead of characteristics)\n",
    "# to do add group/fieldset column to spreadsheet\n",
    "\n",
    "import_family_group('Interface', filter_observation='Cross-section', fieldsets=['Roughness'], filter_print=CHARACTERISTIC) #FAMILY|CHARACTERISTIC"
   ]
  },
  {
   "cell_type": "markdown",
   "metadata": {
    "pycharm": {
     "name": "#%% md\n"
    }
   },
   "source": [
    "# we treat Roughness as a fieldset (as it includes multiple families instead of characteristics)\n",
    "# to do add group/fieldset column to spreadsheet\n",
    "\n",
    "import_family_group('Interface', filter_observation='Cross-section', fieldsets=['Roughness'], filter_print=CHARACTERISTIC) #FAMILY|CHARACTERISTIC"
   ]
  },
  {
   "cell_type": "code",
   "execution_count": null,
   "metadata": {
    "pycharm": {
     "name": "#%%\n"
    }
   },
   "outputs": [],
   "source": [
    "# we treat Roughness as a fieldset (as it includes multiple families instead of characteristics)\n",
    "# to do add group/fieldset column to spreadsheet\n",
    "\n",
    "import_family_group('Interface', filter_observation='Cross-section', fieldsets=['Roughness'], filter_print=CHARACTERISTIC) #FAMILY|CHARACTERISTIC"
   ]
  },
  {
   "cell_type": "code",
   "execution_count": null,
   "metadata": {
    "pycharm": {
     "name": "#%%\n"
    }
   },
   "outputs": [],
   "source": [
    "# we treat Roughness as a fieldset (as it includes multiple families instead of characteristics)\n",
    "# to do add group/fieldset column to spreadsheet\n",
    "\n",
    "import_family_group('Microstructure', filter_observation='Cross-section', fieldsets=[], filter_print=CHARACTERISTIC) #FAMILY|CHARACTERISTIC"
   ]
  },
  {
   "cell_type": "markdown",
   "metadata": {},
   "source": [
    "# Composition\n"
   ]
  },
  {
   "cell_type": "code",
   "execution_count": null,
   "metadata": {
    "collapsed": true
   },
   "outputs": [],
   "source": [
    "print('\\n //FAMILY \\n')\n",
    "import_family_group('Composition',filter_observation='Binocular', fieldsets=['Second band / aggregate'], filter_print=FAMILY|DEBUG)\n",
    "print('\\n //CHARACTERISTIC \\n')\n",
    "import_family_group('Composition',filter_observation='Binocular', fieldsets=['Second band / aggregate'], filter_print=CHARACTERISTIC|DEBUG)\n",
    "print('\\n //SUBCHARACTERISTIC \\n')\n",
    "import_family_group('Composition',filter_observation='Binocular', fieldsets=['Second band / aggregate'], filter_print=SUBCHARACTERISTIC|DEBUG)\n",
    "\n"
   ]
  },
  {
   "cell_type": "code",
   "execution_count": null,
   "metadata": {
    "scrolled": true
   },
   "outputs": [],
   "source": [
    "print('\\n //FAMILY \\n')\n",
    "import_family_group('Composition',filter_observation='Binocular', fieldsets=[ 'Compounds', 'Second band / aggregate'], filter_print=FAMILY)\n"
   ]
  },
  {
   "cell_type": "code",
   "execution_count": null,
   "metadata": {
    "collapsed": true
   },
   "outputs": [],
   "source": [
    "\n",
    "print('\\n //CHARACTERISTIC \\n')\n",
    "import_family_group('Composition',filter_observation='Cross-section', fieldsets=[ 'Main element(s)', 'Secondary element(s)','Compounds', 'Additional element(s)', 'Second band / aggregate'], filter_print=CHARACTERISTIC)\n",
    "# print('\\n //SUBCHARACTERISTIC \\n')\n",
    "# import_family_group('Composition',filter_observation='Cross-section', fieldsets=[ 'Main element(s)', 'Secondary element(s)','Compounds', 'Additional element(s)', 'Second band / aggregate'], filter_print=SUBCHARACTERISTIC)\n"
   ]
  },
  {
   "cell_type": "code",
   "execution_count": null,
   "metadata": {
    "collapsed": true
   },
   "outputs": [],
   "source": [
    "print('\\n //FAMILY \\n')\n",
    "import_family_group('Composition',filter_observation='Cross-section', fieldsets=[ 'Main element(s)', 'Secondary element(s)','Compounds', 'Additional element(s)', 'Second band / aggregate','Second band / aggregate_Compounds','Second band / aggregate_main element(s)',\n",
    "                                                                                 'Second band / aggregate_secondary element(s)','Second band / aggregate_Additional element(s)'], filter_print=FAMILY)\n"
   ]
  },
  {
   "cell_type": "markdown",
   "metadata": {},
   "source": [
    "## initial code (before common import_family_group )"
   ]
  },
  {
   "cell_type": "markdown",
   "metadata": {
    "pycharm": {
     "name": "#%%\n"
    }
   },
   "source": [
    "## Microstructure Binocular special case"
   ]
  },
  {
   "cell_type": "code",
   "execution_count": null,
   "metadata": {},
   "outputs": [],
   "source": [
    "\n",
    "# we treat all values and sub-values as characteristics (with optgroup + property for Cristalline microstructure)\n",
    "# and optgroup - (closure of previous group) for isolated aggregate\n",
    "\n",
    "\n",
    "with open(csv_file_path,\"r\") as f:\n",
    "    reader =csv.DictReader(f)\n",
    "    current_value=''\n",
    "    characteristic_order = 1\n",
    "    family_order = 1\n",
    "    sub_value_order = 1\n",
    "    optgroup_level = 0\n",
    "    description_field_in = {'Binocular':'Definition from observation under binocular',\n",
    "                           'Cross-section': 'Definition from observation on cross-section'}\n",
    "\n",
    "    for r in reader:\n",
    "        if 'Microstructure' not in r['Characteristic']:\n",
    "            continue\n",
    "        observation = r['Observation mode']\n",
    "        if observation != 'Binocular':\n",
    "            continue\n",
    "\n",
    "        if r['Values'] == '' and r['Sub-values'] == '':\n",
    "            family_uid='microstructureFamily'\n",
    "            cql_family_update_row=new_family(fg_uid='fgMicrostructure', uid=family_uid, name='Microstructure',\n",
    "                                     order=family_order,observation='binocular', description=r[description_field_in[observation]])\n",
    "            print(cql_family_update_row)\n",
    "            print(f'\\n// {family_uid} characteristics:')\n",
    "            family_order+=1\n",
    "\n",
    "        if r['Values'] != '':\n",
    "            # print('\\nNew characteristic:\\n')\n",
    "            current_value = r['Values']\n",
    "            current_value_uid = to_uid(r['Characteristic'] + ' ' +current_value)+'Characteristic'\n",
    "            # trick to detect end of optgroup in our particular case (1 optgroup only yet)\n",
    "            if optgroup_level:\n",
    "                optgroup=None\n",
    "                optgroup_level-=1\n",
    "\n",
    "            # print(new_characteristic(family_uid=family_uid, uid=current_value_uid,\n",
    "            #                         name=current_value,order=characteristic_order,\n",
    "            #                         description=r[description_field_in[observation]],optgroup=optgroup))\n",
    "            # family_order+=1\n",
    "            # characteristic_order = 1\n",
    "            characteristic_order += 1\n",
    "\n",
    "        # print(observation, r['Characteristic'], current_value,'None' if r['Sub-values'] == '' else r['Sub-values'])\n",
    "        current_subvalue = r['Sub-values']\n",
    "        if current_value!='' and current_subvalue!='':\n",
    "            if sub_value_order==1:\n",
    "                optgroup_level+=1\n",
    "                optgroup=current_value\n",
    "                print(f'// {current_value_uid} optgroup options:')\n",
    "            current_subvalue_uid = to_uid(current_value + ' ' +current_subvalue)+'Characteristic'\n",
    "            if observation=='Binocular':\n",
    "                print(new_characteristic(family_uid=family_uid, uid=current_subvalue_uid,name=current_subvalue,\n",
    "                                     order=characteristic_order))\n",
    "            else:\n",
    "                print(new_characteristic(family_uid=family_uid, uid=current_subvalue_uid,name=current_subvalue,\n",
    "                                     order=characteristic_order))\n",
    "\n",
    "            sub_value_order+=1\n",
    "            characteristic_order+=1"
   ]
  }
 ],
 "metadata": {
  "kernelspec": {
   "display_name": "Django Shell-Plus",
   "language": "python",
   "name": "django_extensions"
  },
  "language_info": {
   "codemirror_mode": {
    "name": "ipython",
    "version": 3
   },
   "file_extension": ".py",
   "mimetype": "text/x-python",
   "name": "python",
   "nbconvert_exporter": "python",
   "pygments_lexer": "ipython3",
   "version": "3.7.9"
  }
 },
 "nbformat": 4,
 "nbformat_minor": 4
}
